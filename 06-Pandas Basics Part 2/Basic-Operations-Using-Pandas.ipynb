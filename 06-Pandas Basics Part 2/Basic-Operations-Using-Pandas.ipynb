{
 "cells": [
  {
   "cell_type": "markdown",
   "metadata": {},
   "source": [
    "# More Basics of Pandas"
   ]
  },
  {
   "cell_type": "markdown",
   "metadata": {},
   "source": [
    "Last session we introduced Pandas quickly. Now we review the basics of using Pandas, with a more interactive workflow to solidify understanding and facility with this powerful Python toolkit."
   ]
  },
  {
   "cell_type": "markdown",
   "metadata": {},
   "source": [
    "## Reviewing Pandas Basics"
   ]
  },
  {
   "cell_type": "code",
   "execution_count": 6,
   "metadata": {},
   "outputs": [],
   "source": [
    "from pandas import DataFrame\n",
    "import pandas as pd"
   ]
  },
  {
   "cell_type": "code",
   "execution_count": 2,
   "metadata": {},
   "outputs": [],
   "source": [
    "import pandas as pd\n",
    "df = pd.read_csv('DEC_10_SF1_P1_with_ann.csv')"
   ]
  },
  {
   "cell_type": "markdown",
   "metadata": {},
   "source": [
    "### Basics of indexing in Pandas\n",
    "\n",
    "The first use of indexing is to use a slice, just like we have done with other Python objects. Below we slice the first 5 index values of the first dimension of the dataframe."
   ]
  },
  {
   "cell_type": "code",
   "execution_count": 3,
   "metadata": {},
   "outputs": [
    {
     "data": {
      "text/html": [
       "<div>\n",
       "<style scoped>\n",
       "    .dataframe tbody tr th:only-of-type {\n",
       "        vertical-align: middle;\n",
       "    }\n",
       "\n",
       "    .dataframe tbody tr th {\n",
       "        vertical-align: top;\n",
       "    }\n",
       "\n",
       "    .dataframe thead th {\n",
       "        text-align: right;\n",
       "    }\n",
       "</style>\n",
       "<table border=\"1\" class=\"dataframe\">\n",
       "  <thead>\n",
       "    <tr style=\"text-align: right;\">\n",
       "      <th></th>\n",
       "      <th>Id</th>\n",
       "      <th>Id2</th>\n",
       "      <th>Geography</th>\n",
       "      <th>Population</th>\n",
       "    </tr>\n",
       "  </thead>\n",
       "  <tbody>\n",
       "    <tr>\n",
       "      <td>0</td>\n",
       "      <td>1400000US21001970100</td>\n",
       "      <td>21001970100</td>\n",
       "      <td>Census Tract 9701, Adair County, Kentucky</td>\n",
       "      <td>1727</td>\n",
       "    </tr>\n",
       "    <tr>\n",
       "      <td>1</td>\n",
       "      <td>1400000US21001970200</td>\n",
       "      <td>21001970200</td>\n",
       "      <td>Census Tract 9702, Adair County, Kentucky</td>\n",
       "      <td>1722</td>\n",
       "    </tr>\n",
       "    <tr>\n",
       "      <td>2</td>\n",
       "      <td>1400000US21001970300</td>\n",
       "      <td>21001970300</td>\n",
       "      <td>Census Tract 9703, Adair County, Kentucky</td>\n",
       "      <td>3016</td>\n",
       "    </tr>\n",
       "    <tr>\n",
       "      <td>3</td>\n",
       "      <td>1400000US21001970401</td>\n",
       "      <td>21001970401</td>\n",
       "      <td>Census Tract 9704.01, Adair County, Kentucky</td>\n",
       "      <td>4070</td>\n",
       "    </tr>\n",
       "    <tr>\n",
       "      <td>4</td>\n",
       "      <td>1400000US21001970402</td>\n",
       "      <td>21001970402</td>\n",
       "      <td>Census Tract 9704.02, Adair County, Kentucky</td>\n",
       "      <td>4261</td>\n",
       "    </tr>\n",
       "  </tbody>\n",
       "</table>\n",
       "</div>"
      ],
      "text/plain": [
       "                     Id          Id2  \\\n",
       "0  1400000US21001970100  21001970100   \n",
       "1  1400000US21001970200  21001970200   \n",
       "2  1400000US21001970300  21001970300   \n",
       "3  1400000US21001970401  21001970401   \n",
       "4  1400000US21001970402  21001970402   \n",
       "\n",
       "                                      Geography  Population  \n",
       "0     Census Tract 9701, Adair County, Kentucky        1727  \n",
       "1     Census Tract 9702, Adair County, Kentucky        1722  \n",
       "2     Census Tract 9703, Adair County, Kentucky        3016  \n",
       "3  Census Tract 9704.01, Adair County, Kentucky        4070  \n",
       "4  Census Tract 9704.02, Adair County, Kentucky        4261  "
      ]
     },
     "execution_count": 3,
     "metadata": {},
     "output_type": "execute_result"
    }
   ],
   "source": [
    "df[:5]  #select particular rows, in this case the first five ---> df[0:5]"
   ]
  },
  {
   "cell_type": "code",
   "execution_count": 6,
   "metadata": {},
   "outputs": [
    {
     "data": {
      "text/plain": [
       "0       1400000US21001970100\n",
       "1       1400000US21001970200\n",
       "2       1400000US21001970300\n",
       "3       1400000US21001970401\n",
       "4       1400000US21001970402\n",
       "                ...         \n",
       "1110    1400000US21239050106\n",
       "1111    1400000US21239050107\n",
       "1112    1400000US21239050200\n",
       "1113    1400000US21239050300\n",
       "1114    1400000US21239050400\n",
       "Name: Id, Length: 1115, dtype: object"
      ]
     },
     "execution_count": 6,
     "metadata": {},
     "output_type": "execute_result"
    }
   ],
   "source": [
    "df[\"Id\"] #Prints all rows in the \"Id\" column"
   ]
  },
  {
   "cell_type": "code",
   "execution_count": 7,
   "metadata": {},
   "outputs": [
    {
     "data": {
      "text/plain": [
       "0    1400000US21001970100\n",
       "1    1400000US21001970200\n",
       "2    1400000US21001970300\n",
       "3    1400000US21001970401\n",
       "4    1400000US21001970402\n",
       "Name: Id, dtype: object"
      ]
     },
     "execution_count": 7,
     "metadata": {},
     "output_type": "execute_result"
    }
   ],
   "source": [
    "df[\"Id\"] [:5] #Prints specified rows from \"Id\" column"
   ]
  },
  {
   "cell_type": "code",
   "execution_count": 12,
   "metadata": {},
   "outputs": [
    {
     "data": {
      "text/plain": [
       "4261"
      ]
     },
     "execution_count": 12,
     "metadata": {},
     "output_type": "execute_result"
    }
   ],
   "source": [
    "df['Population'][4]   #Finds a specific cell"
   ]
  },
  {
   "cell_type": "markdown",
   "metadata": {},
   "source": [
    "The first indexing method is equivalent to usinf the iloc indexing method, which uses the integer based indexing, purely based on the location of the index."
   ]
  },
  {
   "cell_type": "code",
   "execution_count": 4,
   "metadata": {},
   "outputs": [
    {
     "data": {
      "text/html": [
       "<div>\n",
       "<style scoped>\n",
       "    .dataframe tbody tr th:only-of-type {\n",
       "        vertical-align: middle;\n",
       "    }\n",
       "\n",
       "    .dataframe tbody tr th {\n",
       "        vertical-align: top;\n",
       "    }\n",
       "\n",
       "    .dataframe thead th {\n",
       "        text-align: right;\n",
       "    }\n",
       "</style>\n",
       "<table border=\"1\" class=\"dataframe\">\n",
       "  <thead>\n",
       "    <tr style=\"text-align: right;\">\n",
       "      <th></th>\n",
       "      <th>Id</th>\n",
       "      <th>Id2</th>\n",
       "      <th>Geography</th>\n",
       "      <th>Population</th>\n",
       "    </tr>\n",
       "  </thead>\n",
       "  <tbody>\n",
       "    <tr>\n",
       "      <td>0</td>\n",
       "      <td>1400000US21001970100</td>\n",
       "      <td>21001970100</td>\n",
       "      <td>Census Tract 9701, Adair County, Kentucky</td>\n",
       "      <td>1727</td>\n",
       "    </tr>\n",
       "    <tr>\n",
       "      <td>1</td>\n",
       "      <td>1400000US21001970200</td>\n",
       "      <td>21001970200</td>\n",
       "      <td>Census Tract 9702, Adair County, Kentucky</td>\n",
       "      <td>1722</td>\n",
       "    </tr>\n",
       "    <tr>\n",
       "      <td>2</td>\n",
       "      <td>1400000US21001970300</td>\n",
       "      <td>21001970300</td>\n",
       "      <td>Census Tract 9703, Adair County, Kentucky</td>\n",
       "      <td>3016</td>\n",
       "    </tr>\n",
       "    <tr>\n",
       "      <td>3</td>\n",
       "      <td>1400000US21001970401</td>\n",
       "      <td>21001970401</td>\n",
       "      <td>Census Tract 9704.01, Adair County, Kentucky</td>\n",
       "      <td>4070</td>\n",
       "    </tr>\n",
       "    <tr>\n",
       "      <td>4</td>\n",
       "      <td>1400000US21001970402</td>\n",
       "      <td>21001970402</td>\n",
       "      <td>Census Tract 9704.02, Adair County, Kentucky</td>\n",
       "      <td>4261</td>\n",
       "    </tr>\n",
       "  </tbody>\n",
       "</table>\n",
       "</div>"
      ],
      "text/plain": [
       "                     Id          Id2  \\\n",
       "0  1400000US21001970100  21001970100   \n",
       "1  1400000US21001970200  21001970200   \n",
       "2  1400000US21001970300  21001970300   \n",
       "3  1400000US21001970401  21001970401   \n",
       "4  1400000US21001970402  21001970402   \n",
       "\n",
       "                                      Geography  Population  \n",
       "0     Census Tract 9701, Adair County, Kentucky        1727  \n",
       "1     Census Tract 9702, Adair County, Kentucky        1722  \n",
       "2     Census Tract 9703, Adair County, Kentucky        3016  \n",
       "3  Census Tract 9704.01, Adair County, Kentucky        4070  \n",
       "4  Census Tract 9704.02, Adair County, Kentucky        4261  "
      ]
     },
     "execution_count": 4,
     "metadata": {},
     "output_type": "execute_result"
    }
   ],
   "source": [
    "df.iloc[:5]"
   ]
  },
  {
   "cell_type": "markdown",
   "metadata": {},
   "source": [
    "A second way to index is using loc, which uses the labels of the index. Note that this approach includes the second value in the index range, whereas iloc does not."
   ]
  },
  {
   "cell_type": "code",
   "execution_count": 13,
   "metadata": {},
   "outputs": [
    {
     "data": {
      "text/html": [
       "<div>\n",
       "<style scoped>\n",
       "    .dataframe tbody tr th:only-of-type {\n",
       "        vertical-align: middle;\n",
       "    }\n",
       "\n",
       "    .dataframe tbody tr th {\n",
       "        vertical-align: top;\n",
       "    }\n",
       "\n",
       "    .dataframe thead th {\n",
       "        text-align: right;\n",
       "    }\n",
       "</style>\n",
       "<table border=\"1\" class=\"dataframe\">\n",
       "  <thead>\n",
       "    <tr style=\"text-align: right;\">\n",
       "      <th></th>\n",
       "      <th>Id</th>\n",
       "      <th>Id2</th>\n",
       "      <th>Geography</th>\n",
       "      <th>Population</th>\n",
       "    </tr>\n",
       "  </thead>\n",
       "  <tbody>\n",
       "    <tr>\n",
       "      <td>0</td>\n",
       "      <td>1400000US21001970100</td>\n",
       "      <td>21001970100</td>\n",
       "      <td>Census Tract 9701, Adair County, Kentucky</td>\n",
       "      <td>1727</td>\n",
       "    </tr>\n",
       "    <tr>\n",
       "      <td>1</td>\n",
       "      <td>1400000US21001970200</td>\n",
       "      <td>21001970200</td>\n",
       "      <td>Census Tract 9702, Adair County, Kentucky</td>\n",
       "      <td>1722</td>\n",
       "    </tr>\n",
       "    <tr>\n",
       "      <td>2</td>\n",
       "      <td>1400000US21001970300</td>\n",
       "      <td>21001970300</td>\n",
       "      <td>Census Tract 9703, Adair County, Kentucky</td>\n",
       "      <td>3016</td>\n",
       "    </tr>\n",
       "    <tr>\n",
       "      <td>3</td>\n",
       "      <td>1400000US21001970401</td>\n",
       "      <td>21001970401</td>\n",
       "      <td>Census Tract 9704.01, Adair County, Kentucky</td>\n",
       "      <td>4070</td>\n",
       "    </tr>\n",
       "    <tr>\n",
       "      <td>4</td>\n",
       "      <td>1400000US21001970402</td>\n",
       "      <td>21001970402</td>\n",
       "      <td>Census Tract 9704.02, Adair County, Kentucky</td>\n",
       "      <td>4261</td>\n",
       "    </tr>\n",
       "    <tr>\n",
       "      <td>5</td>\n",
       "      <td>1400000US21001970500</td>\n",
       "      <td>21001970500</td>\n",
       "      <td>Census Tract 9705, Adair County, Kentucky</td>\n",
       "      <td>2457</td>\n",
       "    </tr>\n",
       "  </tbody>\n",
       "</table>\n",
       "</div>"
      ],
      "text/plain": [
       "                     Id          Id2  \\\n",
       "0  1400000US21001970100  21001970100   \n",
       "1  1400000US21001970200  21001970200   \n",
       "2  1400000US21001970300  21001970300   \n",
       "3  1400000US21001970401  21001970401   \n",
       "4  1400000US21001970402  21001970402   \n",
       "5  1400000US21001970500  21001970500   \n",
       "\n",
       "                                      Geography  Population  \n",
       "0     Census Tract 9701, Adair County, Kentucky        1727  \n",
       "1     Census Tract 9702, Adair County, Kentucky        1722  \n",
       "2     Census Tract 9703, Adair County, Kentucky        3016  \n",
       "3  Census Tract 9704.01, Adair County, Kentucky        4070  \n",
       "4  Census Tract 9704.02, Adair County, Kentucky        4261  \n",
       "5     Census Tract 9705, Adair County, Kentucky        2457  "
      ]
     },
     "execution_count": 13,
     "metadata": {},
     "output_type": "execute_result"
    }
   ],
   "source": [
    "df.loc[:5]"
   ]
  },
  {
   "cell_type": "code",
   "execution_count": 18,
   "metadata": {},
   "outputs": [
    {
     "data": {
      "text/plain": [
       "Id                                 1400000US21001970500\n",
       "Id2                                         21001970500\n",
       "Geography     Census Tract 9705, Adair County, Kentucky\n",
       "Population                                         2457\n",
       "Name: 5, dtype: object"
      ]
     },
     "execution_count": 18,
     "metadata": {},
     "output_type": "execute_result"
    }
   ],
   "source": [
    "df.loc[5]  #gives information of row 5 or df.loc[5]"
   ]
  },
  {
   "cell_type": "code",
   "execution_count": 20,
   "metadata": {},
   "outputs": [
    {
     "data": {
      "text/plain": [
       "Id                                 1400000US21001970100\n",
       "Id2                                         21001970100\n",
       "Geography     Census Tract 9701, Adair County, Kentucky\n",
       "Population                                         1727\n",
       "Name: 0, dtype: object"
      ]
     },
     "execution_count": 20,
     "metadata": {},
     "output_type": "execute_result"
    }
   ],
   "source": [
    "df.iloc[0]#gives information of row 0"
   ]
  },
  {
   "cell_type": "code",
   "execution_count": 24,
   "metadata": {},
   "outputs": [
    {
     "data": {
      "text/html": [
       "<div>\n",
       "<style scoped>\n",
       "    .dataframe tbody tr th:only-of-type {\n",
       "        vertical-align: middle;\n",
       "    }\n",
       "\n",
       "    .dataframe tbody tr th {\n",
       "        vertical-align: top;\n",
       "    }\n",
       "\n",
       "    .dataframe thead th {\n",
       "        text-align: right;\n",
       "    }\n",
       "</style>\n",
       "<table border=\"1\" class=\"dataframe\">\n",
       "  <thead>\n",
       "    <tr style=\"text-align: right;\">\n",
       "      <th></th>\n",
       "      <th>Id</th>\n",
       "      <th>Id2</th>\n",
       "      <th>Geography</th>\n",
       "      <th>Population</th>\n",
       "    </tr>\n",
       "  </thead>\n",
       "  <tbody>\n",
       "    <tr>\n",
       "      <td>0</td>\n",
       "      <td>1400000US21001970100</td>\n",
       "      <td>21001970100</td>\n",
       "      <td>Census Tract 9701, Adair County, Kentucky</td>\n",
       "      <td>1727</td>\n",
       "    </tr>\n",
       "    <tr>\n",
       "      <td>2</td>\n",
       "      <td>1400000US21001970300</td>\n",
       "      <td>21001970300</td>\n",
       "      <td>Census Tract 9703, Adair County, Kentucky</td>\n",
       "      <td>3016</td>\n",
       "    </tr>\n",
       "    <tr>\n",
       "      <td>3</td>\n",
       "      <td>1400000US21001970401</td>\n",
       "      <td>21001970401</td>\n",
       "      <td>Census Tract 9704.01, Adair County, Kentucky</td>\n",
       "      <td>4070</td>\n",
       "    </tr>\n",
       "    <tr>\n",
       "      <td>4</td>\n",
       "      <td>1400000US21001970402</td>\n",
       "      <td>21001970402</td>\n",
       "      <td>Census Tract 9704.02, Adair County, Kentucky</td>\n",
       "      <td>4261</td>\n",
       "    </tr>\n",
       "    <tr>\n",
       "      <td>5</td>\n",
       "      <td>1400000US21001970500</td>\n",
       "      <td>21001970500</td>\n",
       "      <td>Census Tract 9705, Adair County, Kentucky</td>\n",
       "      <td>2457</td>\n",
       "    </tr>\n",
       "  </tbody>\n",
       "</table>\n",
       "</div>"
      ],
      "text/plain": [
       "                     Id          Id2  \\\n",
       "0  1400000US21001970100  21001970100   \n",
       "2  1400000US21001970300  21001970300   \n",
       "3  1400000US21001970401  21001970401   \n",
       "4  1400000US21001970402  21001970402   \n",
       "5  1400000US21001970500  21001970500   \n",
       "\n",
       "                                      Geography  Population  \n",
       "0     Census Tract 9701, Adair County, Kentucky        1727  \n",
       "2     Census Tract 9703, Adair County, Kentucky        3016  \n",
       "3  Census Tract 9704.01, Adair County, Kentucky        4070  \n",
       "4  Census Tract 9704.02, Adair County, Kentucky        4261  \n",
       "5     Census Tract 9705, Adair County, Kentucky        2457  "
      ]
     },
     "execution_count": 24,
     "metadata": {},
     "output_type": "execute_result"
    }
   ],
   "source": [
    "df2=df.drop(1, axis=0)  #drop row 1\n",
    "df2[:5]"
   ]
  },
  {
   "cell_type": "code",
   "execution_count": 25,
   "metadata": {},
   "outputs": [
    {
     "data": {
      "text/plain": [
       "Id                                    1400000US21001970401\n",
       "Id2                                            21001970401\n",
       "Geography     Census Tract 9704.01, Adair County, Kentucky\n",
       "Population                                            4070\n",
       "Name: 3, dtype: object"
      ]
     },
     "execution_count": 25,
     "metadata": {},
     "output_type": "execute_result"
    }
   ],
   "source": [
    "df2.iloc[2]   #gives information of row 1 --> be careful we may be off"
   ]
  },
  {
   "cell_type": "code",
   "execution_count": 26,
   "metadata": {},
   "outputs": [
    {
     "data": {
      "text/plain": [
       "Id                                 1400000US21001970300\n",
       "Id2                                         21001970300\n",
       "Geography     Census Tract 9703, Adair County, Kentucky\n",
       "Population                                         3016\n",
       "Name: 2, dtype: object"
      ]
     },
     "execution_count": 26,
     "metadata": {},
     "output_type": "execute_result"
    }
   ],
   "source": [
    "df2.loc[2]     #gived information of row 2"
   ]
  },
  {
   "cell_type": "markdown",
   "metadata": {},
   "source": [
    "df.loc[5]"
   ]
  },
  {
   "cell_type": "markdown",
   "metadata": {},
   "source": [
    "Note that indexing can work for both rows and colums"
   ]
  },
  {
   "cell_type": "code",
   "execution_count": 29,
   "metadata": {},
   "outputs": [
    {
     "data": {
      "text/html": [
       "<div>\n",
       "<style scoped>\n",
       "    .dataframe tbody tr th:only-of-type {\n",
       "        vertical-align: middle;\n",
       "    }\n",
       "\n",
       "    .dataframe tbody tr th {\n",
       "        vertical-align: top;\n",
       "    }\n",
       "\n",
       "    .dataframe thead th {\n",
       "        text-align: right;\n",
       "    }\n",
       "</style>\n",
       "<table border=\"1\" class=\"dataframe\">\n",
       "  <thead>\n",
       "    <tr style=\"text-align: right;\">\n",
       "      <th></th>\n",
       "      <th>Id</th>\n",
       "      <th>Id2</th>\n",
       "      <th>Geography</th>\n",
       "    </tr>\n",
       "  </thead>\n",
       "  <tbody>\n",
       "    <tr>\n",
       "      <td>0</td>\n",
       "      <td>1400000US21001970100</td>\n",
       "      <td>21001970100</td>\n",
       "      <td>Census Tract 9701, Adair County, Kentucky</td>\n",
       "    </tr>\n",
       "    <tr>\n",
       "      <td>1</td>\n",
       "      <td>1400000US21001970200</td>\n",
       "      <td>21001970200</td>\n",
       "      <td>Census Tract 9702, Adair County, Kentucky</td>\n",
       "    </tr>\n",
       "    <tr>\n",
       "      <td>2</td>\n",
       "      <td>1400000US21001970300</td>\n",
       "      <td>21001970300</td>\n",
       "      <td>Census Tract 9703, Adair County, Kentucky</td>\n",
       "    </tr>\n",
       "    <tr>\n",
       "      <td>3</td>\n",
       "      <td>1400000US21001970401</td>\n",
       "      <td>21001970401</td>\n",
       "      <td>Census Tract 9704.01, Adair County, Kentucky</td>\n",
       "    </tr>\n",
       "    <tr>\n",
       "      <td>4</td>\n",
       "      <td>1400000US21001970402</td>\n",
       "      <td>21001970402</td>\n",
       "      <td>Census Tract 9704.02, Adair County, Kentucky</td>\n",
       "    </tr>\n",
       "    <tr>\n",
       "      <td>5</td>\n",
       "      <td>1400000US21001970500</td>\n",
       "      <td>21001970500</td>\n",
       "      <td>Census Tract 9705, Adair County, Kentucky</td>\n",
       "    </tr>\n",
       "  </tbody>\n",
       "</table>\n",
       "</div>"
      ],
      "text/plain": [
       "                     Id          Id2  \\\n",
       "0  1400000US21001970100  21001970100   \n",
       "1  1400000US21001970200  21001970200   \n",
       "2  1400000US21001970300  21001970300   \n",
       "3  1400000US21001970401  21001970401   \n",
       "4  1400000US21001970402  21001970402   \n",
       "5  1400000US21001970500  21001970500   \n",
       "\n",
       "                                      Geography  \n",
       "0     Census Tract 9701, Adair County, Kentucky  \n",
       "1     Census Tract 9702, Adair County, Kentucky  \n",
       "2     Census Tract 9703, Adair County, Kentucky  \n",
       "3  Census Tract 9704.01, Adair County, Kentucky  \n",
       "4  Census Tract 9704.02, Adair County, Kentucky  \n",
       "5     Census Tract 9705, Adair County, Kentucky  "
      ]
     },
     "execution_count": 29,
     "metadata": {},
     "output_type": "execute_result"
    }
   ],
   "source": [
    "df.loc[:5,  :'Geography']  #column before Geography is to display all columns up till Geography"
   ]
  },
  {
   "cell_type": "code",
   "execution_count": 30,
   "metadata": {
    "scrolled": false
   },
   "outputs": [
    {
     "data": {
      "text/html": [
       "<div>\n",
       "<style scoped>\n",
       "    .dataframe tbody tr th:only-of-type {\n",
       "        vertical-align: middle;\n",
       "    }\n",
       "\n",
       "    .dataframe tbody tr th {\n",
       "        vertical-align: top;\n",
       "    }\n",
       "\n",
       "    .dataframe thead th {\n",
       "        text-align: right;\n",
       "    }\n",
       "</style>\n",
       "<table border=\"1\" class=\"dataframe\">\n",
       "  <thead>\n",
       "    <tr style=\"text-align: right;\">\n",
       "      <th></th>\n",
       "      <th>Id</th>\n",
       "      <th>Id2</th>\n",
       "      <th>Geography</th>\n",
       "    </tr>\n",
       "  </thead>\n",
       "  <tbody>\n",
       "    <tr>\n",
       "      <td>0</td>\n",
       "      <td>1400000US21001970100</td>\n",
       "      <td>21001970100</td>\n",
       "      <td>Census Tract 9701, Adair County, Kentucky</td>\n",
       "    </tr>\n",
       "    <tr>\n",
       "      <td>1</td>\n",
       "      <td>1400000US21001970200</td>\n",
       "      <td>21001970200</td>\n",
       "      <td>Census Tract 9702, Adair County, Kentucky</td>\n",
       "    </tr>\n",
       "    <tr>\n",
       "      <td>2</td>\n",
       "      <td>1400000US21001970300</td>\n",
       "      <td>21001970300</td>\n",
       "      <td>Census Tract 9703, Adair County, Kentucky</td>\n",
       "    </tr>\n",
       "    <tr>\n",
       "      <td>3</td>\n",
       "      <td>1400000US21001970401</td>\n",
       "      <td>21001970401</td>\n",
       "      <td>Census Tract 9704.01, Adair County, Kentucky</td>\n",
       "    </tr>\n",
       "    <tr>\n",
       "      <td>4</td>\n",
       "      <td>1400000US21001970402</td>\n",
       "      <td>21001970402</td>\n",
       "      <td>Census Tract 9704.02, Adair County, Kentucky</td>\n",
       "    </tr>\n",
       "  </tbody>\n",
       "</table>\n",
       "</div>"
      ],
      "text/plain": [
       "                     Id          Id2  \\\n",
       "0  1400000US21001970100  21001970100   \n",
       "1  1400000US21001970200  21001970200   \n",
       "2  1400000US21001970300  21001970300   \n",
       "3  1400000US21001970401  21001970401   \n",
       "4  1400000US21001970402  21001970402   \n",
       "\n",
       "                                      Geography  \n",
       "0     Census Tract 9701, Adair County, Kentucky  \n",
       "1     Census Tract 9702, Adair County, Kentucky  \n",
       "2     Census Tract 9703, Adair County, Kentucky  \n",
       "3  Census Tract 9704.01, Adair County, Kentucky  \n",
       "4  Census Tract 9704.02, Adair County, Kentucky  "
      ]
     },
     "execution_count": 30,
     "metadata": {},
     "output_type": "execute_result"
    }
   ],
   "source": [
    "df.iloc[:5, :3]"
   ]
  },
  {
   "cell_type": "markdown",
   "metadata": {},
   "source": [
    "We can select rows based on their value as well.  Notice that we nest df[df[condition]] to get this result."
   ]
  },
  {
   "cell_type": "code",
   "execution_count": 34,
   "metadata": {},
   "outputs": [
    {
     "data": {
      "text/plain": [
       "0       False\n",
       "1       False\n",
       "2       False\n",
       "3       False\n",
       "4       False\n",
       "        ...  \n",
       "1110    False\n",
       "1111    False\n",
       "1112    False\n",
       "1113    False\n",
       "1114    False\n",
       "Name: Population, Length: 1115, dtype: bool"
      ]
     },
     "execution_count": 34,
     "metadata": {},
     "output_type": "execute_result"
    }
   ],
   "source": [
    "df['Population']<100   #go through all rown and return when condition is true"
   ]
  },
  {
   "cell_type": "code",
   "execution_count": 35,
   "metadata": {},
   "outputs": [
    {
     "data": {
      "text/html": [
       "<div>\n",
       "<style scoped>\n",
       "    .dataframe tbody tr th:only-of-type {\n",
       "        vertical-align: middle;\n",
       "    }\n",
       "\n",
       "    .dataframe tbody tr th {\n",
       "        vertical-align: top;\n",
       "    }\n",
       "\n",
       "    .dataframe thead th {\n",
       "        text-align: right;\n",
       "    }\n",
       "</style>\n",
       "<table border=\"1\" class=\"dataframe\">\n",
       "  <thead>\n",
       "    <tr style=\"text-align: right;\">\n",
       "      <th></th>\n",
       "      <th>Id</th>\n",
       "      <th>Id2</th>\n",
       "      <th>Geography</th>\n",
       "      <th>Population</th>\n",
       "    </tr>\n",
       "  </thead>\n",
       "  <tbody>\n",
       "    <tr>\n",
       "      <td>64</td>\n",
       "      <td>1400000US21015980100</td>\n",
       "      <td>21015980100</td>\n",
       "      <td>Census Tract 9801, Boone County, Kentucky</td>\n",
       "      <td>0</td>\n",
       "    </tr>\n",
       "    <tr>\n",
       "      <td>124</td>\n",
       "      <td>1400000US21029980100</td>\n",
       "      <td>21029980100</td>\n",
       "      <td>Census Tract 9801, Bullitt County, Kentucky</td>\n",
       "      <td>0</td>\n",
       "    </tr>\n",
       "    <tr>\n",
       "      <td>203</td>\n",
       "      <td>1400000US21047980100</td>\n",
       "      <td>21047980100</td>\n",
       "      <td>Census Tract 9801, Christian County, Kentucky</td>\n",
       "      <td>0</td>\n",
       "    </tr>\n",
       "    <tr>\n",
       "      <td>255</td>\n",
       "      <td>1400000US21061980100</td>\n",
       "      <td>21061980100</td>\n",
       "      <td>Census Tract 9801, Edmonson County, Kentucky</td>\n",
       "      <td>8</td>\n",
       "    </tr>\n",
       "    <tr>\n",
       "      <td>678</td>\n",
       "      <td>1400000US21111980100</td>\n",
       "      <td>21111980100</td>\n",
       "      <td>Census Tract 9801, Jefferson County, Kentucky</td>\n",
       "      <td>0</td>\n",
       "    </tr>\n",
       "    <tr>\n",
       "      <td>803</td>\n",
       "      <td>1400000US21143980100</td>\n",
       "      <td>21143980100</td>\n",
       "      <td>Census Tract 9801, Lyon County, Kentucky</td>\n",
       "      <td>0</td>\n",
       "    </tr>\n",
       "    <tr>\n",
       "      <td>878</td>\n",
       "      <td>1400000US21163980100</td>\n",
       "      <td>21163980100</td>\n",
       "      <td>Census Tract 9801, Meade County, Kentucky</td>\n",
       "      <td>9</td>\n",
       "    </tr>\n",
       "    <tr>\n",
       "      <td>1053</td>\n",
       "      <td>1400000US21221980100</td>\n",
       "      <td>21221980100</td>\n",
       "      <td>Census Tract 9801, Trigg County, Kentucky</td>\n",
       "      <td>18</td>\n",
       "    </tr>\n",
       "    <tr>\n",
       "      <td>1054</td>\n",
       "      <td>1400000US21221980200</td>\n",
       "      <td>21221980200</td>\n",
       "      <td>Census Tract 9802, Trigg County, Kentucky</td>\n",
       "      <td>6</td>\n",
       "    </tr>\n",
       "  </tbody>\n",
       "</table>\n",
       "</div>"
      ],
      "text/plain": [
       "                        Id          Id2  \\\n",
       "64    1400000US21015980100  21015980100   \n",
       "124   1400000US21029980100  21029980100   \n",
       "203   1400000US21047980100  21047980100   \n",
       "255   1400000US21061980100  21061980100   \n",
       "678   1400000US21111980100  21111980100   \n",
       "803   1400000US21143980100  21143980100   \n",
       "878   1400000US21163980100  21163980100   \n",
       "1053  1400000US21221980100  21221980100   \n",
       "1054  1400000US21221980200  21221980200   \n",
       "\n",
       "                                          Geography  Population  \n",
       "64        Census Tract 9801, Boone County, Kentucky           0  \n",
       "124     Census Tract 9801, Bullitt County, Kentucky           0  \n",
       "203   Census Tract 9801, Christian County, Kentucky           0  \n",
       "255    Census Tract 9801, Edmonson County, Kentucky           8  \n",
       "678   Census Tract 9801, Jefferson County, Kentucky           0  \n",
       "803        Census Tract 9801, Lyon County, Kentucky           0  \n",
       "878       Census Tract 9801, Meade County, Kentucky           9  \n",
       "1053      Census Tract 9801, Trigg County, Kentucky          18  \n",
       "1054      Census Tract 9802, Trigg County, Kentucky           6  "
      ]
     },
     "execution_count": 35,
     "metadata": {},
     "output_type": "execute_result"
    }
   ],
   "source": [
    "df[df['Population'] < 200]  #to return the data frame them put it inside [brackets]"
   ]
  },
  {
   "cell_type": "code",
   "execution_count": 36,
   "metadata": {},
   "outputs": [
    {
     "data": {
      "text/html": [
       "<div>\n",
       "<style scoped>\n",
       "    .dataframe tbody tr th:only-of-type {\n",
       "        vertical-align: middle;\n",
       "    }\n",
       "\n",
       "    .dataframe tbody tr th {\n",
       "        vertical-align: top;\n",
       "    }\n",
       "\n",
       "    .dataframe thead th {\n",
       "        text-align: right;\n",
       "    }\n",
       "</style>\n",
       "<table border=\"1\" class=\"dataframe\">\n",
       "  <thead>\n",
       "    <tr style=\"text-align: right;\">\n",
       "      <th></th>\n",
       "      <th>Id</th>\n",
       "      <th>Id2</th>\n",
       "      <th>Geography</th>\n",
       "      <th>Population</th>\n",
       "    </tr>\n",
       "  </thead>\n",
       "  <tbody>\n",
       "    <tr>\n",
       "      <td>64</td>\n",
       "      <td>1400000US21015980100</td>\n",
       "      <td>21015980100</td>\n",
       "      <td>Census Tract 9801, Boone County, Kentucky</td>\n",
       "      <td>0</td>\n",
       "    </tr>\n",
       "  </tbody>\n",
       "</table>\n",
       "</div>"
      ],
      "text/plain": [
       "                      Id          Id2  \\\n",
       "64  1400000US21015980100  21015980100   \n",
       "\n",
       "                                    Geography  Population  \n",
       "64  Census Tract 9801, Boone County, Kentucky           0  "
      ]
     },
     "execution_count": 36,
     "metadata": {},
     "output_type": "execute_result"
    }
   ],
   "source": [
    "df[df['Id2']==21015980100]"
   ]
  },
  {
   "cell_type": "code",
   "execution_count": 45,
   "metadata": {},
   "outputs": [
    {
     "data": {
      "text/html": [
       "<div>\n",
       "<style scoped>\n",
       "    .dataframe tbody tr th:only-of-type {\n",
       "        vertical-align: middle;\n",
       "    }\n",
       "\n",
       "    .dataframe tbody tr th {\n",
       "        vertical-align: top;\n",
       "    }\n",
       "\n",
       "    .dataframe thead th {\n",
       "        text-align: right;\n",
       "    }\n",
       "</style>\n",
       "<table border=\"1\" class=\"dataframe\">\n",
       "  <thead>\n",
       "    <tr style=\"text-align: right;\">\n",
       "      <th></th>\n",
       "      <th>Id</th>\n",
       "      <th>Id2</th>\n",
       "      <th>Geography</th>\n",
       "      <th>Population</th>\n",
       "    </tr>\n",
       "  </thead>\n",
       "  <tbody>\n",
       "  </tbody>\n",
       "</table>\n",
       "</div>"
      ],
      "text/plain": [
       "Empty DataFrame\n",
       "Columns: [Id, Id2, Geography, Population]\n",
       "Index: []"
      ]
     },
     "execution_count": 45,
     "metadata": {},
     "output_type": "execute_result"
    }
   ],
   "source": [
    "df[(df[\"Population\"]>100) & (df[\"Population\"]<200)]   # be careful for the brackets and paranthesis in conditions --> no rows satisfying the conditions"
   ]
  },
  {
   "cell_type": "code",
   "execution_count": 51,
   "metadata": {},
   "outputs": [],
   "source": [
    "df3=df[(df[\"Population\"]>100) & (df[\"Population\"]<600)]   #assign to a new data frame\n",
    "#add .copy() tocreate a new frame and mess with it"
   ]
  },
  {
   "cell_type": "code",
   "execution_count": 52,
   "metadata": {},
   "outputs": [
    {
     "data": {
      "text/html": [
       "<div>\n",
       "<style scoped>\n",
       "    .dataframe tbody tr th:only-of-type {\n",
       "        vertical-align: middle;\n",
       "    }\n",
       "\n",
       "    .dataframe tbody tr th {\n",
       "        vertical-align: top;\n",
       "    }\n",
       "\n",
       "    .dataframe thead th {\n",
       "        text-align: right;\n",
       "    }\n",
       "</style>\n",
       "<table border=\"1\" class=\"dataframe\">\n",
       "  <thead>\n",
       "    <tr style=\"text-align: right;\">\n",
       "      <th></th>\n",
       "      <th>Id</th>\n",
       "      <th>Id2</th>\n",
       "      <th>Geography</th>\n",
       "      <th>Population</th>\n",
       "    </tr>\n",
       "  </thead>\n",
       "  <tbody>\n",
       "    <tr>\n",
       "      <td>325</td>\n",
       "      <td>1400000US21067003916</td>\n",
       "      <td>21067003916</td>\n",
       "      <td>Census Tract 39.16, Fayette County, Kentucky</td>\n",
       "      <td>501.0</td>\n",
       "    </tr>\n",
       "  </tbody>\n",
       "</table>\n",
       "</div>"
      ],
      "text/plain": [
       "                       Id          Id2  \\\n",
       "325  1400000US21067003916  21067003916   \n",
       "\n",
       "                                        Geography  Population  \n",
       "325  Census Tract 39.16, Fayette County, Kentucky       501.0  "
      ]
     },
     "execution_count": 52,
     "metadata": {},
     "output_type": "execute_result"
    }
   ],
   "source": [
    "df3 #call the new data frame"
   ]
  },
  {
   "cell_type": "markdown",
   "metadata": {},
   "source": [
    "Here we show how to set a value of a cell in the table, identifying a specific row by index label, and setting its population, in this case to a None value, which Pandas interprets as a NaN (missing value)."
   ]
  },
  {
   "cell_type": "code",
   "execution_count": 54,
   "metadata": {},
   "outputs": [],
   "source": [
    "df.loc[688,'Population'] = None #change the value of the cell"
   ]
  },
  {
   "cell_type": "markdown",
   "metadata": {},
   "source": [
    "We can filter for values that are Null"
   ]
  },
  {
   "cell_type": "code",
   "execution_count": 55,
   "metadata": {},
   "outputs": [
    {
     "data": {
      "text/html": [
       "<div>\n",
       "<style scoped>\n",
       "    .dataframe tbody tr th:only-of-type {\n",
       "        vertical-align: middle;\n",
       "    }\n",
       "\n",
       "    .dataframe tbody tr th {\n",
       "        vertical-align: top;\n",
       "    }\n",
       "\n",
       "    .dataframe thead th {\n",
       "        text-align: right;\n",
       "    }\n",
       "</style>\n",
       "<table border=\"1\" class=\"dataframe\">\n",
       "  <thead>\n",
       "    <tr style=\"text-align: right;\">\n",
       "      <th></th>\n",
       "      <th>Id</th>\n",
       "      <th>Id2</th>\n",
       "      <th>Geography</th>\n",
       "      <th>Population</th>\n",
       "    </tr>\n",
       "  </thead>\n",
       "  <tbody>\n",
       "    <tr>\n",
       "      <td>688</td>\n",
       "      <td>1400000US21115960100</td>\n",
       "      <td>21115960100</td>\n",
       "      <td>Census Tract 9601, Johnson County, Kentucky</td>\n",
       "      <td>NaN</td>\n",
       "    </tr>\n",
       "  </tbody>\n",
       "</table>\n",
       "</div>"
      ],
      "text/plain": [
       "                       Id          Id2  \\\n",
       "688  1400000US21115960100  21115960100   \n",
       "\n",
       "                                       Geography  Population  \n",
       "688  Census Tract 9601, Johnson County, Kentucky         NaN  "
      ]
     },
     "execution_count": 55,
     "metadata": {},
     "output_type": "execute_result"
    }
   ],
   "source": [
    "df[df['Population'].isnull()] #test the change"
   ]
  },
  {
   "cell_type": "markdown",
   "metadata": {},
   "source": [
    "Or more commonly, filter out the null values."
   ]
  },
  {
   "cell_type": "code",
   "execution_count": 56,
   "metadata": {},
   "outputs": [
    {
     "data": {
      "text/html": [
       "<div>\n",
       "<style scoped>\n",
       "    .dataframe tbody tr th:only-of-type {\n",
       "        vertical-align: middle;\n",
       "    }\n",
       "\n",
       "    .dataframe tbody tr th {\n",
       "        vertical-align: top;\n",
       "    }\n",
       "\n",
       "    .dataframe thead th {\n",
       "        text-align: right;\n",
       "    }\n",
       "</style>\n",
       "<table border=\"1\" class=\"dataframe\">\n",
       "  <thead>\n",
       "    <tr style=\"text-align: right;\">\n",
       "      <th></th>\n",
       "      <th>Id</th>\n",
       "      <th>Id2</th>\n",
       "      <th>Geography</th>\n",
       "      <th>Population</th>\n",
       "      <th>NewCol</th>\n",
       "    </tr>\n",
       "  </thead>\n",
       "  <tbody>\n",
       "    <tr>\n",
       "      <td>0</td>\n",
       "      <td>1400000US21001970100</td>\n",
       "      <td>21001970100</td>\n",
       "      <td>Census Tract 9701, Adair County, Kentucky</td>\n",
       "      <td>1727.0</td>\n",
       "      <td>0</td>\n",
       "    </tr>\n",
       "    <tr>\n",
       "      <td>1</td>\n",
       "      <td>1400000US21001970200</td>\n",
       "      <td>21001970200</td>\n",
       "      <td>Census Tract 9702, Adair County, Kentucky</td>\n",
       "      <td>1722.0</td>\n",
       "      <td>0</td>\n",
       "    </tr>\n",
       "    <tr>\n",
       "      <td>2</td>\n",
       "      <td>1400000US21001970300</td>\n",
       "      <td>21001970300</td>\n",
       "      <td>Census Tract 9703, Adair County, Kentucky</td>\n",
       "      <td>3016.0</td>\n",
       "      <td>0</td>\n",
       "    </tr>\n",
       "    <tr>\n",
       "      <td>3</td>\n",
       "      <td>1400000US21001970401</td>\n",
       "      <td>21001970401</td>\n",
       "      <td>Census Tract 9704.01, Adair County, Kentucky</td>\n",
       "      <td>4070.0</td>\n",
       "      <td>0</td>\n",
       "    </tr>\n",
       "    <tr>\n",
       "      <td>4</td>\n",
       "      <td>1400000US21001970402</td>\n",
       "      <td>21001970402</td>\n",
       "      <td>Census Tract 9704.02, Adair County, Kentucky</td>\n",
       "      <td>4261.0</td>\n",
       "      <td>0</td>\n",
       "    </tr>\n",
       "    <tr>\n",
       "      <td>...</td>\n",
       "      <td>...</td>\n",
       "      <td>...</td>\n",
       "      <td>...</td>\n",
       "      <td>...</td>\n",
       "      <td>...</td>\n",
       "    </tr>\n",
       "    <tr>\n",
       "      <td>1110</td>\n",
       "      <td>1400000US21239050106</td>\n",
       "      <td>21239050106</td>\n",
       "      <td>Census Tract 501.06, Woodford County, Kentucky</td>\n",
       "      <td>3261.0</td>\n",
       "      <td>0</td>\n",
       "    </tr>\n",
       "    <tr>\n",
       "      <td>1111</td>\n",
       "      <td>1400000US21239050107</td>\n",
       "      <td>21239050107</td>\n",
       "      <td>Census Tract 501.07, Woodford County, Kentucky</td>\n",
       "      <td>3757.0</td>\n",
       "      <td>0</td>\n",
       "    </tr>\n",
       "    <tr>\n",
       "      <td>1112</td>\n",
       "      <td>1400000US21239050200</td>\n",
       "      <td>21239050200</td>\n",
       "      <td>Census Tract 502, Woodford County, Kentucky</td>\n",
       "      <td>3533.0</td>\n",
       "      <td>0</td>\n",
       "    </tr>\n",
       "    <tr>\n",
       "      <td>1113</td>\n",
       "      <td>1400000US21239050300</td>\n",
       "      <td>21239050300</td>\n",
       "      <td>Census Tract 503, Woodford County, Kentucky</td>\n",
       "      <td>1899.0</td>\n",
       "      <td>0</td>\n",
       "    </tr>\n",
       "    <tr>\n",
       "      <td>1114</td>\n",
       "      <td>1400000US21239050400</td>\n",
       "      <td>21239050400</td>\n",
       "      <td>Census Tract 504, Woodford County, Kentucky</td>\n",
       "      <td>2279.0</td>\n",
       "      <td>0</td>\n",
       "    </tr>\n",
       "  </tbody>\n",
       "</table>\n",
       "<p>1115 rows × 5 columns</p>\n",
       "</div>"
      ],
      "text/plain": [
       "                        Id          Id2  \\\n",
       "0     1400000US21001970100  21001970100   \n",
       "1     1400000US21001970200  21001970200   \n",
       "2     1400000US21001970300  21001970300   \n",
       "3     1400000US21001970401  21001970401   \n",
       "4     1400000US21001970402  21001970402   \n",
       "...                    ...          ...   \n",
       "1110  1400000US21239050106  21239050106   \n",
       "1111  1400000US21239050107  21239050107   \n",
       "1112  1400000US21239050200  21239050200   \n",
       "1113  1400000US21239050300  21239050300   \n",
       "1114  1400000US21239050400  21239050400   \n",
       "\n",
       "                                           Geography  Population  NewCol  \n",
       "0          Census Tract 9701, Adair County, Kentucky      1727.0       0  \n",
       "1          Census Tract 9702, Adair County, Kentucky      1722.0       0  \n",
       "2          Census Tract 9703, Adair County, Kentucky      3016.0       0  \n",
       "3       Census Tract 9704.01, Adair County, Kentucky      4070.0       0  \n",
       "4       Census Tract 9704.02, Adair County, Kentucky      4261.0       0  \n",
       "...                                              ...         ...     ...  \n",
       "1110  Census Tract 501.06, Woodford County, Kentucky      3261.0       0  \n",
       "1111  Census Tract 501.07, Woodford County, Kentucky      3757.0       0  \n",
       "1112     Census Tract 502, Woodford County, Kentucky      3533.0       0  \n",
       "1113     Census Tract 503, Woodford County, Kentucky      1899.0       0  \n",
       "1114     Census Tract 504, Woodford County, Kentucky      2279.0       0  \n",
       "\n",
       "[1115 rows x 5 columns]"
      ]
     },
     "execution_count": 56,
     "metadata": {},
     "output_type": "execute_result"
    }
   ],
   "source": [
    "df[\"NewCol\"]=0  #create a new column and assign zeros to all the rows\n",
    "df"
   ]
  },
  {
   "cell_type": "code",
   "execution_count": 58,
   "metadata": {},
   "outputs": [
    {
     "data": {
      "text/html": [
       "<div>\n",
       "<style scoped>\n",
       "    .dataframe tbody tr th:only-of-type {\n",
       "        vertical-align: middle;\n",
       "    }\n",
       "\n",
       "    .dataframe tbody tr th {\n",
       "        vertical-align: top;\n",
       "    }\n",
       "\n",
       "    .dataframe thead th {\n",
       "        text-align: right;\n",
       "    }\n",
       "</style>\n",
       "<table border=\"1\" class=\"dataframe\">\n",
       "  <thead>\n",
       "    <tr style=\"text-align: right;\">\n",
       "      <th></th>\n",
       "      <th>Id</th>\n",
       "      <th>Id2</th>\n",
       "      <th>Geography</th>\n",
       "      <th>Population</th>\n",
       "      <th>NewCol</th>\n",
       "    </tr>\n",
       "  </thead>\n",
       "  <tbody>\n",
       "    <tr>\n",
       "      <td>0</td>\n",
       "      <td>1400000US21001970100</td>\n",
       "      <td>21001970100</td>\n",
       "      <td>Census Tract 9701, Adair County, Kentucky</td>\n",
       "      <td>1727.0</td>\n",
       "      <td>0</td>\n",
       "    </tr>\n",
       "    <tr>\n",
       "      <td>1</td>\n",
       "      <td>1400000US21001970200</td>\n",
       "      <td>21001970200</td>\n",
       "      <td>Census Tract 9702, Adair County, Kentucky</td>\n",
       "      <td>1722.0</td>\n",
       "      <td>0</td>\n",
       "    </tr>\n",
       "    <tr>\n",
       "      <td>2</td>\n",
       "      <td>1400000US21001970300</td>\n",
       "      <td>21001970300</td>\n",
       "      <td>Census Tract 9703, Adair County, Kentucky</td>\n",
       "      <td>3016.0</td>\n",
       "      <td>0</td>\n",
       "    </tr>\n",
       "    <tr>\n",
       "      <td>3</td>\n",
       "      <td>1400000US21001970401</td>\n",
       "      <td>21001970401</td>\n",
       "      <td>Census Tract 9704.01, Adair County, Kentucky</td>\n",
       "      <td>4070.0</td>\n",
       "      <td>0</td>\n",
       "    </tr>\n",
       "    <tr>\n",
       "      <td>4</td>\n",
       "      <td>1400000US21001970402</td>\n",
       "      <td>21001970402</td>\n",
       "      <td>Census Tract 9704.02, Adair County, Kentucky</td>\n",
       "      <td>4261.0</td>\n",
       "      <td>0</td>\n",
       "    </tr>\n",
       "    <tr>\n",
       "      <td>...</td>\n",
       "      <td>...</td>\n",
       "      <td>...</td>\n",
       "      <td>...</td>\n",
       "      <td>...</td>\n",
       "      <td>...</td>\n",
       "    </tr>\n",
       "    <tr>\n",
       "      <td>1110</td>\n",
       "      <td>1400000US21239050106</td>\n",
       "      <td>21239050106</td>\n",
       "      <td>Census Tract 501.06, Woodford County, Kentucky</td>\n",
       "      <td>3261.0</td>\n",
       "      <td>0</td>\n",
       "    </tr>\n",
       "    <tr>\n",
       "      <td>1111</td>\n",
       "      <td>1400000US21239050107</td>\n",
       "      <td>21239050107</td>\n",
       "      <td>Census Tract 501.07, Woodford County, Kentucky</td>\n",
       "      <td>3757.0</td>\n",
       "      <td>0</td>\n",
       "    </tr>\n",
       "    <tr>\n",
       "      <td>1112</td>\n",
       "      <td>1400000US21239050200</td>\n",
       "      <td>21239050200</td>\n",
       "      <td>Census Tract 502, Woodford County, Kentucky</td>\n",
       "      <td>3533.0</td>\n",
       "      <td>0</td>\n",
       "    </tr>\n",
       "    <tr>\n",
       "      <td>1113</td>\n",
       "      <td>1400000US21239050300</td>\n",
       "      <td>21239050300</td>\n",
       "      <td>Census Tract 503, Woodford County, Kentucky</td>\n",
       "      <td>1899.0</td>\n",
       "      <td>0</td>\n",
       "    </tr>\n",
       "    <tr>\n",
       "      <td>1114</td>\n",
       "      <td>1400000US21239050400</td>\n",
       "      <td>21239050400</td>\n",
       "      <td>Census Tract 504, Woodford County, Kentucky</td>\n",
       "      <td>2279.0</td>\n",
       "      <td>0</td>\n",
       "    </tr>\n",
       "  </tbody>\n",
       "</table>\n",
       "<p>1114 rows × 5 columns</p>\n",
       "</div>"
      ],
      "text/plain": [
       "                        Id          Id2  \\\n",
       "0     1400000US21001970100  21001970100   \n",
       "1     1400000US21001970200  21001970200   \n",
       "2     1400000US21001970300  21001970300   \n",
       "3     1400000US21001970401  21001970401   \n",
       "4     1400000US21001970402  21001970402   \n",
       "...                    ...          ...   \n",
       "1110  1400000US21239050106  21239050106   \n",
       "1111  1400000US21239050107  21239050107   \n",
       "1112  1400000US21239050200  21239050200   \n",
       "1113  1400000US21239050300  21239050300   \n",
       "1114  1400000US21239050400  21239050400   \n",
       "\n",
       "                                           Geography  Population  NewCol  \n",
       "0          Census Tract 9701, Adair County, Kentucky      1727.0       0  \n",
       "1          Census Tract 9702, Adair County, Kentucky      1722.0       0  \n",
       "2          Census Tract 9703, Adair County, Kentucky      3016.0       0  \n",
       "3       Census Tract 9704.01, Adair County, Kentucky      4070.0       0  \n",
       "4       Census Tract 9704.02, Adair County, Kentucky      4261.0       0  \n",
       "...                                              ...         ...     ...  \n",
       "1110  Census Tract 501.06, Woodford County, Kentucky      3261.0       0  \n",
       "1111  Census Tract 501.07, Woodford County, Kentucky      3757.0       0  \n",
       "1112     Census Tract 502, Woodford County, Kentucky      3533.0       0  \n",
       "1113     Census Tract 503, Woodford County, Kentucky      1899.0       0  \n",
       "1114     Census Tract 504, Woodford County, Kentucky      2279.0       0  \n",
       "\n",
       "[1114 rows x 5 columns]"
      ]
     },
     "execution_count": 58,
     "metadata": {},
     "output_type": "execute_result"
    }
   ],
   "source": [
    "df[df['Population'].notnull()]"
   ]
  },
  {
   "cell_type": "markdown",
   "metadata": {},
   "source": [
    "Here we find and print records that are in Fayette County, using the str attribute and 'contains' to search for the county name in geodisplay."
   ]
  },
  {
   "cell_type": "code",
   "execution_count": 59,
   "metadata": {},
   "outputs": [
    {
     "data": {
      "text/html": [
       "<div>\n",
       "<style scoped>\n",
       "    .dataframe tbody tr th:only-of-type {\n",
       "        vertical-align: middle;\n",
       "    }\n",
       "\n",
       "    .dataframe tbody tr th {\n",
       "        vertical-align: top;\n",
       "    }\n",
       "\n",
       "    .dataframe thead th {\n",
       "        text-align: right;\n",
       "    }\n",
       "</style>\n",
       "<table border=\"1\" class=\"dataframe\">\n",
       "  <thead>\n",
       "    <tr style=\"text-align: right;\">\n",
       "      <th></th>\n",
       "      <th>Id</th>\n",
       "      <th>Id2</th>\n",
       "      <th>Geography</th>\n",
       "      <th>Population</th>\n",
       "      <th>NewCol</th>\n",
       "    </tr>\n",
       "  </thead>\n",
       "  <tbody>\n",
       "    <tr>\n",
       "      <td>262</td>\n",
       "      <td>1400000US21067000101</td>\n",
       "      <td>21067000101</td>\n",
       "      <td>Census Tract 1.01, Fayette County, Kentucky</td>\n",
       "      <td>3072.0</td>\n",
       "      <td>0</td>\n",
       "    </tr>\n",
       "    <tr>\n",
       "      <td>263</td>\n",
       "      <td>1400000US21067000102</td>\n",
       "      <td>21067000102</td>\n",
       "      <td>Census Tract 1.02, Fayette County, Kentucky</td>\n",
       "      <td>1567.0</td>\n",
       "      <td>0</td>\n",
       "    </tr>\n",
       "    <tr>\n",
       "      <td>264</td>\n",
       "      <td>1400000US21067000200</td>\n",
       "      <td>21067000200</td>\n",
       "      <td>Census Tract 2, Fayette County, Kentucky</td>\n",
       "      <td>3563.0</td>\n",
       "      <td>0</td>\n",
       "    </tr>\n",
       "    <tr>\n",
       "      <td>265</td>\n",
       "      <td>1400000US21067000300</td>\n",
       "      <td>21067000300</td>\n",
       "      <td>Census Tract 3, Fayette County, Kentucky</td>\n",
       "      <td>3157.0</td>\n",
       "      <td>0</td>\n",
       "    </tr>\n",
       "    <tr>\n",
       "      <td>266</td>\n",
       "      <td>1400000US21067000400</td>\n",
       "      <td>21067000400</td>\n",
       "      <td>Census Tract 4, Fayette County, Kentucky</td>\n",
       "      <td>1261.0</td>\n",
       "      <td>0</td>\n",
       "    </tr>\n",
       "    <tr>\n",
       "      <td>...</td>\n",
       "      <td>...</td>\n",
       "      <td>...</td>\n",
       "      <td>...</td>\n",
       "      <td>...</td>\n",
       "      <td>...</td>\n",
       "    </tr>\n",
       "    <tr>\n",
       "      <td>339</td>\n",
       "      <td>1400000US21067004205</td>\n",
       "      <td>21067004205</td>\n",
       "      <td>Census Tract 42.05, Fayette County, Kentucky</td>\n",
       "      <td>6628.0</td>\n",
       "      <td>0</td>\n",
       "    </tr>\n",
       "    <tr>\n",
       "      <td>340</td>\n",
       "      <td>1400000US21067004207</td>\n",
       "      <td>21067004207</td>\n",
       "      <td>Census Tract 42.07, Fayette County, Kentucky</td>\n",
       "      <td>3855.0</td>\n",
       "      <td>0</td>\n",
       "    </tr>\n",
       "    <tr>\n",
       "      <td>341</td>\n",
       "      <td>1400000US21067004208</td>\n",
       "      <td>21067004208</td>\n",
       "      <td>Census Tract 42.08, Fayette County, Kentucky</td>\n",
       "      <td>7097.0</td>\n",
       "      <td>0</td>\n",
       "    </tr>\n",
       "    <tr>\n",
       "      <td>342</td>\n",
       "      <td>1400000US21067004209</td>\n",
       "      <td>21067004209</td>\n",
       "      <td>Census Tract 42.09, Fayette County, Kentucky</td>\n",
       "      <td>3916.0</td>\n",
       "      <td>0</td>\n",
       "    </tr>\n",
       "    <tr>\n",
       "      <td>343</td>\n",
       "      <td>1400000US21067004210</td>\n",
       "      <td>21067004210</td>\n",
       "      <td>Census Tract 42.10, Fayette County, Kentucky</td>\n",
       "      <td>4207.0</td>\n",
       "      <td>0</td>\n",
       "    </tr>\n",
       "  </tbody>\n",
       "</table>\n",
       "<p>82 rows × 5 columns</p>\n",
       "</div>"
      ],
      "text/plain": [
       "                       Id          Id2  \\\n",
       "262  1400000US21067000101  21067000101   \n",
       "263  1400000US21067000102  21067000102   \n",
       "264  1400000US21067000200  21067000200   \n",
       "265  1400000US21067000300  21067000300   \n",
       "266  1400000US21067000400  21067000400   \n",
       "..                    ...          ...   \n",
       "339  1400000US21067004205  21067004205   \n",
       "340  1400000US21067004207  21067004207   \n",
       "341  1400000US21067004208  21067004208   \n",
       "342  1400000US21067004209  21067004209   \n",
       "343  1400000US21067004210  21067004210   \n",
       "\n",
       "                                        Geography  Population  NewCol  \n",
       "262   Census Tract 1.01, Fayette County, Kentucky      3072.0       0  \n",
       "263   Census Tract 1.02, Fayette County, Kentucky      1567.0       0  \n",
       "264      Census Tract 2, Fayette County, Kentucky      3563.0       0  \n",
       "265      Census Tract 3, Fayette County, Kentucky      3157.0       0  \n",
       "266      Census Tract 4, Fayette County, Kentucky      1261.0       0  \n",
       "..                                            ...         ...     ...  \n",
       "339  Census Tract 42.05, Fayette County, Kentucky      6628.0       0  \n",
       "340  Census Tract 42.07, Fayette County, Kentucky      3855.0       0  \n",
       "341  Census Tract 42.08, Fayette County, Kentucky      7097.0       0  \n",
       "342  Census Tract 42.09, Fayette County, Kentucky      3916.0       0  \n",
       "343  Census Tract 42.10, Fayette County, Kentucky      4207.0       0  \n",
       "\n",
       "[82 rows x 5 columns]"
      ]
     },
     "execution_count": 59,
     "metadata": {},
     "output_type": "execute_result"
    }
   ],
   "source": [
    "df[df['Geography'].str.contains('Fayette County')]  #give me all rows that have Fayette County in the Georgraphy column"
   ]
  },
  {
   "cell_type": "markdown",
   "metadata": {},
   "source": [
    "We can find the unique values of a column (not very interesting in this particular case)"
   ]
  },
  {
   "cell_type": "markdown",
   "metadata": {},
   "source": [
    "We saw last time how to use the str attribute to do string manipulation, such as to create a new column.  We need to explore some more advanced string processing, but let's use a smaller dataframe for that."
   ]
  },
  {
   "cell_type": "code",
   "execution_count": 60,
   "metadata": {},
   "outputs": [
    {
     "data": {
      "text/html": [
       "<div>\n",
       "<style scoped>\n",
       "    .dataframe tbody tr th:only-of-type {\n",
       "        vertical-align: middle;\n",
       "    }\n",
       "\n",
       "    .dataframe tbody tr th {\n",
       "        vertical-align: top;\n",
       "    }\n",
       "\n",
       "    .dataframe thead th {\n",
       "        text-align: right;\n",
       "    }\n",
       "</style>\n",
       "<table border=\"1\" class=\"dataframe\">\n",
       "  <thead>\n",
       "    <tr style=\"text-align: right;\">\n",
       "      <th></th>\n",
       "      <th>Id</th>\n",
       "      <th>Id2</th>\n",
       "      <th>Geography</th>\n",
       "      <th>Population</th>\n",
       "      <th>NewCol</th>\n",
       "      <th>state</th>\n",
       "    </tr>\n",
       "  </thead>\n",
       "  <tbody>\n",
       "    <tr>\n",
       "      <td>0</td>\n",
       "      <td>1400000US21001970100</td>\n",
       "      <td>21001970100</td>\n",
       "      <td>Census Tract 9701, Adair County, Kentucky</td>\n",
       "      <td>1727.0</td>\n",
       "      <td>0</td>\n",
       "      <td>Kentucky</td>\n",
       "    </tr>\n",
       "    <tr>\n",
       "      <td>1</td>\n",
       "      <td>1400000US21001970200</td>\n",
       "      <td>21001970200</td>\n",
       "      <td>Census Tract 9702, Adair County, Kentucky</td>\n",
       "      <td>1722.0</td>\n",
       "      <td>0</td>\n",
       "      <td>Kentucky</td>\n",
       "    </tr>\n",
       "    <tr>\n",
       "      <td>2</td>\n",
       "      <td>1400000US21001970300</td>\n",
       "      <td>21001970300</td>\n",
       "      <td>Census Tract 9703, Adair County, Kentucky</td>\n",
       "      <td>3016.0</td>\n",
       "      <td>0</td>\n",
       "      <td>Kentucky</td>\n",
       "    </tr>\n",
       "    <tr>\n",
       "      <td>3</td>\n",
       "      <td>1400000US21001970401</td>\n",
       "      <td>21001970401</td>\n",
       "      <td>Census Tract 9704.01, Adair County, Kentucky</td>\n",
       "      <td>4070.0</td>\n",
       "      <td>0</td>\n",
       "      <td>Kentucky</td>\n",
       "    </tr>\n",
       "    <tr>\n",
       "      <td>4</td>\n",
       "      <td>1400000US21001970402</td>\n",
       "      <td>21001970402</td>\n",
       "      <td>Census Tract 9704.02, Adair County, Kentucky</td>\n",
       "      <td>4261.0</td>\n",
       "      <td>0</td>\n",
       "      <td>Kentucky</td>\n",
       "    </tr>\n",
       "  </tbody>\n",
       "</table>\n",
       "</div>"
      ],
      "text/plain": [
       "                     Id          Id2  \\\n",
       "0  1400000US21001970100  21001970100   \n",
       "1  1400000US21001970200  21001970200   \n",
       "2  1400000US21001970300  21001970300   \n",
       "3  1400000US21001970401  21001970401   \n",
       "4  1400000US21001970402  21001970402   \n",
       "\n",
       "                                      Geography  Population  NewCol      state  \n",
       "0     Census Tract 9701, Adair County, Kentucky      1727.0       0   Kentucky  \n",
       "1     Census Tract 9702, Adair County, Kentucky      1722.0       0   Kentucky  \n",
       "2     Census Tract 9703, Adair County, Kentucky      3016.0       0   Kentucky  \n",
       "3  Census Tract 9704.01, Adair County, Kentucky      4070.0       0   Kentucky  \n",
       "4  Census Tract 9704.02, Adair County, Kentucky      4261.0       0   Kentucky  "
      ]
     },
     "execution_count": 60,
     "metadata": {},
     "output_type": "execute_result"
    }
   ],
   "source": [
    "#add a column that takes the geography column, split by the commas: element 0 is census, element 1 is county, element 2 is state\n",
    "df['state'] = df['Geography'].str.split(',').str[2]   #take element 2 state and put it in the state column\n",
    "df[:5]"
   ]
  },
  {
   "cell_type": "code",
   "execution_count": 64,
   "metadata": {},
   "outputs": [
    {
     "data": {
      "text/html": [
       "<div>\n",
       "<style scoped>\n",
       "    .dataframe tbody tr th:only-of-type {\n",
       "        vertical-align: middle;\n",
       "    }\n",
       "\n",
       "    .dataframe tbody tr th {\n",
       "        vertical-align: top;\n",
       "    }\n",
       "\n",
       "    .dataframe thead th {\n",
       "        text-align: right;\n",
       "    }\n",
       "</style>\n",
       "<table border=\"1\" class=\"dataframe\">\n",
       "  <thead>\n",
       "    <tr style=\"text-align: right;\">\n",
       "      <th></th>\n",
       "      <th>Id</th>\n",
       "      <th>Id2</th>\n",
       "      <th>Geography</th>\n",
       "      <th>Population</th>\n",
       "      <th>NewCol</th>\n",
       "      <th>state</th>\n",
       "      <th>county</th>\n",
       "      <th>tract</th>\n",
       "    </tr>\n",
       "  </thead>\n",
       "  <tbody>\n",
       "    <tr>\n",
       "      <td>0</td>\n",
       "      <td>1400000US21001970100</td>\n",
       "      <td>21001970100</td>\n",
       "      <td>Census Tract 9701, Adair County, Kentucky</td>\n",
       "      <td>1727.0</td>\n",
       "      <td>0</td>\n",
       "      <td>Kentucky</td>\n",
       "      <td>Adair County</td>\n",
       "      <td>Census Tract 9701</td>\n",
       "    </tr>\n",
       "    <tr>\n",
       "      <td>1</td>\n",
       "      <td>1400000US21001970200</td>\n",
       "      <td>21001970200</td>\n",
       "      <td>Census Tract 9702, Adair County, Kentucky</td>\n",
       "      <td>1722.0</td>\n",
       "      <td>0</td>\n",
       "      <td>Kentucky</td>\n",
       "      <td>Adair County</td>\n",
       "      <td>Census Tract 9702</td>\n",
       "    </tr>\n",
       "    <tr>\n",
       "      <td>2</td>\n",
       "      <td>1400000US21001970300</td>\n",
       "      <td>21001970300</td>\n",
       "      <td>Census Tract 9703, Adair County, Kentucky</td>\n",
       "      <td>3016.0</td>\n",
       "      <td>0</td>\n",
       "      <td>Kentucky</td>\n",
       "      <td>Adair County</td>\n",
       "      <td>Census Tract 9703</td>\n",
       "    </tr>\n",
       "    <tr>\n",
       "      <td>3</td>\n",
       "      <td>1400000US21001970401</td>\n",
       "      <td>21001970401</td>\n",
       "      <td>Census Tract 9704.01, Adair County, Kentucky</td>\n",
       "      <td>4070.0</td>\n",
       "      <td>0</td>\n",
       "      <td>Kentucky</td>\n",
       "      <td>Adair County</td>\n",
       "      <td>Census Tract 9704.01</td>\n",
       "    </tr>\n",
       "    <tr>\n",
       "      <td>4</td>\n",
       "      <td>1400000US21001970402</td>\n",
       "      <td>21001970402</td>\n",
       "      <td>Census Tract 9704.02, Adair County, Kentucky</td>\n",
       "      <td>4261.0</td>\n",
       "      <td>0</td>\n",
       "      <td>Kentucky</td>\n",
       "      <td>Adair County</td>\n",
       "      <td>Census Tract 9704.02</td>\n",
       "    </tr>\n",
       "  </tbody>\n",
       "</table>\n",
       "</div>"
      ],
      "text/plain": [
       "                     Id          Id2  \\\n",
       "0  1400000US21001970100  21001970100   \n",
       "1  1400000US21001970200  21001970200   \n",
       "2  1400000US21001970300  21001970300   \n",
       "3  1400000US21001970401  21001970401   \n",
       "4  1400000US21001970402  21001970402   \n",
       "\n",
       "                                      Geography  Population  NewCol  \\\n",
       "0     Census Tract 9701, Adair County, Kentucky      1727.0       0   \n",
       "1     Census Tract 9702, Adair County, Kentucky      1722.0       0   \n",
       "2     Census Tract 9703, Adair County, Kentucky      3016.0       0   \n",
       "3  Census Tract 9704.01, Adair County, Kentucky      4070.0       0   \n",
       "4  Census Tract 9704.02, Adair County, Kentucky      4261.0       0   \n",
       "\n",
       "       state         county                 tract  \n",
       "0   Kentucky   Adair County     Census Tract 9701  \n",
       "1   Kentucky   Adair County     Census Tract 9702  \n",
       "2   Kentucky   Adair County     Census Tract 9703  \n",
       "3   Kentucky   Adair County  Census Tract 9704.01  \n",
       "4   Kentucky   Adair County  Census Tract 9704.02  "
      ]
     },
     "execution_count": 64,
     "metadata": {},
     "output_type": "execute_result"
    }
   ],
   "source": [
    "df['county'] = df['Geography'].str.split(',').str[1]   #similarly assigning a county\n",
    "df[:5]"
   ]
  },
  {
   "cell_type": "code",
   "execution_count": 65,
   "metadata": {},
   "outputs": [
    {
     "data": {
      "text/html": [
       "<div>\n",
       "<style scoped>\n",
       "    .dataframe tbody tr th:only-of-type {\n",
       "        vertical-align: middle;\n",
       "    }\n",
       "\n",
       "    .dataframe tbody tr th {\n",
       "        vertical-align: top;\n",
       "    }\n",
       "\n",
       "    .dataframe thead th {\n",
       "        text-align: right;\n",
       "    }\n",
       "</style>\n",
       "<table border=\"1\" class=\"dataframe\">\n",
       "  <thead>\n",
       "    <tr style=\"text-align: right;\">\n",
       "      <th></th>\n",
       "      <th>Id</th>\n",
       "      <th>Id2</th>\n",
       "      <th>Geography</th>\n",
       "      <th>Population</th>\n",
       "      <th>NewCol</th>\n",
       "      <th>state</th>\n",
       "      <th>county</th>\n",
       "      <th>tract</th>\n",
       "    </tr>\n",
       "  </thead>\n",
       "  <tbody>\n",
       "    <tr>\n",
       "      <td>0</td>\n",
       "      <td>1400000US21001970100</td>\n",
       "      <td>21001970100</td>\n",
       "      <td>Census Tract 9701, Adair County, Kentucky</td>\n",
       "      <td>1727.0</td>\n",
       "      <td>0</td>\n",
       "      <td>Kentucky</td>\n",
       "      <td>Adair County</td>\n",
       "      <td>Census Tract 9701</td>\n",
       "    </tr>\n",
       "    <tr>\n",
       "      <td>1</td>\n",
       "      <td>1400000US21001970200</td>\n",
       "      <td>21001970200</td>\n",
       "      <td>Census Tract 9702, Adair County, Kentucky</td>\n",
       "      <td>1722.0</td>\n",
       "      <td>0</td>\n",
       "      <td>Kentucky</td>\n",
       "      <td>Adair County</td>\n",
       "      <td>Census Tract 9702</td>\n",
       "    </tr>\n",
       "    <tr>\n",
       "      <td>2</td>\n",
       "      <td>1400000US21001970300</td>\n",
       "      <td>21001970300</td>\n",
       "      <td>Census Tract 9703, Adair County, Kentucky</td>\n",
       "      <td>3016.0</td>\n",
       "      <td>0</td>\n",
       "      <td>Kentucky</td>\n",
       "      <td>Adair County</td>\n",
       "      <td>Census Tract 9703</td>\n",
       "    </tr>\n",
       "    <tr>\n",
       "      <td>3</td>\n",
       "      <td>1400000US21001970401</td>\n",
       "      <td>21001970401</td>\n",
       "      <td>Census Tract 9704.01, Adair County, Kentucky</td>\n",
       "      <td>4070.0</td>\n",
       "      <td>0</td>\n",
       "      <td>Kentucky</td>\n",
       "      <td>Adair County</td>\n",
       "      <td>Census Tract 9704.01</td>\n",
       "    </tr>\n",
       "    <tr>\n",
       "      <td>4</td>\n",
       "      <td>1400000US21001970402</td>\n",
       "      <td>21001970402</td>\n",
       "      <td>Census Tract 9704.02, Adair County, Kentucky</td>\n",
       "      <td>4261.0</td>\n",
       "      <td>0</td>\n",
       "      <td>Kentucky</td>\n",
       "      <td>Adair County</td>\n",
       "      <td>Census Tract 9704.02</td>\n",
       "    </tr>\n",
       "  </tbody>\n",
       "</table>\n",
       "</div>"
      ],
      "text/plain": [
       "                     Id          Id2  \\\n",
       "0  1400000US21001970100  21001970100   \n",
       "1  1400000US21001970200  21001970200   \n",
       "2  1400000US21001970300  21001970300   \n",
       "3  1400000US21001970401  21001970401   \n",
       "4  1400000US21001970402  21001970402   \n",
       "\n",
       "                                      Geography  Population  NewCol  \\\n",
       "0     Census Tract 9701, Adair County, Kentucky      1727.0       0   \n",
       "1     Census Tract 9702, Adair County, Kentucky      1722.0       0   \n",
       "2     Census Tract 9703, Adair County, Kentucky      3016.0       0   \n",
       "3  Census Tract 9704.01, Adair County, Kentucky      4070.0       0   \n",
       "4  Census Tract 9704.02, Adair County, Kentucky      4261.0       0   \n",
       "\n",
       "       state         county                 tract  \n",
       "0   Kentucky   Adair County     Census Tract 9701  \n",
       "1   Kentucky   Adair County     Census Tract 9702  \n",
       "2   Kentucky   Adair County     Census Tract 9703  \n",
       "3   Kentucky   Adair County  Census Tract 9704.01  \n",
       "4   Kentucky   Adair County  Census Tract 9704.02  "
      ]
     },
     "execution_count": 65,
     "metadata": {},
     "output_type": "execute_result"
    }
   ],
   "source": [
    "df['tract'] = df['Geography'].str.split(',').str[0]   #similarly assigning a tract column\n",
    "df[:5]"
   ]
  },
  {
   "cell_type": "code",
   "execution_count": 66,
   "metadata": {},
   "outputs": [
    {
     "data": {
      "text/plain": [
       "array([' Adair County', ' Allen County', ' Anderson County',\n",
       "       ' Ballard County', ' Barren County', ' Bath County',\n",
       "       ' Bell County', ' Boone County', ' Bourbon County', ' Boyd County',\n",
       "       ' Boyle County', ' Bracken County', ' Breathitt County',\n",
       "       ' Breckinridge County', ' Bullitt County', ' Butler County',\n",
       "       ' Caldwell County', ' Calloway County', ' Campbell County',\n",
       "       ' Carlisle County', ' Carroll County', ' Carter County',\n",
       "       ' Casey County', ' Christian County', ' Clark County',\n",
       "       ' Clay County', ' Clinton County', ' Crittenden County',\n",
       "       ' Cumberland County', ' Daviess County', ' Edmonson County',\n",
       "       ' Elliott County', ' Estill County', ' Fayette County',\n",
       "       ' Fleming County', ' Floyd County', ' Franklin County',\n",
       "       ' Fulton County', ' Gallatin County', ' Garrard County',\n",
       "       ' Grant County', ' Graves County', ' Grayson County',\n",
       "       ' Green County', ' Greenup County', ' Hancock County',\n",
       "       ' Hardin County', ' Harlan County', ' Harrison County',\n",
       "       ' Hart County', ' Henderson County', ' Henry County',\n",
       "       ' Hickman County', ' Hopkins County', ' Jackson County',\n",
       "       ' Jefferson County', ' Jessamine County', ' Johnson County',\n",
       "       ' Kenton County', ' Knott County', ' Knox County', ' Larue County',\n",
       "       ' Laurel County', ' Lawrence County', ' Lee County',\n",
       "       ' Leslie County', ' Letcher County', ' Lewis County',\n",
       "       ' Lincoln County', ' Livingston County', ' Logan County',\n",
       "       ' Lyon County', ' McCracken County', ' McCreary County',\n",
       "       ' McLean County', ' Madison County', ' Magoffin County',\n",
       "       ' Marion County', ' Marshall County', ' Martin County',\n",
       "       ' Mason County', ' Meade County', ' Menifee County',\n",
       "       ' Mercer County', ' Metcalfe County', ' Monroe County',\n",
       "       ' Montgomery County', ' Morgan County', ' Muhlenberg County',\n",
       "       ' Nelson County', ' Nicholas County', ' Ohio County',\n",
       "       ' Oldham County', ' Owen County', ' Owsley County',\n",
       "       ' Pendleton County', ' Perry County', ' Pike County',\n",
       "       ' Powell County', ' Pulaski County', ' Robertson County',\n",
       "       ' Rockcastle County', ' Rowan County', ' Russell County',\n",
       "       ' Scott County', ' Shelby County', ' Simpson County',\n",
       "       ' Spencer County', ' Taylor County', ' Todd County',\n",
       "       ' Trigg County', ' Trimble County', ' Union County',\n",
       "       ' Warren County', ' Washington County', ' Wayne County',\n",
       "       ' Webster County', ' Whitley County', ' Wolfe County',\n",
       "       ' Woodford County'], dtype=object)"
      ]
     },
     "execution_count": 66,
     "metadata": {},
     "output_type": "execute_result"
    }
   ],
   "source": [
    "df['county'].unique()   #list the items in the county column"
   ]
  },
  {
   "cell_type": "markdown",
   "metadata": {},
   "source": [
    "And count how many times each unique value is in the data"
   ]
  },
  {
   "cell_type": "code",
   "execution_count": 67,
   "metadata": {},
   "outputs": [
    {
     "data": {
      "text/plain": [
       " Jefferson County     191\n",
       " Fayette County        82\n",
       " Kenton County         41\n",
       " Campbell County       25\n",
       " Warren County         24\n",
       "                     ... \n",
       " Trimble County         2\n",
       " Wolfe County           2\n",
       " Cumberland County      2\n",
       " Hickman County         1\n",
       " Robertson County       1\n",
       "Name: county, Length: 120, dtype: int64"
      ]
     },
     "execution_count": 67,
     "metadata": {},
     "output_type": "execute_result"
    }
   ],
   "source": [
    "df['county'].value_counts()  #count the value of each item in the unique column in descending order"
   ]
  },
  {
   "cell_type": "code",
   "execution_count": 68,
   "metadata": {},
   "outputs": [
    {
     "data": {
      "text/plain": [
       "Index(['Id', 'Id2', 'Geography', 'Population', 'NewCol', 'state', 'county',\n",
       "       'tract'],\n",
       "      dtype='object')"
      ]
     },
     "execution_count": 68,
     "metadata": {},
     "output_type": "execute_result"
    }
   ],
   "source": [
    "df.columns"
   ]
  },
  {
   "cell_type": "code",
   "execution_count": 69,
   "metadata": {},
   "outputs": [
    {
     "data": {
      "text/html": [
       "<div>\n",
       "<style scoped>\n",
       "    .dataframe tbody tr th:only-of-type {\n",
       "        vertical-align: middle;\n",
       "    }\n",
       "\n",
       "    .dataframe tbody tr th {\n",
       "        vertical-align: top;\n",
       "    }\n",
       "\n",
       "    .dataframe thead th {\n",
       "        text-align: right;\n",
       "    }\n",
       "</style>\n",
       "<table border=\"1\" class=\"dataframe\">\n",
       "  <thead>\n",
       "    <tr style=\"text-align: right;\">\n",
       "      <th></th>\n",
       "      <th>Id</th>\n",
       "      <th>Id2</th>\n",
       "      <th>tract</th>\n",
       "      <th>county</th>\n",
       "    </tr>\n",
       "  </thead>\n",
       "  <tbody>\n",
       "    <tr>\n",
       "      <td>0</td>\n",
       "      <td>1400000US21001970100</td>\n",
       "      <td>21001970100</td>\n",
       "      <td>Census Tract 9701</td>\n",
       "      <td>Adair County</td>\n",
       "    </tr>\n",
       "    <tr>\n",
       "      <td>1</td>\n",
       "      <td>1400000US21001970200</td>\n",
       "      <td>21001970200</td>\n",
       "      <td>Census Tract 9702</td>\n",
       "      <td>Adair County</td>\n",
       "    </tr>\n",
       "    <tr>\n",
       "      <td>2</td>\n",
       "      <td>1400000US21001970300</td>\n",
       "      <td>21001970300</td>\n",
       "      <td>Census Tract 9703</td>\n",
       "      <td>Adair County</td>\n",
       "    </tr>\n",
       "    <tr>\n",
       "      <td>3</td>\n",
       "      <td>1400000US21001970401</td>\n",
       "      <td>21001970401</td>\n",
       "      <td>Census Tract 9704.01</td>\n",
       "      <td>Adair County</td>\n",
       "    </tr>\n",
       "    <tr>\n",
       "      <td>4</td>\n",
       "      <td>1400000US21001970402</td>\n",
       "      <td>21001970402</td>\n",
       "      <td>Census Tract 9704.02</td>\n",
       "      <td>Adair County</td>\n",
       "    </tr>\n",
       "    <tr>\n",
       "      <td>...</td>\n",
       "      <td>...</td>\n",
       "      <td>...</td>\n",
       "      <td>...</td>\n",
       "      <td>...</td>\n",
       "    </tr>\n",
       "    <tr>\n",
       "      <td>1110</td>\n",
       "      <td>1400000US21239050106</td>\n",
       "      <td>21239050106</td>\n",
       "      <td>Census Tract 501.06</td>\n",
       "      <td>Woodford County</td>\n",
       "    </tr>\n",
       "    <tr>\n",
       "      <td>1111</td>\n",
       "      <td>1400000US21239050107</td>\n",
       "      <td>21239050107</td>\n",
       "      <td>Census Tract 501.07</td>\n",
       "      <td>Woodford County</td>\n",
       "    </tr>\n",
       "    <tr>\n",
       "      <td>1112</td>\n",
       "      <td>1400000US21239050200</td>\n",
       "      <td>21239050200</td>\n",
       "      <td>Census Tract 502</td>\n",
       "      <td>Woodford County</td>\n",
       "    </tr>\n",
       "    <tr>\n",
       "      <td>1113</td>\n",
       "      <td>1400000US21239050300</td>\n",
       "      <td>21239050300</td>\n",
       "      <td>Census Tract 503</td>\n",
       "      <td>Woodford County</td>\n",
       "    </tr>\n",
       "    <tr>\n",
       "      <td>1114</td>\n",
       "      <td>1400000US21239050400</td>\n",
       "      <td>21239050400</td>\n",
       "      <td>Census Tract 504</td>\n",
       "      <td>Woodford County</td>\n",
       "    </tr>\n",
       "  </tbody>\n",
       "</table>\n",
       "<p>1115 rows × 4 columns</p>\n",
       "</div>"
      ],
      "text/plain": [
       "                        Id          Id2                 tract  \\\n",
       "0     1400000US21001970100  21001970100     Census Tract 9701   \n",
       "1     1400000US21001970200  21001970200     Census Tract 9702   \n",
       "2     1400000US21001970300  21001970300     Census Tract 9703   \n",
       "3     1400000US21001970401  21001970401  Census Tract 9704.01   \n",
       "4     1400000US21001970402  21001970402  Census Tract 9704.02   \n",
       "...                    ...          ...                   ...   \n",
       "1110  1400000US21239050106  21239050106   Census Tract 501.06   \n",
       "1111  1400000US21239050107  21239050107   Census Tract 501.07   \n",
       "1112  1400000US21239050200  21239050200      Census Tract 502   \n",
       "1113  1400000US21239050300  21239050300      Census Tract 503   \n",
       "1114  1400000US21239050400  21239050400      Census Tract 504   \n",
       "\n",
       "                county  \n",
       "0         Adair County  \n",
       "1         Adair County  \n",
       "2         Adair County  \n",
       "3         Adair County  \n",
       "4         Adair County  \n",
       "...                ...  \n",
       "1110   Woodford County  \n",
       "1111   Woodford County  \n",
       "1112   Woodford County  \n",
       "1113   Woodford County  \n",
       "1114   Woodford County  \n",
       "\n",
       "[1115 rows x 4 columns]"
      ]
     },
     "execution_count": 69,
     "metadata": {},
     "output_type": "execute_result"
    }
   ],
   "source": [
    "col_order=['Id','Id2','tract','county']\n",
    "df[col_order]"
   ]
  },
  {
   "cell_type": "code",
   "execution_count": 79,
   "metadata": {},
   "outputs": [],
   "source": [
    "new_cols=df.columns.insert(3,'NewCol2')"
   ]
  },
  {
   "cell_type": "code",
   "execution_count": 81,
   "metadata": {},
   "outputs": [
    {
     "data": {
      "text/html": [
       "<div>\n",
       "<style scoped>\n",
       "    .dataframe tbody tr th:only-of-type {\n",
       "        vertical-align: middle;\n",
       "    }\n",
       "\n",
       "    .dataframe tbody tr th {\n",
       "        vertical-align: top;\n",
       "    }\n",
       "\n",
       "    .dataframe thead th {\n",
       "        text-align: right;\n",
       "    }\n",
       "</style>\n",
       "<table border=\"1\" class=\"dataframe\">\n",
       "  <thead>\n",
       "    <tr style=\"text-align: right;\">\n",
       "      <th></th>\n",
       "      <th>Id</th>\n",
       "      <th>Id2</th>\n",
       "      <th>Geography</th>\n",
       "      <th>Population</th>\n",
       "      <th>NewCol</th>\n",
       "      <th>state</th>\n",
       "      <th>county</th>\n",
       "      <th>tract</th>\n",
       "      <th>NewCol2</th>\n",
       "    </tr>\n",
       "  </thead>\n",
       "  <tbody>\n",
       "    <tr>\n",
       "      <td>0</td>\n",
       "      <td>1400000US21001970100</td>\n",
       "      <td>21001970100</td>\n",
       "      <td>Census Tract 9701, Adair County, Kentucky</td>\n",
       "      <td>1727.0</td>\n",
       "      <td>0</td>\n",
       "      <td>Kentucky</td>\n",
       "      <td>Adair County</td>\n",
       "      <td>Census Tract 9701</td>\n",
       "      <td>0</td>\n",
       "    </tr>\n",
       "    <tr>\n",
       "      <td>1</td>\n",
       "      <td>1400000US21001970200</td>\n",
       "      <td>21001970200</td>\n",
       "      <td>Census Tract 9702, Adair County, Kentucky</td>\n",
       "      <td>1722.0</td>\n",
       "      <td>0</td>\n",
       "      <td>Kentucky</td>\n",
       "      <td>Adair County</td>\n",
       "      <td>Census Tract 9702</td>\n",
       "      <td>0</td>\n",
       "    </tr>\n",
       "    <tr>\n",
       "      <td>2</td>\n",
       "      <td>1400000US21001970300</td>\n",
       "      <td>21001970300</td>\n",
       "      <td>Census Tract 9703, Adair County, Kentucky</td>\n",
       "      <td>3016.0</td>\n",
       "      <td>0</td>\n",
       "      <td>Kentucky</td>\n",
       "      <td>Adair County</td>\n",
       "      <td>Census Tract 9703</td>\n",
       "      <td>0</td>\n",
       "    </tr>\n",
       "    <tr>\n",
       "      <td>3</td>\n",
       "      <td>1400000US21001970401</td>\n",
       "      <td>21001970401</td>\n",
       "      <td>Census Tract 9704.01, Adair County, Kentucky</td>\n",
       "      <td>4070.0</td>\n",
       "      <td>0</td>\n",
       "      <td>Kentucky</td>\n",
       "      <td>Adair County</td>\n",
       "      <td>Census Tract 9704.01</td>\n",
       "      <td>0</td>\n",
       "    </tr>\n",
       "    <tr>\n",
       "      <td>4</td>\n",
       "      <td>1400000US21001970402</td>\n",
       "      <td>21001970402</td>\n",
       "      <td>Census Tract 9704.02, Adair County, Kentucky</td>\n",
       "      <td>4261.0</td>\n",
       "      <td>0</td>\n",
       "      <td>Kentucky</td>\n",
       "      <td>Adair County</td>\n",
       "      <td>Census Tract 9704.02</td>\n",
       "      <td>0</td>\n",
       "    </tr>\n",
       "    <tr>\n",
       "      <td>...</td>\n",
       "      <td>...</td>\n",
       "      <td>...</td>\n",
       "      <td>...</td>\n",
       "      <td>...</td>\n",
       "      <td>...</td>\n",
       "      <td>...</td>\n",
       "      <td>...</td>\n",
       "      <td>...</td>\n",
       "      <td>...</td>\n",
       "    </tr>\n",
       "    <tr>\n",
       "      <td>1110</td>\n",
       "      <td>1400000US21239050106</td>\n",
       "      <td>21239050106</td>\n",
       "      <td>Census Tract 501.06, Woodford County, Kentucky</td>\n",
       "      <td>3261.0</td>\n",
       "      <td>0</td>\n",
       "      <td>Kentucky</td>\n",
       "      <td>Woodford County</td>\n",
       "      <td>Census Tract 501.06</td>\n",
       "      <td>0</td>\n",
       "    </tr>\n",
       "    <tr>\n",
       "      <td>1111</td>\n",
       "      <td>1400000US21239050107</td>\n",
       "      <td>21239050107</td>\n",
       "      <td>Census Tract 501.07, Woodford County, Kentucky</td>\n",
       "      <td>3757.0</td>\n",
       "      <td>0</td>\n",
       "      <td>Kentucky</td>\n",
       "      <td>Woodford County</td>\n",
       "      <td>Census Tract 501.07</td>\n",
       "      <td>0</td>\n",
       "    </tr>\n",
       "    <tr>\n",
       "      <td>1112</td>\n",
       "      <td>1400000US21239050200</td>\n",
       "      <td>21239050200</td>\n",
       "      <td>Census Tract 502, Woodford County, Kentucky</td>\n",
       "      <td>3533.0</td>\n",
       "      <td>0</td>\n",
       "      <td>Kentucky</td>\n",
       "      <td>Woodford County</td>\n",
       "      <td>Census Tract 502</td>\n",
       "      <td>0</td>\n",
       "    </tr>\n",
       "    <tr>\n",
       "      <td>1113</td>\n",
       "      <td>1400000US21239050300</td>\n",
       "      <td>21239050300</td>\n",
       "      <td>Census Tract 503, Woodford County, Kentucky</td>\n",
       "      <td>1899.0</td>\n",
       "      <td>0</td>\n",
       "      <td>Kentucky</td>\n",
       "      <td>Woodford County</td>\n",
       "      <td>Census Tract 503</td>\n",
       "      <td>0</td>\n",
       "    </tr>\n",
       "    <tr>\n",
       "      <td>1114</td>\n",
       "      <td>1400000US21239050400</td>\n",
       "      <td>21239050400</td>\n",
       "      <td>Census Tract 504, Woodford County, Kentucky</td>\n",
       "      <td>2279.0</td>\n",
       "      <td>0</td>\n",
       "      <td>Kentucky</td>\n",
       "      <td>Woodford County</td>\n",
       "      <td>Census Tract 504</td>\n",
       "      <td>0</td>\n",
       "    </tr>\n",
       "  </tbody>\n",
       "</table>\n",
       "<p>1115 rows × 9 columns</p>\n",
       "</div>"
      ],
      "text/plain": [
       "                        Id          Id2  \\\n",
       "0     1400000US21001970100  21001970100   \n",
       "1     1400000US21001970200  21001970200   \n",
       "2     1400000US21001970300  21001970300   \n",
       "3     1400000US21001970401  21001970401   \n",
       "4     1400000US21001970402  21001970402   \n",
       "...                    ...          ...   \n",
       "1110  1400000US21239050106  21239050106   \n",
       "1111  1400000US21239050107  21239050107   \n",
       "1112  1400000US21239050200  21239050200   \n",
       "1113  1400000US21239050300  21239050300   \n",
       "1114  1400000US21239050400  21239050400   \n",
       "\n",
       "                                           Geography  Population  NewCol  \\\n",
       "0          Census Tract 9701, Adair County, Kentucky      1727.0       0   \n",
       "1          Census Tract 9702, Adair County, Kentucky      1722.0       0   \n",
       "2          Census Tract 9703, Adair County, Kentucky      3016.0       0   \n",
       "3       Census Tract 9704.01, Adair County, Kentucky      4070.0       0   \n",
       "4       Census Tract 9704.02, Adair County, Kentucky      4261.0       0   \n",
       "...                                              ...         ...     ...   \n",
       "1110  Census Tract 501.06, Woodford County, Kentucky      3261.0       0   \n",
       "1111  Census Tract 501.07, Woodford County, Kentucky      3757.0       0   \n",
       "1112     Census Tract 502, Woodford County, Kentucky      3533.0       0   \n",
       "1113     Census Tract 503, Woodford County, Kentucky      1899.0       0   \n",
       "1114     Census Tract 504, Woodford County, Kentucky      2279.0       0   \n",
       "\n",
       "          state            county                 tract  NewCol2  \n",
       "0      Kentucky      Adair County     Census Tract 9701        0  \n",
       "1      Kentucky      Adair County     Census Tract 9702        0  \n",
       "2      Kentucky      Adair County     Census Tract 9703        0  \n",
       "3      Kentucky      Adair County  Census Tract 9704.01        0  \n",
       "4      Kentucky      Adair County  Census Tract 9704.02        0  \n",
       "...         ...               ...                   ...      ...  \n",
       "1110   Kentucky   Woodford County   Census Tract 501.06        0  \n",
       "1111   Kentucky   Woodford County   Census Tract 501.07        0  \n",
       "1112   Kentucky   Woodford County      Census Tract 502        0  \n",
       "1113   Kentucky   Woodford County      Census Tract 503        0  \n",
       "1114   Kentucky   Woodford County      Census Tract 504        0  \n",
       "\n",
       "[1115 rows x 9 columns]"
      ]
     },
     "execution_count": 81,
     "metadata": {},
     "output_type": "execute_result"
    }
   ],
   "source": [
    "df[\"NewCol2\"]=0  #check with this\n",
    "df"
   ]
  },
  {
   "cell_type": "markdown",
   "metadata": {},
   "source": [
    "### More complex use of Indexing and String Manipulation -- Cleaning the Bedroom Field in the Craigslist data"
   ]
  },
  {
   "cell_type": "code",
   "execution_count": 82,
   "metadata": {},
   "outputs": [
    {
     "data": {
      "text/html": [
       "<div>\n",
       "<style scoped>\n",
       "    .dataframe tbody tr th:only-of-type {\n",
       "        vertical-align: middle;\n",
       "    }\n",
       "\n",
       "    .dataframe tbody tr th {\n",
       "        vertical-align: top;\n",
       "    }\n",
       "\n",
       "    .dataframe thead th {\n",
       "        text-align: right;\n",
       "    }\n",
       "</style>\n",
       "<table border=\"1\" class=\"dataframe\">\n",
       "  <thead>\n",
       "    <tr style=\"text-align: right;\">\n",
       "      <th></th>\n",
       "      <th>neighborhood</th>\n",
       "      <th>title</th>\n",
       "      <th>price</th>\n",
       "      <th>bedrooms</th>\n",
       "      <th>pid</th>\n",
       "      <th>longitude</th>\n",
       "      <th>date</th>\n",
       "      <th>link</th>\n",
       "      <th>latitude</th>\n",
       "      <th>sqft</th>\n",
       "      <th>sourcepage</th>\n",
       "    </tr>\n",
       "  </thead>\n",
       "  <tbody>\n",
       "    <tr>\n",
       "      <td>0</td>\n",
       "      <td>(SOMA / south beach)</td>\n",
       "      <td>1bed + Den, 1bath at Mission Bay</td>\n",
       "      <td>$2895</td>\n",
       "      <td>/ 1br - 950ft² -</td>\n",
       "      <td>4046628359</td>\n",
       "      <td>-122.399663</td>\n",
       "      <td>Sep  4 2013</td>\n",
       "      <td>/sfc/apa/4046628359.html</td>\n",
       "      <td>37.774623</td>\n",
       "      <td>/ 1br - 950ft² -</td>\n",
       "      <td>http://sfbay.craigslist.org/sfc/apa/</td>\n",
       "    </tr>\n",
       "    <tr>\n",
       "      <td>1</td>\n",
       "      <td>(SOMA / south beach)</td>\n",
       "      <td>Love where you live!</td>\n",
       "      <td>$3354</td>\n",
       "      <td>/ 1br - 710ft² -</td>\n",
       "      <td>4046761563</td>\n",
       "      <td>NaN</td>\n",
       "      <td>Sep  4 2013</td>\n",
       "      <td>/sfc/apa/4046761563.html</td>\n",
       "      <td>NaN</td>\n",
       "      <td>/ 1br - 710ft² -</td>\n",
       "      <td>http://sfbay.craigslist.org/sfc/apa/</td>\n",
       "    </tr>\n",
       "    <tr>\n",
       "      <td>2</td>\n",
       "      <td>(inner sunset / UCSF)</td>\n",
       "      <td>We Welcome Your Furry Friends! Call Today!</td>\n",
       "      <td>$2865</td>\n",
       "      <td>/ 1br - 644ft² -</td>\n",
       "      <td>4046661504</td>\n",
       "      <td>-122.470727</td>\n",
       "      <td>Sep  4 2013</td>\n",
       "      <td>/sfc/apa/4046661504.html</td>\n",
       "      <td>37.765739</td>\n",
       "      <td>/ 1br - 644ft² -</td>\n",
       "      <td>http://sfbay.craigslist.org/sfc/apa/</td>\n",
       "    </tr>\n",
       "    <tr>\n",
       "      <td>3</td>\n",
       "      <td>(financial district)</td>\n",
       "      <td>Golden Gateway Commons | 2BR + office townhous...</td>\n",
       "      <td>$5500</td>\n",
       "      <td>/ 2br - 1450ft² -</td>\n",
       "      <td>4036170429</td>\n",
       "      <td>NaN</td>\n",
       "      <td>Sep  4 2013</td>\n",
       "      <td>/sfc/apa/4036170429.html</td>\n",
       "      <td>NaN</td>\n",
       "      <td>/ 2br - 1450ft² -</td>\n",
       "      <td>http://sfbay.craigslist.org/sfc/apa/</td>\n",
       "    </tr>\n",
       "    <tr>\n",
       "      <td>4</td>\n",
       "      <td>(lower nob hill)</td>\n",
       "      <td>Experience Luxury Living in San Fransisco!</td>\n",
       "      <td>$3892</td>\n",
       "      <td>/ 2br -</td>\n",
       "      <td>4046732678</td>\n",
       "      <td>NaN</td>\n",
       "      <td>Sep  4 2013</td>\n",
       "      <td>/sfc/apa/4046732678.html</td>\n",
       "      <td>NaN</td>\n",
       "      <td>/ 2br -</td>\n",
       "      <td>http://sfbay.craigslist.org/sfc/apa/</td>\n",
       "    </tr>\n",
       "  </tbody>\n",
       "</table>\n",
       "</div>"
      ],
      "text/plain": [
       "             neighborhood                                              title  \\\n",
       "0    (SOMA / south beach)                   1bed + Den, 1bath at Mission Bay   \n",
       "1    (SOMA / south beach)                               Love where you live!   \n",
       "2   (inner sunset / UCSF)         We Welcome Your Furry Friends! Call Today!   \n",
       "3    (financial district)  Golden Gateway Commons | 2BR + office townhous...   \n",
       "4        (lower nob hill)         Experience Luxury Living in San Fransisco!   \n",
       "\n",
       "   price                  bedrooms         pid   longitude         date  \\\n",
       "0  $2895      / 1br - 950ft² -      4046628359 -122.399663  Sep  4 2013   \n",
       "1  $3354      / 1br - 710ft² -      4046761563         NaN  Sep  4 2013   \n",
       "2  $2865      / 1br - 644ft² -      4046661504 -122.470727  Sep  4 2013   \n",
       "3  $5500     / 2br - 1450ft² -      4036170429         NaN  Sep  4 2013   \n",
       "4  $3892               / 2br -      4046732678         NaN  Sep  4 2013   \n",
       "\n",
       "                       link   latitude                      sqft  \\\n",
       "0  /sfc/apa/4046628359.html  37.774623      / 1br - 950ft² -       \n",
       "1  /sfc/apa/4046761563.html        NaN      / 1br - 710ft² -       \n",
       "2  /sfc/apa/4046661504.html  37.765739      / 1br - 644ft² -       \n",
       "3  /sfc/apa/4036170429.html        NaN     / 2br - 1450ft² -       \n",
       "4  /sfc/apa/4046732678.html        NaN               / 2br -       \n",
       "\n",
       "                             sourcepage  \n",
       "0  http://sfbay.craigslist.org/sfc/apa/  \n",
       "1  http://sfbay.craigslist.org/sfc/apa/  \n",
       "2  http://sfbay.craigslist.org/sfc/apa/  \n",
       "3  http://sfbay.craigslist.org/sfc/apa/  \n",
       "4  http://sfbay.craigslist.org/sfc/apa/  "
      ]
     },
     "execution_count": 82,
     "metadata": {},
     "output_type": "execute_result"
    }
   ],
   "source": [
    "import pandas as pd, numpy as np\n",
    "cl = pd.read_csv('items.csv')\n",
    "cl.head()"
   ]
  },
  {
   "cell_type": "markdown",
   "metadata": {},
   "source": [
    "This is a worked part of your assignment for this week.  Here is a code snippet that uses some of what we just learned above, and extends it to clean the bedroom field in this data.  Adapting it to clean sqft remains for you to do in the assignment...\n",
    "\n",
    "Below are two different ways to do this.  The first involves looping over the index of the dataframe, and finding the beginning and end of the substring we are looking for, to isolate the bedrooms value."
   ]
  },
  {
   "cell_type": "code",
   "execution_count": 98,
   "metadata": {},
   "outputs": [
    {
     "data": {
      "text/plain": [
       "3"
      ]
     },
     "execution_count": 98,
     "metadata": {},
     "output_type": "execute_result"
    }
   ],
   "source": [
    "'/ lbr - 950 ft² -'.find('br')"
   ]
  },
  {
   "cell_type": "code",
   "execution_count": 100,
   "metadata": {},
   "outputs": [
    {
     "ename": "TypeError",
     "evalue": "string indices must be integers",
     "output_type": "error",
     "traceback": [
      "\u001b[1;31m---------------------------------------------------------------------------\u001b[0m",
      "\u001b[1;31mTypeError\u001b[0m                                 Traceback (most recent call last)",
      "\u001b[1;32m<ipython-input-100-438d29fd3c65>\u001b[0m in \u001b[0;36m<module>\u001b[1;34m\u001b[0m\n\u001b[1;32m----> 1\u001b[1;33m \u001b[0mint\u001b[0m\u001b[1;33m(\u001b[0m\u001b[1;34m'/ lbr - 950 ft² -'\u001b[0m\u001b[1;33m[\u001b[0m\u001b[1;36m1\u001b[0m\u001b[1;33m,\u001b[0m\u001b[1;36m3\u001b[0m\u001b[1;33m]\u001b[0m\u001b[1;33m)\u001b[0m\u001b[1;33m\u001b[0m\u001b[1;33m\u001b[0m\u001b[0m\n\u001b[0m",
      "\u001b[1;31mTypeError\u001b[0m: string indices must be integers"
     ]
    }
   ],
   "source": [
    "int('/ lbr - 950 ft² -'[1,3])"
   ]
  },
  {
   "cell_type": "code",
   "execution_count": 87,
   "metadata": {},
   "outputs": [
    {
     "data": {
      "text/plain": [
       "0      1\n",
       "1      1\n",
       "2      1\n",
       "3      2\n",
       "4      2\n",
       "5      1\n",
       "6    NaN\n",
       "7      1\n",
       "8      2\n",
       "Name: bedrooms, dtype: object"
      ]
     },
     "execution_count": 87,
     "metadata": {},
     "output_type": "execute_result"
    }
   ],
   "source": [
    "for label in cl['bedrooms'].index:\n",
    "    if isinstance(cl['bedrooms'][label], str) and not pd.isnull(cl['bedrooms'][label]): #if string & if not null\n",
    "        end = cl['bedrooms'][label].find('br')  #if condititon is met: look at the end of this string and find br\n",
    "        if end == -1:\n",
    "            cl.loc[label,'bedrooms'] = np.nan\n",
    "        else:\n",
    "            start = cl['bedrooms'][label].find('/ ') + 2 #find forward slash\n",
    "            cl.loc[label,'bedrooms'] = int(cl['bedrooms'][label][start: end])\n",
    "cl['bedrooms'][:9]"
   ]
  },
  {
   "cell_type": "markdown",
   "metadata": {},
   "source": [
    "Here is a second way to do this that is much more elegant, and in some ways much simpler since it does not require looping over the index values.  It uses the apply() method to apply an element-wise function.  This is covered briefly on page 133 of Pandas for Data Analysis, and more exensively in online documentation."
   ]
  },
  {
   "cell_type": "code",
   "execution_count": 102,
   "metadata": {},
   "outputs": [],
   "source": [
    "# first we create a method that works on a single instance\n",
    "def clean_br(value):\n",
    "    ''' value - string from Craigslist entry that includes number of bedrooms\n",
    "        returns - integer number of bedrooms\n",
    "    '''\n",
    "    if isinstance(value, str):\n",
    "        end = value.find('br')\n",
    "        if end == -1:    #if we look up string find in python, if substring doenst exist then return -1, indicating it cant find\n",
    "            return None\n",
    "        else:\n",
    "            start = value.find('/') + 2\n",
    "            return int(value[start:end])\n",
    "        "
   ]
  },
  {
   "cell_type": "code",
   "execution_count": 103,
   "metadata": {},
   "outputs": [
    {
     "data": {
      "text/plain": [
       "1"
      ]
     },
     "execution_count": 103,
     "metadata": {},
     "output_type": "execute_result"
    }
   ],
   "source": [
    "# for example, we can apply it to a single string\n",
    "clean_br('/ 1br - 950ft² -')"
   ]
  },
  {
   "cell_type": "code",
   "execution_count": 104,
   "metadata": {},
   "outputs": [
    {
     "data": {
      "text/plain": [
       "2"
      ]
     },
     "execution_count": 104,
     "metadata": {},
     "output_type": "execute_result"
    }
   ],
   "source": [
    "# and another\n",
    "clean_br('/ 2br - 1450ft² -')"
   ]
  },
  {
   "cell_type": "code",
   "execution_count": 158,
   "metadata": {},
   "outputs": [
    {
     "name": "stdout",
     "output_type": "stream",
     "text": [
      "0\n",
      "   / 1br - 950ft² -    \n",
      "1\n",
      "   / 1br - 710ft² -    \n",
      "2\n",
      "   / 1br - 644ft² -    \n",
      "3\n",
      "   / 2br - 1450ft² -    \n",
      "4\n",
      "   / 2br -    \n"
     ]
    }
   ],
   "source": [
    "# really what we want to do is to apply it to all rows in a dataframe\n",
    "# we can do this with a loop, similar to what we have above\n",
    "cl = pd.read_csv('items.csv') #read excel file into cl\n",
    "\n",
    "for i, row in cl[:5].iterrows(): \n",
    "    #row['bedrooms'] = clean_br(row['bedrooms'])\n",
    "    print (i)\n",
    "    print (row[\"bedrooms\"])"
   ]
  },
  {
   "cell_type": "code",
   "execution_count": 159,
   "metadata": {},
   "outputs": [],
   "source": [
    "# really what we want to do is to apply it to all rows in a dataframe\n",
    "# we can do this with a loop, similar to what we have above\n",
    "cl = pd.read_csv('items.csv') #read excel file into cl\n",
    "\n",
    "for i, row in cl.iterrows(): \n",
    "   cl.loc[i,'bedrooms'] = clean_br(row['bedrooms'])\n",
    "    "
   ]
  },
  {
   "cell_type": "code",
   "execution_count": 160,
   "metadata": {},
   "outputs": [
    {
     "data": {
      "text/plain": [
       "0       1\n",
       "1       1\n",
       "2       1\n",
       "3       2\n",
       "4       2\n",
       "5       1\n",
       "6    None\n",
       "7       1\n",
       "8       2\n",
       "Name: bedrooms, dtype: object"
      ]
     },
     "execution_count": 160,
     "metadata": {},
     "output_type": "execute_result"
    }
   ],
   "source": [
    "# Let's look at the result.  We see that it doesn't change.  What went wrong?\n",
    "# let's go back and fix it together\n",
    "cl['bedrooms'][:9]"
   ]
  },
  {
   "cell_type": "code",
   "execution_count": 161,
   "metadata": {},
   "outputs": [
    {
     "data": {
      "text/plain": [
       "0    1.0\n",
       "1    1.0\n",
       "2    1.0\n",
       "3    2.0\n",
       "4    2.0\n",
       "5    1.0\n",
       "6    NaN\n",
       "7    1.0\n",
       "8    2.0\n",
       "Name: bedrooms, dtype: float64"
      ]
     },
     "execution_count": 161,
     "metadata": {},
     "output_type": "execute_result"
    }
   ],
   "source": [
    "# a second option is to use the apply() method.  \n",
    "# apply() takes the name of a method as an argument, and applies that method to all rows in the dataframe\n",
    "# the looping is implicit\n",
    "\n",
    "cl = pd.read_csv('items.csv')  \n",
    "cl['bedrooms'] = cl['bedrooms'].apply(clean_br) #explicit about hey i am changing this column\n",
    "cl['bedrooms'][:9]"
   ]
  },
  {
   "cell_type": "code",
   "execution_count": 163,
   "metadata": {},
   "outputs": [
    {
     "data": {
      "text/plain": [
       "0    3.0\n",
       "1    3.0\n",
       "2    3.0\n",
       "3    4.0\n",
       "4    4.0\n",
       "5    3.0\n",
       "6    NaN\n",
       "7    3.0\n",
       "8    4.0\n",
       "Name: bedrooms_plus2, dtype: float64"
      ]
     },
     "execution_count": 163,
     "metadata": {},
     "output_type": "execute_result"
    }
   ],
   "source": [
    "# if we have a very simple function, we can define it all in one line using the keyword lambda\n",
    "\n",
    "cl['bedrooms_plus2'] = cl['bedrooms'].apply(lambda x : x+2)\n",
    "cl['bedrooms_plus2'][:9]\n"
   ]
  },
  {
   "cell_type": "code",
   "execution_count": 162,
   "metadata": {},
   "outputs": [
    {
     "data": {
      "text/plain": [
       "0    3.0\n",
       "1    3.0\n",
       "2    3.0\n",
       "3    4.0\n",
       "4    4.0\n",
       "5    3.0\n",
       "6    NaN\n",
       "7    3.0\n",
       "8    4.0\n",
       "Name: bedrooms_plus2, dtype: float64"
      ]
     },
     "execution_count": 162,
     "metadata": {},
     "output_type": "execute_result"
    }
   ],
   "source": [
    "# the above line is equivalent to:\n",
    "def plus_two(x):\n",
    "    return x+2\n",
    "\n",
    "cl['bedrooms_plus2'] = cl['bedrooms'].apply(plus_two)\n",
    "cl['bedrooms_plus2'][:9]"
   ]
  },
  {
   "cell_type": "code",
   "execution_count": null,
   "metadata": {
    "collapsed": true
   },
   "outputs": [],
   "source": []
  },
  {
   "cell_type": "markdown",
   "metadata": {},
   "source": [
    "## Working with Pandas -- an in-class working session"
   ]
  },
  {
   "cell_type": "markdown",
   "metadata": {},
   "source": [
    "OK, let's create a DataFrame from a dictionary, following the example on pg 116 of Python for Data Analysis (PDA)."
   ]
  },
  {
   "cell_type": "code",
   "execution_count": 9,
   "metadata": {},
   "outputs": [],
   "source": [
    "from pandas import DataFrame\n",
    "import pandas as pd\n",
    "\n",
    "data = {'state': ['Ohio', 'Ohio', 'Ohio', 'Nevada', 'Nevada'], 'year': [2000, 2001, 2002, 2001, 2002],\n",
    "'pop': [1.5, 1.7, 3.6, 2.4, 2.9]}\n",
    "df = DataFrame(data)"
   ]
  },
  {
   "cell_type": "markdown",
   "metadata": {},
   "source": [
    "Explain the contents and structure of 'data'\n",
    "\n",
    "What does 'DataFrame(data)' do? What if we did not begin that line with 'df ='?\n",
    "\n",
    "Look at the contents of df, using just df by itself, and 'print df'.  "
   ]
  },
  {
   "cell_type": "code",
   "execution_count": 10,
   "metadata": {},
   "outputs": [
    {
     "data": {
      "text/html": [
       "<div>\n",
       "<style scoped>\n",
       "    .dataframe tbody tr th:only-of-type {\n",
       "        vertical-align: middle;\n",
       "    }\n",
       "\n",
       "    .dataframe tbody tr th {\n",
       "        vertical-align: top;\n",
       "    }\n",
       "\n",
       "    .dataframe thead th {\n",
       "        text-align: right;\n",
       "    }\n",
       "</style>\n",
       "<table border=\"1\" class=\"dataframe\">\n",
       "  <thead>\n",
       "    <tr style=\"text-align: right;\">\n",
       "      <th></th>\n",
       "      <th>state</th>\n",
       "      <th>year</th>\n",
       "      <th>pop</th>\n",
       "    </tr>\n",
       "  </thead>\n",
       "  <tbody>\n",
       "    <tr>\n",
       "      <td>0</td>\n",
       "      <td>Ohio</td>\n",
       "      <td>2000</td>\n",
       "      <td>1.5</td>\n",
       "    </tr>\n",
       "    <tr>\n",
       "      <td>1</td>\n",
       "      <td>Ohio</td>\n",
       "      <td>2001</td>\n",
       "      <td>1.7</td>\n",
       "    </tr>\n",
       "    <tr>\n",
       "      <td>2</td>\n",
       "      <td>Ohio</td>\n",
       "      <td>2002</td>\n",
       "      <td>3.6</td>\n",
       "    </tr>\n",
       "    <tr>\n",
       "      <td>3</td>\n",
       "      <td>Nevada</td>\n",
       "      <td>2001</td>\n",
       "      <td>2.4</td>\n",
       "    </tr>\n",
       "    <tr>\n",
       "      <td>4</td>\n",
       "      <td>Nevada</td>\n",
       "      <td>2002</td>\n",
       "      <td>2.9</td>\n",
       "    </tr>\n",
       "  </tbody>\n",
       "</table>\n",
       "</div>"
      ],
      "text/plain": [
       "    state  year  pop\n",
       "0    Ohio  2000  1.5\n",
       "1    Ohio  2001  1.7\n",
       "2    Ohio  2002  3.6\n",
       "3  Nevada  2001  2.4\n",
       "4  Nevada  2002  2.9"
      ]
     },
     "execution_count": 10,
     "metadata": {},
     "output_type": "execute_result"
    }
   ],
   "source": [
    "df"
   ]
  },
  {
   "cell_type": "markdown",
   "metadata": {},
   "source": [
    "We can refer to a column in two ways:"
   ]
  },
  {
   "cell_type": "code",
   "execution_count": 11,
   "metadata": {},
   "outputs": [
    {
     "data": {
      "text/plain": [
       "0      Ohio\n",
       "1      Ohio\n",
       "2      Ohio\n",
       "3    Nevada\n",
       "4    Nevada\n",
       "Name: state, dtype: object"
      ]
     },
     "execution_count": 11,
     "metadata": {},
     "output_type": "execute_result"
    }
   ],
   "source": [
    "df['state']"
   ]
  },
  {
   "cell_type": "code",
   "execution_count": 12,
   "metadata": {},
   "outputs": [
    {
     "data": {
      "text/plain": [
       "0      Ohio\n",
       "1      Ohio\n",
       "2      Ohio\n",
       "3    Nevada\n",
       "4    Nevada\n",
       "Name: state, dtype: object"
      ]
     },
     "execution_count": 12,
     "metadata": {},
     "output_type": "execute_result"
    }
   ],
   "source": [
    "df.state"
   ]
  },
  {
   "cell_type": "markdown",
   "metadata": {},
   "source": [
    "We can step through the rows in a dataframe"
   ]
  },
  {
   "cell_type": "code",
   "execution_count": 13,
   "metadata": {},
   "outputs": [
    {
     "name": "stdout",
     "output_type": "stream",
     "text": [
      "Ohio\n",
      "Ohio\n",
      "Ohio\n",
      "Nevada\n",
      "Nevada\n"
     ]
    }
   ],
   "source": [
    "for label in df.state.index:\n",
    "    print(df.state[label])"
   ]
  },
  {
   "cell_type": "markdown",
   "metadata": {},
   "source": [
    "And find the index value within each entry of a specific substring"
   ]
  },
  {
   "cell_type": "code",
   "execution_count": 14,
   "metadata": {},
   "outputs": [
    {
     "name": "stdout",
     "output_type": "stream",
     "text": [
      "2\n",
      "2\n",
      "2\n",
      "-1\n",
      "-1\n"
     ]
    }
   ],
   "source": [
    "for label in df.state.index:\n",
    "    print(df.state[label].find('io'))"
   ]
  },
  {
   "cell_type": "code",
   "execution_count": 15,
   "metadata": {},
   "outputs": [
    {
     "name": "stdout",
     "output_type": "stream",
     "text": [
      "Ohio\n",
      "Ohio\n",
      "Ohio\n",
      "Missing\n",
      "Missing\n"
     ]
    }
   ],
   "source": [
    "for label in df.state.index:\n",
    "    if df.state[label]=='Ohio':\n",
    "        print(df.state[label])\n",
    "    else:\n",
    "        print('Missing')"
   ]
  },
  {
   "cell_type": "markdown",
   "metadata": {},
   "source": [
    "## Now Your Turn"
   ]
  },
  {
   "cell_type": "markdown",
   "metadata": {},
   "source": [
    "Below are a series of questions, with the answers remaining for you to fill in by using pandas expressions that draw on the methods in Chapter 5.  You should not need to use anything more than the content of this chapter -- a subset of the methods summarized above, to do this exercise.  Hopefully you can complete it within class if you've been keeping up with the reading."
   ]
  },
  {
   "cell_type": "markdown",
   "metadata": {},
   "source": [
    "How can we get a quick statistical profile of all the numeric columns?"
   ]
  },
  {
   "cell_type": "code",
   "execution_count": 16,
   "metadata": {},
   "outputs": [
    {
     "data": {
      "text/html": [
       "<div>\n",
       "<style scoped>\n",
       "    .dataframe tbody tr th:only-of-type {\n",
       "        vertical-align: middle;\n",
       "    }\n",
       "\n",
       "    .dataframe tbody tr th {\n",
       "        vertical-align: top;\n",
       "    }\n",
       "\n",
       "    .dataframe thead th {\n",
       "        text-align: right;\n",
       "    }\n",
       "</style>\n",
       "<table border=\"1\" class=\"dataframe\">\n",
       "  <thead>\n",
       "    <tr style=\"text-align: right;\">\n",
       "      <th></th>\n",
       "      <th>year</th>\n",
       "      <th>pop</th>\n",
       "    </tr>\n",
       "  </thead>\n",
       "  <tbody>\n",
       "    <tr>\n",
       "      <td>count</td>\n",
       "      <td>5.00000</td>\n",
       "      <td>5.000000</td>\n",
       "    </tr>\n",
       "    <tr>\n",
       "      <td>mean</td>\n",
       "      <td>2001.20000</td>\n",
       "      <td>2.420000</td>\n",
       "    </tr>\n",
       "    <tr>\n",
       "      <td>std</td>\n",
       "      <td>0.83666</td>\n",
       "      <td>0.864292</td>\n",
       "    </tr>\n",
       "    <tr>\n",
       "      <td>min</td>\n",
       "      <td>2000.00000</td>\n",
       "      <td>1.500000</td>\n",
       "    </tr>\n",
       "    <tr>\n",
       "      <td>25%</td>\n",
       "      <td>2001.00000</td>\n",
       "      <td>1.700000</td>\n",
       "    </tr>\n",
       "    <tr>\n",
       "      <td>50%</td>\n",
       "      <td>2001.00000</td>\n",
       "      <td>2.400000</td>\n",
       "    </tr>\n",
       "    <tr>\n",
       "      <td>75%</td>\n",
       "      <td>2002.00000</td>\n",
       "      <td>2.900000</td>\n",
       "    </tr>\n",
       "    <tr>\n",
       "      <td>max</td>\n",
       "      <td>2002.00000</td>\n",
       "      <td>3.600000</td>\n",
       "    </tr>\n",
       "  </tbody>\n",
       "</table>\n",
       "</div>"
      ],
      "text/plain": [
       "             year       pop\n",
       "count     5.00000  5.000000\n",
       "mean   2001.20000  2.420000\n",
       "std       0.83666  0.864292\n",
       "min    2000.00000  1.500000\n",
       "25%    2001.00000  1.700000\n",
       "50%    2001.00000  2.400000\n",
       "75%    2002.00000  2.900000\n",
       "max    2002.00000  3.600000"
      ]
     },
     "execution_count": 16,
     "metadata": {},
     "output_type": "execute_result"
    }
   ],
   "source": [
    "df.describe()"
   ]
  },
  {
   "cell_type": "markdown",
   "metadata": {},
   "source": [
    "Can you get a profile of a column that is not numeric, like state? Try it."
   ]
  },
  {
   "cell_type": "code",
   "execution_count": 17,
   "metadata": {},
   "outputs": [
    {
     "data": {
      "text/plain": [
       "count        5\n",
       "unique       2\n",
       "top       Ohio\n",
       "freq         3\n",
       "Name: state, dtype: object"
      ]
     },
     "execution_count": 17,
     "metadata": {},
     "output_type": "execute_result"
    }
   ],
   "source": [
    "#Yes\n",
    "df['state'].describe()"
   ]
  },
  {
   "cell_type": "markdown",
   "metadata": {},
   "source": [
    "How can we print the data types of each column?"
   ]
  },
  {
   "cell_type": "code",
   "execution_count": 18,
   "metadata": {},
   "outputs": [
    {
     "data": {
      "text/plain": [
       "state     object\n",
       "year       int64\n",
       "pop      float64\n",
       "dtype: object"
      ]
     },
     "execution_count": 18,
     "metadata": {},
     "output_type": "execute_result"
    }
   ],
   "source": [
    "df.dtypes"
   ]
  },
  {
   "cell_type": "markdown",
   "metadata": {},
   "source": [
    "How can we print just the column containing state names?"
   ]
  },
  {
   "cell_type": "code",
   "execution_count": 22,
   "metadata": {},
   "outputs": [
    {
     "data": {
      "text/plain": [
       "0      Ohio\n",
       "1      Ohio\n",
       "2      Ohio\n",
       "3    Nevada\n",
       "4    Nevada\n",
       "Name: state, dtype: object"
      ]
     },
     "execution_count": 22,
     "metadata": {},
     "output_type": "execute_result"
    }
   ],
   "source": [
    "#df.state\n",
    "df.loc[:,'state']"
   ]
  },
  {
   "cell_type": "markdown",
   "metadata": {},
   "source": [
    "How can we get a list of the states in the DataFrame, without duplicates?"
   ]
  },
  {
   "cell_type": "code",
   "execution_count": 24,
   "metadata": {},
   "outputs": [
    {
     "name": "stdout",
     "output_type": "stream",
     "text": [
      "['Ohio' 'Nevada']\n"
     ]
    }
   ],
   "source": [
    "\n",
    "f=df['state'].unique()  #reurns a series object\n",
    "print(f)"
   ]
  },
  {
   "cell_type": "markdown",
   "metadata": {},
   "source": [
    "How can we get a count of how many rows we have in each state?"
   ]
  },
  {
   "cell_type": "code",
   "execution_count": 26,
   "metadata": {},
   "outputs": [
    {
     "data": {
      "text/plain": [
       "Ohio      3\n",
       "Nevada    2\n",
       "Name: state, dtype: int64"
      ]
     },
     "execution_count": 26,
     "metadata": {},
     "output_type": "execute_result"
    }
   ],
   "source": [
    "#df['state'].count()\n",
    "df['state'].value_counts()"
   ]
  },
  {
   "cell_type": "markdown",
   "metadata": {},
   "source": [
    "How can we compute the mean of population across all the rows?"
   ]
  },
  {
   "cell_type": "code",
   "execution_count": 27,
   "metadata": {},
   "outputs": [
    {
     "data": {
      "text/plain": [
       "year    2001.20\n",
       "pop        2.42\n",
       "dtype: float64"
      ]
     },
     "execution_count": 27,
     "metadata": {},
     "output_type": "execute_result"
    }
   ],
   "source": [
    "df.mean()"
   ]
  },
  {
   "cell_type": "markdown",
   "metadata": {},
   "source": [
    "How can we compute the maximum population across all the rows?"
   ]
  },
  {
   "cell_type": "code",
   "execution_count": 30,
   "metadata": {},
   "outputs": [
    {
     "data": {
      "text/plain": [
       "3.6"
      ]
     },
     "execution_count": 30,
     "metadata": {},
     "output_type": "execute_result"
    }
   ],
   "source": [
    "df['pop'].max()"
   ]
  },
  {
   "cell_type": "markdown",
   "metadata": {},
   "source": [
    "How can we compute the 20th percentile value of population? "
   ]
  },
  {
   "cell_type": "code",
   "execution_count": 34,
   "metadata": {},
   "outputs": [
    {
     "data": {
      "text/plain": [
       "1.6600000000000001"
      ]
     },
     "execution_count": 34,
     "metadata": {},
     "output_type": "execute_result"
    }
   ],
   "source": [
    "df['pop'].quantile(0.2)\n",
    "#df['pop'].quantile(q=0.2)    #q is optional\n",
    "#df.quantile(0.2)    #for all columns"
   ]
  },
  {
   "cell_type": "markdown",
   "metadata": {},
   "source": [
    "How can we compute a Boolean array indicating whether the state is 'Ohio'?"
   ]
  },
  {
   "cell_type": "code",
   "execution_count": 35,
   "metadata": {},
   "outputs": [
    {
     "data": {
      "text/plain": [
       "0     True\n",
       "1     True\n",
       "2     True\n",
       "3    False\n",
       "4    False\n",
       "Name: state, dtype: bool"
      ]
     },
     "execution_count": 35,
     "metadata": {},
     "output_type": "execute_result"
    }
   ],
   "source": [
    "df[\"state\"]=='Ohio'"
   ]
  },
  {
   "cell_type": "markdown",
   "metadata": {},
   "source": [
    "How can we select and print just the rows for Ohio?"
   ]
  },
  {
   "cell_type": "code",
   "execution_count": 38,
   "metadata": {},
   "outputs": [
    {
     "data": {
      "text/html": [
       "<div>\n",
       "<style scoped>\n",
       "    .dataframe tbody tr th:only-of-type {\n",
       "        vertical-align: middle;\n",
       "    }\n",
       "\n",
       "    .dataframe tbody tr th {\n",
       "        vertical-align: top;\n",
       "    }\n",
       "\n",
       "    .dataframe thead th {\n",
       "        text-align: right;\n",
       "    }\n",
       "</style>\n",
       "<table border=\"1\" class=\"dataframe\">\n",
       "  <thead>\n",
       "    <tr style=\"text-align: right;\">\n",
       "      <th></th>\n",
       "      <th>state</th>\n",
       "      <th>year</th>\n",
       "      <th>pop</th>\n",
       "    </tr>\n",
       "  </thead>\n",
       "  <tbody>\n",
       "    <tr>\n",
       "      <td>0</td>\n",
       "      <td>Ohio</td>\n",
       "      <td>2000</td>\n",
       "      <td>1.5</td>\n",
       "    </tr>\n",
       "    <tr>\n",
       "      <td>1</td>\n",
       "      <td>Ohio</td>\n",
       "      <td>2001</td>\n",
       "      <td>1.7</td>\n",
       "    </tr>\n",
       "    <tr>\n",
       "      <td>2</td>\n",
       "      <td>Ohio</td>\n",
       "      <td>2002</td>\n",
       "      <td>3.6</td>\n",
       "    </tr>\n",
       "  </tbody>\n",
       "</table>\n",
       "</div>"
      ],
      "text/plain": [
       "  state  year  pop\n",
       "0  Ohio  2000  1.5\n",
       "1  Ohio  2001  1.7\n",
       "2  Ohio  2002  3.6"
      ]
     },
     "execution_count": 38,
     "metadata": {},
     "output_type": "execute_result"
    }
   ],
   "source": [
    "#df[(df)['state'].str.contains('Ohio')]\n",
    "df[df['state']=='Ohio']"
   ]
  },
  {
   "cell_type": "markdown",
   "metadata": {},
   "source": [
    "How can we create a new DataFrame containing only the Ohio records?"
   ]
  },
  {
   "cell_type": "code",
   "execution_count": 41,
   "metadata": {},
   "outputs": [
    {
     "data": {
      "text/html": [
       "<div>\n",
       "<style scoped>\n",
       "    .dataframe tbody tr th:only-of-type {\n",
       "        vertical-align: middle;\n",
       "    }\n",
       "\n",
       "    .dataframe tbody tr th {\n",
       "        vertical-align: top;\n",
       "    }\n",
       "\n",
       "    .dataframe thead th {\n",
       "        text-align: right;\n",
       "    }\n",
       "</style>\n",
       "<table border=\"1\" class=\"dataframe\">\n",
       "  <thead>\n",
       "    <tr style=\"text-align: right;\">\n",
       "      <th></th>\n",
       "      <th>state</th>\n",
       "      <th>year</th>\n",
       "      <th>pop</th>\n",
       "    </tr>\n",
       "  </thead>\n",
       "  <tbody>\n",
       "    <tr>\n",
       "      <td>0</td>\n",
       "      <td>Ohio</td>\n",
       "      <td>2000</td>\n",
       "      <td>1.5</td>\n",
       "    </tr>\n",
       "    <tr>\n",
       "      <td>1</td>\n",
       "      <td>Ohio</td>\n",
       "      <td>2001</td>\n",
       "      <td>1.7</td>\n",
       "    </tr>\n",
       "    <tr>\n",
       "      <td>2</td>\n",
       "      <td>Ohio</td>\n",
       "      <td>2002</td>\n",
       "      <td>3.6</td>\n",
       "    </tr>\n",
       "  </tbody>\n",
       "</table>\n",
       "</div>"
      ],
      "text/plain": [
       "  state  year  pop\n",
       "0  Ohio  2000  1.5\n",
       "1  Ohio  2001  1.7\n",
       "2  Ohio  2002  3.6"
      ]
     },
     "execution_count": 41,
     "metadata": {},
     "output_type": "execute_result"
    }
   ],
   "source": [
    "#df2=df[(df)['state'].str.contains('Ohio')]\n",
    "#or\n",
    "df2=df[df['state']=='Ohio']\n",
    "df2"
   ]
  },
  {
   "cell_type": "markdown",
   "metadata": {},
   "source": [
    "How can we select and print just the rows in which population is more than 2?"
   ]
  },
  {
   "cell_type": "code",
   "execution_count": 42,
   "metadata": {},
   "outputs": [
    {
     "data": {
      "text/html": [
       "<div>\n",
       "<style scoped>\n",
       "    .dataframe tbody tr th:only-of-type {\n",
       "        vertical-align: middle;\n",
       "    }\n",
       "\n",
       "    .dataframe tbody tr th {\n",
       "        vertical-align: top;\n",
       "    }\n",
       "\n",
       "    .dataframe thead th {\n",
       "        text-align: right;\n",
       "    }\n",
       "</style>\n",
       "<table border=\"1\" class=\"dataframe\">\n",
       "  <thead>\n",
       "    <tr style=\"text-align: right;\">\n",
       "      <th></th>\n",
       "      <th>state</th>\n",
       "      <th>year</th>\n",
       "      <th>pop</th>\n",
       "    </tr>\n",
       "  </thead>\n",
       "  <tbody>\n",
       "    <tr>\n",
       "      <td>2</td>\n",
       "      <td>Ohio</td>\n",
       "      <td>2002</td>\n",
       "      <td>3.6</td>\n",
       "    </tr>\n",
       "    <tr>\n",
       "      <td>3</td>\n",
       "      <td>Nevada</td>\n",
       "      <td>2001</td>\n",
       "      <td>2.4</td>\n",
       "    </tr>\n",
       "    <tr>\n",
       "      <td>4</td>\n",
       "      <td>Nevada</td>\n",
       "      <td>2002</td>\n",
       "      <td>2.9</td>\n",
       "    </tr>\n",
       "  </tbody>\n",
       "</table>\n",
       "</div>"
      ],
      "text/plain": [
       "    state  year  pop\n",
       "2    Ohio  2002  3.6\n",
       "3  Nevada  2001  2.4\n",
       "4  Nevada  2002  2.9"
      ]
     },
     "execution_count": 42,
     "metadata": {},
     "output_type": "execute_result"
    }
   ],
   "source": [
    "df[df['pop'] > 2] "
   ]
  },
  {
   "cell_type": "markdown",
   "metadata": {},
   "source": [
    "How could we compute the mean of population that is in Ohio, averaging across years?"
   ]
  },
  {
   "cell_type": "code",
   "execution_count": 46,
   "metadata": {},
   "outputs": [
    {
     "data": {
      "text/plain": [
       "pop    2.266667\n",
       "dtype: float64"
      ]
     },
     "execution_count": 46,
     "metadata": {},
     "output_type": "execute_result"
    }
   ],
   "source": [
    "#df2.mean()\n",
    "df[df['state']=='Ohio'][['pop']].mean()"
   ]
  },
  {
   "cell_type": "markdown",
   "metadata": {},
   "source": [
    "How can we print the DataFrame, sorted by State and within State, by Population?"
   ]
  },
  {
   "cell_type": "code",
   "execution_count": 48,
   "metadata": {},
   "outputs": [
    {
     "data": {
      "text/html": [
       "<div>\n",
       "<style scoped>\n",
       "    .dataframe tbody tr th:only-of-type {\n",
       "        vertical-align: middle;\n",
       "    }\n",
       "\n",
       "    .dataframe tbody tr th {\n",
       "        vertical-align: top;\n",
       "    }\n",
       "\n",
       "    .dataframe thead th {\n",
       "        text-align: right;\n",
       "    }\n",
       "</style>\n",
       "<table border=\"1\" class=\"dataframe\">\n",
       "  <thead>\n",
       "    <tr style=\"text-align: right;\">\n",
       "      <th></th>\n",
       "      <th>state</th>\n",
       "      <th>year</th>\n",
       "      <th>pop</th>\n",
       "    </tr>\n",
       "  </thead>\n",
       "  <tbody>\n",
       "    <tr>\n",
       "      <td>3</td>\n",
       "      <td>Nevada</td>\n",
       "      <td>2001</td>\n",
       "      <td>2.4</td>\n",
       "    </tr>\n",
       "    <tr>\n",
       "      <td>4</td>\n",
       "      <td>Nevada</td>\n",
       "      <td>2002</td>\n",
       "      <td>2.9</td>\n",
       "    </tr>\n",
       "    <tr>\n",
       "      <td>0</td>\n",
       "      <td>Ohio</td>\n",
       "      <td>2000</td>\n",
       "      <td>1.5</td>\n",
       "    </tr>\n",
       "    <tr>\n",
       "      <td>1</td>\n",
       "      <td>Ohio</td>\n",
       "      <td>2001</td>\n",
       "      <td>1.7</td>\n",
       "    </tr>\n",
       "    <tr>\n",
       "      <td>2</td>\n",
       "      <td>Ohio</td>\n",
       "      <td>2002</td>\n",
       "      <td>3.6</td>\n",
       "    </tr>\n",
       "  </tbody>\n",
       "</table>\n",
       "</div>"
      ],
      "text/plain": [
       "    state  year  pop\n",
       "3  Nevada  2001  2.4\n",
       "4  Nevada  2002  2.9\n",
       "0    Ohio  2000  1.5\n",
       "1    Ohio  2001  1.7\n",
       "2    Ohio  2002  3.6"
      ]
     },
     "execution_count": 48,
     "metadata": {},
     "output_type": "execute_result"
    }
   ],
   "source": [
    "df.sort_values(['state','pop'])   #first state then pop ---> order of sorting"
   ]
  },
  {
   "cell_type": "markdown",
   "metadata": {},
   "source": [
    "How can we print the row for Ohio, 2002, selecting on its values (not on row and column indexes)?"
   ]
  },
  {
   "cell_type": "code",
   "execution_count": 49,
   "metadata": {},
   "outputs": [
    {
     "data": {
      "text/html": [
       "<div>\n",
       "<style scoped>\n",
       "    .dataframe tbody tr th:only-of-type {\n",
       "        vertical-align: middle;\n",
       "    }\n",
       "\n",
       "    .dataframe tbody tr th {\n",
       "        vertical-align: top;\n",
       "    }\n",
       "\n",
       "    .dataframe thead th {\n",
       "        text-align: right;\n",
       "    }\n",
       "</style>\n",
       "<table border=\"1\" class=\"dataframe\">\n",
       "  <thead>\n",
       "    <tr style=\"text-align: right;\">\n",
       "      <th></th>\n",
       "      <th>state</th>\n",
       "      <th>year</th>\n",
       "      <th>pop</th>\n",
       "    </tr>\n",
       "  </thead>\n",
       "  <tbody>\n",
       "    <tr>\n",
       "      <td>2</td>\n",
       "      <td>Ohio</td>\n",
       "      <td>2002</td>\n",
       "      <td>3.6</td>\n",
       "    </tr>\n",
       "  </tbody>\n",
       "</table>\n",
       "</div>"
      ],
      "text/plain": [
       "  state  year  pop\n",
       "2  Ohio  2002  3.6"
      ]
     },
     "execution_count": 49,
     "metadata": {},
     "output_type": "execute_result"
    }
   ],
   "source": [
    "df[(df['state']==\"Ohio\") & (df['year']==2002)]"
   ]
  },
  {
   "cell_type": "markdown",
   "metadata": {},
   "source": [
    "How can we use row and column indexing to set the population of Ohio in 2002 to 3.4?"
   ]
  },
  {
   "cell_type": "code",
   "execution_count": 50,
   "metadata": {},
   "outputs": [],
   "source": [
    "df.loc[2,'pop'] = 3.4 #change the value of the cell"
   ]
  },
  {
   "cell_type": "markdown",
   "metadata": {},
   "source": [
    "How can we use row and column indexing to append a new record for Utah, initially with no population or year? "
   ]
  },
  {
   "cell_type": "code",
   "execution_count": 51,
   "metadata": {},
   "outputs": [
    {
     "data": {
      "text/html": [
       "<div>\n",
       "<style scoped>\n",
       "    .dataframe tbody tr th:only-of-type {\n",
       "        vertical-align: middle;\n",
       "    }\n",
       "\n",
       "    .dataframe tbody tr th {\n",
       "        vertical-align: top;\n",
       "    }\n",
       "\n",
       "    .dataframe thead th {\n",
       "        text-align: right;\n",
       "    }\n",
       "</style>\n",
       "<table border=\"1\" class=\"dataframe\">\n",
       "  <thead>\n",
       "    <tr style=\"text-align: right;\">\n",
       "      <th></th>\n",
       "      <th>state</th>\n",
       "      <th>year</th>\n",
       "      <th>pop</th>\n",
       "    </tr>\n",
       "  </thead>\n",
       "  <tbody>\n",
       "    <tr>\n",
       "      <td>0</td>\n",
       "      <td>Ohio</td>\n",
       "      <td>2000.0</td>\n",
       "      <td>1.5</td>\n",
       "    </tr>\n",
       "    <tr>\n",
       "      <td>1</td>\n",
       "      <td>Ohio</td>\n",
       "      <td>2001.0</td>\n",
       "      <td>1.7</td>\n",
       "    </tr>\n",
       "    <tr>\n",
       "      <td>2</td>\n",
       "      <td>Ohio</td>\n",
       "      <td>2002.0</td>\n",
       "      <td>3.4</td>\n",
       "    </tr>\n",
       "    <tr>\n",
       "      <td>3</td>\n",
       "      <td>Nevada</td>\n",
       "      <td>2001.0</td>\n",
       "      <td>2.4</td>\n",
       "    </tr>\n",
       "    <tr>\n",
       "      <td>4</td>\n",
       "      <td>Nevada</td>\n",
       "      <td>2002.0</td>\n",
       "      <td>2.9</td>\n",
       "    </tr>\n",
       "    <tr>\n",
       "      <td>5</td>\n",
       "      <td>Utah</td>\n",
       "      <td>NaN</td>\n",
       "      <td>NaN</td>\n",
       "    </tr>\n",
       "  </tbody>\n",
       "</table>\n",
       "</div>"
      ],
      "text/plain": [
       "    state    year  pop\n",
       "0    Ohio  2000.0  1.5\n",
       "1    Ohio  2001.0  1.7\n",
       "2    Ohio  2002.0  3.4\n",
       "3  Nevada  2001.0  2.4\n",
       "4  Nevada  2002.0  2.9\n",
       "5    Utah     NaN  NaN"
      ]
     },
     "execution_count": 51,
     "metadata": {},
     "output_type": "execute_result"
    }
   ],
   "source": [
    "df.loc[5,\"state\"]=\"Utah\"  #add wth this\n",
    "df"
   ]
  },
  {
   "cell_type": "markdown",
   "metadata": {},
   "source": [
    "How can we set the population to 2.5 and year to 2001 for the new record?"
   ]
  },
  {
   "cell_type": "code",
   "execution_count": 52,
   "metadata": {},
   "outputs": [
    {
     "data": {
      "text/html": [
       "<div>\n",
       "<style scoped>\n",
       "    .dataframe tbody tr th:only-of-type {\n",
       "        vertical-align: middle;\n",
       "    }\n",
       "\n",
       "    .dataframe tbody tr th {\n",
       "        vertical-align: top;\n",
       "    }\n",
       "\n",
       "    .dataframe thead th {\n",
       "        text-align: right;\n",
       "    }\n",
       "</style>\n",
       "<table border=\"1\" class=\"dataframe\">\n",
       "  <thead>\n",
       "    <tr style=\"text-align: right;\">\n",
       "      <th></th>\n",
       "      <th>state</th>\n",
       "      <th>year</th>\n",
       "      <th>pop</th>\n",
       "    </tr>\n",
       "  </thead>\n",
       "  <tbody>\n",
       "    <tr>\n",
       "      <td>0</td>\n",
       "      <td>Ohio</td>\n",
       "      <td>2000.0</td>\n",
       "      <td>1.5</td>\n",
       "    </tr>\n",
       "    <tr>\n",
       "      <td>1</td>\n",
       "      <td>Ohio</td>\n",
       "      <td>2001.0</td>\n",
       "      <td>1.7</td>\n",
       "    </tr>\n",
       "    <tr>\n",
       "      <td>2</td>\n",
       "      <td>Ohio</td>\n",
       "      <td>2002.0</td>\n",
       "      <td>3.4</td>\n",
       "    </tr>\n",
       "    <tr>\n",
       "      <td>3</td>\n",
       "      <td>Nevada</td>\n",
       "      <td>2001.0</td>\n",
       "      <td>2.4</td>\n",
       "    </tr>\n",
       "    <tr>\n",
       "      <td>4</td>\n",
       "      <td>Nevada</td>\n",
       "      <td>2002.0</td>\n",
       "      <td>2.9</td>\n",
       "    </tr>\n",
       "    <tr>\n",
       "      <td>5</td>\n",
       "      <td>Utah</td>\n",
       "      <td>2001.0</td>\n",
       "      <td>2.5</td>\n",
       "    </tr>\n",
       "  </tbody>\n",
       "</table>\n",
       "</div>"
      ],
      "text/plain": [
       "    state    year  pop\n",
       "0    Ohio  2000.0  1.5\n",
       "1    Ohio  2001.0  1.7\n",
       "2    Ohio  2002.0  3.4\n",
       "3  Nevada  2001.0  2.4\n",
       "4  Nevada  2002.0  2.9\n",
       "5    Utah  2001.0  2.5"
      ]
     },
     "execution_count": 52,
     "metadata": {},
     "output_type": "execute_result"
    }
   ],
   "source": [
    "df.loc[5,\"year\"]=2001  #add population\n",
    "df.loc[5,\"pop\"]=2.5  #add population\n",
    "df"
   ]
  }
 ],
 "metadata": {
  "anaconda-cloud": {},
  "kernelspec": {
   "display_name": "Python 3",
   "language": "python",
   "name": "python3"
  },
  "language_info": {
   "codemirror_mode": {
    "name": "ipython",
    "version": 3
   },
   "file_extension": ".py",
   "mimetype": "text/x-python",
   "name": "python",
   "nbconvert_exporter": "python",
   "pygments_lexer": "ipython3",
   "version": "3.7.4"
  }
 },
 "nbformat": 4,
 "nbformat_minor": 1
}
