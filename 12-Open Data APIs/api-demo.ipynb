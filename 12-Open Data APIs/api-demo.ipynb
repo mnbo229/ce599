{
 "cells": [
  {
   "cell_type": "markdown",
   "metadata": {},
   "source": [
    "# Working with Data APIs\n",
    "\n",
    "**Adapted from: Sam Maurer // maurer@berkeley.edu // Oct. 3, 2016**\n",
    "\n",
    "This notebook provides a demonstration of data-access APIs that operate over the web. See README.md for setup instructions.\n",
    "\n",
    "In Part 1, we'll load and parse results from an API feed of earthquake data.  \n",
    "In Part 2, we'll add query parameters to the workflow, using the Google Maps Geolocation API as an example.  \n",
    "In Part 3, we'll use an authenticated API to query public Twitter posts. "
   ]
  },
  {
   "cell_type": "markdown",
   "metadata": {},
   "source": [
    "# Part 1: Reading from an automated data feed\n",
    "\n",
    "### USGS real-time earthquake feeds\n",
    "\n",
    "This is an API for near-real-time data about earthquakes. Data is provided in JSON format over the web. No authentication is needed, and there's no way to customize the output. Instead, the API has a separate endpoint for each permutation of the data that users might want.\n",
    "\n",
    "**API documentation:**  \n",
    "http://earthquake.usgs.gov/earthquakes/feed/v1.0/geojson.php\n",
    "\n",
    "**Sample API endpoint, for magnitude 4.5+ earthquakes in past day:**  \n",
    "http://earthquake.usgs.gov/earthquakes/feed/v1.0/summary/4.5_day.geojson  \n"
   ]
  },
  {
   "cell_type": "code",
   "execution_count": 1,
   "metadata": {},
   "outputs": [],
   "source": [
    "%matplotlib inline\n",
    "\n",
    "import pandas as pd\n",
    "\n",
    "import json    # library for working with JSON-formatted text strings\n",
    "import requests  # library for accessing content from web URLs\n",
    "\n",
    "import pprint  # library for making Python data structures readable /(pretty printer)\n",
    "pp = pprint.PrettyPrinter()"
   ]
  },
  {
   "cell_type": "code",
   "execution_count": 2,
   "metadata": {},
   "outputs": [
    {
     "name": "stdout",
     "output_type": "stream",
     "text": [
      "<class 'str'>\n"
     ]
    }
   ],
   "source": [
    "# download data on magnitude 2.5+ quakes from the past week\n",
    "\n",
    "endpoint_url = \"http://earthquake.usgs.gov/earthquakes/feed/v1.0/summary/2.5_week.geojson\"\n",
    "response = requests.get(endpoint_url)\n",
    "results = response.text\n",
    "\n",
    "# what is the data type of the results?\n",
    "print(type(results))"
   ]
  },
  {
   "cell_type": "code",
   "execution_count": 3,
   "metadata": {},
   "outputs": [
    {
     "name": "stdout",
     "output_type": "stream",
     "text": [
      "{\"type\":\"FeatureCollection\",\"metadata\":{\"generated\":1583258657000,\"url\":\"https://earthquake.usgs.gov/earthquakes/feed/v1.0/summary/2.5_week.geojson\",\"title\":\"USGS Magnitude 2.5+ Earthquakes, Past Week\",\"status\":200,\"api\":\"1.8.1\",\"count\":392},\"features\":[{\"type\":\"Feature\",\"properties\":{\"mag\":4.9,\"place\":\"Chagos Archipelago region\",\"time\":1583256677111,\"updated\":1583257842040,\"tz\":300,\"url\":\"https://earthquake.usgs.gov/earthquakes/eventpage/us600088si\",\"detail\":\"https://earthquake.usgs.gov/earthqu\n"
     ]
    }
   ],
   "source": [
    "# print the first 500 characters to see a sample of the data\n",
    "\n",
    "print(results[:500])  "
   ]
  },
  {
   "cell_type": "code",
   "execution_count": 4,
   "metadata": {},
   "outputs": [
    {
     "name": "stdout",
     "output_type": "stream",
     "text": [
      "<class 'dict'>\n"
     ]
    }
   ],
   "source": [
    "# it looks like the results are a string with JSON-formatted data inside\n",
    "\n",
    "# parse the string into a Python dictionary\n",
    "data = json.loads(results)\n",
    "\n",
    "print(type(data))"
   ]
  },
  {
   "cell_type": "code",
   "execution_count": 5,
   "metadata": {},
   "outputs": [
    {
     "name": "stdout",
     "output_type": "stream",
     "text": [
      "{'type': 'Feature', 'properties': {'mag': 4.9, 'place': 'Chagos Archipelago region', 'time': 1583256677111, 'updated': 1583257842040, 'tz': 300, 'url': 'https://earthquake.usgs.gov/earthquakes/eventpage/us600088si', 'detail': 'https://earthquake.usgs.gov/earthquakes/feed/v1.0/detail/us600088si.geojson', 'felt': None, 'cdi': None, 'mmi': None, 'alert': None, 'status': 'reviewed', 'tsunami': 0, 'sig': 369, 'net': 'us', 'code': '600088si', 'ids': ',us600088si,', 'sources': ',us,', 'types': ',geoserve,origin,phase-data,', 'nst': None, 'dmin': 5.245, 'rms': 0.59, 'gap': 38, 'magType': 'mb', 'type': 'earthquake', 'title': 'M 4.9 - Chagos Archipelago region'}, 'geometry': {'type': 'Point', 'coordinates': [68.3956, -4.0398, 33.72]}, 'id': 'us600088si'}\n"
     ]
    }
   ],
   "source": [
    "# print the most recent quake\n",
    "\n",
    "quakes = data['features']\n",
    "print(quakes[0])"
   ]
  },
  {
   "cell_type": "code",
   "execution_count": 6,
   "metadata": {},
   "outputs": [
    {
     "name": "stdout",
     "output_type": "stream",
     "text": [
      "{'coordinates': [68.3956, -4.0398, 33.72], 'type': 'Point'}\n",
      "{'alert': None,\n",
      " 'cdi': None,\n",
      " 'code': '600088si',\n",
      " 'detail': 'https://earthquake.usgs.gov/earthquakes/feed/v1.0/detail/us600088si.geojson',\n",
      " 'dmin': 5.245,\n",
      " 'felt': None,\n",
      " 'gap': 38,\n",
      " 'ids': ',us600088si,',\n",
      " 'mag': 4.9,\n",
      " 'magType': 'mb',\n",
      " 'mmi': None,\n",
      " 'net': 'us',\n",
      " 'nst': None,\n",
      " 'place': 'Chagos Archipelago region',\n",
      " 'rms': 0.59,\n",
      " 'sig': 369,\n",
      " 'sources': ',us,',\n",
      " 'status': 'reviewed',\n",
      " 'time': 1583256677111,\n",
      " 'title': 'M 4.9 - Chagos Archipelago region',\n",
      " 'tsunami': 0,\n",
      " 'type': 'earthquake',\n",
      " 'types': ',geoserve,origin,phase-data,',\n",
      " 'tz': 300,\n",
      " 'updated': 1583257842040,\n",
      " 'url': 'https://earthquake.usgs.gov/earthquakes/eventpage/us600088si'}\n"
     ]
    }
   ],
   "source": [
    "# print it more clearly\n",
    "\n",
    "pp.pprint(quakes[0]['geometry'])\n",
    "pp.pprint(quakes[0]['properties'])"
   ]
  },
  {
   "cell_type": "code",
   "execution_count": 7,
   "metadata": {},
   "outputs": [
    {
     "name": "stdout",
     "output_type": "stream",
     "text": [
      "M 4.9 - Chagos Archipelago region\n",
      "M 3.1 - 11km S of Indios, Puerto Rico\n",
      "M 5.0 - 80km WSW of Port-Vila, Vanuatu\n",
      "M 2.5 - 15km SSE of Guanica, Puerto Rico\n",
      "M 4.0 - 10km NNE of New Idria, CA\n",
      "M 5.0 - 16km W of Siocon, Philippines\n",
      "M 2.7 - 21km N of Ridgecrest, CA\n",
      "M 3.4 - 2km WSW of Fuig, Puerto Rico\n",
      "M 2.6 - 37km NNW of Valdez, Alaska\n",
      "M 2.7 - 10km SSE of Guanica, Puerto Rico\n",
      "M 5.0 - Greenland Sea\n",
      "M 2.6 - 0km NW of Tallaboa, Puerto Rico\n",
      "M 4.2 - 67km SSE of Lar, Iran\n",
      "M 2.7 - 4km ENE of Pahala, Hawaii\n",
      "M 3.1 - 7km SSW of Guanica, Puerto Rico\n",
      "M 3.2 - 6km SSW of Guanica, Puerto Rico\n",
      "M 4.9 - 70km SSE of Bristol Island, South Sandwich Islands\n",
      "M 2.8 - 4km SSW of Guanica, Puerto Rico\n",
      "M 4.6 - 31km S of Nishinoomote, Japan\n",
      "M 4.8 - 21km SSW of Nishinoomote, Japan\n",
      "M 4.7 - 103km NNW of Pathein, Burma\n",
      "M 5.1 - 50km W of Amatignak Island, Alaska\n",
      "M 3.4 - 73km NW of San Antonio, Puerto Rico\n",
      "M 2.9 - 2km SE of Guayanilla, Puerto Rico\n",
      "M 3.2 - 26km SSE of Guanica, Puerto Rico\n",
      "M 4.6 - 90km W of Kota Ternate, Indonesia\n",
      "M 4.6 - 3km WNW of Santa Fe, Philippines\n",
      "M 4.9 - 83km WNW of Camana, Peru\n",
      "M 2.9 - 16km SSE of Guanica, Puerto Rico\n",
      "M 3.3 - 9km S of Indios, Puerto Rico\n",
      "M 2.6 - 8km S of Indios, Puerto Rico\n",
      "M 4.0 - 12km E of La Romana, Dominican Republic\n",
      "M 3.0 - 7km SSE of Guanica, Puerto Rico\n",
      "M 3.2 - 11km SSE of Alberto Oviedo Mota, B.C., MX\n",
      "M 3.3 - 24km S of Guanica, Puerto Rico\n",
      "M 3.0 - 6km SSW of Guanica, Puerto Rico\n",
      "M 3.0 - 25km S of Guanica, Puerto Rico\n",
      "M 3.0 - 8km NE of Pahala, Hawaii\n",
      "M 3.0 - 30km N of Pahala, Hawaii\n",
      "M 3.0 - 3km WSW of Tallaboa, Puerto Rico\n",
      "M 5.0 - West of Macquarie Island\n",
      "M 2.5 - 8km NNE of Pahala, Hawaii\n",
      "M 3.2 - 19km ESE of Little Lake, CA\n",
      "M 2.8 - 9km SE of Guanica, Puerto Rico\n",
      "M 4.7 - 36km WSW of Tacna, Peru\n",
      "M 3.2 - 23km S of Guanica, Puerto Rico\n",
      "M 3.0 - 122km NNE of Kobuk, Alaska\n",
      "M 4.5 - 54km ENE of Otofuke, Japan\n",
      "M 3.1 - 7km W of Holtville, CA\n",
      "M 2.8 - 7km W of Holtville, CA\n",
      "M 3.5 - 6km S of Guanica, Puerto Rico\n",
      "M 2.8 - 12km S of Indios, Puerto Rico\n",
      "M 5.1 - 107km S of Bristol Island, South Sandwich Islands\n",
      "M 2.5 - 22km SSW of Conway Springs, Kansas\n",
      "M 2.5 - 7km W of Holtville, CA\n",
      "M 3.2 - 25km S of Guanica, Puerto Rico\n",
      "M 2.8 - 10km SSE of Maria Antonia, Puerto Rico\n",
      "M 4.1 - 59km W of Las Lajas, Argentina\n",
      "M 2.6 - 7km SSW of Indios, Puerto Rico\n",
      "M 2.6 - 9km S of Indios, Puerto Rico\n",
      "M 4.1 - 81km WNW of Iquique, Chile\n",
      "M 2.6 - 3km SSW of Indios, Puerto Rico\n",
      "M 2.5 - 11km SE of Guanica, Puerto Rico\n",
      "M 2.6 - 11km SE of Guanica, Puerto Rico\n",
      "M 2.6 - 10km SE of Guanica, Puerto Rico\n",
      "M 2.5 - 10km SE of Guanica, Puerto Rico\n",
      "M 4.5 - 283km ESE of Lambasa, Fiji\n",
      "M 2.8 - 10km SE of Guanica, Puerto Rico\n",
      "M 2.9 - 2km NE of Pinnacles, CA\n",
      "M 2.8 - 8km SSW of Tallaboa, Puerto Rico\n",
      "M 4.2 - 76km ESE of Iquique, Chile\n",
      "M 4.3 - 21km SW of Doganyol, Turkey\n",
      "M 3.4 - 133km ESE of McGrath, Alaska\n",
      "M 2.6 - 16km SSE of Guanica, Puerto Rico\n",
      "M 4.2 - 183km W of Port Hardy, Canada\n",
      "M 2.5 - 9km S of Guanica, Puerto Rico\n",
      "M 3.5 - 21km SW of Carlin, Nevada\n",
      "M 2.9 - 11km SSW of Pecos, Texas\n",
      "M 2.6 - 11km NE of Odessa, Texas\n",
      "M 2.7 - 1km W of Indios, Puerto Rico\n",
      "M 4.0 - 50km SW of Adak, Alaska\n",
      "M 2.7 - 8km SSE of Tallaboa, Puerto Rico\n",
      "M 4.8 - 85km N of Isangel, Vanuatu\n",
      "M 3.0 - 11km NNE of Odessa, Texas\n",
      "M 2.5 - 7km SE of Maria Antonia, Puerto Rico\n",
      "M 2.9 - 38km WSW of Anchorage, Alaska\n",
      "M 2.9 - 25km SSE of Guanica, Puerto Rico\n",
      "M 2.5 - 8km SSE of Guanica, Puerto Rico\n",
      "M 3.8 - 248km SE of Kodiak, Alaska\n",
      "M 2.9 - 19km N of Arecibo, Puerto Rico\n",
      "M 4.8 - 233km E of Yamada, Japan\n",
      "M 5.7 - 54km WSW of Amatignak Island, Alaska\n",
      "M 2.5 - 26km WNW of Montgomery Creek, CA\n",
      "M 2.6 - 13km SSE of Guanica, Puerto Rico\n",
      "M 3.1 - 7km SSE of Guanica, Puerto Rico\n",
      "M 3.6 - 77km NW of San Antonio, Puerto Rico\n",
      "M 4.5 - 249km W of Hihifo, Tonga\n",
      "M 2.7 - 11km S of Indios, Puerto Rico\n",
      "M 2.5 - 6km S of Guanica, Puerto Rico\n",
      "M 5.3 - 5km NNE of Culasian, Philippines\n",
      "M 4.8 - 59km NNE of Yunaska Island, Alaska\n",
      "M 3.1 - 40km WSW of Redoubt Volcano, Alaska\n",
      "M 2.7 - 20km SSW of Big Pine, CA\n",
      "M 4.9 - 47km E of Ndoi Island, Fiji\n",
      "M 2.5 - 11km SSE of Guanica, Puerto Rico\n",
      "M 2.9 - 3km SE of Guanica, Puerto Rico\n",
      "M 4.6 - 106km NNE of Kalianget, Indonesia\n",
      "M 2.6 - 22km S of Guanica, Puerto Rico\n",
      "M 2.6 - 8km SSW of Guanica, Puerto Rico\n",
      "M 4.5 - 25km E of False Pass, Alaska\n",
      "M 2.6 - 14km SSW of Searles Valley, CA\n",
      "M 2.5 - 8km SSE of Guanica, Puerto Rico\n",
      "M 2.6 - 9km S of Guanica, Puerto Rico\n",
      "M 4.9 - 89km SW of Sabtang, Philippines\n",
      "M 2.6 - 16km SSE of Guanica, Puerto Rico\n",
      "M 2.5 - 17km SSE of Guanica, Puerto Rico\n",
      "M 2.5 - 15km SSE of Guanica, Puerto Rico\n",
      "M 2.6 - 16km SSE of Guanica, Puerto Rico\n",
      "M 2.7 - 9km S of Indios, Puerto Rico\n",
      "M 2.7 - 31km NW of Bayview, CA\n",
      "M 2.6 - 7km S of Indios, Puerto Rico\n",
      "M 2.9 - 22km WNW of Volcano, Hawaii\n",
      "M 2.8 - 6km SSW of Indios, Puerto Rico\n",
      "M 2.6 - 4km SSW of Indios, Puerto Rico\n",
      "M 4.2 - 35km SSE of Jarm, Afghanistan\n",
      "M 2.9 - 5km SSW of Guanica, Puerto Rico\n",
      "M 4.7 - 187km NW of Farallon de Pajaros, Northern Mariana Islands\n",
      "M 2.7 - 12km S of Guanica, Puerto Rico\n",
      "M 2.6 - 5km NE of Pahala, Hawaii\n",
      "M 2.5 - 10km SSE of Indios, Puerto Rico\n",
      "M 4.6 - 154km NNE of Calama, Chile\n",
      "M 2.6 - 8km SE of Guanica, Puerto Rico\n",
      "M 2.9 - 71km SW of Kaktovik, Alaska\n",
      "M 4.7 - 86km SW of Sabtang, Philippines\n",
      "M 2.5 - 10km SE of Guanica, Puerto Rico\n",
      "M 2.8 - 13km SSE of Guanica, Puerto Rico\n",
      "M 2.9 - 12km S of Guanica, Puerto Rico\n",
      "M 2.6 - 17km SSE of Guanica, Puerto Rico\n",
      "M 2.8 - 11km SSE of Tallaboa, Puerto Rico\n",
      "M 4.4 - 90km ESE of Namie, Japan\n",
      "M 3.0 - 15km S of Guanica, Puerto Rico\n",
      "M 2.6 - 2km W of Indios, Puerto Rico\n",
      "M 2.5 - 11km SE of Guanica, Puerto Rico\n",
      "M 2.8 - 15km SSE of Guanica, Puerto Rico\n",
      "M 2.7 - 5km SSW of Guanica, Puerto Rico\n",
      "M 4.2 - 6km NE of Mangaldai, India\n",
      "M 2.8 - 5km SE of La Parguera, Puerto Rico\n",
      "M 3.5 - 97km N of Lavrentiya, Russia\n",
      "M 2.9 - 78km S of Kobuk, Alaska\n",
      "M 2.5 - 13km SSE of Guanica, Puerto Rico\n",
      "M 2.7 - 103km W of Larsen Bay, Alaska\n",
      "M 3.5 - 5km S of Indios, Puerto Rico\n",
      "M 2.6 - 20km SSE of Guanica, Puerto Rico\n",
      "M 2.6 - 17km S of Guanica, Puerto Rico\n",
      "M 4.1 - Banda Sea\n",
      "M 3.0 - 2km ESE of Maria Antonia, Puerto Rico\n",
      "M 4.4 - 90km NE of Diego de Almagro, Chile\n",
      "M 3.4 - 66km SE of Unalaska, Alaska\n",
      "M 2.5 - 8km SE of Guanica, Puerto Rico\n",
      "M 2.6 - 4km SE of Indios, Puerto Rico\n",
      "M 4.8 - 119km E of Kimbe, Papua New Guinea\n",
      "M 3.9 - 38km WNW of West Yellowstone, Montana\n",
      "M 3.1 - 23km ESE of Little Lake, CA\n",
      "M 4.4 - 11km SSW of Sivrice, Turkey\n",
      "M 2.9 - 80km WSW of Pole Ojea, Puerto Rico\n",
      "M 4.6 - 102km SW of Pijijiapan, Mexico\n",
      "M 3.0 - 46km N of Carrizales, Puerto Rico\n",
      "M 2.5 - 12km SE of Guanica, Puerto Rico\n",
      "M 2.7 - 37km E of Road Town, British Virgin Islands\n",
      "M 5.3 - 158km N of Tobelo, Indonesia\n",
      "M 2.7 - 8km SSW of Indios, Puerto Rico\n",
      "M 2.6 - 9km SSE of Maria Antonia, Puerto Rico\n",
      "M 4.7 - 43km WNW of Nuqui, Colombia\n",
      "M 3.5 - 51km SSE of Little Sitkin Island, Alaska\n",
      "M 4.0 - 30km WSW of Ashkasham, Afghanistan\n",
      "M 2.7 - 5km S of Guanica, Puerto Rico\n",
      "M 5.1 - 135km ESE of Tadine, New Caledonia\n",
      "M 2.7 - 13km SSE of Guanica, Puerto Rico\n",
      "M 4.0 - 30km SSW of Acala, Mexico\n",
      "M 2.5 - 6km SSE of Guanica, Puerto Rico\n",
      "M 3.0 - 6km SSW of Honaunau-Napoopoo, Hawaii\n",
      "M 2.5 - 13km SSE of Guanica, Puerto Rico\n",
      "M 2.6 - 0km WNW of Guayanilla, Puerto Rico\n",
      "M 2.9 - 7km S of Indios, Puerto Rico\n",
      "M 3.0 - 27km S of Guanica, Puerto Rico\n",
      "M 2.7 - 7km S of Indios, Puerto Rico\n",
      "M 4.8 - 273km NE of Camacha, Portugal\n",
      "M 2.7 - 17km SSE of Guanica, Puerto Rico\n",
      "M 2.9 - 58km NNE of Miches, Dominican Republic\n",
      "M 4.6 - 12km W of Gueiria, Venezuela\n",
      "M 4.5 - 8km NNW of Zonda, Argentina\n",
      "M 5.3 - 103km SE of Neiafu, Tonga\n",
      "M 2.7 - 6km SSW of Guanica, Puerto Rico\n",
      "M 4.3 - 62km NE of Calama, Chile\n",
      "M 4.7 - South of the Fiji Islands\n",
      "M 2.5 - 11km ENE of Honaunau-Napoopoo, Hawaii\n",
      "M 4.5 - 289km NE of Zeya, Russia\n",
      "M 3.0 - 58km WSW of Larsen Bay, Alaska\n",
      "M 3.0 - 70km S of Kobuk, Alaska\n",
      "M 4.1 - 197km ENE of Socorro Island, Mexico\n",
      "M 4.4 - 100km NE of Aksu, China\n",
      "M 4.1 - 197km W of Chichi-shima, Japan\n",
      "M 3.1 - 31km NNE of Nikiski, Alaska\n",
      "M 2.5 - 20km NNW of Coalinga, CA\n",
      "M 2.6 - 13km SSE of Guanica, Puerto Rico\n",
      "M 5.1 - 201km NW of Visokoi Island, South Georgia and the South Sandwich Islands\n",
      "M 4.1 - 38km NW of Muang La, Laos\n",
      "M 3.8 - 1km WSW of Guayanilla, Puerto Rico\n",
      "M 2.7 - 5km SSE of Maria Antonia, Puerto Rico\n",
      "M 2.6 - 12km SSW of Guanica, Puerto Rico\n",
      "M 2.6 - 7km SSE of La Parguera, Puerto Rico\n",
      "M 4.1 - 277km ESE of Kodiak, Alaska\n",
      "M 5.1 - 43km WSW of Pagaralam, Indonesia\n",
      "M 4.6 - 142km E of Chichi-shima, Japan\n",
      "M 4.5 - 35km WNW of `Alaqahdari-ye Kiran wa Munjan, Afghanistan\n",
      "M 2.9 - 19km S of Guanica, Puerto Rico\n",
      "M 4.3 - 206km E of Vostok, Russia\n",
      "M 2.5 - 5km SSW of Guanica, Puerto Rico\n",
      "M 2.6 - 2km NNW of The Geysers, CA\n",
      "M 4.2 - 50km NNE of Chamba, India\n",
      "M 3.7 - 18km NNE of Hawaiian Ocean View, Hawaii\n",
      "M 4.6 - 137km WNW of Tobelo, Indonesia\n",
      "M 2.7 - 20km SSE of Guanica, Puerto Rico\n",
      "M 2.7 - 38km WNW of West Yellowstone, Montana\n",
      "M 4.5 - 144km E of Chichi-shima, Japan\n",
      "M 2.5 - 35km ENE of Y, Alaska\n",
      "M 3.1 - 22km SSE of Guanica, Puerto Rico\n",
      "M 2.5 - 6km SE of Minco, Oklahoma\n",
      "M 2.8 - 18km SSE of Guanica, Puerto Rico\n",
      "M 5.8 - 114km ESE of Neiafu, Tonga\n",
      "M 3.6 - 21km SE of Tanaga Volcano, Alaska\n",
      "M 4.0 - 76km ESE of Petropavlovsk-Kamchatskiy, Russia\n",
      "M 2.7 - 25km S of Guanica, Puerto Rico\n",
      "M 2.7 - 13km SSE of Guanica, Puerto Rico\n",
      "M 2.7 - 13km SSE of Guanica, Puerto Rico\n",
      "M 2.8 - 19km SSE of Guanica, Puerto Rico\n",
      "M 4.3 - 3km W of Kenari, Indonesia\n",
      "M 4.5 - 9km N of Dir, Pakistan\n",
      "M 3.1 - 22km SSE of Guanica, Puerto Rico\n",
      "M 2.7 - 3km W of Tallaboa, Puerto Rico\n",
      "M 4.8 - 182km SSE of Naze, Japan\n",
      "M 2.7 - 10km SE of Guanica, Puerto Rico\n",
      "M 4.2 - 3km NE of Aratoca, Colombia\n",
      "M 2.5 - 13km SSE of Guanica, Puerto Rico\n",
      "M 2.7 - 4km S of Big Lake, Alaska\n",
      "M 2.6 - 12km SSE of Guanica, Puerto Rico\n",
      "M 3.0 - 142km NE of Nome, Alaska\n",
      "M 2.7 - 19km SSE of Guanica, Puerto Rico\n",
      "M 2.5 - 19km SSE of Guanica, Puerto Rico\n",
      "M 2.8 - 11km SE of Guanica, Puerto Rico\n",
      "M 2.9 - 2km SSW of Penuelas, Puerto Rico\n",
      "M 2.5 - 7km S of Indios, Puerto Rico\n",
      "M 2.7 - 14km SSE of Guanica, Puerto Rico\n",
      "M 2.5 - 65km NE of Talkeetna, Alaska\n",
      "M 2.8 - 4km WNW of Wellington, Kansas\n",
      "M 2.6 - 19km SSE of Guanica, Puerto Rico\n",
      "M 2.5 - 24km SSE of Guanica, Puerto Rico\n",
      "M 3.1 - 21km SSE of Guanica, Puerto Rico\n",
      "M 3.3 - 21km SSE of Guanica, Puerto Rico\n",
      "M 3.4 - 58km N of Nikiski, Alaska\n",
      "M 2.6 - 9km SSE of Maria Antonia, Puerto Rico\n",
      "M 4.6 - 2km N of Jincheng, China\n",
      "M 3.7 - 7km W of Cobb, CA\n",
      "M 5.4 - Southern East Pacific Rise\n",
      "M 2.7 - 9km S of Indios, Puerto Rico\n",
      "M 2.8 - 15km S of Indios, Puerto Rico\n",
      "M 2.5 - 6km ENE of Pahala, Hawaii\n",
      "M 2.5 - 6km SW of Guanica, Puerto Rico\n",
      "M 2.5 - 7km SSW of Guanica, Puerto Rico\n",
      "M 5.0 - 155km NW of Kota Ternate, Indonesia\n",
      "M 2.5 - 2km SSW of Guanica, Puerto Rico\n",
      "M 5.5 - 174km S of Sarangani, Philippines\n",
      "M 2.5 - 16km SE of Anza, CA\n",
      "M 2.6 - 2km S of Guayanilla, Puerto Rico\n",
      "M 2.8 - 14km SSE of Guanica, Puerto Rico\n",
      "M 2.8 - 5km SSE of Guanica, Puerto Rico\n",
      "M 2.5 - 9km SW of Guanica, Puerto Rico\n",
      "M 5.3 - Southern Mid-Atlantic Ridge\n",
      "M 2.9 - 13km SSE of Guanica, Puerto Rico\n",
      "M 4.0 - 45km S of Farkhar, Afghanistan\n",
      "M 3.0 - 7km S of Indios, Puerto Rico\n",
      "M 2.6 - 5km SSE of Guanica, Puerto Rico\n",
      "M 4.8 - 68km ESE of Karpathos, Greece\n",
      "M 2.7 - 11km SE of Guanica, Puerto Rico\n",
      "M 3.0 - 15km SSE of Guanica, Puerto Rico\n",
      "M 4.6 - 11km S of Npongge, Indonesia\n",
      "M 2.9 - 27km E of Honaunau-Napoopoo, Hawaii\n",
      "M 2.7 - 67km W of Pole Ojea, Puerto Rico\n",
      "M 4.7 - South of the Fiji Islands\n",
      "M 2.5 - 11km SSE of Maria Antonia, Puerto Rico\n",
      "M 3.5 - 3km SSW of Indios, Puerto Rico\n",
      "M 4.5 - 67km ESE of Karpathos, Greece\n",
      "M 2.5 - 4km N of Yucca Valley, CA\n",
      "M 2.6 - 5km SE of La Parguera, Puerto Rico\n",
      "M 2.9 - 6km SE of Guanica, Puerto Rico\n",
      "M 4.6 - 111km ESE of Zyrya, Azerbaijan\n",
      "M 3.9 - 4km SW of Sterling, Alaska\n",
      "M 2.6 - 9km SSW of Guanica, Puerto Rico\n",
      "M 2.7 - 4km N of Guayanilla, Puerto Rico\n",
      "M 3.0 - 4km W of Santo Domingo, Puerto Rico\n",
      "M 3.0 - 1km ENE of Guayanilla, Puerto Rico\n",
      "M 3.4 - 0km N of Magas Arriba, Puerto Rico\n",
      "M 3.0 - 5km SW of Sequim, Washington\n",
      "M 2.6 - 7km S of Guanica, Puerto Rico\n",
      "M 2.9 - 12km SSE of Guanica, Puerto Rico\n",
      "M 2.6 - 11km S of La Parguera, Puerto Rico\n",
      "M 2.6 - 63km W of Petrolia, CA\n",
      "M 2.8 - 18km SSE of Cohoe, Alaska\n",
      "M 2.6 - 9km NW of Morehead, Kentucky\n",
      "M 3.0 - 0km SW of Guayanilla, Puerto Rico\n",
      "M 5.1 - Southern Mid-Atlantic Ridge\n",
      "M 2.6 - 2km SW of Santo Domingo, Puerto Rico\n",
      "M 2.9 - 20km S of Guanica, Puerto Rico\n",
      "M 4.8 - 76km WNW of San Antonio de los Cobres, Argentina\n",
      "M 3.1 - 1km NW of Santo Domingo, Puerto Rico\n",
      "M 2.7 - 13km S of Fern Acres, Hawaii\n",
      "M 4.7 - 30km E of Lemito, Indonesia\n",
      "M 3.2 - 15km SE of Guanica, Puerto Rico\n",
      "M 4.6 - 15km N of Sincik, Turkey\n",
      "M 4.2 - 45km SSW of Puerto San Jose, Guatemala\n",
      "M 2.5 - 2km SSW of Indios, Puerto Rico\n",
      "M 4.8 - 43km N of La Serena, Chile\n",
      "M 4.6 - 11km E of Bagontapay, Philippines\n",
      "M 2.7 - 3km SW of Indios, Puerto Rico\n",
      "M 3.4 - 66km S of Bodden Town, Cayman Islands\n",
      "M 2.5 - 1km E of Maria Antonia, Puerto Rico\n",
      "M 2.5 - 10km S of Indios, Puerto Rico\n",
      "M 2.5 - 5km SSE of La Parguera, Puerto Rico\n",
      "M 2.5 - 11km SSE of Indios, Puerto Rico\n",
      "M 4.8 - 50km SSW of Ovalle, Chile\n",
      "M 2.6 - 7km SE of Indios, Puerto Rico\n",
      "M 4.6 - 202km WSW of Longyearbyen, Svalbard and Jan Mayen\n",
      "M 2.6 - 80km NNW of Talkeetna, Alaska\n",
      "M 2.9 - 27km S of Guanica, Puerto Rico\n",
      "M 2.8 - 6km WSW of Cold Springs, NV\n",
      "M 3.7 - 6km WNW of Cobb, CA\n",
      "M 2.8 - 6km W of Cobb, CA\n",
      "M 3.5 - 75km NNE of Van Horn, Texas\n",
      "M 2.5 - 5km SSE of Indios, Puerto Rico\n",
      "M 4.5 - 111km WNW of Francisco Pizarro, Colombia\n",
      "M 2.5 - 11km SSE of Guanica, Puerto Rico\n",
      "M 4.6 - 89km WSW of San Juan del Sur, Nicaragua\n",
      "M 2.9 - 3km SSW of Guanica, Puerto Rico\n",
      "M 4.4 - 57km E of Ainaro, East Timor\n",
      "M 5.0 - 51km NNE of Chamba, India\n",
      "M 2.8 - 1km ESE of Maria Antonia, Puerto Rico\n",
      "M 2.7 - 4km SE of La Parguera, Puerto Rico\n",
      "M 2.9 - 10km S of Guanica, Puerto Rico\n",
      "M 4.6 - 59km ESE of Karpathos, Greece\n",
      "M 2.5 - 4km ENE of New Idria, CA\n",
      "M 4.9 - 151km SSE of Taron, Papua New Guinea\n",
      "M 2.9 - 5km WSW of Guanica, Puerto Rico\n",
      "M 4.6 - 17km N of Ndoi Island, Fiji\n",
      "M 4.4 - 216km WSW of Longyearbyen, Svalbard and Jan Mayen\n",
      "M 3.1 - 7km SW of Guanica, Puerto Rico\n",
      "M 2.7 - 28km W of Petrolia, CA\n",
      "M 2.6 - 4km SW of Tallaboa, Puerto Rico\n",
      "M 2.8 - 9km S of Guanica, Puerto Rico\n",
      "M 3.2 - 7km SSW of Guanica, Puerto Rico\n",
      "M 2.8 - 5km SE of Guanica, Puerto Rico\n",
      "M 3.0 - 2km SSW of Guayanilla, Puerto Rico\n",
      "M 2.9 - 6km SSE of Guanica, Puerto Rico\n",
      "M 3.2 - 3km S of Tallaboa, Puerto Rico\n",
      "M 5.9 - 48km NNW of Saumlaki, Indonesia\n",
      "M 4.8 - East of the North Island of New Zealand\n",
      "M 4.8 - 21km SSE of Hualian, Taiwan\n",
      "M 2.7 - 2km S of Maria Antonia, Puerto Rico\n",
      "M 4.4 - 80km SSE of Putre, Chile\n",
      "M 3.1 - 6km SSE of Maria Antonia, Puerto Rico\n",
      "M 2.6 - 6km S of Indios, Puerto Rico\n",
      "M 2.5 - 24km ESE of Little Lake, CA\n",
      "M 2.7 - 6km SSE of Ponce, Puerto Rico\n",
      "M 3.5 - 55km N of Isabela, Puerto Rico\n",
      "M 2.7 - 4km S of Indios, Puerto Rico\n",
      "M 2.8 - 65km NNE of Redoubt Volcano, Alaska\n",
      "M 2.6 - 37km WNW of West Yellowstone, Montana\n",
      "M 2.5 - 4km SE of Maria Antonia, Puerto Rico\n",
      "M 4.5 - 114km SSW of Uyuni, Bolivia\n",
      "M 5.0 - 59km W of Ilioilio, Philippines\n",
      "M 4.3 - 19km S of Makurazaki, Japan\n",
      "M 3.4 - 108km NE of Road Town, British Virgin Islands\n",
      "M 3.2 - 66km N of Isabela, Puerto Rico\n",
      "M 3.4 - 54km N of Isabela, Puerto Rico\n",
      "M 5.0 - 11km S of Kale, Turkey\n",
      "M 3.3 - 55km NNW of Valdez, Alaska\n",
      "M 3.3 - 17km W of Johannesburg, CA\n",
      "M 4.3 - 20km S of Saray, Turkey\n",
      "M 3.0 - 18km SSE of Guanica, Puerto Rico\n",
      "M 4.3 - 21km NE of Roshtqal'a, Tajikistan\n",
      "M 5.2 - 108km WNW of Kirakira, Solomon Islands\n",
      "M 4.6 - 20km S of Sarangani, Philippines\n",
      "M 3.2 - 11km S of Indios, Puerto Rico\n"
     ]
    }
   ],
   "source": [
    "# pull out the title from each earthquake listing\n",
    "\n",
    "for q in quakes:\n",
    "    print(q['properties']['title'])"
   ]
  },
  {
   "cell_type": "code",
   "execution_count": 8,
   "metadata": {},
   "outputs": [
    {
     "name": "stdout",
     "output_type": "stream",
     "text": [
      "392\n"
     ]
    }
   ],
   "source": [
    "# pull out magnitudes and depths into a Pandas dataframe, using\n",
    "# a more compact Python syntax for iterating through lists\n",
    "\n",
    "d = {'magnitude': [q['properties']['mag'] for q in quakes],\n",
    "     'depth': [q['geometry']['coordinates'][2] for q in quakes]}\n",
    "\n",
    "df = pd.DataFrame.from_dict(d)\n",
    "\n",
    "# how many earthquakes were loaded into the dataframe?\n",
    "print(len(df))"
   ]
  },
  {
   "cell_type": "code",
   "execution_count": 9,
   "metadata": {},
   "outputs": [
    {
     "name": "stdout",
     "output_type": "stream",
     "text": [
      "   magnitude  depth\n",
      "0       4.90  33.72\n",
      "1       3.09   8.00\n",
      "2       5.00  10.00\n",
      "3       2.49  10.00\n",
      "4       3.99   8.98\n"
     ]
    }
   ],
   "source": [
    "# print the first few lines of data\n",
    "\n",
    "print(df.head())"
   ]
  },
  {
   "cell_type": "code",
   "execution_count": 10,
   "metadata": {},
   "outputs": [
    {
     "name": "stdout",
     "output_type": "stream",
     "text": [
      "        magnitude       depth\n",
      "count  392.000000  392.000000\n",
      "mean     3.372959   35.287296\n",
      "std      0.899192   76.509633\n",
      "min      2.450000   -1.890000\n",
      "25%      2.637500    9.000000\n",
      "50%      2.950000   11.000000\n",
      "75%      4.200000   18.497500\n",
      "max      5.900000  601.590000\n"
     ]
    }
   ],
   "source": [
    "# print some descriptive statistics\n",
    "\n",
    "print(df.describe())"
   ]
  },
  {
   "cell_type": "code",
   "execution_count": 11,
   "metadata": {},
   "outputs": [
    {
     "data": {
      "text/plain": [
       "<matplotlib.axes._subplots.AxesSubplot at 0x22b37c17208>"
      ]
     },
     "execution_count": 11,
     "metadata": {},
     "output_type": "execute_result"
    },
    {
     "data": {
      "image/png": "[encoded data removed]",
      "text/plain": [
       "<Figure size 432x288 with 1 Axes>"
      ]
     },
     "metadata": {
      "needs_background": "light"
     },
     "output_type": "display_data"
    }
   ],
   "source": [
    "# plot the depth vs. magnitude\n",
    "\n",
    "df.plot(x='magnitude', y='depth', kind='scatter')"
   ]
  },
  {
   "cell_type": "code",
   "execution_count": 12,
   "metadata": {},
   "outputs": [
    {
     "name": "stdout",
     "output_type": "stream",
     "text": [
      "file saved\n"
     ]
    }
   ],
   "source": [
    "# save the dataframe to disk\n",
    "\n",
    "df.to_csv('usgs_earthquake_data.csv')\n",
    "\n",
    "print('file saved')"
   ]
  },
  {
   "cell_type": "code",
   "execution_count": 15,
   "metadata": {},
   "outputs": [
    {
     "name": "stdout",
     "output_type": "stream",
     "text": [
      "   Unnamed: 0  magnitude  depth\n",
      "0           0       4.90  33.72\n",
      "1           1       3.09   8.00\n",
      "2           2       5.00  10.00\n",
      "3           3       2.49  10.00\n",
      "4           4       3.99   8.98\n"
     ]
    }
   ],
   "source": [
    "# read it back later\n",
    "\n",
    "new_df = pd.read_csv('usgs_earthquake_data.csv')\n",
    "\n",
    "print(new_df.head())"
   ]
  },
  {
   "cell_type": "code",
   "execution_count": null,
   "metadata": {
    "collapsed": true
   },
   "outputs": [],
   "source": []
  },
  {
   "cell_type": "code",
   "execution_count": null,
   "metadata": {
    "collapsed": true
   },
   "outputs": [],
   "source": []
  },
  {
   "cell_type": "code",
   "execution_count": null,
   "metadata": {
    "collapsed": true
   },
   "outputs": [],
   "source": []
  },
  {
   "cell_type": "markdown",
   "metadata": {},
   "source": [
    "# Part 2: Querying an API endpoint\n",
    "\n",
    "### Google Maps Geocoding API\n",
    "\n",
    "Google has lots of APIs that let you access its services through code instead of through GUI apps. This one from Google Maps lets you look up the latitude-longitude coordinates of street addresses.\n",
    "\n",
    "It works similarly to the earthquakes example, but with query parameters added to the URL endpoint!\n",
    "\n",
    "**API documentation:**  \n",
    "https://developers.google.com/maps/documentation/geocoding/intro\n",
    "\n",
    "**API endpoint:**  \n",
    "https://maps.googleapis.com/maps/api/geocode/json\n",
    "\n",
    "**API endpoint with query parameters:**  \n",
    "https://maps.googleapis.com/maps/api/geocode/json?address=Wurster+Hall"
   ]
  },
  {
   "cell_type": "code",
   "execution_count": null,
   "metadata": {
    "collapsed": true
   },
   "outputs": [],
   "source": [
    "import json    # library for working with JSON-formatted text strings\n",
    "import requests  # library for accessing content from web URLs\n",
    "\n",
    "import pprint  # library for making Python data structures readable\n",
    "pp = pprint.PrettyPrinter()"
   ]
  },
  {
   "cell_type": "code",
   "execution_count": null,
   "metadata": {},
   "outputs": [],
   "source": [
    "# we have to encode the search query so that it can be passed as a URL, \n",
    "# with spaces and other special characters removed\n",
    "\n",
    "endpoint = 'https://maps.googleapis.com/maps/api/geocode/json'\n",
    "\n",
    "params = {'address': 'young library uky'}\n",
    "\n",
    "url = requests.Request('GET', endpoint, params=params).prepare().url\n",
    "print(url)"
   ]
  },
  {
   "cell_type": "code",
   "execution_count": null,
   "metadata": {},
   "outputs": [],
   "source": [
    "# download and parse the results\n",
    "\n",
    "response = requests.get(url)\n",
    "results = response.text\n",
    "data = json.loads(results)\n",
    "\n",
    "print(data)"
   ]
  },
  {
   "cell_type": "code",
   "execution_count": null,
   "metadata": {},
   "outputs": [],
   "source": [
    "# print it more nicely\n",
    "\n",
    "pp.pprint(data)"
   ]
  },
  {
   "cell_type": "code",
   "execution_count": null,
   "metadata": {},
   "outputs": [],
   "source": [
    "# pull out the lat-lon coordinates\n",
    "\n",
    "for r in data['results']:\n",
    "    coords = r['geometry']['location']\n",
    "    print(coords['lat'], coords['lng'])"
   ]
  },
  {
   "cell_type": "markdown",
   "metadata": {},
   "source": [
    "### Exercises\n",
    "\n",
    "1. Search for some other addresses or landmarks!\n",
    "2. Take a look at the [API documentation](https://developers.google.com/maps/documentation/geocoding/intro). What are the usage limits?"
   ]
  },
  {
   "cell_type": "code",
   "execution_count": null,
   "metadata": {
    "collapsed": true
   },
   "outputs": [],
   "source": []
  },
  {
   "cell_type": "code",
   "execution_count": null,
   "metadata": {
    "collapsed": true
   },
   "outputs": [],
   "source": []
  },
  {
   "cell_type": "code",
   "execution_count": null,
   "metadata": {
    "collapsed": true
   },
   "outputs": [],
   "source": []
  },
  {
   "cell_type": "markdown",
   "metadata": {},
   "source": [
    "# Part 3: Querying an API with authentication\n",
    "\n",
    "### Twitter REST APIs\n",
    "\n",
    "Twitter's APIs also operate over the web, but they require a back-and-forth authentication process at the beginning of each connection. It's easier to have a Python library handle this than to create the query URLs ourselves.\n",
    "\n",
    "The Twitter \"REST\" APIs perform stand-alone operations: you submit a query and receive results, like in earlier examples. ([REST](https://en.wikipedia.org/wiki/Representational_state_transfer) is a particular set of guidelines that many APIs follow.) Twitter also has a \"streaming\" API that continues sending results in real time until you disconnect.\n",
    "\n",
    "**API documentation:**  \n",
    "https://dev.twitter.com/rest/public  \n",
    "https://dev.twitter.com/overview/api/tweets\n",
    "\n",
    "**Documentation for the Python helper library**:  \n",
    "https://github.com/geduldig/TwitterAPI"
   ]
  },
  {
   "cell_type": "code",
   "execution_count": 22,
   "metadata": {},
   "outputs": [],
   "source": [
    "from TwitterAPI import TwitterAPI\n",
    "\n",
    "import pprint  # library for making Python data structures readable\n",
    "pp = pprint.PrettyPrinter()"
   ]
  },
  {
   "cell_type": "code",
   "execution_count": 26,
   "metadata": {},
   "outputs": [],
   "source": [
    "# these keys and tokens are for the Twitter account named @cp255demo2\n",
    "consumer_key = 'Bv0IwVzDqMTvWwrrDznsltjth'\n",
    "consumer_secret = '6hhd8FSjgOD0j8gWt7D0AUNzAPolT4LguTQrsEYXQZYzNhGzDD'\n",
    "access_token = '3788395579-Sze621y2fEBLxeP7Tk4gfZU0K8GHtGwaGvWvMRG'\n",
    "access_token_secret = 'aLxGudchDv0lwjpSAR9JOw2Npsv5A9qLn2rZFxq6f2oXc'"
   ]
  },
  {
   "cell_type": "code",
   "execution_count": 25,
   "metadata": {},
   "outputs": [
    {
     "ename": "ModuleNotFoundError",
     "evalue": "No module named 'keys'",
     "output_type": "error",
     "traceback": [
      "\u001b[1;31m---------------------------------------------------------------------------\u001b[0m",
      "\u001b[1;31mModuleNotFoundError\u001b[0m                       Traceback (most recent call last)",
      "\u001b[1;32m<ipython-input-25-481e07d5159d>\u001b[0m in \u001b[0;36m<module>\u001b[1;34m\u001b[0m\n\u001b[0;32m      2\u001b[0m \u001b[1;31m# same directory as this notebook\u001b[0m\u001b[1;33m\u001b[0m\u001b[1;33m\u001b[0m\u001b[1;33m\u001b[0m\u001b[0m\n\u001b[0;32m      3\u001b[0m \u001b[1;33m\u001b[0m\u001b[0m\n\u001b[1;32m----> 4\u001b[1;33m \u001b[1;32mfrom\u001b[0m \u001b[0mkeys\u001b[0m \u001b[1;32mimport\u001b[0m \u001b[1;33m*\u001b[0m\u001b[1;33m\u001b[0m\u001b[1;33m\u001b[0m\u001b[0m\n\u001b[0m",
      "\u001b[1;31mModuleNotFoundError\u001b[0m: No module named 'keys'"
     ]
    }
   ],
   "source": [
    "# import API credentials from keys.py file in the\n",
    "# same directory as this notebook\n",
    "\n",
    "#from keys import *"
   ]
  },
  {
   "cell_type": "code",
   "execution_count": 27,
   "metadata": {},
   "outputs": [
    {
     "name": "stdout",
     "output_type": "stream",
     "text": [
      "Connection is set up but not tested\n"
     ]
    }
   ],
   "source": [
    "# set up an API connection using credentials from the keys file\n",
    "\n",
    "api = TwitterAPI(consumer_key, consumer_secret, \n",
    "                 access_token, access_token_secret)\n",
    "\n",
    "print(\"Connection is set up but not tested\")"
   ]
  },
  {
   "cell_type": "markdown",
   "metadata": {},
   "source": [
    "### Making a simple data request"
   ]
  },
  {
   "cell_type": "code",
   "execution_count": 28,
   "metadata": {},
   "outputs": [
    {
     "name": "stdout",
     "output_type": "stream",
     "text": [
      "RT @UKFootball: #SpringPractice Day ☝️ ✅\n",
      "\n",
      "#BBN #WhyNot?  😼🏈 https://t.co/4LLEJi7eAp\n"
     ]
    }
   ],
   "source": [
    "# most recent tweet from @UCBerkeley's timeline\n",
    "\n",
    "endpoint = 'statuses/user_timeline'\n",
    "params = {\n",
    "    'screen_name': 'UKAthletics', \n",
    "    'count': 1\n",
    "}\n",
    "r = api.request(endpoint, params)\n",
    "\n",
    "for tweet in r.get_iterator():\n",
    "    print(tweet['text'])"
   ]
  },
  {
   "cell_type": "code",
   "execution_count": 29,
   "metadata": {},
   "outputs": [
    {
     "name": "stdout",
     "output_type": "stream",
     "text": [
      "{'contributors': None,\n",
      " 'coordinates': None,\n",
      " 'created_at': 'Tue Mar 03 17:49:07 +0000 2020',\n",
      " 'entities': {'hashtags': [{'indices': [16, 31], 'text': 'SpringPractice'},\n",
      "                           {'indices': [42, 46], 'text': 'BBN'},\n",
      "                           {'indices': [47, 54], 'text': 'WhyNot'}],\n",
      "              'media': [{'display_url': 'pic.twitter.com/4LLEJi7eAp',\n",
      "                         'expanded_url': 'https://twitter.com/UKFootball/status/1234897262699900928/photo/1',\n",
      "                         'id': 1234896972303060992,\n",
      "                         'id_str': '1234896972303060992',\n",
      "                         'indices': [60, 83],\n",
      "                         'media_url': 'http://pbs.twimg.com/tweet_video_thumb/ESM8QOhUUAAmvxy.jpg',\n",
      "                         'media_url_https': 'https://pbs.twimg.com/tweet_video_thumb/ESM8QOhUUAAmvxy.jpg',\n",
      "                         'sizes': {'large': {'h': 750,\n",
      "                                             'resize': 'fit',\n",
      "                                             'w': 1000},\n",
      "                                   'medium': {'h': 750,\n",
      "                                              'resize': 'fit',\n",
      "                                              'w': 1000},\n",
      "                                   'small': {'h': 510,\n",
      "                                             'resize': 'fit',\n",
      "                                             'w': 680},\n",
      "                                   'thumb': {'h': 150,\n",
      "                                             'resize': 'crop',\n",
      "                                             'w': 150}},\n",
      "                         'source_status_id': 1234897262699900928,\n",
      "                         'source_status_id_str': '1234897262699900928',\n",
      "                         'source_user_id': 360022514,\n",
      "                         'source_user_id_str': '360022514',\n",
      "                         'type': 'photo',\n",
      "                         'url': 'https://t.co/4LLEJi7eAp'}],\n",
      "              'symbols': [],\n",
      "              'urls': [],\n",
      "              'user_mentions': [{'id': 360022514,\n",
      "                                 'id_str': '360022514',\n",
      "                                 'indices': [3, 14],\n",
      "                                 'name': 'Kentucky Football',\n",
      "                                 'screen_name': 'UKFootball'}]},\n",
      " 'extended_entities': {'media': [{'display_url': 'pic.twitter.com/4LLEJi7eAp',\n",
      "                                  'expanded_url': 'https://twitter.com/UKFootball/status/1234897262699900928/photo/1',\n",
      "                                  'id': 1234896972303060992,\n",
      "                                  'id_str': '1234896972303060992',\n",
      "                                  'indices': [60, 83],\n",
      "                                  'media_url': 'http://pbs.twimg.com/tweet_video_thumb/ESM8QOhUUAAmvxy.jpg',\n",
      "                                  'media_url_https': 'https://pbs.twimg.com/tweet_video_thumb/ESM8QOhUUAAmvxy.jpg',\n",
      "                                  'sizes': {'large': {'h': 750,\n",
      "                                                      'resize': 'fit',\n",
      "                                                      'w': 1000},\n",
      "                                            'medium': {'h': 750,\n",
      "                                                       'resize': 'fit',\n",
      "                                                       'w': 1000},\n",
      "                                            'small': {'h': 510,\n",
      "                                                      'resize': 'fit',\n",
      "                                                      'w': 680},\n",
      "                                            'thumb': {'h': 150,\n",
      "                                                      'resize': 'crop',\n",
      "                                                      'w': 150}},\n",
      "                                  'source_status_id': 1234897262699900928,\n",
      "                                  'source_status_id_str': '1234897262699900928',\n",
      "                                  'source_user_id': 360022514,\n",
      "                                  'source_user_id_str': '360022514',\n",
      "                                  'type': 'animated_gif',\n",
      "                                  'url': 'https://t.co/4LLEJi7eAp',\n",
      "                                  'video_info': {'aspect_ratio': [4, 3],\n",
      "                                                 'variants': [{'bitrate': 0,\n",
      "                                                               'content_type': 'video/mp4',\n",
      "                                                               'url': 'https://video.twimg.com/tweet_video/ESM8QOhUUAAmvxy.mp4'}]}}]},\n",
      " 'favorite_count': 0,\n",
      " 'favorited': False,\n",
      " 'geo': None,\n",
      " 'id': 1234898612091543552,\n",
      " 'id_str': '1234898612091543552',\n",
      " 'in_reply_to_screen_name': None,\n",
      " 'in_reply_to_status_id': None,\n",
      " 'in_reply_to_status_id_str': None,\n",
      " 'in_reply_to_user_id': None,\n",
      " 'in_reply_to_user_id_str': None,\n",
      " 'is_quote_status': False,\n",
      " 'lang': 'und',\n",
      " 'place': None,\n",
      " 'possibly_sensitive': False,\n",
      " 'retweet_count': 27,\n",
      " 'retweeted': False,\n",
      " 'retweeted_status': {'contributors': None,\n",
      "                      'coordinates': None,\n",
      "                      'created_at': 'Tue Mar 03 17:43:45 +0000 2020',\n",
      "                      'entities': {'hashtags': [{'indices': [0, 15],\n",
      "                                                 'text': 'SpringPractice'},\n",
      "                                                {'indices': [26, 30],\n",
      "                                                 'text': 'BBN'},\n",
      "                                                {'indices': [31, 38],\n",
      "                                                 'text': 'WhyNot'}],\n",
      "                                   'media': [{'display_url': 'pic.twitter.com/4LLEJi7eAp',\n",
      "                                              'expanded_url': 'https://twitter.com/UKFootball/status/1234897262699900928/photo/1',\n",
      "                                              'id': 1234896972303060992,\n",
      "                                              'id_str': '1234896972303060992',\n",
      "                                              'indices': [44, 67],\n",
      "                                              'media_url': 'http://pbs.twimg.com/tweet_video_thumb/ESM8QOhUUAAmvxy.jpg',\n",
      "                                              'media_url_https': 'https://pbs.twimg.com/tweet_video_thumb/ESM8QOhUUAAmvxy.jpg',\n",
      "                                              'sizes': {'large': {'h': 750,\n",
      "                                                                  'resize': 'fit',\n",
      "                                                                  'w': 1000},\n",
      "                                                        'medium': {'h': 750,\n",
      "                                                                   'resize': 'fit',\n",
      "                                                                   'w': 1000},\n",
      "                                                        'small': {'h': 510,\n",
      "                                                                  'resize': 'fit',\n",
      "                                                                  'w': 680},\n",
      "                                                        'thumb': {'h': 150,\n",
      "                                                                  'resize': 'crop',\n",
      "                                                                  'w': 150}},\n",
      "                                              'type': 'photo',\n",
      "                                              'url': 'https://t.co/4LLEJi7eAp'}],\n",
      "                                   'symbols': [],\n",
      "                                   'urls': [],\n",
      "                                   'user_mentions': []},\n",
      "                      'extended_entities': {'media': [{'display_url': 'pic.twitter.com/4LLEJi7eAp',\n",
      "                                                       'expanded_url': 'https://twitter.com/UKFootball/status/1234897262699900928/photo/1',\n",
      "                                                       'id': 1234896972303060992,\n",
      "                                                       'id_str': '1234896972303060992',\n",
      "                                                       'indices': [44, 67],\n",
      "                                                       'media_url': 'http://pbs.twimg.com/tweet_video_thumb/ESM8QOhUUAAmvxy.jpg',\n",
      "                                                       'media_url_https': 'https://pbs.twimg.com/tweet_video_thumb/ESM8QOhUUAAmvxy.jpg',\n",
      "                                                       'sizes': {'large': {'h': 750,\n",
      "                                                                           'resize': 'fit',\n",
      "                                                                           'w': 1000},\n",
      "                                                                 'medium': {'h': 750,\n",
      "                                                                            'resize': 'fit',\n",
      "                                                                            'w': 1000},\n",
      "                                                                 'small': {'h': 510,\n",
      "                                                                           'resize': 'fit',\n",
      "                                                                           'w': 680},\n",
      "                                                                 'thumb': {'h': 150,\n",
      "                                                                           'resize': 'crop',\n",
      "                                                                           'w': 150}},\n",
      "                                                       'type': 'animated_gif',\n",
      "                                                       'url': 'https://t.co/4LLEJi7eAp',\n",
      "                                                       'video_info': {'aspect_ratio': [4,\n",
      "                                                                                       3],\n",
      "                                                                      'variants': [{'bitrate': 0,\n",
      "                                                                                    'content_type': 'video/mp4',\n",
      "                                                                                    'url': 'https://video.twimg.com/tweet_video/ESM8QOhUUAAmvxy.mp4'}]}}]},\n",
      "                      'favorite_count': 139,\n",
      "                      'favorited': False,\n",
      "                      'geo': None,\n",
      "                      'id': 1234897262699900928,\n",
      "                      'id_str': '1234897262699900928',\n",
      "                      'in_reply_to_screen_name': None,\n",
      "                      'in_reply_to_status_id': None,\n",
      "                      'in_reply_to_status_id_str': None,\n",
      "                      'in_reply_to_user_id': None,\n",
      "                      'in_reply_to_user_id_str': None,\n",
      "                      'is_quote_status': False,\n",
      "                      'lang': 'und',\n",
      "                      'place': None,\n",
      "                      'possibly_sensitive': False,\n",
      "                      'retweet_count': 27,\n",
      "                      'retweeted': False,\n",
      "                      'source': '<a href=\"https://mobile.twitter.com\" '\n",
      "                                'rel=\"nofollow\">Twitter Web App</a>',\n",
      "                      'text': '#SpringPractice Day ☝️ ✅\\n'\n",
      "                              '\\n'\n",
      "                              '#BBN #WhyNot?  😼🏈 https://t.co/4LLEJi7eAp',\n",
      "                      'truncated': False,\n",
      "                      'user': {'contributors_enabled': False,\n",
      "                               'created_at': 'Mon Aug 22 15:24:33 +0000 2011',\n",
      "                               'default_profile': False,\n",
      "                               'default_profile_image': False,\n",
      "                               'description': 'Official Twitter account for '\n",
      "                                              'the University of Kentucky '\n",
      "                                              'Football team | Instagram: '\n",
      "                                              'ukfootball | Tickets: '\n",
      "                                              'https://t.co/FDneVEWNwj',\n",
      "                               'entities': {'description': {'urls': [{'display_url': 'ukfootballtix.com',\n",
      "                                                                      'expanded_url': 'http://ukfootballtix.com',\n",
      "                                                                      'indices': [105,\n",
      "                                                                                  128],\n",
      "                                                                      'url': 'https://t.co/FDneVEWNwj'}]},\n",
      "                                            'url': {'urls': [{'display_url': 'ukathletics.com/football',\n",
      "                                                              'expanded_url': 'http://ukathletics.com/football',\n",
      "                                                              'indices': [0,\n",
      "                                                                          23],\n",
      "                                                              'url': 'https://t.co/1eSrgldpUY'}]}},\n",
      "                               'favourites_count': 1707,\n",
      "                               'follow_request_sent': False,\n",
      "                               'followers_count': 192962,\n",
      "                               'following': False,\n",
      "                               'friends_count': 737,\n",
      "                               'geo_enabled': True,\n",
      "                               'has_extended_profile': False,\n",
      "                               'id': 360022514,\n",
      "                               'id_str': '360022514',\n",
      "                               'is_translation_enabled': False,\n",
      "                               'is_translator': False,\n",
      "                               'lang': None,\n",
      "                               'listed_count': 906,\n",
      "                               'location': 'Kroger Field',\n",
      "                               'name': 'Kentucky Football',\n",
      "                               'notifications': False,\n",
      "                               'profile_background_color': '000000',\n",
      "                               'profile_background_image_url': 'http://abs.twimg.com/images/themes/theme1/bg.png',\n",
      "                               'profile_background_image_url_https': 'https://abs.twimg.com/images/themes/theme1/bg.png',\n",
      "                               'profile_background_tile': False,\n",
      "                               'profile_banner_url': 'https://pbs.twimg.com/profile_banners/360022514/1581452786',\n",
      "                               'profile_image_url': 'http://pbs.twimg.com/profile_images/1036728747704176640/w0QHdIrm_normal.jpg',\n",
      "                               'profile_image_url_https': 'https://pbs.twimg.com/profile_images/1036728747704176640/w0QHdIrm_normal.jpg',\n",
      "                               'profile_link_color': '0084B4',\n",
      "                               'profile_sidebar_border_color': 'FFFFFF',\n",
      "                               'profile_sidebar_fill_color': 'DDEEF6',\n",
      "                               'profile_text_color': '333333',\n",
      "                               'profile_use_background_image': True,\n",
      "                               'protected': False,\n",
      "                               'screen_name': 'UKFootball',\n",
      "                               'statuses_count': 16501,\n",
      "                               'time_zone': None,\n",
      "                               'translator_type': 'none',\n",
      "                               'url': 'https://t.co/1eSrgldpUY',\n",
      "                               'utc_offset': None,\n",
      "                               'verified': True}},\n",
      " 'source': '<a href=\"http://twitter.com/download/iphone\" '\n",
      "           'rel=\"nofollow\">Twitter for iPhone</a>',\n",
      " 'text': 'RT @UKFootball: #SpringPractice Day ☝️ ✅\\n'\n",
      "         '\\n'\n",
      "         '#BBN #WhyNot?  😼🏈 https://t.co/4LLEJi7eAp',\n",
      " 'truncated': False,\n",
      " 'user': {'contributors_enabled': False,\n",
      "          'created_at': 'Tue Mar 17 18:41:37 +0000 2009',\n",
      "          'default_profile': False,\n",
      "          'default_profile_image': False,\n",
      "          'description': 'The official Twitter account of the University of '\n",
      "                         'Kentucky Athletics Department. Facebook: Kentucky '\n",
      "                         'Wildcats; Instagram: ukathletics; #WeAreUK '\n",
      "                         '#BlueGetsIn #BBN',\n",
      "          'entities': {'description': {'urls': []},\n",
      "                       'url': {'urls': [{'display_url': 'UKathletics.com/Tickets',\n",
      "                                         'expanded_url': 'http://UKathletics.com/Tickets',\n",
      "                                         'indices': [0, 23],\n",
      "                                         'url': 'https://t.co/8igZBVnitf'}]}},\n",
      "          'favourites_count': 4898,\n",
      "          'follow_request_sent': False,\n",
      "          'followers_count': 338165,\n",
      "          'following': False,\n",
      "          'friends_count': 884,\n",
      "          'geo_enabled': True,\n",
      "          'has_extended_profile': False,\n",
      "          'id': 24929053,\n",
      "          'id_str': '24929053',\n",
      "          'is_translation_enabled': False,\n",
      "          'is_translator': False,\n",
      "          'lang': None,\n",
      "          'listed_count': 1384,\n",
      "          'location': 'Lexington, KY',\n",
      "          'name': 'Kentucky Athletics',\n",
      "          'notifications': False,\n",
      "          'profile_background_color': '000738',\n",
      "          'profile_background_image_url': 'http://abs.twimg.com/images/themes/theme9/bg.gif',\n",
      "          'profile_background_image_url_https': 'https://abs.twimg.com/images/themes/theme9/bg.gif',\n",
      "          'profile_background_tile': False,\n",
      "          'profile_banner_url': 'https://pbs.twimg.com/profile_banners/24929053/1567211740',\n",
      "          'profile_image_url': 'http://pbs.twimg.com/profile_images/875802157605408769/-DftO40K_normal.jpg',\n",
      "          'profile_image_url_https': 'https://pbs.twimg.com/profile_images/875802157605408769/-DftO40K_normal.jpg',\n",
      "          'profile_link_color': '084AE7',\n",
      "          'profile_sidebar_border_color': 'FFFFFF',\n",
      "          'profile_sidebar_fill_color': 'FFFFFF',\n",
      "          'profile_text_color': '787878',\n",
      "          'profile_use_background_image': True,\n",
      "          'protected': False,\n",
      "          'screen_name': 'UKAthletics',\n",
      "          'statuses_count': 52750,\n",
      "          'time_zone': None,\n",
      "          'translator_type': 'none',\n",
      "          'url': 'https://t.co/8igZBVnitf',\n",
      "          'utc_offset': None,\n",
      "          'verified': True}}\n"
     ]
    }
   ],
   "source": [
    "# what other data is there?\n",
    "\n",
    "pp.pprint(tweet)"
   ]
  },
  {
   "cell_type": "markdown",
   "metadata": {},
   "source": [
    "### Other API endpoints allow different types of searches"
   ]
  },
  {
   "cell_type": "code",
   "execution_count": 30,
   "metadata": {},
   "outputs": [
    {
     "name": "stdout",
     "output_type": "stream",
     "text": [
      "RT @UKBasketbalI: ITS GAMEDAY!!! Home Finale! \n",
      "\n",
      "🏀 vs Tennessee\n",
      "⏰ 9:00pm EST\n",
      "📍Rupp Arena\n",
      "📺 ESPN\n",
      "#BBN https://t.co/pIkKc5VQtP\n",
      "\n",
      "RT @DerekLAnderson: It Can Be DONE!!\n",
      "Swept the SEC w/ 16-0 Record\n",
      "27.1 Average Margin of Victory \n",
      "Scored 86 points at Halftime \n",
      "Won the NCA…\n",
      "\n",
      "RT @DerekLAnderson: It Can Be DONE!!\n",
      "Swept the SEC w/ 16-0 Record\n",
      "27.1 Average Margin of Victory \n",
      "Scored 86 points at Halftime \n",
      "Won the NCA…\n",
      "\n",
      "RT @brianwkyt: Nate Sestina surprised by his parents today!! #BBN #WKYT https://t.co/d2Q0R7iVmv\n",
      "\n",
      "@Work_Horse68 @UKSportsNetwork Just another brick in the wall. Go CATS!!! #BBN\n",
      "\n"
     ]
    }
   ],
   "source": [
    "# search for public tweets about #BBN\n",
    "\n",
    "endpoint = 'search/tweets'\n",
    "params = {\n",
    "    'q': '#BBN', \n",
    "    'count': 5\n",
    "}\n",
    "r = api.request(endpoint, params)\n",
    "\n",
    "for tweet in r.get_iterator():\n",
    "    print(tweet['text'] + '\\n')"
   ]
  },
  {
   "cell_type": "code",
   "execution_count": 33,
   "metadata": {},
   "outputs": [
    {
     "name": "stdout",
     "output_type": "stream",
     "text": [
      "RT @VandanaRajpoot_: रिट्वीट करने वाले सभी दोस्तों को फॉलो करें\n",
      "@Cute_Rupali_\n",
      "@PuriSunidhi \n",
      "@priya1_official \n",
      "@sharadprjha\n",
      "@Raghuwanshi_1\n",
      "@…\n",
      "\n",
      "Bhai koi load karwa do Mujhe paisy mery ghar aaky lelo\n",
      "\n",
      "RT @srinivasiyc: PMO से मिले इस RTI जबाब के अनुसार अगर देश के प्रधानमंत्री को 'नागरिकता कानून 1955 की धारा 3' के तहत नागरिकता दर्ज कराने की…\n",
      "\n",
      "RT @DeepikaThakur_: आज दिल्ली में जिन लोगों ने स्कूल जलाए हैं, कभी उनके पूर्वज विश्व-प्रसिद्ध तक्षशिला, नालंदा, विक्रमशिला और ओदंतपुरी जैसे…\n",
      "\n",
      "RT @YearOfTheKraken: \"Bol yeh rahe hain magar shabd hamare hain.\"\n",
      "-George Soros\n",
      "\n"
     ]
    }
   ],
   "source": [
    "# search for public tweets in Hindi\n",
    "\n",
    "endpoint = 'search/tweets'\n",
    "params = {\n",
    "    'q': '*', \n",
    "    'lang': 'hi', \n",
    "    'count': 5\n",
    "} \n",
    "r = api.request(endpoint, params)\n",
    "\n",
    "for tweet in r.get_iterator():\n",
    "    print(tweet['text'] + '\\n')"
   ]
  },
  {
   "cell_type": "code",
   "execution_count": 34,
   "metadata": {},
   "outputs": [
    {
     "name": "stdout",
     "output_type": "stream",
     "text": [
      "I've been on the Sunset strip in Hollywood many times through the years!The First time in the Summer of 2005 I was… https://t.co/qZgxDFkwmd\n",
      "\n",
      "The Corner of CLARK STREET  and SUNSET BOULEVARD...  Hollywood, California  !  😎 ... The Whiskey a go go 🔊🎶🎵🎶🎵\n",
      "\n",
      "https://t.co/Kwr1IwGohP\n",
      "\n",
      "😎 https://t.co/7rZt9Bhnmm\n",
      "\n",
      "Nobody likes you Tennessee,  why is that ? ALABAMA, GEORGIA, FLORIDA, LSU , ETC !  The National news media makes fu… https://t.co/josOnPPreN\n",
      "\n",
      "ALABAMA OWNS SEC FOOTBALL 🏈 and KENTUCKY OWNS SEC BASKETBALL🏀!  The Tennessee Volunteers ain't Jack Shit in either… https://t.co/fxU24OnbBz\n",
      "\n",
      "Hi. 😇 https://t.co/mlwgaG7VbT\n",
      "\n",
      "Happy Birthday kinleyhuesman ! @ University of Kentucky https://t.co/gS0iGHshUy\n",
      "\n",
      "I sent my mom this picture saying “another horse!!” And she replies “so you want a pony now??” https://t.co/1IxGNjYImi\n",
      "\n",
      "Congratulations to the the CKCB and UKSB on the marvelous concert tonight.  Elsa's Procession was a fitting closer… https://t.co/titahkl1CW\n",
      "\n",
      "Me ✔ I'll be in Gainesville, Florida 🏁 https://t.co/piMDk1ELlV\n",
      "\n"
     ]
    }
   ],
   "source": [
    "# search for public tweets geotagged near the UK campus\n",
    "\n",
    "endpoint = 'search/tweets'\n",
    "params = {\n",
    "    'q': '*', \n",
    "    'geocode': '38.034,-84.500,0.5km', \n",
    "    'count': 10\n",
    "} \n",
    "r = api.request(endpoint, params)\n",
    "\n",
    "for tweet in r.get_iterator():\n",
    "    print(tweet['text'] + '\\n')"
   ]
  },
  {
   "cell_type": "markdown",
   "metadata": {},
   "source": [
    "### Exercises\n",
    "\n",
    "1. Try some different search queries!\n",
    "2. Display some more data fields in addition to the tweet text"
   ]
  },
  {
   "cell_type": "code",
   "execution_count": null,
   "metadata": {
    "collapsed": true
   },
   "outputs": [],
   "source": []
  },
  {
   "cell_type": "code",
   "execution_count": null,
   "metadata": {
    "collapsed": true
   },
   "outputs": [],
   "source": []
  },
  {
   "cell_type": "code",
   "execution_count": null,
   "metadata": {
    "collapsed": true
   },
   "outputs": [],
   "source": []
  },
  {
   "cell_type": "markdown",
   "metadata": {},
   "source": [
    "### Bonus: Streaming live tweets in real time "
   ]
  },
  {
   "cell_type": "code",
   "execution_count": 37,
   "metadata": {},
   "outputs": [
    {
     "name": "stdout",
     "output_type": "stream",
     "text": [
      "Tue Mar 03 18:33:10 +0000 2020\n",
      "Trinity, FL, United States\n",
      "@MrDiddy85 Desperate ppl use all excuses - just do it: EXIT\n",
      "\n",
      "Tue Mar 03 18:33:10 +0000 2020\n",
      "İzmir, Türkiye, Türkiye\n",
      "@bodur_bodur63K 😂😂😂👍🏻\n",
      "\n",
      "Tue Mar 03 18:33:10 +0000 2020\n",
      "Cancun, Mexico\n",
      "#21 😊\n",
      "\n",
      "Tue Mar 03 18:33:10 +0000 2020\n",
      "San Jose, CA, United States\n",
      "@jamiemmacmillan @Buckaroosamurai\n",
      "\n",
      "Tue Mar 03 18:33:10 +0000 2020\n",
      "Córdoba, Argentina, Argentina\n",
      "@nexogol_nexofin @Nexofin Se quedó sin aliento\n",
      "\n",
      "Tue Mar 03 18:33:10 +0000 2020\n",
      "Montebello, CA, United States\n",
      "I love my sister ❤️ @jayyluuu\n",
      "\n",
      "Tue Mar 03 18:33:10 +0000 2020\n",
      "Querétaro, Querétaro Arteaga, México\n",
      "Real jajaja\n",
      "\n",
      "Tue Mar 03 18:33:10 +0000 2020\n",
      "Katsushika-ku, Tokyo, Japan\n",
      "葛飾区柴又六丁目 23-19 https://t.co/4dn497L1zN\n",
      "\n",
      "Tue Mar 03 18:33:10 +0000 2020\n",
      "University Park, FL, United States\n",
      "This kinda hit im not gone cap\n",
      "\n",
      "Tue Mar 03 18:33:10 +0000 2020\n",
      "London, England, United Kingdom\n",
      "#NeverBloomberg spent millions to #bloombergbought Alabama voters. But in #Selma he wouldn’t talk to them https://t.co/5lkk9W2ktY\n",
      "\n",
      "Tue Mar 03 18:33:10 +0000 2020\n",
      "Sydney, New South Wales, Australia\n",
      "@VXO @winocm Ah yes I remember that now... 🤔\n",
      "\n",
      "Tue Mar 03 18:33:10 +0000 2020\n",
      "Brooklyn, NY, United States\n",
      "@gskrthseyebrows We will have our time\n",
      "\n",
      "Tue Mar 03 18:33:10 +0000 2020\n",
      "Rio de Janeiro, Brasil, Brasil\n",
      "@GuidaTatiane Q ranço q tem a segunda dose 😓\n",
      "\n",
      "Tue Mar 03 18:33:10 +0000 2020\n",
      "Al Seeb, Oman, Oman\n",
      "@aseemah98 بمووووت اسوم والله احسن لك ما تبي تشوفي 😭😭😭😭😭😭\n",
      "\n",
      "Tue Mar 03 18:33:10 +0000 2020\n",
      "Queens, NY, United States\n",
      "@rahm3sh They are stealing worthless stuff.\n",
      "\n",
      "Tue Mar 03 18:33:10 +0000 2020\n",
      "Bojongsoang, Indonesia, Indonesia\n",
      "https://t.co/LbYkoxQ8My\n",
      "\n",
      "Tue Mar 03 18:33:10 +0000 2020\n",
      "Rio das Ostras, Brasil, Brasil\n",
      "amohhhh kkkk❤️❤️❤️\n",
      "\n",
      "Tue Mar 03 18:33:10 +0000 2020\n",
      "San Antonio, TX, United States\n",
      "I have a test in less than 30 min and I’m taking this way too lightly 🤣🤣\n",
      "\n",
      "Tue Mar 03 18:33:10 +0000 2020\n",
      "Multan, Pakistan, Pakistan\n",
      "@Letmesarcastic nice\n",
      "\n",
      "Tue Mar 03 18:33:10 +0000 2020\n",
      "San Jose Del Monte, Central Luzon, Republic of the Philippines\n",
      "doin a pabebe dance with pabebe choco baby 🤭🐶 https://t.co/MGaYwXZz9E\n",
      "\n",
      "Tue Mar 03 18:33:10 +0000 2020\n",
      "Edirne, Türkiye, Türkiye\n",
      "@mehmetserdardgn Reis iyi bir adam ama başkanı ...\n",
      "\n",
      "Tue Mar 03 18:33:10 +0000 2020\n",
      "Kent, WA, United States\n",
      "Kelly Services is hiring in Kent, WA! Read about our latest Contact Center/Customer Support job opening via the lin… https://t.co/aIUNNYnknI\n",
      "\n"
     ]
    }
   ],
   "source": [
    "# Twitter limits simultaneous connections to the streaming API,\n",
    "# so this part may not work using the demo API keys during class\n",
    "\n",
    "endpoint = 'statuses/filter'\n",
    "params = {'locations': '-180,-90,180,90'}\n",
    "r = api.request(endpoint, params)\n",
    "LIMIT = 20\n",
    "\n",
    "# 'enumerate' lets us count tweets as we receive them\n",
    "\n",
    "for i, tweet in enumerate(r.get_iterator()):\n",
    "    print(tweet['created_at'])\n",
    "    print(tweet['place']['full_name'] + ', ' + tweet['place']['country'])\n",
    "    print(tweet['text'] + '\\n')\n",
    "    if (i > LIMIT): break\n",
    "\n",
    "# close the streaming connection\n",
    "r.close()"
   ]
  },
  {
   "cell_type": "code",
   "execution_count": null,
   "metadata": {},
   "outputs": [],
   "source": []
  },
  {
   "cell_type": "code",
   "execution_count": null,
   "metadata": {
    "collapsed": true
   },
   "outputs": [],
   "source": []
  },
  {
   "cell_type": "code",
   "execution_count": null,
   "metadata": {
    "collapsed": true
   },
   "outputs": [],
   "source": []
  },
  {
   "cell_type": "markdown",
   "metadata": {},
   "source": [
    "### Exercises for the remainder of class\n",
    "\n",
    "1. Make a scatter plot of the lat-lon coordinates of earthquakes.  \n",
    "   &nbsp;\n",
    "   \n",
    "2. Using the geocoding example as a starting point, try searching the Google Maps Directions API or Elevation API instead. Descriptions are in the [API documentation](https://developers.google.com/maps/documentation/geocoding/intro).  \n",
    "   &nbsp;\n",
    "   "
   ]
  },
  {
   "cell_type": "code",
   "execution_count": null,
   "metadata": {
    "collapsed": true
   },
   "outputs": [],
   "source": []
  },
  {
   "cell_type": "markdown",
   "metadata": {
    "collapsed": true
   },
   "source": [
    "### For next time...\n",
    "\n",
    "In the next class, you will try out another API that provides data you're interested in. You will be asked to try connecting to it using Python code, and performing some basic operations on the data.  To come prepared for next time, please explore some of the transportation-related APIs that may be valuable, and choose one that is of interest to you.\n",
    "\n",
    "Here are a a few to get you started. \n",
    "\n",
    "Public Transit\n",
    "https://www.programmableweb.com/news/how-smart-cities-are-using-apis-public-transport-apis/2014/05/22\n",
    "\n",
    "Long-Distance Travel\n",
    "http://www.olery.com/blog/the-best-travel-apis-discover-contribute/ \n",
    "\n",
    "Transportation\n",
    "https://www.programmableweb.com/category/transportation/api\n",
    "\n",
    "\n",
    "Start by reading the public transit page, because that provides a nice overview of the types of applications out there, and some of the issues in using them.  These lessons often apply to traffic and transportation more generally.  \n",
    "\n",
    "Keep in mind that there are a number of different organizations that provide APIs, with different motivations and quality of what is provided.  If it is a private company, what is their business model?  What is the underlying source of the data, and what might that imply about how representative it is of the real world?  There is a ton of stuff out there.  How do we go about sorting out what is useful to us and what is now.  Spend some time exploring these and thinking about these questions.  \n"
   ]
  },
  {
   "cell_type": "code",
   "execution_count": null,
   "metadata": {
    "collapsed": true
   },
   "outputs": [],
   "source": []
  },
  {
   "cell_type": "code",
   "execution_count": null,
   "metadata": {
    "collapsed": true
   },
   "outputs": [],
   "source": []
  }
 ],
 "metadata": {
  "anaconda-cloud": {},
  "kernelspec": {
   "display_name": "Python 3",
   "language": "python",
   "name": "python3"
  },
  "language_info": {
   "codemirror_mode": {
    "name": "ipython",
    "version": 3
   },
   "file_extension": ".py",
   "mimetype": "text/x-python",
   "name": "python",
   "nbconvert_exporter": "python",
   "pygments_lexer": "ipython3",
   "version": "3.7.4"
  }
 },
 "nbformat": 4,
 "nbformat_minor": 1
}
