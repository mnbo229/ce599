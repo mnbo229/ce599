{
 "cells": [
  {
   "cell_type": "markdown",
   "metadata": {},
   "source": [
    "# Networks\n",
    "\n",
    "This lesson introduces the network data structure.  Aspects of this lesson are adapted from Andrew Brooks' tutorial on graph optimization.  \n",
    "\n",
    "https://www.datacamp.com/community/tutorials/networkx-python-graph-tutorial\n",
    "\n",
    "It also draws from theory material presented at PyCon 2015 by Celia La and Sarah Guido.  \n",
    "\n",
    "https://github.com/sarguido/networkx-tutorial\n",
    "\n",
    "You will need to install two packages:\n",
    "\n",
    "pip install networkx\n",
    "pip install imageio\n",
    "\n",
    "The networkx documentation is here: \n",
    "\n",
    "https://networkx.github.io/"
   ]
  },
  {
   "cell_type": "code",
   "execution_count": 1,
<<<<<<< HEAD
   "metadata": {},
=======
   "metadata": {
    "collapsed": true
   },
>>>>>>> upstream/master
   "outputs": [],
   "source": [
    "#data structure can be primative or non-primative\n",
    "#primative: int, float, bool, string/char: I cannot break it down any further\n",
    "#non-primative:aray(all off same type-either int or float etc.),list(can be of different types), dictionary (key(which should be unique)-value pairs),tuple,set,file,queue (FIFO), stack (LIFO), Linked List, graph or network: \n",
    "#I can break them down further\n",
    "#GRAPH/NETWORK:REPRESENTATION WHERE I HAVE NODES AND LINKS (EDGES) THAT CAN BE DIRECTIONAL OR UNDIRECTIONAL (WITH ARROWS OR WITHOUT)\n",
    "#by far we used list, dstaframe, panel (collection of data frames like tabs in excle sheets),matrix,np.array"
   ]
  },
  {
   "cell_type": "code",
   "execution_count": 2,
   "metadata": {},
   "outputs": [],
   "source": [
    "# imports\n",
    "import pandas as pd\n",
    "import networkx as nx\n",
    "import matplotlib.pyplot as plt\n",
    "\n",
    "%matplotlib inline"
   ]
  },
  {
   "cell_type": "markdown",
   "metadata": {
    "collapsed": true
   },
   "source": [
    "# Intro to NetworkX\n",
    "\n",
    "### Adding & editing graph nodes\n",
    "\n",
    "We'll first take a look at creating a graph, and adding/editing nodes:"
   ]
  },
  {
   "cell_type": "code",
<<<<<<< HEAD
   "execution_count": 3,
   "metadata": {},
=======
   "execution_count": 2,
   "metadata": {
    "collapsed": false
   },
>>>>>>> upstream/master
   "outputs": [
    {
     "data": {
      "text/plain": [
<<<<<<< HEAD
       "NodeView((1, 2, 3, 'four', 5))"
      ]
     },
     "execution_count": 3,
=======
       "NodeView((1, 2, 3, 5, 'four'))"
      ]
     },
     "execution_count": 2,
>>>>>>> upstream/master
     "metadata": {},
     "output_type": "execute_result"
    }
   ],
   "source": [
    "import networkx as nx\n",
    "\n",
    "'''use g = nx.Graph() to create a graph'''\n",
    "\n",
    "g = nx.Graph()\n",
    "\n",
    "'''Lesson: use .add_node(1) to add a single node'''\n",
    "g.add_node(1)    #add one node\n",
    "\n",
    "'''Lesson: use .add_nodes_from([2, 3, 'four', 5])  to add in bulk'''\n",
    "g.add_nodes_from([2, 3, 'four', 5])  #add list of nodes\n",
    "\n",
    "g.nodes()  # run g.nodes() to view the graph/ list all the nodes in the network"
   ]
  },
  {
   "cell_type": "code",
<<<<<<< HEAD
   "execution_count": 4,
   "metadata": {},
=======
   "execution_count": 3,
   "metadata": {
    "collapsed": false
   },
>>>>>>> upstream/master
   "outputs": [
    {
     "data": {
      "text/plain": [
<<<<<<< HEAD
       "NodeView((1, 2, 3, 'four', 5))"
      ]
     },
     "execution_count": 4,
=======
       "NodeView((1, 2, 3, 5, 'four'))"
      ]
     },
     "execution_count": 3,
>>>>>>> upstream/master
     "metadata": {},
     "output_type": "execute_result"
    }
   ],
   "source": [
    "'''Note that NetworkX won't complain if we re-add pre-existing nodes'''\n",
    "\n",
    "# TODO: try re-adding nodes to see what happens\n",
    "g.add_node(1) #it is fine with that, it will over write it\n",
    "g.nodes()  # display nodes"
   ]
  },
  {
   "cell_type": "code",
<<<<<<< HEAD
   "execution_count": 5,
   "metadata": {},
=======
   "execution_count": 4,
   "metadata": {
    "collapsed": false
   },
>>>>>>> upstream/master
   "outputs": [
    {
     "data": {
      "text/plain": [
<<<<<<< HEAD
       "NodeView(('four', 5))"
      ]
     },
     "execution_count": 5,
=======
       "NodeView((1, 2, 3, 5, 'four'))"
      ]
     },
     "execution_count": 4,
>>>>>>> upstream/master
     "metadata": {},
     "output_type": "execute_result"
    }
   ],
   "source": [
    "'''Lesson: remove syntax is similar to adding, eg:\n",
    "        .remove_node()\n",
    "        .remove_nodes_from()\n",
    "'''\n",
    "\n",
    "# TODO: try removing both 1) single nodes, 2) nodes in bulk\n",
    "g.remove_node(1)  #removes the node 1\n",
    "g.remove_nodes_from([2,3])  #remove nodes 2 and 3\n",
    "\n",
    "\n",
    "g.nodes()  # display nodes"
   ]
  },
  {
   "cell_type": "markdown",
   "metadata": {},
   "source": [
    "### Adding & editing edges"
   ]
  },
  {
   "cell_type": "code",
<<<<<<< HEAD
   "execution_count": 6,
   "metadata": {},
=======
   "execution_count": 5,
   "metadata": {
    "collapsed": false
   },
>>>>>>> upstream/master
   "outputs": [
    {
     "name": "stdout",
     "output_type": "stream",
     "text": [
      "edges: [('a', 'b')]\n",
      "nodes: ['a', 'b']\n"
     ]
    }
   ],
   "source": [
    "h = nx.Graph()  # let's create a 2nd graph to play with edges\n",
    "\n",
    "'''Lesson: to create an edge, just specify the 2 nodes that define it: \n",
    "        .add_edge('a','b')\n",
    "    Note that those nodes also get added (no need to make them beforehand!)\n",
    "'''\n",
    "\n",
    "h.add_edge('a', 'b')  # no need to add nodes because edges would automatically create the nodes\n",
    "\n",
    "\n",
    "print('edges:', h.edges())  # see your new edge\n",
    "print('nodes:', h.nodes())  # verify that new nodes were also added"
   ]
  },
  {
   "cell_type": "markdown",
   "metadata": {},
   "source": [
    "### Visualizing graphs"
   ]
  },
  {
   "cell_type": "code",
<<<<<<< HEAD
   "execution_count": 7,
   "metadata": {},
   "outputs": [
    {
     "name": "stderr",
     "output_type": "stream",
     "text": [
      "C:\\Users\\mnbo229\\AppData\\Local\\Continuum\\anaconda3\\lib\\site-packages\\networkx\\drawing\\nx_pylab.py:579: MatplotlibDeprecationWarning: \n",
      "The iterable function was deprecated in Matplotlib 3.1 and will be removed in 3.3. Use np.iterable instead.\n",
      "  if not cb.iterable(width):\n"
     ]
    },
    {
     "data": {
      "image/png": "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\n",
      "text/plain": [
       "<Figure size 432x288 with 1 Axes>"
=======
   "execution_count": 6,
   "metadata": {
    "collapsed": false
   },
   "outputs": [
    {
     "data": {
      "image/png": "iVBORw0KGgoAAAANSUhEUgAAAecAAAFCCAYAAADL3BUJAAAABHNCSVQICAgIfAhkiAAAAAlwSFlz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\n",
      "text/plain": [
       "<matplotlib.figure.Figure at 0x91ea3bac88>"
>>>>>>> upstream/master
      ]
     },
     "metadata": {},
     "output_type": "display_data"
    }
   ],
   "source": [
    "\n",
    "GREEN = \"#77DD77\"\n",
    "BLUE = \"#99CCFF\"\n",
    "#it draws the nodes randomally\n",
    "nx.draw(g, node_color=GREEN, with_labels=True)  #draw g which has four and 5 after droppeind 1, 2 ,3\n",
    "nx.draw(h, node_color=BLUE, with_labels=True)  # draw h with 2 nodes and one edge\n",
    "\n"
   ]
  },
  {
   "cell_type": "markdown",
   "metadata": {},
   "source": [
    "#### How would you create the following graph?\n",
    "\n",
    "<img src=\"img/graph.png\" style=\"float:left\" width=\"200\" />"
   ]
  },
  {
   "cell_type": "code",
<<<<<<< HEAD
   "execution_count": 8,
   "metadata": {},
   "outputs": [
    {
     "data": {
      "image/png": "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\n",
      "text/plain": [
       "<Figure size 432x288 with 1 Axes>"
      ]
     },
     "metadata": {},
     "output_type": "display_data"
    }
   ],
=======
   "execution_count": 7,
   "metadata": {
    "collapsed": true
   },
   "outputs": [],
>>>>>>> upstream/master
   "source": [
    "g = nx.Graph()\n",
    "\n",
    "g.add_edges_from([('A','B'),('B','D'),('C','D'),('E','D'),('F','D')])  #adding all my edges\n",
    "nx.draw(g, node_color=BLUE, with_labels=True)"
   ]
  },
  {
   "cell_type": "markdown",
   "metadata": {},
   "source": [
    "# Directed graphs"
   ]
  },
  {
   "cell_type": "code",
<<<<<<< HEAD
   "execution_count": 9,
   "metadata": {},
=======
   "execution_count": 8,
   "metadata": {
    "collapsed": false
   },
>>>>>>> upstream/master
   "outputs": [
    {
     "name": "stdout",
     "output_type": "stream",
     "text": [
      "directed edges: [(1, 2), (2, 3)]\n"
     ]
    },
    {
<<<<<<< HEAD
     "name": "stderr",
     "output_type": "stream",
     "text": [
      "C:\\Users\\mnbo229\\AppData\\Local\\Continuum\\anaconda3\\lib\\site-packages\\networkx\\drawing\\nx_pylab.py:676: MatplotlibDeprecationWarning: \n",
      "The iterable function was deprecated in Matplotlib 3.1 and will be removed in 3.3. Use np.iterable instead.\n",
      "  if cb.iterable(node_size):  # many node sizes\n"
     ]
    },
    {
     "data": {
      "image/png": "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\n",
      "text/plain": [
       "<Figure size 432x288 with 1 Axes>"
=======
     "data": {
      "image/png": "iVBORw0KGgoAAAANSUhEUgAAAegAAAFCCAYAAAA6106EAAAABHNCSVQICAgIfAhkiAAAAAlwSFlz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\ngShoAAAc6P8DgW5/hEOIy6EAAAAASUVORK5CYII=\n",
      "text/plain": [
       "<matplotlib.figure.Figure at 0xb934c8cf98>"
>>>>>>> upstream/master
      ]
     },
     "metadata": {},
     "output_type": "display_data"
    }
   ],
   "source": [
    "'''Lesson: use nx.DiGraph() to create a new directed graph\n",
    "'''\n",
    "\n",
    "dg = nx.DiGraph()\n",
    "#add direction of arrows\n",
    "\n",
    "dg.add_edges_from([(1,2), (2,3)])\n",
    "\n",
    "print('directed edges:', dg.edges())\n",
    "nx.draw(dg, node_color=GREEN, with_labels=True)\n"
   ]
  },
  {
   "cell_type": "code",
<<<<<<< HEAD
   "execution_count": 10,
   "metadata": {},
   "outputs": [
    {
     "data": {
      "image/png": "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\n",
      "text/plain": [
       "<Figure size 432x288 with 1 Axes>"
=======
   "execution_count": 9,
   "metadata": {
    "collapsed": false
   },
   "outputs": [
    {
     "data": {
      "image/png": "iVBORw0KGgoAAAANSUhEUgAAAecAAAFCCAYAAADL3BUJAAAABHNCSVQICAgIfAhkiAAAAAlwSFlz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\nQmCC\n",
      "text/plain": [
       "<matplotlib.figure.Figure at 0xb934c62320>"
>>>>>>> upstream/master
      ]
     },
     "metadata": {},
     "output_type": "display_data"
    }
   ],
   "source": [
    "'''We can make directed graphs from existing graphs, eg:\n",
    "        nx.DiGraph(g)\n",
    "'''\n",
    "\n",
    "dg = nx.DiGraph(g)\n",
    "\n",
    "\n",
    "nx.draw(dg, node_color=BLUE, with_labels=True)"
   ]
  },
  {
   "cell_type": "code",
<<<<<<< HEAD
   "execution_count": 11,
   "metadata": {},
=======
   "execution_count": 10,
   "metadata": {
    "collapsed": false
   },
>>>>>>> upstream/master
   "outputs": [
    {
     "data": {
      "text/plain": [
<<<<<<< HEAD
       "OutEdgeView([('A', 'B'), ('B', 'A'), ('B', 'D'), ('D', 'B'), ('D', 'C'), ('D', 'E'), ('D', 'F'), ('C', 'D'), ('E', 'D'), ('F', 'D')])"
      ]
     },
     "execution_count": 11,
=======
       "OutEdgeView([('B', 'D'), ('B', 'A'), ('F', 'D'), ('C', 'D'), ('E', 'D'), ('A', 'B'), ('D', 'B'), ('D', 'F'), ('D', 'C'), ('D', 'E')])"
      ]
     },
     "execution_count": 10,
>>>>>>> upstream/master
     "metadata": {},
     "output_type": "execute_result"
    }
   ],
   "source": [
    "''' Notice that nodes A and B have TWO directed edges:\n",
    "        A -> B\n",
    "        B -> A\n",
    "'''\n",
    "\n",
    "dg.edges()"
   ]
  },
  {
   "cell_type": "markdown",
   "metadata": {},
   "source": [
    "### Adding attributes to nodes and edges\n",
    "\n",
    "Sometimes you may want to attach attributes to either the nodes or edges:\n",
    "\n",
    "* Perhaps you want to save node properties that will be helpful with future analysis\n",
    "* Perhaps you want to attach visual descriptions, such a node size, edge width or graph color"
   ]
  },
  {
   "cell_type": "code",
<<<<<<< HEAD
   "execution_count": 12,
   "metadata": {},
   "outputs": [
    {
     "data": {
      "image/png": "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\n",
      "text/plain": [
       "<Figure size 432x288 with 1 Axes>"
      ]
     },
     "metadata": {},
     "output_type": "display_data"
=======
   "execution_count": 11,
   "metadata": {
    "collapsed": false
   },
   "outputs": [
    {
     "ename": "TypeError",
     "evalue": "add_edge() takes 3 positional arguments but 4 were given",
     "output_type": "error",
     "traceback": [
      "\u001b[0;31m---------------------------------------------------------------------------\u001b[0m",
      "\u001b[0;31mTypeError\u001b[0m                                 Traceback (most recent call last)",
      "\u001b[0;32m<ipython-input-11-5ff78c8d8d0b>\u001b[0m in \u001b[0;36m<module>\u001b[0;34m()\u001b[0m\n\u001b[1;32m      1\u001b[0m \u001b[0mcities\u001b[0m \u001b[1;33m=\u001b[0m \u001b[0mnx\u001b[0m\u001b[1;33m.\u001b[0m\u001b[0mGraph\u001b[0m\u001b[1;33m(\u001b[0m\u001b[1;33m)\u001b[0m\u001b[1;33m\u001b[0m\u001b[0m\n\u001b[1;32m      2\u001b[0m \u001b[1;33m\u001b[0m\u001b[0m\n\u001b[0;32m----> 3\u001b[0;31m \u001b[0mcities\u001b[0m\u001b[1;33m.\u001b[0m\u001b[0madd_edge\u001b[0m\u001b[1;33m(\u001b[0m\u001b[1;34m'San Diego'\u001b[0m\u001b[1;33m,\u001b[0m \u001b[1;34m'Los Angeles'\u001b[0m\u001b[1;33m,\u001b[0m \u001b[1;33m{\u001b[0m \u001b[1;34m'distance'\u001b[0m\u001b[1;33m:\u001b[0m \u001b[1;36m0.4\u001b[0m\u001b[1;33m}\u001b[0m\u001b[1;33m)\u001b[0m\u001b[1;33m\u001b[0m\u001b[0m\n\u001b[0m\u001b[1;32m      4\u001b[0m \u001b[0mcities\u001b[0m\u001b[1;33m.\u001b[0m\u001b[0madd_edge\u001b[0m\u001b[1;33m(\u001b[0m\u001b[1;34m'New York'\u001b[0m\u001b[1;33m,\u001b[0m \u001b[1;34m'Nashville'\u001b[0m\u001b[1;33m,\u001b[0m \u001b[1;33m{\u001b[0m \u001b[1;34m'distance'\u001b[0m\u001b[1;33m:\u001b[0m \u001b[1;36m5.6\u001b[0m\u001b[1;33m}\u001b[0m\u001b[1;33m)\u001b[0m\u001b[1;33m\u001b[0m\u001b[0m\n\u001b[1;32m      5\u001b[0m \u001b[0mcities\u001b[0m\u001b[1;33m.\u001b[0m\u001b[0madd_edge\u001b[0m\u001b[1;33m(\u001b[0m\u001b[1;34m'Boston'\u001b[0m\u001b[1;33m,\u001b[0m \u001b[1;34m'D.C.'\u001b[0m\u001b[1;33m,\u001b[0m \u001b[1;33m{\u001b[0m \u001b[1;34m'distance'\u001b[0m\u001b[1;33m:\u001b[0m \u001b[1;36m0.8\u001b[0m\u001b[1;33m}\u001b[0m\u001b[1;33m)\u001b[0m\u001b[1;33m\u001b[0m\u001b[0m\n",
      "\u001b[0;31mTypeError\u001b[0m: add_edge() takes 3 positional arguments but 4 were given"
     ]
>>>>>>> upstream/master
    }
   ],
   "source": [
    "#https://networkx.github.io/documentation/latest/reference/classes/generated/networkx.Graph.add_edge.html#networkx.Graph.add_edge\n",
    "cities = nx.Graph()\n",
    "#it knows that cities it can access it so it would know teh self taken stuff like the nodes\n",
    "cities.add_edge('San Diego', 'Los Angeles', distance= 0.4) #add attributes in the form of dictionary, either write distance\n",
    "cities.add_edge('New York', 'Nashville', attr={ 'distance': 5.6})  #or specify attribute\n",
    "cities.add_edge('Boston', 'D.C.', atr={ 'distance': 0.8})  #we might use distance to caluclate the shortest path\n",
    "\n",
    "nx.draw(cities)"
   ]
  },
  {
   "cell_type": "code",
   "execution_count": 13,
   "metadata": {},
   "outputs": [
    {
     "data": {
      "text/plain": [
       "EdgeView([('San Diego', 'Los Angeles'), ('New York', 'Nashville'), ('Boston', 'D.C.')])"
      ]
     },
     "execution_count": 13,
     "metadata": {},
     "output_type": "execute_result"
    }
   ],
   "source": [
    "cities.edges   # to read the edges"
   ]
  },
  {
   "cell_type": "markdown",
   "metadata": {},
   "source": [
    "# Describing a network"
   ]
  },
  {
   "cell_type": "markdown",
   "metadata": {},
   "source": [
    "### Degree Distribution:\n",
    "\n",
    "\n",
    "\n",
    "<img src=\"img/graph.png\" style=\"float:left; padding-right:20px;\" width=\"200\" />\n",
    "\n",
    "- 1 node with 4 edges\n",
    "- 1 node with 2 edges\n",
    "- 4 nodes with 1 edge\n",
    "\n",
    "Distribution:\n",
    "\n",
    "    [(1:4), (1:2), (4:1)]\n"
   ]
  },
  {
   "cell_type": "code",
<<<<<<< HEAD
   "execution_count": 14,
   "metadata": {},
=======
   "execution_count": 12,
   "metadata": {
    "collapsed": false
   },
>>>>>>> upstream/master
   "outputs": [
    {
     "name": "stdout",
     "output_type": "stream",
     "text": [
<<<<<<< HEAD
      "Degree Distribution: [('A', 1), ('B', 2), ('D', 4), ('C', 1), ('E', 1), ('F', 1)]\n"
=======
      "Degree Distribution: [('B', 2), ('F', 1), ('D', 4), ('E', 1), ('A', 1), ('C', 1)]\n"
>>>>>>> upstream/master
     ]
    }
   ],
   "source": [
    "# Degree Distribution for all nodes\n",
    "print('Degree Distribution:', g.degree())"
   ]
  },
  {
   "cell_type": "code",
<<<<<<< HEAD
   "execution_count": 15,
   "metadata": {},
=======
   "execution_count": 13,
   "metadata": {
    "collapsed": false
   },
>>>>>>> upstream/master
   "outputs": [
    {
     "name": "stdout",
     "output_type": "stream",
     "text": [
      "Avg shortest path from A to E is 3 hops:\n",
      "['A', 'B', 'D', 'E']\n"
     ]
    }
   ],
   "source": [
    "# Generate the graph above\n",
    "paths = nx.Graph() #paths is name of graph\n",
    "paths.add_edges_from([\n",
    "    ('A','B'), ('B','D'), ('B','C'), ('D','E'), ('D','C'),\n",
    "    ('C','1'), ('1','2'), ('1','3'), ('2','3'), \n",
    "    ('E','2'), ('E','4')])   #specify starting and ending nodes\n",
    "\n",
    "# Display average shortest path details\n",
    "print('Avg shortest path from A to E is', nx.shortest_path_length(paths, 'A','E'), 'hops:')\n",
    "print(nx.shortest_path(paths, 'A','E'))   #shortest_path_lengths tell em shortest path it takes and the other prints them"
   ]
  },
  {
   "cell_type": "markdown",
   "metadata": {},
   "source": [
    "## Network Centrality (the higher result is better!)\n",
    "\n",
    "* **Degree: number of edges** for node X\n",
    "* **Betweenness: number of shortest paths** that pass through node X\n",
    "* **Closeness: average of the shortest paths** between X and all other nodes\n",
    "\n",
    "<img src=\"img/centrality1.png\" style=\"float:left;\" width=\"400\" />\n",
    "<img src=\"img/centrality2.png\" style=\"float:left;\" width=\"200\" />\n",
    "\n"
   ]
  },
  {
   "cell_type": "code",
<<<<<<< HEAD
   "execution_count": 16,
   "metadata": {},
=======
   "execution_count": 14,
   "metadata": {
    "collapsed": false
   },
>>>>>>> upstream/master
   "outputs": [
    {
     "name": "stdout",
     "output_type": "stream",
     "text": [
      "Degree Centrality:\n",
<<<<<<< HEAD
      "[('A', 1), ('B', 2), ('D', 4), ('C', 1), ('E', 1), ('F', 1)]\n",
      "\n",
      "Degree Centrality, Normalized:\n",
      "{'A': 0.2, 'B': 0.4, 'D': 0.8, 'C': 0.2, 'E': 0.2, 'F': 0.2}\n"
=======
      "[('B', 2), ('F', 1), ('D', 4), ('E', 1), ('A', 1), ('C', 1)]\n",
      "\n",
      "Degree Centrality, Normalized:\n",
      "{'B': 0.4, 'F': 0.2, 'C': 0.2, 'E': 0.2, 'A': 0.2, 'D': 0.8}\n"
>>>>>>> upstream/master
     ]
    }
   ],
   "source": [
    "''' To calculate Degree Distribution for all nodes, use:\n",
    "    g.degree()  for non-normalized values,\n",
    "    nx.degree_centrality(g)   for normalized values\n",
    "'''\n",
    "\n",
    "# degree distrib., non-normalized\n",
    "print('Degree Centrality:')\n",
    "print(g.degree())\n",
    "\n",
    "# TODO degree distrib., normalized\n",
    "print('\\nDegree Centrality, Normalized:')\n",
    "print(nx.degree_centrality(g))\n",
    "\n",
    "#D is most important"
   ]
  },
  {
   "cell_type": "code",
<<<<<<< HEAD
   "execution_count": 17,
   "metadata": {},
=======
   "execution_count": 15,
   "metadata": {
    "collapsed": false
   },
>>>>>>> upstream/master
   "outputs": [
    {
     "name": "stdout",
     "output_type": "stream",
     "text": [
      "Betweenness Centrality:\n",
<<<<<<< HEAD
      "{'A': 0.0, 'B': 4.0, 'D': 9.0, 'C': 0.0, 'E': 0.0, 'F': 0.0}\n",
      "\n",
      "Betweenness Centrality, Normalized:\n",
      "{'A': 0.0, 'B': 0.4, 'D': 0.9, 'C': 0.0, 'E': 0.0, 'F': 0.0}\n"
=======
      "{'B': 4.0, 'F': 0.0, 'C': 0.0, 'E': 0.0, 'A': 0.0, 'D': 9.0}\n",
      "\n",
      "Betweenness Centrality, Normalized:\n",
      "{'B': 0.4, 'F': 0.0, 'C': 0.0, 'E': 0.0, 'A': 0.0, 'D': 0.9}\n"
>>>>>>> upstream/master
     ]
    }
   ],
   "source": [
    "''' To calculate betweenness centrality, use:\n",
    "    nx.betweenness_centrality(g, normalized=True/False)   default is True\n",
    "'''\n",
    "\n",
    "# betweenness centrality, non-normalized\n",
    "print('Betweenness Centrality:')\n",
    "print(nx.betweenness_centrality(g, normalized=False))\n",
    "\n",
    "# betweenness centrality, normalized\n",
    "print('\\nBetweenness Centrality, Normalized:')\n",
    "print(nx.betweenness_centrality(g, normalized=True))\n",
    "\n",
    "#D is most important"
   ]
  },
  {
   "cell_type": "code",
<<<<<<< HEAD
   "execution_count": 18,
   "metadata": {},
=======
   "execution_count": 16,
   "metadata": {
    "collapsed": false
   },
>>>>>>> upstream/master
   "outputs": [
    {
     "name": "stdout",
     "output_type": "stream",
     "text": [
      "Closeness Centrality:\n",
<<<<<<< HEAD
      "{'A': 0.4166666666666667, 'B': 0.625, 'D': 0.8333333333333334, 'C': 0.5, 'E': 0.5, 'F': 0.5}\n"
=======
      "{'B': 0.625, 'F': 0.5, 'C': 0.5, 'E': 0.5, 'A': 0.4166666666666667, 'D': 0.8333333333333334}\n"
>>>>>>> upstream/master
     ]
    }
   ],
   "source": [
    "''' to calculate closeness centrality, use:\n",
    "    nx.closeness_centrality(g)\n",
    "'''\n",
    "\n",
    "# find closeness centrality\n",
    "print('Closeness Centrality:')\n",
    "print(nx.closeness_centrality(g))"
   ]
  },
  {
   "cell_type": "markdown",
   "metadata": {},
   "source": [
    "# Back to Airline Networks\n",
    "\n",
    "Previously we used open flights to examine airline routes around the world.  We found that it was a bit of a pain to store the data in tables, and merge different information.  We can model it as network instead.  I've cleaned the data up a bit, and selected out only the routes operated by Delta, making it a bit more managable.  \n"
   ]
  },
  {
   "cell_type": "code",
<<<<<<< HEAD
   "execution_count": 19,
   "metadata": {},
=======
   "execution_count": 17,
   "metadata": {
    "collapsed": false
   },
>>>>>>> upstream/master
   "outputs": [
    {
     "data": {
      "text/html": [
       "<div>\n",
       "<style scoped>\n",
       "    .dataframe tbody tr th:only-of-type {\n",
       "        vertical-align: middle;\n",
       "    }\n",
       "\n",
       "    .dataframe tbody tr th {\n",
       "        vertical-align: top;\n",
       "    }\n",
       "\n",
       "    .dataframe thead th {\n",
       "        text-align: right;\n",
       "    }\n",
       "</style>\n",
       "<table border=\"1\" class=\"dataframe\">\n",
       "  <thead>\n",
       "    <tr style=\"text-align: right;\">\n",
       "      <th></th>\n",
       "      <th>Unnamed: 0</th>\n",
       "      <th>airline</th>\n",
       "      <th>airline_id</th>\n",
       "      <th>source</th>\n",
       "      <th>source_id</th>\n",
       "      <th>dest</th>\n",
       "      <th>dest_id</th>\n",
       "      <th>codeshare</th>\n",
       "      <th>stops</th>\n",
       "      <th>equipment</th>\n",
       "      <th>latitude_source</th>\n",
       "      <th>longitude_source</th>\n",
       "      <th>latitude_dest</th>\n",
       "      <th>longitude_dest</th>\n",
       "    </tr>\n",
       "  </thead>\n",
       "  <tbody>\n",
       "    <tr>\n",
<<<<<<< HEAD
       "      <td>0</td>\n",
=======
       "      <th>0</th>\n",
>>>>>>> upstream/master
       "      <td>0</td>\n",
       "      <td>DL</td>\n",
       "      <td>2009.0</td>\n",
       "      <td>ABE</td>\n",
       "      <td>4355.0</td>\n",
       "      <td>ATL</td>\n",
       "      <td>3682.0</td>\n",
       "      <td>NaN</td>\n",
       "      <td>0</td>\n",
       "      <td>717</td>\n",
       "      <td>40.652100</td>\n",
       "      <td>-75.440804</td>\n",
       "      <td>33.636700</td>\n",
       "      <td>-84.428101</td>\n",
       "    </tr>\n",
       "    <tr>\n",
<<<<<<< HEAD
       "      <td>1</td>\n",
=======
       "      <th>1</th>\n",
>>>>>>> upstream/master
       "      <td>1</td>\n",
       "      <td>DL</td>\n",
       "      <td>2009.0</td>\n",
       "      <td>ABQ</td>\n",
       "      <td>4019.0</td>\n",
       "      <td>ATL</td>\n",
       "      <td>3682.0</td>\n",
       "      <td>NaN</td>\n",
       "      <td>0</td>\n",
       "      <td>757 320</td>\n",
       "      <td>35.040199</td>\n",
       "      <td>-106.609001</td>\n",
       "      <td>33.636700</td>\n",
       "      <td>-84.428101</td>\n",
       "    </tr>\n",
       "    <tr>\n",
<<<<<<< HEAD
       "      <td>2</td>\n",
=======
       "      <th>2</th>\n",
>>>>>>> upstream/master
       "      <td>2</td>\n",
       "      <td>DL</td>\n",
       "      <td>2009.0</td>\n",
       "      <td>ABQ</td>\n",
       "      <td>4019.0</td>\n",
       "      <td>MSP</td>\n",
       "      <td>3858.0</td>\n",
       "      <td>NaN</td>\n",
       "      <td>0</td>\n",
       "      <td>320</td>\n",
       "      <td>35.040199</td>\n",
       "      <td>-106.609001</td>\n",
       "      <td>44.882000</td>\n",
       "      <td>-93.221802</td>\n",
       "    </tr>\n",
       "    <tr>\n",
<<<<<<< HEAD
       "      <td>3</td>\n",
=======
       "      <th>3</th>\n",
>>>>>>> upstream/master
       "      <td>3</td>\n",
       "      <td>DL</td>\n",
       "      <td>2009.0</td>\n",
       "      <td>ACC</td>\n",
       "      <td>248.0</td>\n",
       "      <td>JFK</td>\n",
       "      <td>3797.0</td>\n",
       "      <td>NaN</td>\n",
       "      <td>0</td>\n",
       "      <td>76W</td>\n",
       "      <td>5.605190</td>\n",
       "      <td>-0.166786</td>\n",
       "      <td>40.639801</td>\n",
       "      <td>-73.778900</td>\n",
       "    </tr>\n",
       "    <tr>\n",
<<<<<<< HEAD
       "      <td>4</td>\n",
=======
       "      <th>4</th>\n",
>>>>>>> upstream/master
       "      <td>4</td>\n",
       "      <td>DL</td>\n",
       "      <td>2009.0</td>\n",
       "      <td>ACC</td>\n",
       "      <td>248.0</td>\n",
       "      <td>ROB</td>\n",
       "      <td>1063.0</td>\n",
       "      <td>NaN</td>\n",
       "      <td>0</td>\n",
       "      <td>76W</td>\n",
       "      <td>5.605190</td>\n",
       "      <td>-0.166786</td>\n",
       "      <td>6.233790</td>\n",
       "      <td>-10.362300</td>\n",
       "    </tr>\n",
       "  </tbody>\n",
       "</table>\n",
       "</div>"
      ],
      "text/plain": [
       "   Unnamed: 0 airline  airline_id source  source_id dest  dest_id  codeshare  \\\n",
       "0           0      DL      2009.0    ABE     4355.0  ATL   3682.0        NaN   \n",
       "1           1      DL      2009.0    ABQ     4019.0  ATL   3682.0        NaN   \n",
       "2           2      DL      2009.0    ABQ     4019.0  MSP   3858.0        NaN   \n",
       "3           3      DL      2009.0    ACC      248.0  JFK   3797.0        NaN   \n",
       "4           4      DL      2009.0    ACC      248.0  ROB   1063.0        NaN   \n",
       "\n",
       "   stops equipment  latitude_source  longitude_source  latitude_dest  \\\n",
       "0      0       717        40.652100        -75.440804      33.636700   \n",
       "1      0   757 320        35.040199       -106.609001      33.636700   \n",
       "2      0       320        35.040199       -106.609001      44.882000   \n",
       "3      0       76W         5.605190         -0.166786      40.639801   \n",
       "4      0       76W         5.605190         -0.166786       6.233790   \n",
       "\n",
       "   longitude_dest  \n",
       "0      -84.428101  \n",
       "1      -84.428101  \n",
       "2      -93.221802  \n",
       "3      -73.778900  \n",
       "4      -10.362300  "
      ]
     },
<<<<<<< HEAD
     "execution_count": 19,
=======
     "execution_count": 17,
>>>>>>> upstream/master
     "metadata": {},
     "output_type": "execute_result"
    }
   ],
   "source": [
    "# read the data\n",
    "routes = pd.read_csv('data/delta_routes.csv')\n",
    "routes.head()"
   ]
  },
  {
   "cell_type": "markdown",
   "metadata": {},
   "source": [
    "### As a review, let's build an interactive map to see what this looks like\n",
    "\n"
   ]
  },
  {
   "cell_type": "code",
<<<<<<< HEAD
   "execution_count": 20,
   "metadata": {},
=======
   "execution_count": 18,
   "metadata": {
    "collapsed": true
   },
>>>>>>> upstream/master
   "outputs": [],
   "source": [
    "import pyproj\n",
    "import folium"
   ]
  },
  {
   "cell_type": "code",
<<<<<<< HEAD
   "execution_count": 21,
   "metadata": {},
=======
   "execution_count": 19,
   "metadata": {
    "collapsed": true
   },
>>>>>>> upstream/master
   "outputs": [],
   "source": [
    "\n",
    "# when creating a function, it is good practice to define the API!\n",
    "def getGreatCirclePoints(startlat, startlon, endlat, endlon): \n",
    "    \"\"\"\n",
    "    startlat - starting latitude \n",
    "    startlon - starting longitude \n",
    "    endlat   - ending latitude \n",
    "    endlon   - ending longitude \n",
    "    \n",
    "    returns - a list of tuples, where each tuple is the lat-long for a point\n",
    "              along the curve.  \n",
    "    \"\"\"\n",
    "    # calculate distance between points\n",
    "    g = pyproj.Geod(ellps='WGS84')\n",
    "    (az12, az21, dist) = g.inv(startlon, startlat, endlon, endlat)\n",
    "\n",
    "    # calculate line string along path with segments <= 20 km\n",
    "    lonlats = g.npts(startlon, startlat, endlon, endlat,\n",
    "                     1 + int(dist / 20000))\n",
    "\n",
    "    # the npts function uses lon-lat, while the folium functions use lat-lon\n",
    "    # This sort of thing is maddening!  What happens is the lines don't show\n",
    "    # up on the map and you don't know why.  Learn from my mistakes\n",
    "    latlons = []\n",
    "    for lon_lat in lonlats: \n",
    "        \n",
    "        # this is how you get values out of a tuple\n",
    "        (lon, lat) = lon_lat\n",
    "        \n",
    "        # add them to our list\n",
    "        latlons.append((lat, lon)) \n",
    "    \n",
    "    # npts doesn't include start/end points, so prepend/append them\n",
    "    latlons.insert(0, (startlat, startlon))\n",
    "    latlons.append((endlat, endlon))\n",
    "    \n",
    "    return latlons\n"
   ]
  },
  {
   "cell_type": "code",
<<<<<<< HEAD
   "execution_count": 22,
   "metadata": {},
=======
   "execution_count": 20,
   "metadata": {
    "collapsed": false
   },
>>>>>>> upstream/master
   "outputs": [],
   "source": [
    "# create a basic map, centered on Lexington\n",
    "m = folium.Map(\n",
    "    location=[38.034,-84.500],\n",
    "    tiles='Stamen Toner',\n",
    "    zoom_start=4\n",
    ")"
   ]
  },
  {
   "cell_type": "code",
<<<<<<< HEAD
   "execution_count": 23,
   "metadata": {},
=======
   "execution_count": 21,
   "metadata": {
    "collapsed": true
   },
>>>>>>> upstream/master
   "outputs": [],
   "source": [
    "# define the map in the same way, but use great circles for the lines\n",
    "\n",
    "# Define some empty sets\n",
    "airport_set = set()\n",
    "route_set = set()\n",
    "\n",
    "# Make sure we don't add duplicates, especially for the origins\n",
    "for name, row in routes.iterrows():\n",
    "    \n",
    "    if row['source'] not in airport_set: \n",
    "        popup_string = row['source']\n",
    "        marker = folium.CircleMarker([row[\"latitude_source\"], row[\"longitude_source\"]], \n",
    "                                     color='DarkCyan',\n",
    "                                     fill_color='DarkCyan', \n",
    "                                     radius=5, popup=popup_string)\n",
    "        marker.add_to(m)\n",
    "        airport_set.add(row['source'])\n",
    "        \n",
    "    if row['dest'] not in airport_set: \n",
    "        popup_string = row['dest']\n",
    "        marker = folium.CircleMarker([row[\"latitude_dest\"], row[\"longitude_dest\"]], \n",
    "                                     color='MidnightBlue',\n",
    "                                     fill_color='MidnightBlue', \n",
    "                                     radius=5, popup=popup_string)\n",
    "        marker.add_to(m)\n",
    "        airport_set.add(row['dest'])\n",
    "    \n",
    "    # PolyLine will accept a whole list of tuples, not just two\n",
    "    if (row['source'],row['dest']) not in route_set:            \n",
    "        popup_string = row['source'] + '-' + row['dest']       \n",
    "        \n",
    "        gc_points = getGreatCirclePoints(row[\"latitude_source\"], \n",
    "                                         row[\"longitude_source\"], \n",
    "                                         row[\"latitude_dest\"], \n",
    "                                         row[\"longitude_dest\"])\n",
    "        \n",
    "        line = folium.PolyLine(gc_points, weight=2, popup=popup_string)\n",
    "        line.add_to(m)\n",
    "        route_set.add((row['source'],row['dest']))\n",
    "        "
   ]
  },
  {
   "cell_type": "code",
<<<<<<< HEAD
   "execution_count": 24,
   "metadata": {},
=======
   "execution_count": 22,
   "metadata": {
    "collapsed": true
   },
>>>>>>> upstream/master
   "outputs": [],
   "source": [
    "# save it to its own file\n",
    "m.save(\"delta.html\")"
   ]
  },
  {
   "cell_type": "markdown",
   "metadata": {},
   "source": [
    "# Homework\n",
    "\n",
    "1. Represent the Delta flights as a network.  What are the nodes?  What are the links?\n",
    "2. Which is the most important airport in Delta's network?  Support your answer using appropriate network metrics.  \n",
    "3. How many flights are needed to reach Honolulu?  \n",
    "4. What is the maximum number of flights needed to reach any destination in Delta's network?\n",
    "5. Convert the network into a weighted network, using the travel time as the weight.  Assume that planes fly at 500 mph, plus 30 minutes to take off + 30 minutes to land.  \n",
    "6. How long does it take to travel to Honolulu, in flight times.  "
   ]
  },
  {
   "cell_type": "code",
   "execution_count": 1,
   "metadata": {},
   "outputs": [
    {
     "data": {
      "text/html": [
       "<div>\n",
       "<style scoped>\n",
       "    .dataframe tbody tr th:only-of-type {\n",
       "        vertical-align: middle;\n",
       "    }\n",
       "\n",
       "    .dataframe tbody tr th {\n",
       "        vertical-align: top;\n",
       "    }\n",
       "\n",
       "    .dataframe thead th {\n",
       "        text-align: right;\n",
       "    }\n",
       "</style>\n",
       "<table border=\"1\" class=\"dataframe\">\n",
       "  <thead>\n",
       "    <tr style=\"text-align: right;\">\n",
       "      <th></th>\n",
       "      <th>source</th>\n",
       "      <th>dest</th>\n",
       "    </tr>\n",
       "  </thead>\n",
       "  <tbody>\n",
       "    <tr>\n",
       "      <td>0</td>\n",
       "      <td>ABE</td>\n",
       "      <td>ATL</td>\n",
       "    </tr>\n",
       "    <tr>\n",
       "      <td>1</td>\n",
       "      <td>ABQ</td>\n",
       "      <td>ATL</td>\n",
       "    </tr>\n",
       "    <tr>\n",
       "      <td>2</td>\n",
       "      <td>ABQ</td>\n",
       "      <td>MSP</td>\n",
       "    </tr>\n",
       "    <tr>\n",
       "      <td>3</td>\n",
       "      <td>ACC</td>\n",
       "      <td>JFK</td>\n",
       "    </tr>\n",
       "    <tr>\n",
       "      <td>4</td>\n",
       "      <td>ACC</td>\n",
       "      <td>ROB</td>\n",
       "    </tr>\n",
       "  </tbody>\n",
       "</table>\n",
       "</div>"
      ],
      "text/plain": [
       "  source dest\n",
       "0    ABE  ATL\n",
       "1    ABQ  ATL\n",
       "2    ABQ  MSP\n",
       "3    ACC  JFK\n",
       "4    ACC  ROB"
      ]
     },
     "execution_count": 1,
     "metadata": {},
     "output_type": "execute_result"
    }
   ],
   "source": [
    "# imports\n",
    "import pandas as pd\n",
    "import networkx as nx\n",
    "import matplotlib.pyplot as plt\n",
    "\n",
    "%matplotlib inline\n",
    "\n",
    "#Nodes are sources and destinations\n",
    "#Links are the routes\n",
    "\n",
    "# read the data\n",
    "routes = pd.read_csv('data/delta_routes.csv')\n",
    "data=routes[['source','dest']]\n",
    "data.head()"
   ]
  },
  {
   "cell_type": "code",
   "execution_count": 2,
   "metadata": {},
   "outputs": [
    {
     "ename": "TypeError",
     "evalue": "'module' object is not callable",
     "output_type": "error",
     "traceback": [
      "\u001b[1;31m---------------------------------------------------------------------------\u001b[0m",
      "\u001b[1;31mTypeError\u001b[0m                                 Traceback (most recent call last)",
      "\u001b[1;32m<ipython-input-2-8bf647adc9ba>\u001b[0m in \u001b[0;36m<module>\u001b[1;34m\u001b[0m\n\u001b[1;32m----> 1\u001b[1;33m \u001b[0mGraphtype\u001b[0m \u001b[1;33m=\u001b[0m \u001b[0mnx\u001b[0m\u001b[1;33m.\u001b[0m\u001b[0mgraph\u001b[0m\u001b[1;33m(\u001b[0m\u001b[1;33m)\u001b[0m\u001b[1;33m\u001b[0m\u001b[1;33m\u001b[0m\u001b[0m\n\u001b[0m\u001b[0;32m      2\u001b[0m \u001b[0mG\u001b[0m \u001b[1;33m=\u001b[0m \u001b[0mnx\u001b[0m\u001b[1;33m.\u001b[0m\u001b[0mfrom_pandas_edgelist\u001b[0m\u001b[1;33m(\u001b[0m\u001b[0mroutes\u001b[0m\u001b[1;33m,\u001b[0m \u001b[0medge_attr\u001b[0m\u001b[1;33m=\u001b[0m\u001b[1;34m'weight'\u001b[0m\u001b[1;33m,\u001b[0m \u001b[0mcreate_using\u001b[0m\u001b[1;33m=\u001b[0m \u001b[0mGraphtype\u001b[0m\u001b[1;33m)\u001b[0m\u001b[1;33m\u001b[0m\u001b[1;33m\u001b[0m\u001b[0m\n\u001b[0;32m      3\u001b[0m \u001b[1;31m#DT.add_edges_from(data['source'],data['dest'])\u001b[0m\u001b[1;33m\u001b[0m\u001b[1;33m\u001b[0m\u001b[1;33m\u001b[0m\u001b[0m\n\u001b[0;32m      4\u001b[0m \u001b[0mG\u001b[0m\u001b[1;33m\u001b[0m\u001b[1;33m\u001b[0m\u001b[0m\n",
      "\u001b[1;31mTypeError\u001b[0m: 'module' object is not callable"
     ]
    }
   ],
   "source": [
    "Graphtype = nx.graph()\n",
    "G = nx.from_pandas_edgelist(routes, edge_attr='weight', create_using= Graphtype)\n",
    "#DT.add_edges_from(data['source'],data['dest'])\n",
    "G"
   ]
  },
  {
   "cell_type": "code",
   "execution_count": null,
   "metadata": {},
   "outputs": [],
   "source": []
  }
 ],
 "metadata": {
  "anaconda-cloud": {},
  "kernelspec": {
   "display_name": "Python 3",
   "language": "python",
   "name": "python3"
  },
  "language_info": {
   "codemirror_mode": {
    "name": "ipython",
    "version": 3
   },
   "file_extension": ".py",
   "mimetype": "text/x-python",
   "name": "python",
   "nbconvert_exporter": "python",
   "pygments_lexer": "ipython3",
<<<<<<< HEAD
   "version": "3.7.4"
=======
   "version": "3.5.6"
>>>>>>> upstream/master
  }
 },
 "nbformat": 4,
 "nbformat_minor": 1
}
