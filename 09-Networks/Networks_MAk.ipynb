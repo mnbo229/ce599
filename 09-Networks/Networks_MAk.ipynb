{
 "cells": [
  {
   "cell_type": "markdown",
   "metadata": {},
   "source": [
    "# Networks\n",
    "\n",
    "This lesson introduces the network data structure.  Aspects of this lesson are adapted from Andrew Brooks' tutorial on graph optimization.  \n",
    "\n",
    "https://www.datacamp.com/community/tutorials/networkx-python-graph-tutorial\n",
    "\n",
    "It also draws from theory material presented at PyCon 2015 by Celia La and Sarah Guido.  \n",
    "\n",
    "https://github.com/sarguido/networkx-tutorial\n",
    "\n",
    "You will need to install two packages:\n",
    "\n",
    "pip install networkx\n",
    "pip install imageio\n",
    "\n",
    "The networkx documentation is here: \n",
    "\n",
    "https://networkx.github.io/"
   ]
  },
  {
   "cell_type": "code",
   "execution_count": 1,
<<<<<<< HEAD
   "metadata": {},
=======
   "metadata": {
    "collapsed": true
   },
>>>>>>> upstream/master
   "outputs": [],
   "source": [
    "#data structure can be primative or non-primative\n",
    "#primative: int, float, bool, string/char: I cannot break it down any further\n",
    "#non-primative:aray(all off same type-either int or float etc.),list(can be of different types), dictionary (key(which should be unique)-value pairs),tuple,set,file,queue (FIFO), stack (LIFO), Linked List, graph or network: \n",
    "#I can break them down further\n",
    "#GRAPH/NETWORK:REPRESENTATION WHERE I HAVE NODES AND LINKS (EDGES) THAT CAN BE DIRECTIONAL OR UNDIRECTIONAL (WITH ARROWS OR WITHOUT)\n",
    "#by far we used list, dstaframe, panel (collection of data frames like tabs in excle sheets),matrix,np.array"
   ]
  },
  {
   "cell_type": "code",
   "execution_count": 2,
   "metadata": {},
   "outputs": [
    {
     "ename": "ImportError",
     "evalue": "Can't determine version for bottleneck",
     "output_type": "error",
     "traceback": [
      "\u001b[1;31m---------------------------------------------------------------------------\u001b[0m",
      "\u001b[1;31mImportError\u001b[0m                               Traceback (most recent call last)",
      "\u001b[1;32m<ipython-input-2-b51c8fc69ca2>\u001b[0m in \u001b[0;36m<module>\u001b[1;34m\u001b[0m\n\u001b[0;32m      1\u001b[0m \u001b[1;31m# imports\u001b[0m\u001b[1;33m\u001b[0m\u001b[1;33m\u001b[0m\u001b[1;33m\u001b[0m\u001b[0m\n\u001b[1;32m----> 2\u001b[1;33m \u001b[1;32mimport\u001b[0m \u001b[0mpandas\u001b[0m \u001b[1;32mas\u001b[0m \u001b[0mpd\u001b[0m\u001b[1;33m\u001b[0m\u001b[1;33m\u001b[0m\u001b[0m\n\u001b[0m\u001b[0;32m      3\u001b[0m \u001b[1;32mimport\u001b[0m \u001b[0mnetworkx\u001b[0m \u001b[1;32mas\u001b[0m \u001b[0mnx\u001b[0m\u001b[1;33m\u001b[0m\u001b[1;33m\u001b[0m\u001b[0m\n\u001b[0;32m      4\u001b[0m \u001b[1;32mimport\u001b[0m \u001b[0mmatplotlib\u001b[0m\u001b[1;33m.\u001b[0m\u001b[0mpyplot\u001b[0m \u001b[1;32mas\u001b[0m \u001b[0mplt\u001b[0m\u001b[1;33m\u001b[0m\u001b[1;33m\u001b[0m\u001b[0m\n\u001b[0;32m      5\u001b[0m \u001b[1;33m\u001b[0m\u001b[0m\n",
      "\u001b[1;32m~\\AppData\\Local\\Continuum\\anaconda3\\lib\\site-packages\\pandas\\__init__.py\u001b[0m in \u001b[0;36m<module>\u001b[1;34m\u001b[0m\n\u001b[0;32m     52\u001b[0m \u001b[1;32mimport\u001b[0m \u001b[0mpandas\u001b[0m\u001b[1;33m.\u001b[0m\u001b[0mcore\u001b[0m\u001b[1;33m.\u001b[0m\u001b[0mconfig_init\u001b[0m\u001b[1;33m\u001b[0m\u001b[1;33m\u001b[0m\u001b[0m\n\u001b[0;32m     53\u001b[0m \u001b[1;33m\u001b[0m\u001b[0m\n\u001b[1;32m---> 54\u001b[1;33m from pandas.core.api import (\n\u001b[0m\u001b[0;32m     55\u001b[0m     \u001b[1;31m# dtype\u001b[0m\u001b[1;33m\u001b[0m\u001b[1;33m\u001b[0m\u001b[1;33m\u001b[0m\u001b[0m\n\u001b[0;32m     56\u001b[0m     \u001b[0mInt8Dtype\u001b[0m\u001b[1;33m,\u001b[0m\u001b[1;33m\u001b[0m\u001b[1;33m\u001b[0m\u001b[0m\n",
      "\u001b[1;32m~\\AppData\\Local\\Continuum\\anaconda3\\lib\\site-packages\\pandas\\core\\api.py\u001b[0m in \u001b[0;36m<module>\u001b[1;34m\u001b[0m\n\u001b[0;32m     13\u001b[0m \u001b[1;33m\u001b[0m\u001b[0m\n\u001b[0;32m     14\u001b[0m \u001b[1;32mfrom\u001b[0m \u001b[0mpandas\u001b[0m\u001b[1;33m.\u001b[0m\u001b[0mcore\u001b[0m\u001b[1;33m.\u001b[0m\u001b[0malgorithms\u001b[0m \u001b[1;32mimport\u001b[0m \u001b[0mfactorize\u001b[0m\u001b[1;33m,\u001b[0m \u001b[0munique\u001b[0m\u001b[1;33m,\u001b[0m \u001b[0mvalue_counts\u001b[0m\u001b[1;33m\u001b[0m\u001b[1;33m\u001b[0m\u001b[0m\n\u001b[1;32m---> 15\u001b[1;33m \u001b[1;32mfrom\u001b[0m \u001b[0mpandas\u001b[0m\u001b[1;33m.\u001b[0m\u001b[0mcore\u001b[0m\u001b[1;33m.\u001b[0m\u001b[0marrays\u001b[0m \u001b[1;32mimport\u001b[0m \u001b[0mCategorical\u001b[0m\u001b[1;33m\u001b[0m\u001b[1;33m\u001b[0m\u001b[0m\n\u001b[0m\u001b[0;32m     16\u001b[0m \u001b[1;32mfrom\u001b[0m \u001b[0mpandas\u001b[0m\u001b[1;33m.\u001b[0m\u001b[0mcore\u001b[0m\u001b[1;33m.\u001b[0m\u001b[0marrays\u001b[0m\u001b[1;33m.\u001b[0m\u001b[0mboolean\u001b[0m \u001b[1;32mimport\u001b[0m \u001b[0mBooleanDtype\u001b[0m\u001b[1;33m\u001b[0m\u001b[1;33m\u001b[0m\u001b[0m\n\u001b[0;32m     17\u001b[0m from pandas.core.arrays.integer import (\n",
      "\u001b[1;32m~\\AppData\\Local\\Continuum\\anaconda3\\lib\\site-packages\\pandas\\core\\arrays\\__init__.py\u001b[0m in \u001b[0;36m<module>\u001b[1;34m\u001b[0m\n\u001b[0;32m      5\u001b[0m     \u001b[0mtry_cast_to_ea\u001b[0m\u001b[1;33m,\u001b[0m\u001b[1;33m\u001b[0m\u001b[1;33m\u001b[0m\u001b[0m\n\u001b[0;32m      6\u001b[0m )\n\u001b[1;32m----> 7\u001b[1;33m \u001b[1;32mfrom\u001b[0m \u001b[0mpandas\u001b[0m\u001b[1;33m.\u001b[0m\u001b[0mcore\u001b[0m\u001b[1;33m.\u001b[0m\u001b[0marrays\u001b[0m\u001b[1;33m.\u001b[0m\u001b[0mboolean\u001b[0m \u001b[1;32mimport\u001b[0m \u001b[0mBooleanArray\u001b[0m\u001b[1;33m\u001b[0m\u001b[1;33m\u001b[0m\u001b[0m\n\u001b[0m\u001b[0;32m      8\u001b[0m \u001b[1;32mfrom\u001b[0m \u001b[0mpandas\u001b[0m\u001b[1;33m.\u001b[0m\u001b[0mcore\u001b[0m\u001b[1;33m.\u001b[0m\u001b[0marrays\u001b[0m\u001b[1;33m.\u001b[0m\u001b[0mcategorical\u001b[0m \u001b[1;32mimport\u001b[0m \u001b[0mCategorical\u001b[0m\u001b[1;33m\u001b[0m\u001b[1;33m\u001b[0m\u001b[0m\n\u001b[0;32m      9\u001b[0m \u001b[1;32mfrom\u001b[0m \u001b[0mpandas\u001b[0m\u001b[1;33m.\u001b[0m\u001b[0mcore\u001b[0m\u001b[1;33m.\u001b[0m\u001b[0marrays\u001b[0m\u001b[1;33m.\u001b[0m\u001b[0mdatetimes\u001b[0m \u001b[1;32mimport\u001b[0m \u001b[0mDatetimeArray\u001b[0m\u001b[1;33m\u001b[0m\u001b[1;33m\u001b[0m\u001b[0m\n",
      "\u001b[1;32m~\\AppData\\Local\\Continuum\\anaconda3\\lib\\site-packages\\pandas\\core\\arrays\\boolean.py\u001b[0m in \u001b[0;36m<module>\u001b[1;34m\u001b[0m\n\u001b[0;32m     26\u001b[0m \u001b[1;32mfrom\u001b[0m \u001b[0mpandas\u001b[0m\u001b[1;33m.\u001b[0m\u001b[0mcore\u001b[0m\u001b[1;33m.\u001b[0m\u001b[0mdtypes\u001b[0m\u001b[1;33m.\u001b[0m\u001b[0mmissing\u001b[0m \u001b[1;32mimport\u001b[0m \u001b[0misna\u001b[0m\u001b[1;33m,\u001b[0m \u001b[0mnotna\u001b[0m\u001b[1;33m\u001b[0m\u001b[1;33m\u001b[0m\u001b[0m\n\u001b[0;32m     27\u001b[0m \u001b[1;33m\u001b[0m\u001b[0m\n\u001b[1;32m---> 28\u001b[1;33m \u001b[1;32mfrom\u001b[0m \u001b[0mpandas\u001b[0m\u001b[1;33m.\u001b[0m\u001b[0mcore\u001b[0m \u001b[1;32mimport\u001b[0m \u001b[0mnanops\u001b[0m\u001b[1;33m,\u001b[0m \u001b[0mops\u001b[0m\u001b[1;33m\u001b[0m\u001b[1;33m\u001b[0m\u001b[0m\n\u001b[0m\u001b[0;32m     29\u001b[0m \u001b[1;32mfrom\u001b[0m \u001b[0mpandas\u001b[0m\u001b[1;33m.\u001b[0m\u001b[0mcore\u001b[0m\u001b[1;33m.\u001b[0m\u001b[0mindexers\u001b[0m \u001b[1;32mimport\u001b[0m \u001b[0mcheck_array_indexer\u001b[0m\u001b[1;33m\u001b[0m\u001b[1;33m\u001b[0m\u001b[0m\n\u001b[0;32m     30\u001b[0m \u001b[1;33m\u001b[0m\u001b[0m\n",
      "\u001b[1;32m~\\AppData\\Local\\Continuum\\anaconda3\\lib\\site-packages\\pandas\\core\\nanops.py\u001b[0m in \u001b[0;36m<module>\u001b[1;34m\u001b[0m\n\u001b[0;32m     33\u001b[0m \u001b[1;32mfrom\u001b[0m \u001b[0mpandas\u001b[0m\u001b[1;33m.\u001b[0m\u001b[0mcore\u001b[0m\u001b[1;33m.\u001b[0m\u001b[0mdtypes\u001b[0m\u001b[1;33m.\u001b[0m\u001b[0mmissing\u001b[0m \u001b[1;32mimport\u001b[0m \u001b[0misna\u001b[0m\u001b[1;33m,\u001b[0m \u001b[0mna_value_for_dtype\u001b[0m\u001b[1;33m,\u001b[0m \u001b[0mnotna\u001b[0m\u001b[1;33m\u001b[0m\u001b[1;33m\u001b[0m\u001b[0m\n\u001b[0;32m     34\u001b[0m \u001b[1;33m\u001b[0m\u001b[0m\n\u001b[1;32m---> 35\u001b[1;33m \u001b[0mbn\u001b[0m \u001b[1;33m=\u001b[0m \u001b[0mimport_optional_dependency\u001b[0m\u001b[1;33m(\u001b[0m\u001b[1;34m\"bottleneck\"\u001b[0m\u001b[1;33m,\u001b[0m \u001b[0mraise_on_missing\u001b[0m\u001b[1;33m=\u001b[0m\u001b[1;32mFalse\u001b[0m\u001b[1;33m,\u001b[0m \u001b[0mon_version\u001b[0m\u001b[1;33m=\u001b[0m\u001b[1;34m\"warn\"\u001b[0m\u001b[1;33m)\u001b[0m\u001b[1;33m\u001b[0m\u001b[1;33m\u001b[0m\u001b[0m\n\u001b[0m\u001b[0;32m     36\u001b[0m \u001b[0m_BOTTLENECK_INSTALLED\u001b[0m \u001b[1;33m=\u001b[0m \u001b[0mbn\u001b[0m \u001b[1;32mis\u001b[0m \u001b[1;32mnot\u001b[0m \u001b[1;32mNone\u001b[0m\u001b[1;33m\u001b[0m\u001b[1;33m\u001b[0m\u001b[0m\n\u001b[0;32m     37\u001b[0m \u001b[0m_USE_BOTTLENECK\u001b[0m \u001b[1;33m=\u001b[0m \u001b[1;32mFalse\u001b[0m\u001b[1;33m\u001b[0m\u001b[1;33m\u001b[0m\u001b[0m\n",
      "\u001b[1;32m~\\AppData\\Local\\Continuum\\anaconda3\\lib\\site-packages\\pandas\\compat\\_optional.py\u001b[0m in \u001b[0;36mimport_optional_dependency\u001b[1;34m(name, extra, raise_on_missing, on_version)\u001b[0m\n\u001b[0;32m     96\u001b[0m     \u001b[0mminimum_version\u001b[0m \u001b[1;33m=\u001b[0m \u001b[0mVERSIONS\u001b[0m\u001b[1;33m.\u001b[0m\u001b[0mget\u001b[0m\u001b[1;33m(\u001b[0m\u001b[0mname\u001b[0m\u001b[1;33m)\u001b[0m\u001b[1;33m\u001b[0m\u001b[1;33m\u001b[0m\u001b[0m\n\u001b[0;32m     97\u001b[0m     \u001b[1;32mif\u001b[0m \u001b[0mminimum_version\u001b[0m\u001b[1;33m:\u001b[0m\u001b[1;33m\u001b[0m\u001b[1;33m\u001b[0m\u001b[0m\n\u001b[1;32m---> 98\u001b[1;33m         \u001b[0mversion\u001b[0m \u001b[1;33m=\u001b[0m \u001b[0m_get_version\u001b[0m\u001b[1;33m(\u001b[0m\u001b[0mmodule\u001b[0m\u001b[1;33m)\u001b[0m\u001b[1;33m\u001b[0m\u001b[1;33m\u001b[0m\u001b[0m\n\u001b[0m\u001b[0;32m     99\u001b[0m         \u001b[1;32mif\u001b[0m \u001b[0mdistutils\u001b[0m\u001b[1;33m.\u001b[0m\u001b[0mversion\u001b[0m\u001b[1;33m.\u001b[0m\u001b[0mLooseVersion\u001b[0m\u001b[1;33m(\u001b[0m\u001b[0mversion\u001b[0m\u001b[1;33m)\u001b[0m \u001b[1;33m<\u001b[0m \u001b[0mminimum_version\u001b[0m\u001b[1;33m:\u001b[0m\u001b[1;33m\u001b[0m\u001b[1;33m\u001b[0m\u001b[0m\n\u001b[0;32m    100\u001b[0m             \u001b[1;32massert\u001b[0m \u001b[0mon_version\u001b[0m \u001b[1;32min\u001b[0m \u001b[1;33m{\u001b[0m\u001b[1;34m\"warn\"\u001b[0m\u001b[1;33m,\u001b[0m \u001b[1;34m\"raise\"\u001b[0m\u001b[1;33m,\u001b[0m \u001b[1;34m\"ignore\"\u001b[0m\u001b[1;33m}\u001b[0m\u001b[1;33m\u001b[0m\u001b[1;33m\u001b[0m\u001b[0m\n",
      "\u001b[1;32m~\\AppData\\Local\\Continuum\\anaconda3\\lib\\site-packages\\pandas\\compat\\_optional.py\u001b[0m in \u001b[0;36m_get_version\u001b[1;34m(module)\u001b[0m\n\u001b[0;32m     41\u001b[0m \u001b[1;33m\u001b[0m\u001b[0m\n\u001b[0;32m     42\u001b[0m     \u001b[1;32mif\u001b[0m \u001b[0mversion\u001b[0m \u001b[1;32mis\u001b[0m \u001b[1;32mNone\u001b[0m\u001b[1;33m:\u001b[0m\u001b[1;33m\u001b[0m\u001b[1;33m\u001b[0m\u001b[0m\n\u001b[1;32m---> 43\u001b[1;33m         \u001b[1;32mraise\u001b[0m \u001b[0mImportError\u001b[0m\u001b[1;33m(\u001b[0m\u001b[1;34mf\"Can't determine version for {module.__name__}\"\u001b[0m\u001b[1;33m)\u001b[0m\u001b[1;33m\u001b[0m\u001b[1;33m\u001b[0m\u001b[0m\n\u001b[0m\u001b[0;32m     44\u001b[0m     \u001b[1;32mreturn\u001b[0m \u001b[0mversion\u001b[0m\u001b[1;33m\u001b[0m\u001b[1;33m\u001b[0m\u001b[0m\n\u001b[0;32m     45\u001b[0m \u001b[1;33m\u001b[0m\u001b[0m\n",
      "\u001b[1;31mImportError\u001b[0m: Can't determine version for bottleneck"
     ]
    }
   ],
   "source": [
    "# imports\n",
    "import pandas as pd\n",
    "import networkx as nx\n",
    "import matplotlib.pyplot as plt\n",
    "\n",
    "%matplotlib inline"
   ]
  },
  {
   "cell_type": "markdown",
   "metadata": {
    "collapsed": true
   },
   "source": [
    "# Intro to NetworkX\n",
    "\n",
    "### Adding & editing graph nodes\n",
    "\n",
    "We'll first take a look at creating a graph, and adding/editing nodes:"
   ]
  },
  {
   "cell_type": "code",
<<<<<<< HEAD
   "execution_count": 3,
   "metadata": {},
=======
   "execution_count": 2,
   "metadata": {
    "collapsed": false
   },
>>>>>>> upstream/master
   "outputs": [
    {
     "data": {
      "text/plain": [
<<<<<<< HEAD
       "NodeView((1, 2, 3, 'four', 5))"
      ]
     },
     "execution_count": 3,
=======
       "NodeView((1, 2, 3, 5, 'four'))"
      ]
     },
     "execution_count": 2,
>>>>>>> upstream/master
     "metadata": {},
     "output_type": "execute_result"
    }
   ],
   "source": [
    "import networkx as nx\n",
    "\n",
    "'''use g = nx.Graph() to create a graph'''\n",
    "\n",
    "g = nx.Graph()\n",
    "\n",
    "'''Lesson: use .add_node(1) to add a single node'''\n",
    "g.add_node(1)    #add one node\n",
    "\n",
    "'''Lesson: use .add_nodes_from([2, 3, 'four', 5])  to add in bulk'''\n",
    "g.add_nodes_from([2, 3, 'four', 5])  #add list of nodes\n",
    "\n",
    "g.nodes()  # run g.nodes() to view the graph/ list all the nodes in the network"
   ]
  },
  {
   "cell_type": "code",
<<<<<<< HEAD
   "execution_count": 4,
   "metadata": {},
=======
   "execution_count": 3,
   "metadata": {
    "collapsed": false
   },
>>>>>>> upstream/master
   "outputs": [
    {
     "data": {
      "text/plain": [
<<<<<<< HEAD
       "NodeView((1, 2, 3, 'four', 5))"
      ]
     },
     "execution_count": 4,
=======
       "NodeView((1, 2, 3, 5, 'four'))"
      ]
     },
     "execution_count": 3,
>>>>>>> upstream/master
     "metadata": {},
     "output_type": "execute_result"
    }
   ],
   "source": [
    "'''Note that NetworkX won't complain if we re-add pre-existing nodes'''\n",
    "\n",
    "# TODO: try re-adding nodes to see what happens\n",
    "g.add_node(1) #it is fine with that, it will over write it\n",
    "g.nodes()  # display nodes"
   ]
  },
  {
   "cell_type": "code",
<<<<<<< HEAD
   "execution_count": 5,
   "metadata": {},
=======
   "execution_count": 4,
   "metadata": {
    "collapsed": false
   },
>>>>>>> upstream/master
   "outputs": [
    {
     "data": {
      "text/plain": [
<<<<<<< HEAD
       "NodeView(('four', 5))"
      ]
     },
     "execution_count": 5,
=======
       "NodeView((1, 2, 3, 5, 'four'))"
      ]
     },
     "execution_count": 4,
>>>>>>> upstream/master
     "metadata": {},
     "output_type": "execute_result"
    }
   ],
   "source": [
    "'''Lesson: remove syntax is similar to adding, eg:\n",
    "        .remove_node()\n",
    "        .remove_nodes_from()\n",
    "'''\n",
    "\n",
    "# TODO: try removing both 1) single nodes, 2) nodes in bulk\n",
    "g.remove_node(1)  #removes the node 1\n",
    "g.remove_nodes_from([2,3])  #remove nodes 2 and 3\n",
    "\n",
    "\n",
    "g.nodes()  # display nodes"
   ]
  },
  {
   "cell_type": "markdown",
   "metadata": {},
   "source": [
    "### Adding & editing edges"
   ]
  },
  {
   "cell_type": "code",
<<<<<<< HEAD
   "execution_count": 6,
   "metadata": {},
=======
   "execution_count": 5,
   "metadata": {
    "collapsed": false
   },
>>>>>>> upstream/master
   "outputs": [
    {
     "name": "stdout",
     "output_type": "stream",
     "text": [
      "edges: [('a', 'b')]\n",
      "nodes: ['a', 'b']\n"
     ]
    }
   ],
   "source": [
    "h = nx.Graph()  # let's create a 2nd graph to play with edges\n",
    "\n",
    "'''Lesson: to create an edge, just specify the 2 nodes that define it: \n",
    "        .add_edge('a','b')\n",
    "    Note that those nodes also get added (no need to make them beforehand!)\n",
    "'''\n",
    "\n",
    "h.add_edge('a', 'b')  # no need to add nodes because edges would automatically create the nodes\n",
    "\n",
    "\n",
    "print('edges:', h.edges())  # see your new edge\n",
    "print('nodes:', h.nodes())  # verify that new nodes were also added"
   ]
  },
  {
   "cell_type": "markdown",
   "metadata": {},
   "source": [
    "### Visualizing graphs"
   ]
  },
  {
   "cell_type": "code",
<<<<<<< HEAD
   "execution_count": 7,
   "metadata": {},
   "outputs": [
    {
     "name": "stderr",
     "output_type": "stream",
     "text": [
      "C:\\Users\\mnbo229\\AppData\\Local\\Continuum\\anaconda3\\lib\\site-packages\\networkx\\drawing\\nx_pylab.py:579: MatplotlibDeprecationWarning: \n",
      "The iterable function was deprecated in Matplotlib 3.1 and will be removed in 3.3. Use np.iterable instead.\n",
      "  if not cb.iterable(width):\n"
     ]
    },
    {
     "data": {
      "image/png": "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\n",
      "text/plain": [
       "<Figure size 432x288 with 1 Axes>"
=======
   "execution_count": 6,
   "metadata": {
    "collapsed": false
   },
   "outputs": [
    {
     "data": {
      "image/png": "iVBORw0KGgoAAAANSUhEUgAAAecAAAFCCAYAAADL3BUJAAAABHNCSVQICAgIfAhkiAAAAAlwSFlz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\n",
      "text/plain": [
       "<matplotlib.figure.Figure at 0x91ea3bac88>"
>>>>>>> upstream/master
      ]
     },
     "metadata": {},
     "output_type": "display_data"
    }
   ],
   "source": [
    "\n",
    "GREEN = \"#77DD77\"\n",
    "BLUE = \"#99CCFF\"\n",
    "#it draws the nodes randomally\n",
    "nx.draw(g, node_color=GREEN, with_labels=True)  #draw g which has four and 5 after droppeind 1, 2 ,3\n",
    "nx.draw(h, node_color=BLUE, with_labels=True)  # draw h with 2 nodes and one edge\n",
    "\n"
   ]
  },
  {
   "cell_type": "markdown",
   "metadata": {},
   "source": [
    "#### How would you create the following graph?\n",
    "\n",
    "<img src=\"img/graph.png\" style=\"float:left\" width=\"200\" />"
   ]
  },
  {
   "cell_type": "code",
<<<<<<< HEAD
   "execution_count": 8,
   "metadata": {},
   "outputs": [
    {
     "data": {
      "image/png": "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\n",
      "text/plain": [
       "<Figure size 432x288 with 1 Axes>"
      ]
     },
     "metadata": {},
     "output_type": "display_data"
    }
   ],
=======
   "execution_count": 7,
   "metadata": {
    "collapsed": true
   },
   "outputs": [],
>>>>>>> upstream/master
   "source": [
    "g = nx.Graph()\n",
    "\n",
    "g.add_edges_from([('A','B'),('B','D'),('C','D'),('E','D'),('F','D')])  #adding all my edges\n",
    "nx.draw(g, node_color=BLUE, with_labels=True)"
   ]
  },
  {
   "cell_type": "markdown",
   "metadata": {},
   "source": [
    "# Directed graphs"
   ]
  },
  {
   "cell_type": "code",
<<<<<<< HEAD
   "execution_count": 9,
   "metadata": {},
=======
   "execution_count": 8,
   "metadata": {
    "collapsed": false
   },
>>>>>>> upstream/master
   "outputs": [
    {
     "name": "stdout",
     "output_type": "stream",
     "text": [
      "directed edges: [(1, 2), (2, 3)]\n"
     ]
    },
    {
<<<<<<< HEAD
     "name": "stderr",
     "output_type": "stream",
     "text": [
      "C:\\Users\\mnbo229\\AppData\\Local\\Continuum\\anaconda3\\lib\\site-packages\\networkx\\drawing\\nx_pylab.py:676: MatplotlibDeprecationWarning: \n",
      "The iterable function was deprecated in Matplotlib 3.1 and will be removed in 3.3. Use np.iterable instead.\n",
      "  if cb.iterable(node_size):  # many node sizes\n"
     ]
    },
    {
     "data": {
      "image/png": "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\n",
      "text/plain": [
       "<Figure size 432x288 with 1 Axes>"
=======
     "data": {
      "image/png": "iVBORw0KGgoAAAANSUhEUgAAAegAAAFCCAYAAAA6106EAAAABHNCSVQICAgIfAhkiAAAAAlwSFlz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\ngShoAAAc6P8DgW5/hEOIy6EAAAAASUVORK5CYII=\n",
      "text/plain": [
       "<matplotlib.figure.Figure at 0xb934c8cf98>"
>>>>>>> upstream/master
      ]
     },
     "metadata": {},
     "output_type": "display_data"
    }
   ],
   "source": [
    "'''Lesson: use nx.DiGraph() to create a new directed graph\n",
    "'''\n",
    "\n",
    "dg = nx.DiGraph()\n",
    "#add direction of arrows\n",
    "\n",
    "dg.add_edges_from([(1,2), (2,3)])\n",
    "\n",
    "print('directed edges:', dg.edges())\n",
    "nx.draw(dg, node_color=GREEN, with_labels=True)\n"
   ]
  },
  {
   "cell_type": "code",
<<<<<<< HEAD
   "execution_count": 10,
   "metadata": {},
   "outputs": [
    {
     "data": {
      "image/png": "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\n",
      "text/plain": [
       "<Figure size 432x288 with 1 Axes>"
=======
   "execution_count": 9,
   "metadata": {
    "collapsed": false
   },
   "outputs": [
    {
     "data": {
      "image/png": "iVBORw0KGgoAAAANSUhEUgAAAecAAAFCCAYAAADL3BUJAAAABHNCSVQICAgIfAhkiAAAAAlwSFlz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\nQmCC\n",
      "text/plain": [
       "<matplotlib.figure.Figure at 0xb934c62320>"
>>>>>>> upstream/master
      ]
     },
     "metadata": {},
     "output_type": "display_data"
    }
   ],
   "source": [
    "'''We can make directed graphs from existing graphs, eg:\n",
    "        nx.DiGraph(g)\n",
    "'''\n",
    "\n",
    "dg = nx.DiGraph(g)\n",
    "\n",
    "\n",
    "nx.draw(dg, node_color=BLUE, with_labels=True)"
   ]
  },
  {
   "cell_type": "code",
<<<<<<< HEAD
   "execution_count": 11,
   "metadata": {},
=======
   "execution_count": 10,
   "metadata": {
    "collapsed": false
   },
>>>>>>> upstream/master
   "outputs": [
    {
     "data": {
      "text/plain": [
<<<<<<< HEAD
       "OutEdgeView([('A', 'B'), ('B', 'A'), ('B', 'D'), ('D', 'B'), ('D', 'C'), ('D', 'E'), ('D', 'F'), ('C', 'D'), ('E', 'D'), ('F', 'D')])"
      ]
     },
     "execution_count": 11,
=======
       "OutEdgeView([('B', 'D'), ('B', 'A'), ('F', 'D'), ('C', 'D'), ('E', 'D'), ('A', 'B'), ('D', 'B'), ('D', 'F'), ('D', 'C'), ('D', 'E')])"
      ]
     },
     "execution_count": 10,
>>>>>>> upstream/master
     "metadata": {},
     "output_type": "execute_result"
    }
   ],
   "source": [
    "''' Notice that nodes A and B have TWO directed edges:\n",
    "        A -> B\n",
    "        B -> A\n",
    "'''\n",
    "\n",
    "dg.edges()"
   ]
  },
  {
   "cell_type": "markdown",
   "metadata": {},
   "source": [
    "### Adding attributes to nodes and edges\n",
    "\n",
    "Sometimes you may want to attach attributes to either the nodes or edges:\n",
    "\n",
    "* Perhaps you want to save node properties that will be helpful with future analysis\n",
    "* Perhaps you want to attach visual descriptions, such a node size, edge width or graph color"
   ]
  },
  {
   "cell_type": "code",
<<<<<<< HEAD
   "execution_count": 12,
   "metadata": {},
   "outputs": [
    {
     "data": {
      "image/png": "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\n",
      "text/plain": [
       "<Figure size 432x288 with 1 Axes>"
      ]
     },
     "metadata": {},
     "output_type": "display_data"
=======
   "execution_count": 11,
   "metadata": {
    "collapsed": false
   },
   "outputs": [
    {
     "ename": "TypeError",
     "evalue": "add_edge() takes 3 positional arguments but 4 were given",
     "output_type": "error",
     "traceback": [
      "\u001b[0;31m---------------------------------------------------------------------------\u001b[0m",
      "\u001b[0;31mTypeError\u001b[0m                                 Traceback (most recent call last)",
      "\u001b[0;32m<ipython-input-11-5ff78c8d8d0b>\u001b[0m in \u001b[0;36m<module>\u001b[0;34m()\u001b[0m\n\u001b[1;32m      1\u001b[0m \u001b[0mcities\u001b[0m \u001b[1;33m=\u001b[0m \u001b[0mnx\u001b[0m\u001b[1;33m.\u001b[0m\u001b[0mGraph\u001b[0m\u001b[1;33m(\u001b[0m\u001b[1;33m)\u001b[0m\u001b[1;33m\u001b[0m\u001b[0m\n\u001b[1;32m      2\u001b[0m \u001b[1;33m\u001b[0m\u001b[0m\n\u001b[0;32m----> 3\u001b[0;31m \u001b[0mcities\u001b[0m\u001b[1;33m.\u001b[0m\u001b[0madd_edge\u001b[0m\u001b[1;33m(\u001b[0m\u001b[1;34m'San Diego'\u001b[0m\u001b[1;33m,\u001b[0m \u001b[1;34m'Los Angeles'\u001b[0m\u001b[1;33m,\u001b[0m \u001b[1;33m{\u001b[0m \u001b[1;34m'distance'\u001b[0m\u001b[1;33m:\u001b[0m \u001b[1;36m0.4\u001b[0m\u001b[1;33m}\u001b[0m\u001b[1;33m)\u001b[0m\u001b[1;33m\u001b[0m\u001b[0m\n\u001b[0m\u001b[1;32m      4\u001b[0m \u001b[0mcities\u001b[0m\u001b[1;33m.\u001b[0m\u001b[0madd_edge\u001b[0m\u001b[1;33m(\u001b[0m\u001b[1;34m'New York'\u001b[0m\u001b[1;33m,\u001b[0m \u001b[1;34m'Nashville'\u001b[0m\u001b[1;33m,\u001b[0m \u001b[1;33m{\u001b[0m \u001b[1;34m'distance'\u001b[0m\u001b[1;33m:\u001b[0m \u001b[1;36m5.6\u001b[0m\u001b[1;33m}\u001b[0m\u001b[1;33m)\u001b[0m\u001b[1;33m\u001b[0m\u001b[0m\n\u001b[1;32m      5\u001b[0m \u001b[0mcities\u001b[0m\u001b[1;33m.\u001b[0m\u001b[0madd_edge\u001b[0m\u001b[1;33m(\u001b[0m\u001b[1;34m'Boston'\u001b[0m\u001b[1;33m,\u001b[0m \u001b[1;34m'D.C.'\u001b[0m\u001b[1;33m,\u001b[0m \u001b[1;33m{\u001b[0m \u001b[1;34m'distance'\u001b[0m\u001b[1;33m:\u001b[0m \u001b[1;36m0.8\u001b[0m\u001b[1;33m}\u001b[0m\u001b[1;33m)\u001b[0m\u001b[1;33m\u001b[0m\u001b[0m\n",
      "\u001b[0;31mTypeError\u001b[0m: add_edge() takes 3 positional arguments but 4 were given"
     ]
>>>>>>> upstream/master
    }
   ],
   "source": [
    "#https://networkx.github.io/documentation/latest/reference/classes/generated/networkx.Graph.add_edge.html#networkx.Graph.add_edge\n",
    "cities = nx.Graph()\n",
    "#it knows that cities it can access it so it would know teh self taken stuff like the nodes\n",
    "cities.add_edge('San Diego', 'Los Angeles', distance= 0.4) #add attributes in the form of dictionary, either write distance\n",
    "cities.add_edge('New York', 'Nashville', attr={ 'distance': 5.6})  #or specify attribute\n",
    "cities.add_edge('Boston', 'D.C.', atr={ 'distance': 0.8})  #we might use distance to caluclate the shortest path\n",
    "\n",
    "nx.draw(cities)"
   ]
  },
  {
   "cell_type": "code",
   "execution_count": 13,
   "metadata": {},
   "outputs": [
    {
     "data": {
      "text/plain": [
       "EdgeView([('San Diego', 'Los Angeles'), ('New York', 'Nashville'), ('Boston', 'D.C.')])"
      ]
     },
     "execution_count": 13,
     "metadata": {},
     "output_type": "execute_result"
    }
   ],
   "source": [
    "cities.edges   # to read the edges"
   ]
  },
  {
   "cell_type": "markdown",
   "metadata": {},
   "source": [
    "# Describing a network"
   ]
  },
  {
   "cell_type": "markdown",
   "metadata": {},
   "source": [
    "### Degree Distribution:\n",
    "\n",
    "\n",
    "\n",
    "<img src=\"img/graph.png\" style=\"float:left; padding-right:20px;\" width=\"200\" />\n",
    "\n",
    "- 1 node with 4 edges\n",
    "- 1 node with 2 edges\n",
    "- 4 nodes with 1 edge\n",
    "\n",
    "Distribution:\n",
    "\n",
    "    [(1:4), (1:2), (4:1)]\n"
   ]
  },
  {
   "cell_type": "code",
<<<<<<< HEAD
   "execution_count": 14,
   "metadata": {},
=======
   "execution_count": 12,
   "metadata": {
    "collapsed": false
   },
>>>>>>> upstream/master
   "outputs": [
    {
     "name": "stdout",
     "output_type": "stream",
     "text": [
<<<<<<< HEAD
      "Degree Distribution: [('A', 1), ('B', 2), ('D', 4), ('C', 1), ('E', 1), ('F', 1)]\n"
=======
      "Degree Distribution: [('B', 2), ('F', 1), ('D', 4), ('E', 1), ('A', 1), ('C', 1)]\n"
>>>>>>> upstream/master
     ]
    }
   ],
   "source": [
    "# Degree Distribution for all nodes\n",
    "print('Degree Distribution:', g.degree())"
   ]
  },
  {
   "cell_type": "code",
<<<<<<< HEAD
   "execution_count": 15,
   "metadata": {},
=======
   "execution_count": 13,
   "metadata": {
    "collapsed": false
   },
>>>>>>> upstream/master
   "outputs": [
    {
     "name": "stdout",
     "output_type": "stream",
     "text": [
      "Avg shortest path from A to E is 3 hops:\n",
      "['A', 'B', 'D', 'E']\n"
     ]
    }
   ],
   "source": [
    "# Generate the graph above\n",
    "paths = nx.Graph() #paths is name of graph\n",
    "paths.add_edges_from([\n",
    "    ('A','B'), ('B','D'), ('B','C'), ('D','E'), ('D','C'),\n",
    "    ('C','1'), ('1','2'), ('1','3'), ('2','3'), \n",
    "    ('E','2'), ('E','4')])   #specify starting and ending nodes\n",
    "\n",
    "# Display average shortest path details\n",
    "print('Avg shortest path from A to E is', nx.shortest_path_length(paths, 'A','E'), 'hops:')\n",
    "print(nx.shortest_path(paths, 'A','E'))   #shortest_path_lengths tell em shortest path it takes and the other prints them"
   ]
  },
  {
   "cell_type": "markdown",
   "metadata": {},
   "source": [
    "## Network Centrality (the higher result is better!)\n",
    "\n",
    "* **Degree: number of edges** for node X\n",
    "* **Betweenness: number of shortest paths** that pass through node X\n",
    "* **Closeness: average of the shortest paths** between X and all other nodes\n",
    "\n",
    "<img src=\"img/centrality1.png\" style=\"float:left;\" width=\"400\" />\n",
    "<img src=\"img/centrality2.png\" style=\"float:left;\" width=\"200\" />\n",
    "\n"
   ]
  },
  {
   "cell_type": "code",
<<<<<<< HEAD
   "execution_count": 16,
   "metadata": {},
=======
   "execution_count": 14,
   "metadata": {
    "collapsed": false
   },
>>>>>>> upstream/master
   "outputs": [
    {
     "name": "stdout",
     "output_type": "stream",
     "text": [
      "Degree Centrality:\n",
<<<<<<< HEAD
      "[('A', 1), ('B', 2), ('D', 4), ('C', 1), ('E', 1), ('F', 1)]\n",
      "\n",
      "Degree Centrality, Normalized:\n",
      "{'A': 0.2, 'B': 0.4, 'D': 0.8, 'C': 0.2, 'E': 0.2, 'F': 0.2}\n"
=======
      "[('B', 2), ('F', 1), ('D', 4), ('E', 1), ('A', 1), ('C', 1)]\n",
      "\n",
      "Degree Centrality, Normalized:\n",
      "{'B': 0.4, 'F': 0.2, 'C': 0.2, 'E': 0.2, 'A': 0.2, 'D': 0.8}\n"
>>>>>>> upstream/master
     ]
    }
   ],
   "source": [
    "''' To calculate Degree Distribution for all nodes, use:\n",
    "    g.degree()  for non-normalized values,\n",
    "    nx.degree_centrality(g)   for normalized values\n",
    "'''\n",
    "\n",
    "# degree distrib., non-normalized\n",
    "print('Degree Centrality:')\n",
    "print(g.degree())\n",
    "\n",
    "# TODO degree distrib., normalized\n",
    "print('\\nDegree Centrality, Normalized:')\n",
    "print(nx.degree_centrality(g))\n",
    "\n",
    "#D is most important"
   ]
  },
  {
   "cell_type": "code",
<<<<<<< HEAD
   "execution_count": 17,
   "metadata": {},
=======
   "execution_count": 15,
   "metadata": {
    "collapsed": false
   },
>>>>>>> upstream/master
   "outputs": [
    {
     "name": "stdout",
     "output_type": "stream",
     "text": [
      "Betweenness Centrality:\n",
<<<<<<< HEAD
      "{'A': 0.0, 'B': 4.0, 'D': 9.0, 'C': 0.0, 'E': 0.0, 'F': 0.0}\n",
      "\n",
      "Betweenness Centrality, Normalized:\n",
      "{'A': 0.0, 'B': 0.4, 'D': 0.9, 'C': 0.0, 'E': 0.0, 'F': 0.0}\n"
=======
      "{'B': 4.0, 'F': 0.0, 'C': 0.0, 'E': 0.0, 'A': 0.0, 'D': 9.0}\n",
      "\n",
      "Betweenness Centrality, Normalized:\n",
      "{'B': 0.4, 'F': 0.0, 'C': 0.0, 'E': 0.0, 'A': 0.0, 'D': 0.9}\n"
>>>>>>> upstream/master
     ]
    }
   ],
   "source": [
    "''' To calculate betweenness centrality, use:\n",
    "    nx.betweenness_centrality(g, normalized=True/False)   default is True\n",
    "'''\n",
    "\n",
    "# betweenness centrality, non-normalized\n",
    "print('Betweenness Centrality:')\n",
    "print(nx.betweenness_centrality(g, normalized=False))\n",
    "\n",
    "# betweenness centrality, normalized\n",
    "print('\\nBetweenness Centrality, Normalized:')\n",
    "print(nx.betweenness_centrality(g, normalized=True))\n",
    "\n",
    "#D is most important"
   ]
  },
  {
   "cell_type": "code",
<<<<<<< HEAD
   "execution_count": 18,
   "metadata": {},
=======
   "execution_count": 16,
   "metadata": {
    "collapsed": false
   },
>>>>>>> upstream/master
   "outputs": [
    {
     "name": "stdout",
     "output_type": "stream",
     "text": [
      "Closeness Centrality:\n",
<<<<<<< HEAD
      "{'A': 0.4166666666666667, 'B': 0.625, 'D': 0.8333333333333334, 'C': 0.5, 'E': 0.5, 'F': 0.5}\n"
=======
      "{'B': 0.625, 'F': 0.5, 'C': 0.5, 'E': 0.5, 'A': 0.4166666666666667, 'D': 0.8333333333333334}\n"
>>>>>>> upstream/master
     ]
    }
   ],
   "source": [
    "''' to calculate closeness centrality, use:\n",
    "    nx.closeness_centrality(g)\n",
    "'''\n",
    "\n",
    "# find closeness centrality\n",
    "print('Closeness Centrality:')\n",
    "print(nx.closeness_centrality(g))"
   ]
  },
  {
   "cell_type": "markdown",
   "metadata": {},
   "source": [
    "# Back to Airline Networks\n",
    "\n",
    "Previously we used open flights to examine airline routes around the world.  We found that it was a bit of a pain to store the data in tables, and merge different information.  We can model it as network instead.  I've cleaned the data up a bit, and selected out only the routes operated by Delta, making it a bit more managable.  \n"
   ]
  },
  {
   "cell_type": "code",
<<<<<<< HEAD
   "execution_count": 19,
   "metadata": {},
=======
   "execution_count": 17,
   "metadata": {
    "collapsed": false
   },
>>>>>>> upstream/master
   "outputs": [
    {
     "data": {
      "text/html": [
       "<div>\n",
       "<style scoped>\n",
       "    .dataframe tbody tr th:only-of-type {\n",
       "        vertical-align: middle;\n",
       "    }\n",
       "\n",
       "    .dataframe tbody tr th {\n",
       "        vertical-align: top;\n",
       "    }\n",
       "\n",
       "    .dataframe thead th {\n",
       "        text-align: right;\n",
       "    }\n",
       "</style>\n",
       "<table border=\"1\" class=\"dataframe\">\n",
       "  <thead>\n",
       "    <tr style=\"text-align: right;\">\n",
       "      <th></th>\n",
       "      <th>Unnamed: 0</th>\n",
       "      <th>airline</th>\n",
       "      <th>airline_id</th>\n",
       "      <th>source</th>\n",
       "      <th>source_id</th>\n",
       "      <th>dest</th>\n",
       "      <th>dest_id</th>\n",
       "      <th>codeshare</th>\n",
       "      <th>stops</th>\n",
       "      <th>equipment</th>\n",
       "      <th>latitude_source</th>\n",
       "      <th>longitude_source</th>\n",
       "      <th>latitude_dest</th>\n",
       "      <th>longitude_dest</th>\n",
       "    </tr>\n",
       "  </thead>\n",
       "  <tbody>\n",
       "    <tr>\n",
<<<<<<< HEAD
       "      <td>0</td>\n",
=======
       "      <th>0</th>\n",
>>>>>>> upstream/master
       "      <td>0</td>\n",
       "      <td>DL</td>\n",
       "      <td>2009.0</td>\n",
       "      <td>ABE</td>\n",
       "      <td>4355.0</td>\n",
       "      <td>ATL</td>\n",
       "      <td>3682.0</td>\n",
       "      <td>NaN</td>\n",
       "      <td>0</td>\n",
       "      <td>717</td>\n",
       "      <td>40.652100</td>\n",
       "      <td>-75.440804</td>\n",
       "      <td>33.636700</td>\n",
       "      <td>-84.428101</td>\n",
       "    </tr>\n",
       "    <tr>\n",
<<<<<<< HEAD
       "      <td>1</td>\n",
=======
       "      <th>1</th>\n",
>>>>>>> upstream/master
       "      <td>1</td>\n",
       "      <td>DL</td>\n",
       "      <td>2009.0</td>\n",
       "      <td>ABQ</td>\n",
       "      <td>4019.0</td>\n",
       "      <td>ATL</td>\n",
       "      <td>3682.0</td>\n",
       "      <td>NaN</td>\n",
       "      <td>0</td>\n",
       "      <td>757 320</td>\n",
       "      <td>35.040199</td>\n",
       "      <td>-106.609001</td>\n",
       "      <td>33.636700</td>\n",
       "      <td>-84.428101</td>\n",
       "    </tr>\n",
       "    <tr>\n",
<<<<<<< HEAD
       "      <td>2</td>\n",
=======
       "      <th>2</th>\n",
>>>>>>> upstream/master
       "      <td>2</td>\n",
       "      <td>DL</td>\n",
       "      <td>2009.0</td>\n",
       "      <td>ABQ</td>\n",
       "      <td>4019.0</td>\n",
       "      <td>MSP</td>\n",
       "      <td>3858.0</td>\n",
       "      <td>NaN</td>\n",
       "      <td>0</td>\n",
       "      <td>320</td>\n",
       "      <td>35.040199</td>\n",
       "      <td>-106.609001</td>\n",
       "      <td>44.882000</td>\n",
       "      <td>-93.221802</td>\n",
       "    </tr>\n",
       "    <tr>\n",
<<<<<<< HEAD
       "      <td>3</td>\n",
=======
       "      <th>3</th>\n",
>>>>>>> upstream/master
       "      <td>3</td>\n",
       "      <td>DL</td>\n",
       "      <td>2009.0</td>\n",
       "      <td>ACC</td>\n",
       "      <td>248.0</td>\n",
       "      <td>JFK</td>\n",
       "      <td>3797.0</td>\n",
       "      <td>NaN</td>\n",
       "      <td>0</td>\n",
       "      <td>76W</td>\n",
       "      <td>5.605190</td>\n",
       "      <td>-0.166786</td>\n",
       "      <td>40.639801</td>\n",
       "      <td>-73.778900</td>\n",
       "    </tr>\n",
       "    <tr>\n",
<<<<<<< HEAD
       "      <td>4</td>\n",
=======
       "      <th>4</th>\n",
>>>>>>> upstream/master
       "      <td>4</td>\n",
       "      <td>DL</td>\n",
       "      <td>2009.0</td>\n",
       "      <td>ACC</td>\n",
       "      <td>248.0</td>\n",
       "      <td>ROB</td>\n",
       "      <td>1063.0</td>\n",
       "      <td>NaN</td>\n",
       "      <td>0</td>\n",
       "      <td>76W</td>\n",
       "      <td>5.605190</td>\n",
       "      <td>-0.166786</td>\n",
       "      <td>6.233790</td>\n",
       "      <td>-10.362300</td>\n",
       "    </tr>\n",
       "  </tbody>\n",
       "</table>\n",
       "</div>"
      ],
      "text/plain": [
       "   Unnamed: 0 airline  airline_id source  source_id dest  dest_id  codeshare  \\\n",
       "0           0      DL      2009.0    ABE     4355.0  ATL   3682.0        NaN   \n",
       "1           1      DL      2009.0    ABQ     4019.0  ATL   3682.0        NaN   \n",
       "2           2      DL      2009.0    ABQ     4019.0  MSP   3858.0        NaN   \n",
       "3           3      DL      2009.0    ACC      248.0  JFK   3797.0        NaN   \n",
       "4           4      DL      2009.0    ACC      248.0  ROB   1063.0        NaN   \n",
       "\n",
       "   stops equipment  latitude_source  longitude_source  latitude_dest  \\\n",
       "0      0       717        40.652100        -75.440804      33.636700   \n",
       "1      0   757 320        35.040199       -106.609001      33.636700   \n",
       "2      0       320        35.040199       -106.609001      44.882000   \n",
       "3      0       76W         5.605190         -0.166786      40.639801   \n",
       "4      0       76W         5.605190         -0.166786       6.233790   \n",
       "\n",
       "   longitude_dest  \n",
       "0      -84.428101  \n",
       "1      -84.428101  \n",
       "2      -93.221802  \n",
       "3      -73.778900  \n",
       "4      -10.362300  "
      ]
     },
<<<<<<< HEAD
     "execution_count": 19,
=======
     "execution_count": 17,
>>>>>>> upstream/master
     "metadata": {},
     "output_type": "execute_result"
    }
   ],
   "source": [
    "# read the data\n",
    "routes = pd.read_csv('data/delta_routes.csv')\n",
    "routes.head()"
   ]
  },
  {
   "cell_type": "markdown",
   "metadata": {},
   "source": [
    "### As a review, let's build an interactive map to see what this looks like\n",
    "\n"
   ]
  },
  {
   "cell_type": "code",
<<<<<<< HEAD
   "execution_count": 20,
   "metadata": {},
=======
   "execution_count": 18,
   "metadata": {
    "collapsed": true
   },
>>>>>>> upstream/master
   "outputs": [],
   "source": [
    "import pyproj\n",
    "import folium"
   ]
  },
  {
   "cell_type": "code",
<<<<<<< HEAD
   "execution_count": 21,
   "metadata": {},
=======
   "execution_count": 19,
   "metadata": {
    "collapsed": true
   },
>>>>>>> upstream/master
   "outputs": [],
   "source": [
    "\n",
    "# when creating a function, it is good practice to define the API!\n",
    "def getGreatCirclePoints(startlat, startlon, endlat, endlon): \n",
    "    \"\"\"\n",
    "    startlat - starting latitude \n",
    "    startlon - starting longitude \n",
    "    endlat   - ending latitude \n",
    "    endlon   - ending longitude \n",
    "    \n",
    "    returns - a list of tuples, where each tuple is the lat-long for a point\n",
    "              along the curve.  \n",
    "    \"\"\"\n",
    "    # calculate distance between points\n",
    "    g = pyproj.Geod(ellps='WGS84')\n",
    "    (az12, az21, dist) = g.inv(startlon, startlat, endlon, endlat)\n",
    "\n",
    "    # calculate line string along path with segments <= 20 km\n",
    "    lonlats = g.npts(startlon, startlat, endlon, endlat,\n",
    "                     1 + int(dist / 20000))\n",
    "\n",
    "    # the npts function uses lon-lat, while the folium functions use lat-lon\n",
    "    # This sort of thing is maddening!  What happens is the lines don't show\n",
    "    # up on the map and you don't know why.  Learn from my mistakes\n",
    "    latlons = []\n",
    "    for lon_lat in lonlats: \n",
    "        \n",
    "        # this is how you get values out of a tuple\n",
    "        (lon, lat) = lon_lat\n",
    "        \n",
    "        # add them to our list\n",
    "        latlons.append((lat, lon)) \n",
    "    \n",
    "    # npts doesn't include start/end points, so prepend/append them\n",
    "    latlons.insert(0, (startlat, startlon))\n",
    "    latlons.append((endlat, endlon))\n",
    "    \n",
    "    return latlons\n"
   ]
  },
  {
   "cell_type": "code",
<<<<<<< HEAD
   "execution_count": 22,
   "metadata": {},
=======
   "execution_count": 20,
   "metadata": {
    "collapsed": false
   },
>>>>>>> upstream/master
   "outputs": [],
   "source": [
    "# create a basic map, centered on Lexington\n",
    "m = folium.Map(\n",
    "    location=[38.034,-84.500],\n",
    "    tiles='Stamen Toner',\n",
    "    zoom_start=4\n",
    ")"
   ]
  },
  {
   "cell_type": "code",
<<<<<<< HEAD
   "execution_count": 23,
   "metadata": {},
=======
   "execution_count": 21,
   "metadata": {
    "collapsed": true
   },
>>>>>>> upstream/master
   "outputs": [],
   "source": [
    "# define the map in the same way, but use great circles for the lines\n",
    "\n",
    "# Define some empty sets\n",
    "airport_set = set()\n",
    "route_set = set()\n",
    "\n",
    "# Make sure we don't add duplicates, especially for the origins\n",
    "for name, row in routes.iterrows():\n",
    "    \n",
    "    if row['source'] not in airport_set: \n",
    "        popup_string = row['source']\n",
    "        marker = folium.CircleMarker([row[\"latitude_source\"], row[\"longitude_source\"]], \n",
    "                                     color='DarkCyan',\n",
    "                                     fill_color='DarkCyan', \n",
    "                                     radius=5, popup=popup_string)\n",
    "        marker.add_to(m)\n",
    "        airport_set.add(row['source'])\n",
    "        \n",
    "    if row['dest'] not in airport_set: \n",
    "        popup_string = row['dest']\n",
    "        marker = folium.CircleMarker([row[\"latitude_dest\"], row[\"longitude_dest\"]], \n",
    "                                     color='MidnightBlue',\n",
    "                                     fill_color='MidnightBlue', \n",
    "                                     radius=5, popup=popup_string)\n",
    "        marker.add_to(m)\n",
    "        airport_set.add(row['dest'])\n",
    "    \n",
    "    # PolyLine will accept a whole list of tuples, not just two\n",
    "    if (row['source'],row['dest']) not in route_set:            \n",
    "        popup_string = row['source'] + '-' + row['dest']       \n",
    "        \n",
    "        gc_points = getGreatCirclePoints(row[\"latitude_source\"], \n",
    "                                         row[\"longitude_source\"], \n",
    "                                         row[\"latitude_dest\"], \n",
    "                                         row[\"longitude_dest\"])\n",
    "        \n",
    "        line = folium.PolyLine(gc_points, weight=2, popup=popup_string)\n",
    "        line.add_to(m)\n",
    "        route_set.add((row['source'],row['dest']))\n",
    "        "
   ]
  },
  {
   "cell_type": "code",
<<<<<<< HEAD
   "execution_count": 24,
   "metadata": {},
=======
   "execution_count": 22,
   "metadata": {
    "collapsed": true
   },
>>>>>>> upstream/master
   "outputs": [],
   "source": [
    "# save it to its own file\n",
    "m.save(\"delta.html\")"
   ]
  },
  {
   "cell_type": "markdown",
   "metadata": {},
   "source": [
    "# Homework\n",
    "\n",
    "1. Represent the Delta flights as a network.  What are the nodes?  What are the links?\n",
    "2. Which is the most important airport in Delta's network?  Support your answer using appropriate network metrics.  \n",
    "3. How many flights are needed to reach Honolulu?  \n",
    "4. What is the maximum number of flights needed to reach any destination in Delta's network?\n",
    "5. Convert the network into a weighted network, using the travel time as the weight.  Assume that planes fly at 500 mph, plus 30 minutes to take off + 30 minutes to land.  \n",
    "6. How long does it take to travel to Honolulu, in flight times.  "
   ]
  },
  {
   "cell_type": "code",
   "execution_count": 19,
   "metadata": {},
   "outputs": [
    {
     "data": {
      "text/html": [
       "<div>\n",
       "<style scoped>\n",
       "    .dataframe tbody tr th:only-of-type {\n",
       "        vertical-align: middle;\n",
       "    }\n",
       "\n",
       "    .dataframe tbody tr th {\n",
       "        vertical-align: top;\n",
       "    }\n",
       "\n",
       "    .dataframe thead th {\n",
       "        text-align: right;\n",
       "    }\n",
       "</style>\n",
       "<table border=\"1\" class=\"dataframe\">\n",
       "  <thead>\n",
       "    <tr style=\"text-align: right;\">\n",
       "      <th></th>\n",
       "      <th>Unnamed: 0</th>\n",
       "      <th>airline</th>\n",
       "      <th>airline_id</th>\n",
       "      <th>source</th>\n",
       "      <th>source_id</th>\n",
       "      <th>dest</th>\n",
       "      <th>dest_id</th>\n",
       "      <th>codeshare</th>\n",
       "      <th>stops</th>\n",
       "      <th>equipment</th>\n",
       "      <th>latitude_source</th>\n",
       "      <th>longitude_source</th>\n",
       "      <th>latitude_dest</th>\n",
       "      <th>longitude_dest</th>\n",
       "    </tr>\n",
       "  </thead>\n",
       "  <tbody>\n",
       "    <tr>\n",
       "      <td>0</td>\n",
       "      <td>0</td>\n",
       "      <td>DL</td>\n",
       "      <td>2009.0</td>\n",
       "      <td>ABE</td>\n",
       "      <td>4355.0</td>\n",
       "      <td>ATL</td>\n",
       "      <td>3682.0</td>\n",
       "      <td>NaN</td>\n",
       "      <td>0</td>\n",
       "      <td>717</td>\n",
       "      <td>40.652100</td>\n",
       "      <td>-75.440804</td>\n",
       "      <td>33.636700</td>\n",
       "      <td>-84.428101</td>\n",
       "    </tr>\n",
       "    <tr>\n",
       "      <td>1</td>\n",
       "      <td>1</td>\n",
       "      <td>DL</td>\n",
       "      <td>2009.0</td>\n",
       "      <td>ABQ</td>\n",
       "      <td>4019.0</td>\n",
       "      <td>ATL</td>\n",
       "      <td>3682.0</td>\n",
       "      <td>NaN</td>\n",
       "      <td>0</td>\n",
       "      <td>757 320</td>\n",
       "      <td>35.040199</td>\n",
       "      <td>-106.609001</td>\n",
       "      <td>33.636700</td>\n",
       "      <td>-84.428101</td>\n",
       "    </tr>\n",
       "    <tr>\n",
       "      <td>2</td>\n",
       "      <td>2</td>\n",
       "      <td>DL</td>\n",
       "      <td>2009.0</td>\n",
       "      <td>ABQ</td>\n",
       "      <td>4019.0</td>\n",
       "      <td>MSP</td>\n",
       "      <td>3858.0</td>\n",
       "      <td>NaN</td>\n",
       "      <td>0</td>\n",
       "      <td>320</td>\n",
       "      <td>35.040199</td>\n",
       "      <td>-106.609001</td>\n",
       "      <td>44.882000</td>\n",
       "      <td>-93.221802</td>\n",
       "    </tr>\n",
       "    <tr>\n",
       "      <td>3</td>\n",
       "      <td>3</td>\n",
       "      <td>DL</td>\n",
       "      <td>2009.0</td>\n",
       "      <td>ACC</td>\n",
       "      <td>248.0</td>\n",
       "      <td>JFK</td>\n",
       "      <td>3797.0</td>\n",
       "      <td>NaN</td>\n",
       "      <td>0</td>\n",
       "      <td>76W</td>\n",
       "      <td>5.605190</td>\n",
       "      <td>-0.166786</td>\n",
       "      <td>40.639801</td>\n",
       "      <td>-73.778900</td>\n",
       "    </tr>\n",
       "    <tr>\n",
       "      <td>4</td>\n",
       "      <td>4</td>\n",
       "      <td>DL</td>\n",
       "      <td>2009.0</td>\n",
       "      <td>ACC</td>\n",
       "      <td>248.0</td>\n",
       "      <td>ROB</td>\n",
       "      <td>1063.0</td>\n",
       "      <td>NaN</td>\n",
       "      <td>0</td>\n",
       "      <td>76W</td>\n",
       "      <td>5.605190</td>\n",
       "      <td>-0.166786</td>\n",
       "      <td>6.233790</td>\n",
       "      <td>-10.362300</td>\n",
       "    </tr>\n",
       "    <tr>\n",
       "      <td>...</td>\n",
       "      <td>...</td>\n",
       "      <td>...</td>\n",
       "      <td>...</td>\n",
       "      <td>...</td>\n",
       "      <td>...</td>\n",
       "      <td>...</td>\n",
       "      <td>...</td>\n",
       "      <td>...</td>\n",
       "      <td>...</td>\n",
       "      <td>...</td>\n",
       "      <td>...</td>\n",
       "      <td>...</td>\n",
       "      <td>...</td>\n",
       "      <td>...</td>\n",
       "    </tr>\n",
       "    <tr>\n",
       "      <td>1141</td>\n",
       "      <td>1141</td>\n",
       "      <td>DL</td>\n",
       "      <td>2009.0</td>\n",
       "      <td>YUL</td>\n",
       "      <td>146.0</td>\n",
       "      <td>LGA</td>\n",
       "      <td>3697.0</td>\n",
       "      <td>NaN</td>\n",
       "      <td>0</td>\n",
       "      <td>ERJ CR7</td>\n",
       "      <td>45.470600</td>\n",
       "      <td>-73.740799</td>\n",
       "      <td>40.777199</td>\n",
       "      <td>-73.872597</td>\n",
       "    </tr>\n",
       "    <tr>\n",
       "      <td>1142</td>\n",
       "      <td>1142</td>\n",
       "      <td>DL</td>\n",
       "      <td>2009.0</td>\n",
       "      <td>YYC</td>\n",
       "      <td>178.0</td>\n",
       "      <td>MSP</td>\n",
       "      <td>3858.0</td>\n",
       "      <td>NaN</td>\n",
       "      <td>0</td>\n",
       "      <td>319</td>\n",
       "      <td>51.113899</td>\n",
       "      <td>-114.019997</td>\n",
       "      <td>44.882000</td>\n",
       "      <td>-93.221802</td>\n",
       "    </tr>\n",
       "    <tr>\n",
       "      <td>1143</td>\n",
       "      <td>1143</td>\n",
       "      <td>DL</td>\n",
       "      <td>2009.0</td>\n",
       "      <td>YYZ</td>\n",
       "      <td>193.0</td>\n",
       "      <td>ATL</td>\n",
       "      <td>3682.0</td>\n",
       "      <td>NaN</td>\n",
       "      <td>0</td>\n",
       "      <td>NaN</td>\n",
       "      <td>43.677200</td>\n",
       "      <td>-79.630600</td>\n",
       "      <td>33.636700</td>\n",
       "      <td>-84.428101</td>\n",
       "    </tr>\n",
       "    <tr>\n",
       "      <td>1144</td>\n",
       "      <td>1144</td>\n",
       "      <td>DL</td>\n",
       "      <td>2009.0</td>\n",
       "      <td>YYZ</td>\n",
       "      <td>193.0</td>\n",
       "      <td>JFK</td>\n",
       "      <td>3797.0</td>\n",
       "      <td>NaN</td>\n",
       "      <td>0</td>\n",
       "      <td>CR7 ERJ</td>\n",
       "      <td>43.677200</td>\n",
       "      <td>-79.630600</td>\n",
       "      <td>40.639801</td>\n",
       "      <td>-73.778900</td>\n",
       "    </tr>\n",
       "    <tr>\n",
       "      <td>1145</td>\n",
       "      <td>1145</td>\n",
       "      <td>DL</td>\n",
       "      <td>2009.0</td>\n",
       "      <td>ZRH</td>\n",
       "      <td>1678.0</td>\n",
       "      <td>ATL</td>\n",
       "      <td>3682.0</td>\n",
       "      <td>NaN</td>\n",
       "      <td>0</td>\n",
       "      <td>76W</td>\n",
       "      <td>47.464699</td>\n",
       "      <td>8.549170</td>\n",
       "      <td>33.636700</td>\n",
       "      <td>-84.428101</td>\n",
       "    </tr>\n",
       "  </tbody>\n",
       "</table>\n",
       "<p>1146 rows × 14 columns</p>\n",
       "</div>"
      ],
      "text/plain": [
       "      Unnamed: 0 airline  airline_id source  source_id dest  dest_id  \\\n",
       "0              0      DL      2009.0    ABE     4355.0  ATL   3682.0   \n",
       "1              1      DL      2009.0    ABQ     4019.0  ATL   3682.0   \n",
       "2              2      DL      2009.0    ABQ     4019.0  MSP   3858.0   \n",
       "3              3      DL      2009.0    ACC      248.0  JFK   3797.0   \n",
       "4              4      DL      2009.0    ACC      248.0  ROB   1063.0   \n",
       "...          ...     ...         ...    ...        ...  ...      ...   \n",
       "1141        1141      DL      2009.0    YUL      146.0  LGA   3697.0   \n",
       "1142        1142      DL      2009.0    YYC      178.0  MSP   3858.0   \n",
       "1143        1143      DL      2009.0    YYZ      193.0  ATL   3682.0   \n",
       "1144        1144      DL      2009.0    YYZ      193.0  JFK   3797.0   \n",
       "1145        1145      DL      2009.0    ZRH     1678.0  ATL   3682.0   \n",
       "\n",
       "      codeshare  stops equipment  latitude_source  longitude_source  \\\n",
       "0           NaN      0       717        40.652100        -75.440804   \n",
       "1           NaN      0   757 320        35.040199       -106.609001   \n",
       "2           NaN      0       320        35.040199       -106.609001   \n",
       "3           NaN      0       76W         5.605190         -0.166786   \n",
       "4           NaN      0       76W         5.605190         -0.166786   \n",
       "...         ...    ...       ...              ...               ...   \n",
       "1141        NaN      0   ERJ CR7        45.470600        -73.740799   \n",
       "1142        NaN      0       319        51.113899       -114.019997   \n",
       "1143        NaN      0       NaN        43.677200        -79.630600   \n",
       "1144        NaN      0   CR7 ERJ        43.677200        -79.630600   \n",
       "1145        NaN      0       76W        47.464699          8.549170   \n",
       "\n",
       "      latitude_dest  longitude_dest  \n",
       "0         33.636700      -84.428101  \n",
       "1         33.636700      -84.428101  \n",
       "2         44.882000      -93.221802  \n",
       "3         40.639801      -73.778900  \n",
       "4          6.233790      -10.362300  \n",
       "...             ...             ...  \n",
       "1141      40.777199      -73.872597  \n",
       "1142      44.882000      -93.221802  \n",
       "1143      33.636700      -84.428101  \n",
       "1144      40.639801      -73.778900  \n",
       "1145      33.636700      -84.428101  \n",
       "\n",
       "[1146 rows x 14 columns]"
      ]
     },
     "execution_count": 19,
     "metadata": {},
     "output_type": "execute_result"
    }
   ],
   "source": [
    "# imports\n",
    "import pandas as pd\n",
    "import networkx as nx\n",
    "import matplotlib.pyplot as plt\n",
    "\n",
    "routes = pd.read_csv('data/delta_routes.csv')\n",
    "routes"
   ]
  },
  {
   "cell_type": "code",
   "execution_count": 22,
   "metadata": {},
   "outputs": [],
   "source": [
    "\n",
    "source=list(routes.source) \n",
    "destination=list(routes.dest)\n",
    "sd=list(zip(source,destination))\n",
    "#sd"
   ]
  },
  {
   "cell_type": "code",
   "execution_count": 24,
   "metadata": {},
   "outputs": [],
   "source": [
    "delta=nx.Graph()\n",
    "delta.add_edges_from(sd)"
   ]
  },
  {
   "cell_type": "code",
   "execution_count": 27,
   "metadata": {},
   "outputs": [
    {
     "data": {
      "image/png": "iVBORw0KGgoAAAANSUhEUgAAAb4AAAEuCAYAAADx63eqAAAABHNCSVQICAgIfAhkiAAAAAlwSFlzAAALEgAACxIB0t1+/AAAADh0RVh0U29mdHdhcmUAbWF0cGxvdGxpYiB2ZXJzaW9uMy4xLjEsIGh0dHA6Ly9tYXRwbG90bGliLm9yZy8QZhcZAAAgAElEQVR4nOydd1hT1x+H35sECBtkiApKXXVU3BX3xrrqXnVb98BVrVpXrba2DhytWmcdValaUZzUvfcWrSKigoDsnZBxf3+kRCNDtPZXK/d9Hp/H3DPuSUjO555zvkMQRVFEQkJCQkKigCD7twcgISEhISHx/0QSPgkJCQmJAoUkfBISEhISBQpJ+CQkJCQkChSS8ElISEhIFCgk4ZOQkJCQKFBIwichISEhUaCQhE9CQkJCokAhCZ+EhISERIFCEj4JCQkJiQKFJHwSEhISEgUKSfgkJCQkJAoUkvBJSEhISBQoJOGTkJCQkChQKP7tAUhISPw3iE1Vs/1yOHejkklWabFTKijnZkeX6u442Vj828OTkMg3gpSPT0JCIi+uP0nkp2MhHL8XA4BaqzeWKRUyRKDRhy4Mb1iayh4O/9IoJSTyjyR8EhISubLpXBhz9t1FpdWR10whCKBUyPmqVTl6eXv+38b3TyOtct9PJOGTkCjA5DWx778VyZx9d8jQ6F/d0V9Ymsn4qlX5/7z4Savc9xtJ+CQkCiC5TezhywagT08E4bndm9MnI0k4tg73EetN+oj6dRLWHzXGtnILEk/+ijYxEue2X2BpJmdJ2+KM6t0RHx8fFi9ejCAI/7839zcp6KvcgoBk3CIhUcB41cTu0nk6lp5VjK9Vj268Vv+pcZF0bjOQIX0/44cffvi7w/2/cerUKfoPG03o/bsgyDBz8sCx2SA0MY9JvRGEWy/DewlfNgBRm0mxoavJEJXM2XeHY7u3EnLmAMeOHft334REvpCET0KiAGEQvdfbvnwdNAmRRG+Zgr1XU76c/s0/co9/guTkZFq2bo1d02G4t5qBqNOiDr+NIDfLuYFeR8ql3djX6UqGRs/eW1G4q7XSmeB/BEn4JCQKCEU9iqNoOAyZhxcAacHHiT+4DJdOU4nePJniE3cBkHRqM+l3TuLUcpSxrS4jmfig5RTyGZZr/9rEKKJ//RLbam1wadCd7VfCGdKglEmdd1UY7t27R6ZWj3m5+ogiCDI5lh9UAyAz6kG2+na1OpJ8fge21VohU9qg0en5MzqFut8fAV4+E4zC79A96UzwHUISPgmJAkKKSou1To8SSL15mITDq3HpMhOFTSGTeuqoB6jDg0kNPo6lZxXMXTxBp8OhUb88+8+MeQSCDKvy9VFp9dyNTDGW5W0s8mph+KcF06loCbSiQEzgQqzLN8C8WDnkSptc65sXKYNF8UokXdiJY4PeiECmVm/yvrJQ/XUtKDiaE/dipTPBdwBJ+CQkCgCxqWpUGh1WQMq1AyQe34Brt1lYFCmDNjHapK5r52nokmNJOuNPoWaDiVzni2Buiczc0rRTvQ5B9nwKsSpTC5mVPdFbpuDW83uSVa7Aq88U8xKGvyuY+eXg/WQ8+s4j9tQ24g4sRZeagGWpGiar3pdxqN+TqE0Tsavxab7uIYqQodExZ98dAEn8/kWkkGUSEgWA7ZfDAUi9so/EE5so3H02FkXK5FrfxqsZCkc3In8Zg0VxL8TMDPSZGcZyURTRJj9DYedi0q5Q00FYlv6Y6C1TkKUnvHCmmLeFpKHP58Kw6VwYm86F0X3VOf64E406h9WU6q9rQcHRdF91jk3nwl7vQ3mBu1HJ4OCOc5uxuI9YT9GBP6FLjSf+0CqTelmGLQDmLp5YlqpJbOACks9tN5ZnhF0z1k8LPs4Tv26oHt80vEedhsijvzKgdT3MlVbYFHLF3asOHaYsY8XxB8Slqt/4PUjkH2nFJyFRALgblWwQlrCrKIt7Yebq+co2Fu4VUT28im3VlujT4kk49guOjfohyBQkX9oFghyLYuVM2qQFHycz8j7a5BjWjGzJRtcPsPbywaZqK6I3Tza6P2ShenSD2D0LjK4Sj+a2QWblwAzNBhQKBWqtHlGvI/zHPujTkygxaU+2cb6NlVSySmvy2szJA+tKTUm9dsB41pcTDvV7ErlmJDIr+2xlL24nK93LAxCz8zt0KXE4tRmH0q0ketHwGRwOOsAd+QfSWeD/CWnFJyFRAMia2J1ajECTEEHcviXk5cKriY8g+cJObKq1JuHIGpzajEeflkjEz4MI/6kvqkfXce06E0Fh/rxN7BPiD63CrlZHSo3bgmctH3SqdDIeXQedNtd7gWGl9OiH9gDIlNak3L+IWqvn6dpRPP6hHYKZEjAIo/rpn8/vmfCUR3PbAJCh0TO4+6fMnLfktT8fbdwTks//jjY51vA6OYb04BNYFP0wz3ZmjkUxL1IWXWq8yfWUawdIOLIG126zjKKXEXYNVdg1XDpNw6Loh4gyMwS5GZYlq1Oo+ZC3uoKVyBtpxSchUQCwUxp+6jJrBwp3n0P05knEBy3DqcUIk3ruw9ciiiLRmydjV+NT7Ov1IGrjBNKCj+PSYXLu/ddsT/KF33FqPQ6b8nWpX9aFM0pfijXMv9uEwqEw2vgIrCs2Ju3WERT2hY3bilYf1iHlwk5kStu/tmpzdpXQiyJ/BEfjdvzBaxnCVChemJ1R94i6GIBenYbMwhrL0h/j2HgA6X+eyXPclqVroX5y2/g69co+VOHBFO4+G/PCJY3XVWHXMC9SFoWdc579SWeB/zyS8ElIFADKudmRFTxFYetE4R7fEvXrJMMK7SXjjNSr+9BnJGNfpyuCIMOp1WiiNozHulxdzJw8cuxf/fQuolaDVVlvdJkqju3ZAaXqgCz/U4x1xcYkndyEVVlvoi/vQX5tP9bl6pF0xh+lZxVSLuzEulIT0oKPo3p8E2XxStk7EeFudAp+h+69liHMwE9qsO76lBytMm28mmHj1ez5LTQqYnZ+97yCTouFe3nces7964zvKqJeR+SG8QgyOYJMjoV7eQRzS+Q2jsTu8UNu54xdzfZErBgIeh2iRoVj4wHY1epI+LIBOLXyBc8qzNl3l4jLh5k79QsCAgJo2LBhvj9PidyRtjolJAoAnau7m7xW2LlQuMcc0v88TcLx56HItMkxJBzfgFNLX6Pztrlzcew+7kDc/qW5bo/q0pORWdlhZWHG1+0r08inJZG/TuKxXzcez++I6vGtV44x67xQmxKHZamapAUfh7+2UgWFYSyCmRL72l1JPLExz75e1xDG2caChmVdyE9kNZdOUyk+1t/472XfRqcWI0CvQ1m8Eh7jtuE+aiMyKwcyo0LQpSYY68ktbXH77DuQGx4O7Gp1zHavmCtBTJs4juZj/VgfZsUY/6uSEcxbQBI+CYkCgLONBf2X7sXqg+ehyMwc3HAf8Qsu7SZSYtIeBJkchZ0Lxcf6ZzNacaj3GW69fsg15qbcyhZ9ejKTfMrQv15pBAtr3HrPp/hYf2SWtiDqEWRy0OlM2ol6XbZVYca9s5g5uSOKIhkhF7Ldy7ZKS7TJMWQ8uPTan8PLlqMvMqJRaZQK+Wv3+TIyawdkVg5oYh4RH7QMQWGOdbm66DVqMiPvo9eoAFA//ZPorVOx+7hDjv1knRM6dfmaCxkuHLn7jIBrT1l06B51vj/CkE2XuP4k8W+PtyAiCZ+ERAHh70zsMgHM5ALmLzVXKmRYKGS0atIApVKJTfR14PmZ4ovI7VzQJpn6DGqTorO5RGSEXCAzKgRBJkeXln1iFxRmWJWvT0zAXCLX+gIQtXEC6sh76NISiN//I48XdObxwi48XTuK9L/EU/XoBo/mtiEuaDkZGj1z9t3lRngi9erV45dffqGyhwNftSqHpdnfnxYFmRyHxv3JCL1CXNBy0u6cxLJEZZQlKqF+dAPVw6tE+0/HoXF/FHau2drn5XYiGcH8fSThk5AoILzpxG5pJmPWpxU5N6kprTzALv4uTcu50qFKMcY2L8uZL5uwbkhjvp45g+HDh7N9+3Y87eSYyyEzOhQx07DCsS5fn9Sbh1A//RNRFA2WoxcDsK7QwOR+cltnMkIv4dJlJi4dv8o2Hr06ndRrBxHMldjV6QqAfb0exq1ZhaMbxcdvx2OsPzZePsQGfI8uwxBFRjBTknbrCNrEaFRaHcuOhZj03cvbkw6eImjV/N18EvEHfkSXkUzqlb2k/3kGu1qdcOnwFXJbZzIj7yOq00g6voG04GO4dv3apG1G2FUsin6Yp9tJXqtXibyRjFskJAoQWRaCb5p25yN5JMma26zpOz5b/YkTJ1KsWDF++OEHbt26RaZghtzeDYfG/Q3GHXIzHBv2JW7fYrTJMcitHLCp7INNlU9IOrvd2I9Dwz7ILKyxKFLGsBX6Epr4CAAcm3xOwh8rAUx97UTRaA1qXaEhCYd+RpsYBRhcJazK1Cbx9BacW4/h6J8xOOqenwdmZGTgP2cUk75byrVMV47+GYPA8+gy7sPXGvPx2Vua8SxFbWL84j58rbEvl05TsfSsgqjXkXH/PNGbJ1F04HLMC5fEslR1tIlRpP95Gv2TW8Q8uY2oUSMozBC1GpArUEfdJ3LdaDSxjw2iLpNj7uyBY5PPsShWntQbh4jbvwRBYU6fuTDYTI5MMMQdLVq0aO5/WAlJ+CQkChq9vD3xcndg2bGQbBM7PE+02vhDF4Y3Ko2X+3MLyMjISNzc3HLtu2fPnvTs2ROAwRsv8cedaBNxtansg01ln1zb5+SgDmBmVxjrj5oa/l+oGIIgQ/XwCoK5ElQpJnW1iVE8nv+CoYhMjpljUTKjDcGm7et0I2LlYDTenVEWLk5sWqax6uzZs6levTpDu7YCIC5VzfYr4dyNTCFZpcFOaUa5IrZ0ruZOeEIG3VedI0OTXZxfRJDJsfqwDnEHfkQVfts4Jue2XxCj1aBLi6dw9zk8XTMSp1a+xO1bglMrX8ycPHi6ZgQK+8IUG7ISUacl8cQGYn7/lmIjNwAGgyDD2Su0qFCYFb1q5DkWCQOS8ElIFEC83B1Y0auGycR+7sp1bJUKOjX1pnO1nH3eIiMjKV++fL7uMaJRaU7ej32lMIDpSulFBJncKIbObcYar7v1+oGkc9tB1IMg49n2WTi1HIW9dxfDKsjc0mCs41gEhwa9kSmtjW3lNo7YVm1J4slfMWv/JZpMw/hu377NypUruX79urGuk41FtgwTL5a1LKJiR6geQZF7oGxRFMm4fx69KhUzJw8yQi4a3ptcgUuHSTzbMZtn22YCpstvha0TNh81JfX6QeIPraJQs0FYf9SU5PO/o89Ifukehlinvdacx9nG/J3IePEuIwmfhEQB5sWJfe7DAyQmJjKkQc9c60dGRtKkSZN89Z11pvi6+f8s5AI6EbT63PdhzZw9jEKoiXtCbOAC4g+twvKDasZVUF7YeXcmYsUgMqND0elF9Ho9Q4cOZebMmfneJjx58iQbpw9i3LKdbLiZmm3rOGb7LEMme0FAYeeCU5uxmLuUMOlDkJvh2vErnm37Gl1aonGLNguZhRVKz8qk/3kaZDIEBOS2zshzCJGmF+FUiCHyjJQKKW8k4ZOQkADAycmJkJCQPFMARUZGUqRIkXz32cvbE71eZHrANQS5GWIeJiNZZ4pjGpXgp59+JLWMD3rh1VNUfuNqvojc0g67Gp+SeHITjnKBU6dOoVarGTp0aL7aBwcH07lzZ3799Vd8fOrRunaiydbxiytYmWAQpSxeXLkCCApzCveYQ/iyAQgK82yr34wHlxHMLEi7dQQz5xK4dJpqLFNH3OWxX7cX3pctxYaullIhvQJJ+CQkJABIV7pw0aJKnslUVaXakKR4vdVDZvBhXK7vp1rvyRx7xZlit0qOjOnTkWZNm1K1XWW+3Z/dCEcT94SMkItYlW+Aws4533E1X8bu4w48XTGQRIXA9u0POH78OHL5q909IiIiaNmyJfPnz8fHx3BemdPWcdaZoLW5jF/PPUR8jSg2L2Jdvh7Obb/IsexVq1sp/FnOSMInISHBpnNh/HTXjEzbEpBHMlXcKzNu72PiRet8TaKJiYlMnTqVffv2Ua1aNRNhiE/N4GBgAJPGDqZLdXdS46Jo3rw5vXv3ZurUqQiCQGWP50Y4er0ejR4Ec0vUkfdIvrgLvTr1teJqvojMwgrH2p2IPbKOFi1aULVq1Ve2SUpKolWrVgwdOpTevXtnK3/5TDA+Pp5OnTrh7lmbGI/6qF5jyxcg+eIuRI2K9HvnEMyVWH5QnUI+Q425EfXqdKI2TyEz6j4IAkr3ijg07o+5c3HA4LsYveUrBDML+n4vMNW9GDOmTqF///6vNY73DUHMK0S7hITEe8/znHn5n5QtzWR81ar8K8VvzJgxpKens3LlyhzLXVxcuHXrFgkJCfj4+PDFF1/g6+ubrV5cqppJK3dxPewZlarXwlIBD6+e4npkBoriXvAGXneCAFVdZFzyG0JwcDA2NrlnXAfIzMykZcuWlCtXjh9//DHXKDZZPHjwgNatW9OmTRu+//57tlx8kqcbSVaMTkvP59F1Hi/sinmRMrj1mIMuNYFo/2kGkW/Yh4QTG0g+uw3HJgOx8WqOqNeRfDGA1Mt7cOu/GDMHt5fSPolU0DwgaNF4bt++zYcfvt4K+X1CcmCXkChAtGjRgunTpxtfX3+SyJx9d4m7fYYnS3uhTY4l5vdvebL4Mx77deXpmhGk3jhk0oc+U8WfczsytHcXboTnHjIrODiYX3/9lTlz5uRap2TJkuzfv5/GjRvzzTff5Ch6YFhJFU26TQv7aHyUoQR82QG3hFtsmtQDS7M327iyUMi4uXU+S5cufaXo6fV6+vfvj52dHUuWLHml6J05c4Z69eoxZswY5s+fj1wup5e3J/6DvWlRoTAWChlKxetNv3IbRyxLVkPzLBSA9DunQBRJPLGR8B/7ELGsPykXd6Fw8iDp5K859CDwwLIsjo6FuHHjxmvd+31D2uqUkChA9OvXjylTpvD1118jCAI/HQtBpdWRdvsI1hUaEbtnAeauH1Bs2FoEhRmaZ2Ho0hJM+kj/8zSC3Iy0B1eYF3COjSM/yXYfURTx9fVl2rRpuLi4ZCvPwtbWFl9fX3755Rc6dswepPlFrl27RkhICLt27cLf35+6desC8FWa8EYr1ipiKBlFbGnXrt0r60+aNImwsDAOHTr0ynNAf39/Ro0axYYNG/jkE9PPJrezQJlWxbG+36OxcjKpL1PaYF+7CwDa5FgyQi+jLO6FXqNCmxhF4R7foizhZdIm9cYfJB7fkG1coqgn7d4F4uJiKV269Cvf8/uMJHwS7yx5WRdK/klvRvv27Rk6dCgnT56kQrVaHL8XgzYjlfSQixTps4Coawco1HQQMnND4ldzt+w+bKk3D2NTtSWq0MscCNhOXL/G2f4eAQEBREZGMmzYsGztszhw4ABnz56lc+fOuYpebKqaLece8vuR8wSbV6XUJ63o2box5So/dwswiUaj0ZHX2U2W5ejA6oX47vPeXL16NY/aBpYsWcLu3bs5ffo0lpaWudYTRZHvvvuOn3/+mUOHDuHl5ZVr3ayzQL1ez4oVK5gxYwYDvviaXWmFs50DxuyYDYKAmJmBsoQXDvV7os9IBVGP3MYxW99ym0LoXvDz06XE89ivG6JWDXo9DXqPz9d55vuMJHwS7xzXnyTy07EQjt+LAXK2LpT8k94MS0tLunbtyoYNG6ghFgMg/c5JzJzcMS9cEouiHxIftBzb6m2wKFYehb1pAGVt0jPUj29SyGcocqUNyTcPs/1KuIlBR0ZGBuPHj2flypWYmZnlOI5t27YxcuRIRo8eTURERLbyrO/AkTvRaDWZoHDGsrQzT4GlRx+w5OgDk+9AVjSafj9sIcnaHTOFIlfL0WENSzGuX2e++uorPDxyzi+Yxfbt2/nhhx84deoUTk5OudbTaDQMHTqUq1evcvbs2Xz5AoaFhfH555+Tnp7OqVOn+PDDD6mUw3lrVugz1eObxO6ehy4jGbl1IRBk6FITsuVI1KXGI7e0M76W2xbCfcR6RK2GhGO/8PDG+VeO7X1HEj6JdwqDoUXuBgCv458krRhzpm/fvrRu3Rplw89Ra/Wk3TqCzV/hwJw7TCb53HaSzvijiQvHzKUETi1HYVGkLACpt45g5uqJuXNxZBbWJBz7hRNnLpoI34IFC6hatSrNmjXL8f5r1qxh2rRpBAUFGa0+X2TTuTC+2RuMWqMzOID/lZMvi9y+AyVsBUI3TObSzbscfpiWY5gxJxsLNm7cSHx8PKNGjcrzczpx4gTDhw8nKCgIT0/PXOslJibSuXNnrKysOHHixCvPC0VRZOXKlUydOpWJEycybtw44/bpy7FUX0RZvBLWlZqRcGQtrp2mYlGsHGl3T2Xb6ky7ewqlZ+Vs9xUUZjg27kfiLyMICAigffv2eY7zfUYSPol3htexLszLP0laMeZNvXr1DNaUZ46gwQ115H1cOk4BQK60wbFRPxwb9UOXnkTCkbXE7JhNsRHrEQTBIJJVWgCGkFoWHh9x7cgumNQdgCdPnuDn58elSznnylu4cCFLlizh2LFjlC1blidPnhAaGmosX3/6Ad/sCUaLzCB6efDyd0B16xBNmzaltIcbpXNZyMXFxTFhwgQCAwNRKHKf/m7fvm10UK9SpUqu9R4+fEjr1q3x8fFhwYIFrzz/e/ToEQMHDiQ5OZkTJ07kGP7txViqawQwlz03pLGr2Y6I5QPIjA7FoWFfnv02HTMnd2wqNUMU9SRf2Ik64i5F+i7M8f6WFhbU/mwgs2bNKtDCJ7kzSPzf8fT0JDo6GrlcjpmZGXXq1MF3+veM2RtOhkaHKvwOiSc2vsI3aQqWZWvj2vErLM3k+A/2Rox7RJUqVbAsUYnCn3332pkHChKzZs1i7c4gEm1KkBl5H9cuM3KslxkTRuSakbiP3owmLoLoTROQKW2MWcPFzAwsraxJio1GoVDQo0cPypQpw6xZs0z6EUWRGTNm4O/vzx9//EHx4oa/pU6nw8bGhpo1a3L5ylWcB61BeCGupvrpnySe2ow64i6CIKBwLIJt1VbYeDU31tEkRvF0xSBci5dk5ZIFeRqrDBw4EEtLS5YuXZprnYiICOrUqcPs2bNz9NXL4vz583To0IHJkye/cvUoiiKrV69mypQpjB8/ni+++CJP4c2ieIkSdBz9DUIxL0IjY7gepSIuaDn6tCRcOk5B9eT2X7+VEMNvxaMiDo36Ye7iCfCSO4PBkvXQKG+qVijDunXraNu27SvH8D4irfgk/hUCAwNp1qwZKpWK4cOHM2T4SIQWE1BH3OGZ/zQcGvTGtdNUo29S9MYJRt8kAJmVPeqIO+gyklEJdiw7FsKjvSswL1QMvV7MU/RAimjRp08fZn0zG8HyLg5NBxmvJxxdh/VHjTFz8kDUqEm5uh+FYxHklnYk3tqA0rMqzm3GGeubiRqerh3F/v37sbe35/Tp06xZs8bkXnq9njFjxnDy5ElOnjyJq+vzc0O5XI6rqysnT55EZm5JRtgVrMrVB0AdcYfordOwr9sd5zbjkFnakRn9gORz202EL+3WEWRKG2KiIvKMI3ry5EkOHDjA7du3c62TlJREy5YtGT58eJ6it2PHDoYNG8batWtp06ZNrvXAsAoeNGgQsbGxHDt2jIoVK+ZZ/0UeP3rEzZs3mTFjBpfOn6f8YD+EFiOMBjxKj4q49Zyba3tlCS+j6AmC4YzTw9WR2NjYfI/hfUTy45P4V1EqlTRv3Y6nYfcRxayJtwl2Ndshs7BCbmmLY4PemBcrZ+KbJMgVWJXxJuHQSiJWj2Bl/7oc8F8L5lbZcril3jjEo7ltSLtz0uS66tEN7i/qbczEnZmZSceOHalbty7JyabR7983PD09qeXtjV6jxqp0LeN1UaMm5vc5PPHrRsSKgeiSnuHaaTqiNpP0Oyexrd4GuY2j8Z+Zoxuf9ezJL7/8gq+vL/Pnz8fKysrYn1arpX///ly5coWjR4+aiJ5Op2P58uWEh4fj6OSMXZUWpN48YixPOLoO60pNsffujNzKHkEQsHArjUv7SSbvJe3WERwa9EZQWLB9V85pjTIzMxk6dCh+fn7Y22cP8AygVqvp0KEDDRs2ZOLEiTnWEUWRefPmMWbMGA4ePJin6ImiyNq1a6levToNGjTg3LlzryV6d+/epXv37jRv3py6dety//59FgzwQWn26rBqOaFUyBneqGC7MWQhrfgk/lXS09NZvGo9ymLl0GtUqCPu4lC/V7Z61uXqZfdNkilIu3MS187TQach8fzviOo0tHHhiDqNMSN36q3DyJS2pN06jHX5+tn6Vml1LP0jmMgd35Kenk5QUBDW1tbZ6r1vnD55IlvOvEI+uQdp9hjrb/I6awWx4pufWbFiBXFxcXTp0sVYrlar6d69OxkZGQQFBZkI4uXLlxk2bBjm5uZYWVlRuk5Lol1r8HjdOHRpCYawZLl8F15E9eQW2pRYrCo0QBf/mEXLV9O/V49s9ebPn4+npyedO3fOsR+9Xk+/fv1wcHBg0aJFOTqoazQaRo4cyfnz5zl79izu7u65jisiIoJBgwYRHR3N4cOHqVSpUp7v40UePHjArFmz2LdvH+PGjWP16tVGg5nKVlZvlPHCEGmnnEluxYKMtOKT+Fdo3749Dg4O2NnZcevCSWxqdnwt3yRR1JN28xAyS1sU9oVJDT6ObdWW2FT5BFGXSdqto0CW+f0tCn0ykozQK9mcsQF0mSo2fzOSdJWavXv3FgjRy2JEo9IoFX9vBREfH8+MGTNYvHixUTBSU1Np06YNCoWC3bt3G0UvMTGRkSNH0rp1a4YPH8633xoeNgSPKggupVA4FCHt9nH0qty/Cy+SdvMIliVrIFfaYFm+IbfOn+DZs2cmdR48eMDChQv56aefco24MnHiRJ48ecKvv/6ao4FKUlISrVu3Jjw8nJMnT+YqeqIosn79eqpWrUrt2rU5d+5cvkXv8ePHDBo0iFq1avHBBx8QEhLC5MmTs1mJ9vL25KtW5bE0k/OKADIIAliayfMVXq4gIQmfxL9CQEAAiYmJqNVqPu45gejNkwzhFv/yTdXuq1AAACAASURBVHqZl32T0GkRtZnYVGlJyuU9qB7dxKpsbQSFOTKlLRlh1wDDas+8SGmsy9XFzNmDtNvHTPoVtRqe/TYTQWFOx0mL83RQfh/JyplnafZ6U8GLK4gZM2bQuXNnKlc2mNAnJCTQvHlzihcvztatWzE3N0cURTZt2kT58uXRarUEBwfTr18/Nm7cSNWqVUnD4F5iXaHhXyt0m1y/C1noNWrS/jyFdcVGAFgUK491ocJs3rzZWEcURUaMGMGECRNydUlYtGgRe/fuZffu3Tn+/R89ekTdunUpW7Ysu3btwtbWNsd+nj59Stu2bVm0aBF//PEH06ZNy9WP8eV2I0eOpGrVqri4uHDv3j1mzpyZ65Ys8MrwZ0qFDAuFjBYVCuM/2FsSvZeQtjol/lXkcjle9ZpzfM0c1BF38+2bJIoiMis7bCo15enPg7H+qAkyM0O0EUGuMGaoTrt1BNtqhnMY6woNSb15GLuPOxj70WdmoI64i+2nE3gQZ5oEtKDwJpFPsqxhb968ib+/P3fuGIyEoqKiaNGiBU2bNmXBggUIgsCdO3cYPnw4SUlJ7Ny5E29vb8Dg6P7bb7+h0WjIvD0JUa4ArQa9Og1t/FMsipUj/c/T2b4LWWTcO4uoTif+4DLi/1hhGF9mOhs2bGDMmDGAIXxYREQE48aNy7GP3377jfnz53P69GkKFSqUrfzixYu0b9+eiRMn4uvrm+OKMUvUv/jiC4YNG8bvv/+Oubl5tnov8+zZM+bOncsvv/zCgAEDuHPnjskZ6KvIKxXSi36LEtmRhE/iX8XT05PwiKfotRri9hh8j9RP7xomv8QoXLt+TfKFnajC72DmWISY37/FpmpLBEFAn55M7N7FCHIF6X+e5ll6EuZFyiLqtMgs7VCFB6NNjMa6fAMArCs0IvH4RjKjQzEvXBIAuZUdhZoNIXbPQoJLuUG33H223meyfMf8DgZz5G40lkqlSeQTAT2iKOBsY0GFonakqnXEpqjw9fVl5syZODk58ejRI5O0Qunp6cyePZvVq1czffp0hg0bZmLCHxAQgFwu5/z589Tu8yWF6nYlUysSEzCX1FtHcGjUn2f+05Dbu2Lj1Ry5pR2Z0aEknduGS7svSb11GGuv5jg26AOAhUKgawUb5g7pwM2bN/Hw8GDcuHFs3749x5XX8ePHGTlyJEFBQZQoUSJb+c6dOxk8eDCrV6/O1UUiKiqKIUOG8PDhQw4cOJCvUGBxcXHMnz+flStX8tlnn3Hr1q18Z33PiZdTIUm8Gkn4JN4q+Y2W0rZtW+RyOenp6bh7eKCp2g2L8g0BUD25Tdz+JWgTnhKxrD8WRT/EzM4FMyd3nNuMQ/3ktmFVIuoxs3ehcOdpRreHpLPbQNSh9KxM2s3DADxdZ+pjlXrrMIX+Ej4Aqw/r4KTTcPSnyRxtXYnGjRv/45/Tu4iXuwOr+n6MlaMriwMv8HPAEbQ2bqTr5Yh6QBCISc3k+L1YzofGM//gHfD8BO9W3bh7965JWqFdu3YxevRo6taty40bN3LM2r5+/Xr69+9PuXLlsHgWjNzaEblOxLZ6G+IP/Yxj4/4U7jGHxFObSTrjjyDIUDgWxbZaa7QpsajCrlOk/xLjOaBcIWN8jyZc2/kJ69evJz09nbZt21KnTp1s97516xZdu3Zly5Yt2RzURVHEz8+PhQsXcuDAAapXr56tvSiKbNmyhbFjxzJkyBC2bdv2ylVeYmIifn5+/Pjjj3Tu3JmrV68a/Rkl/r9IwifxVnidaClhYWHGMk9PT1avXs1vkQ5G60KlR0XsvbuQeiMIl45fEb11GuZFyuDUyhdBkKEs4YW5kweiXkdG6BXUEXdQlqiMrZcPqVf3g6jH+sN6JBxZS6FPRmJVqqbxful/nibx9FYcGw8wGb+TV2NaV3ShXbt27N+/3xj5v6ChUCiwNRcQtGqSLFxBZ4hx+XIUFcNqUEBw+4geq8+RenIj337zDQ0bNuTTTz/l3r17rF27Nk+/ugMHDhj/X6qYK27Ocq4802Jdvr7R+tai6IcU7vp1ju1LfLnb+P8sC1MnGwv27dvHuXPn6NChA8HBwdnahYeH06pVKxYuXEjTpk1NyrRaLb6+vpw6dYozZ87kKEzR0dEMGzaMe/fusW/fvhyF8UVSU1NZsmQJfn5+tG7dmosXL1KyZMk820j8s0jCJ/G3eRvxNUc0Ks2JezEm22v6jBSiN0/Gwr0ChVqMMJ6vZLk9FO4+G01iFAlH1qBNjEIwt8LMuTiauCdkhF5CpjDH5qMmCPLnX3Obyj4kntpMRuhl45kggAgsmOJL3Q8caN26NUFBQXz88cdv70P6D+FQoy1+xx4hyl5tmCECah1Y1e3FHw/DGT++BuPGjWPbtm1YWFjkewegZMmSlLOIIVjhTIZGl/sNc+FFHzWNRsOQIUNYsGABjo6mVqGJiYm0bNmSkSNH0rNnT5Oy5ORkunXrhiiKnDp1Cjs7O5NyURT57bffGD16NJ9//jlbtmzBwiL3M7T09HSWLVvGvHnzaNq0qTEQtcS/jyR8En+LtxFfs3379igUCjI0OjQ6EcfG/RFkCrQpsYjaTJxajTYxKnjR7UFZwgvbyj7GsozQyzzbPgvrCg2xrtAw2xgEhTkeo59b/bmPWG+yWhg0aBCDBg3K1u59xNPTk4yMDEJDQ40uHDN+WELEnUu4VeuCKIqkXNlD6rWDaBMiESwsMSvkjm3VliafbXrIBZJOb+FB7GNsLJXcvn2b49dD2P5nRr7jpZYqVQp15D2+alWP2fvuZEvNkxcv+6gtXrwYV1dXevQw9edTq9W0b9+exo0bM2HCBJOyJ0+e0KZNG2rXrs2PP/6YLZzYs2fPGD58OHfu3CEwMJCaNWuSGyqVipUrVzJ37lxq167N4cOH+eijj/L9fiT+eSR3Bol84+npiaWlJTY2Nri5ufFpl8/4JuAqGRo9sXv8eDS3DeqnfxrraxKe8miuaWSL9JALhK4eTZ8G5XBwLERMTAyrVq0iMTGRYWtPUHysP7ZVDMk7zV0/wLHxAJ79NoPMqAfGPvIydc/m9pAPCnJEC61Wy+LFi42vj/75DINfCST88TMpF3fj2ORz3Edvxn3Eehwa9CYj9IqxftrdU8TunodtjU/xGL2Z9nO2Ep6kobVPEw5ceYBaqzcRPTDsAKi1eoKCo+m+6hybzoVRsmRJQkND6eXtSVUxFEGveaWPmqjX/yV6z33UHj16xNy5c1m+fLnpw5JeT9++fXF2dsbPz8+k7MqVK9SuXZs+ffqwfPnybKK3bds2KleuTOnSpbl8+XKuopeZmcnPP/9M2bJl+eOPP9i7dy87duyQRO8dRBI+idciMDCQ1NRUrl27xunzl4g+udVYJlPaknhiU65tX54kP/1mM4IgMHbsWBISEkhWabO1savZDjvvzkT7TyMzJsxwH3Ol0e0hp3vklJIlNwp6RIsJEyYwf/58EhMTiU1Vcy86BQBNfAQpV/fh3G4ilh9URWZmgSCTo/SoiHObsYBh6y/hyBrs63TDpmJjBIUFp5/qiKrSF8FMSfKFgDzv/eIOQKisGA8ePODGjRscWjGTVd0q0qJCYcwVMvQatUk7pUKGTNRRXJaA/+DaRtETRZGRI0cyZsyYbBnGJ0yYQEREBJs2bTJxUA8MDOSTTz5h6dKljB8/3kQQY2Nj6datG9OnTycgIIC5c+eiVCp5Ga1Wy7p16yhXrhw7duxg27ZtBAYGFvhkr+8y0lanxBuhsHFEdPciM/p5ShnrSk1ICz6O6vFNlMVNo1W8PEkCnI8WcSxUCIVcjp+fH3YVO5AT9t6dEXUaordOxe2zuZg5ueeZksW9nx+CQN7ZGQClWcHNzpBFjRo1aNSoEfPnz8e9eX/jddWj68htnbEoUibXttr4cHTJMYDA0zUj0CZEIVhYYlW2NpalapIRdhUEgaTTW3BuPwnrcvUAEPU6Hv/QjmJD1xAXtAz1k9vMwhAntEqVKpibm9O+QVV69erFxmG+dJ/sR/u+I4w+amVdrZnVvxWrD+7hwxceWHbu3ElISAjbt283Gaefnx/79+/n1KlTJsK1ZMkSvv/+e/bu3ZttFff7778zcuRIevXqxS+//JKjY7tOp8Pf35+ZM2dStGhR1q9fT/362UPiSbx7SML3H+ffSra6av9F0kIuYVH8uXOxYKbEvnZXEk9sxK3XDyb1syZJq78mPzCIT7pGT9LTp8yZMwcz8wVk6vQoPatgVcbbpL1D3R6IOi3RW7+i8GdzUXpUxLXrLBJPbDTE8PwrJUuxXnMZ0Lo2UUkqjv4ZgwDZMnFrtFrs08L5ZWKPArvSe5FZs2ZRt25dupVogkZveFrQpSdnCxcW/lNf9JkqRG0mxQb/jC7dECQg+cLvOLcZh7JEZXQpccQFLUMT+xhkhpWVTGlL4slNhsg6MtNwYFkWm4IAUb9OobCQxMOHD40rr/3791NG+wi/F/wr9+/fTwk3JxNDkeTkZEaPHs2mTZtMDE78/f1ZuHChiYO6Vqtl7NixHDlyhNOnT5tEdImLi2PUqFFcvnyZ7du35+gKodfr+f3335kxYwb29vYsX76cJk2a5BoOTeLdQxK+/yj/VrLV9u3bIwgCqampKEt44VDf1DLOtkpLki/sJOPBJRSFnjvlZk2SCpvn0TFUWj19Fu3hw4RzLFiwgLNXb1H3+yPG92LjZZrB27FBbxwbPE8Vk2NKFp2GQpEXmDl4QK4RLVqUtafGR+Ww8m0OSML30Ucf0aZNG87sWAMyJwDklnboUuNN6rmPWG9crSGKCAqD1ad9ne5YljSY9CscCuPSfhLhS3shszYIp7JkNTQxj0i7fQybSqbuA1mIIshtnaheobyJgISGhmYz/d+wYQN9+/Y1uTZt2jSaNWtGw4bPjW6OHTvGqFGjOHTokNEtITU1le7du6NWqzl9+jQODs///rt27WLYsGH06NGDa9euZVvliaLInj17mDZtGgqFgnnz5tGyZUtJ8P6DSML3H+RtuA+8KQEBATRr1oxWk38m6Mcp6DKSDcYmfyEozLCv043Ek5tw/vS55ZzcymBwok2NN+bUA0hWaYiMjMTZ2RlnGwsalnUxyRbwOggC1C3pwPdfj6CwvTXdunXLNaLFsGHDmDdvHj///PPr3+g95Ouvv6aiVxUsqxsilChLeBH/xwrUkfdz3e7MepjRZ2aYXBfMLECmQFAYHLoFQcChQW8SDq00WIPmIRSPU0wNYV4WvqSkJPbv389PP/1kvHb58mW2bt1qkmfv5s2bdO3ala1bt+LlZdiViIiIoE2bNlSvXp3ly5cbo7nEx8fj6+vL+fPn+e2336hX7/muBBgELygoiOnTp5ORkcGsWbNo166dJHj/YSTjlv8Yz90Hcha9F3nReGDTubC3Oo6yVT7GulIzEo6szVZm49UcvTqN9HtnjdcUhdyR2zqT/pJBiq25nB07dhgdif9utoCJbapw4MABRo8eTWBgYK51fX192bZtG0+fPn2je71vlC5dmppNWpNy2fCZmTm5Y1PlE2J3/UDGw6voNWpEvQ51+B1jG31GCoKFNcnntpF2+xh6jRpdagJx+5YY3E1esK61KlMLmZU9qdeDch+EICMuzTRe6svCt23bNpo2bWrcttTpdAwZMoTvv/8eZ2dnwOCa0Lp1axYtWmR0oL927Rre3t50796dVatWGUVv9+7dVKpUCWdnZ65fv55N9I4dO0aDBg0YM2YM48eP59q1a8ZdD4n/LpLw/QfYvHkzNWrUwMrahn7NqxH26zRUT24Tu8ePhBMbTepqE6N5NLeNMRlr+LIBxN+/Yky2+rYo52aHs3cHVGFXTQxcAASZHPt6n5F8bsfza4KAY5MBJJ3xN06SClUiFzd+R3JyMmPHGiwF30a2gEqVKhEYGMjnn3/O4cOHc6zv4uJC79698fPze813/v7y0/w5iJkq4+tCPsOwrdGWhCOrCV/cg4if+hlW8u2+RG7vgtzKDjEzA6dWY0m+uIvwJZ/xdPUwRG0myg+qIrcxDfrs0KA3SWf9EbW5BwNXZZpa9j58+NBE+F7e5vzpp5+wsbExXstyUPf19eWzzz4DYO/evTRv3pyFCxfy5ZdfIggCCQkJ9OnTh3HjxrFlyxYWLVpkki/wzJkzNG3alIEDBzJ48GBjiDOZTJoy3wekrc53nIULFzJ37lxWrFhBYLwLR+/Hk/7gMhn3z79WPyqtjmXHQljRq8ZbGVfn6u74HbqH9UdNSDq9FcHc9DzEukJDks9uQ69KeX6tfAMEuTlJZ/yJO7AUQW6GV5uWbD19GicnJ2M9k2wBuWznZiEAojaTpm6ZJtu5NWvWZPv27XTu3Jldu3ZRu3btbG3Hjx9PlSpVmDx5co6R+d93XgwdB1C5XGkGrjvDH8HRiBgeVuxqfIpdjU9zbG9RtJzhnE/UUaTf8wcIfaaKiBWf49CwD7rkWON1yw+qonAoQsqVvbmOSat+LryiKJqs+EJDQ7l79y6ffGLw8wwPD2fWrFmcOnUKQRBQqVS0b9+eZs2aMX78eMAgjLNnz2b37t3G78DevXsZMmQIHTt25Pr16yb5Fy9dusS0adMIDg5m+vTp9OnTJ1+phST+W0jC9w6TlJTE9OnTWbduHQ18WjP5+yMgU2BVphZWZWoRuyf/qxVRhKN/xhCXqn5ja88XJ0rjeZxuRI7CJAgyig5clu26VVlvrMp6IwjQokLhXIU4K1vAsmMhuVpnihgirvi4w5AuLRncuLzxPAegQYMGbNy4kfbt2+cYOb948eK0a9eOH3/8kenTp7/WZ/G+MqJRaU7cj8lX5BSZ0hr7uj2I/+NnZBZWJladCltnbCo2IensbyZtHBr2IWbH7Jz7k0FmSpzxdVxcHAqFwmiAsnHjRrp3724MBj169GiGDx9OuXLljA7qLi4uLFy4EL1ezxdffMGBAwc4ffo0JUuWJDExkbFjx3L8+HE2bdpEo0aNjPe6ceMG06dP59KlS0yZMoWAgIA8w5FJ/LeRhO8d5uzZs6hUKjp06MDq04/+dn8CsP1K+FtLYTKiUWlO3o99o9iK5jJeGS3ldfKNZSxaRKdOnbh48aKJpV6LFi1Yvnw5rVq14siRI5QvX97kHl9++SUNGjRg/PjxBSrzem5U9nBgaqvyfLX9MoJZdmftl7H37ozM0o7Eo2vRJEQimFthVdYbh08nGK0+X0TpXgHzImVQhV7OoTeB1PB76HQ65HK5yWpPFEU2bNjAb78ZhDQwMJAbN27w66+/AvDFF18QGRlJUFAQGRkZfPbZZ6SkpHDmzBkcHR05cOAAgwYN4tNPP+XGjRvGrObBwcHMnDmTEydOMGnSJLZs2VLgkhEXRCThe4eJi4vD2dkZhULB3ajkbKGfXheVVs/dyJRXV8wnWedx+Y3VmYWZTCT5xAZuV0zG66V4ijmRn3xjPXv25MyZM/Tr14+dO3eaGB907NiRtLQ0fHx8OHHiBB988IGxrFy5cjRo0IBVq1YZk5cWdHp5e/Lll18ir9kVuZnylYlpXWu0ZPH0sRy4/phToUmGpdtfvOzuAuSYbUEQ4LMJ37FnUnvCw8MpUaKEifCdPn0apVJJtWrVSEtLY+TIkaxZswalUsnChQs5ePAgp06dIj4+nrZt2+Ll5cW2bdvIyMhg4MCBHD58mPXr1xuNXUJCQvj66685ePAg48ePZ926ddKDTwFCOql9h3FyciI2NhatVptjOC9BJged6XVRrzWkkMnF6ixZpXmrY+zl7clXrcpjaSZ/ZWxFQQBLMzkz2n7EwR+nMnXqVCZMmIBWm/29vQkLFy4kMjKSefPmZSvr3bs3kydPplmzZkRERJiUTZ48mQULFpCZWTAzsOdExs0/0B2cT8NS9ojaTMQcwoZZKGS0qFAY/8He2EZf59CSCSjecEbJipeaFbMTDGd6WQ8pGzZsoE+fPgiCwMyZM6lfvz7NmjVj69at+Pn5ceDAAZ48eULt2rXp1KkTa9eu5dixY1SqVAmFQsGNGzdo0qQJYWFhfP7553h7e1O2bFlCQkL48ssvJdErYEgrvneY2rVro1QqCQgIwE6ZfcUjt3MxRMh4AW1SNHJbZwQh5xnITvn2D+pf5zxueKPSxmgpFy5coEePHrRq1YqtW7f+bQMTCwsLtm/fTs2aNalZs2a2hLLDhw8nNTWVZs2aceLECVxcXACoXr065cuXZ9OmTQwYMCCnrgsUT548ISkpiapVrfCtZsW5pXNIL1yJjp+PzrbVbGsu8OWXXxIQEMCurVu5LxZ+7R2AFy1yS5UqxYMHD2jcuDGhoaHUrFmTjIwMtm/fzs2bN7l+/Trr16/n5s2bHD16FF9fXw4dOkRwcDC9e/dmyZIltGrVin5DR3HsUQa1x60g09GF8dtv8uj6GS5v+5Gh/Xtx//79bCmLJAoOkvC9w9jb2zNr1ixGjBhBh1FfYyYWJlMvQxV2DdXjG1h/1JSo8zvIeHjFYFiQlkjSaX+sKzQw7UinRdRmIkePo5CGVqvNFoH+7/I653FZODk5sW/fPiZPnkzNmjXZuXOniXHKm+Dh4cHGjRvp2bMnFy9epFixYiblEydOJCUlBR8fH44ePWo8D5w8eTJDhw6lb9++JkGMCyJTpkzB1dUVCwsLIiMjsZLr+UAeZRI2DAyuBi27daNo0aJcuXIFR0dHav1Vli+LXMGw0nsxwMLLK75u3bqxe/duatSogZubG506dWL27Nk8e/aMbt264e/vz9mzZ5k5cyY7d+4kODoNr+FLkbn7oHRVcD5ahOhnAMiVZSnUfxkx5Vx5nCog6V7BRRK+d5xx48ZRuHBh5i1YyINbtxHMLbFwK41d7W6Yu5TA+dMJJB5bjyYxEpmFNdbl6mNf1/Tc7Nm2mcb/zwB+dHFh0KBBtG3blo8//vit+ibl5zzuRbJCP1WrVo2mTZuybNkyunTp8rfG0Lx5c4YPH07Xrl05duxYNnP0WbNmkZKSQqtWrQgKCsLGxoZGjRrh6OjI77///rfv/1/mwoULHDlyBA8PD3Q6HVFRUQiCkC21zs6dOxkyZAhfffUVvr6+Jmeqb7oDAFCqVCl27zZkVs8641u0aBF9+vRh5cqVyOVyfHx8qF+/PosWLWLfvn3s3r2b/fv3M2Xdfm6bf4jMowp6QK01VV2dIEenE/+RiEYS/y0EUXyT4FBvzr8VVPl9YPDGS38rnFeLCoX5qUdVLly4wO7duwkMDCQmJobWrVvTtm1bmjdvbrR2+ze4evUqHTt2pHv37syePftvrbz0ej2ffvoppUuXZtGiRdnKRVFk0KBBhIWFsWfPHpRKJbt372bmzJlcvny5QEbmEEWR+vXrM2DAANauXYu5uTlNmjRh847d1O39BdbFypCYnklI8A3Cb19g9ZSBNKtXK88+s3YArj58xt6gIzSp502dip457gDEpqpZuPM0Ow6fo07DpuwN2MG4Ad34YWgHLp0+Rq1atQgICGDw4MH06tWLS5cuERsby7hx4xi9dDuyGp3RC/l/ln85l59EweH/Jnx5B1U2PAH+E0GV3yeuP0mk+6pzb+Q+YGkmx3+wd7ZsBKGhoezZs4fAwEDOnz9P3bp1adu2LW3btsXDw+NtDT3fxMbG0rVrVywsLNi8efPfOodJSEigevXqfPfdd3Tr1i1buU6no2fPnqSnp7Njxw7kcjleXl4sWLCAFi1a/J238Z9k27ZtfPvtt1y6dIlGjRqhsiqMrFJLogQnLMzNyHzh2M5CIQBCvn6zoijSqVMnypcvz5w5c7KVvzg3iKJIpu75lCRHjyiK2KdHUNXiGSHnD1OuXDmuXr1KcHAwKpWKwuVrYN1uGhq94WHl6dpRaJ49pNjQNSSe2ozczhnHBr3RJkYTseJzo5uGYKbEslhZFsycxJDPck6JJfF+8n8RvlcFVTYOJoc9fwlTnsfqfF3jgVc/2SYlJREUFGTcOvLw8DCKYPXq1f9v4Zq0Wi0TJkxgz549BAQEULFixTfu68qVK7Ro0YITJ05k8+ED0Gg0dOzYERsbGzZt2sSWLVtYvXo1x44d+xvvIH+8S7sfKpWK8uXLs3btWho3bkyVziNJLNkUZAqDlXAu5Oc3+9tvvzFz5kyuXLmSLZFrfucG9HoEdLiGnyL69HaaNGnCxo0bsbS0xMW7PdqqXRBkMjKfhRET8B3a+Ihcha/4xF0IMjm61ATS754g+eQmVq1YRr9+/V7/g5P4T/KPC98/OVEXVP4fDxJarZazZ88SGBhIYGAgSUlJxi3RZs2amcQ1/KfYsGED48ePZ+XKlXTo8OZP5GvXrmXevHlcuHABW1vbbOUqlYrWrVtTsmRJli1bRtmyZdm8eXOOYc7eBn9n9+OfEssffviBM2fOEBAQwIrjIczdd9sgevkkt99sTEwMlSpVIiAgAG9v0xyLbzI3iBo1hZ+eJuL4VpKTk0FhQabSkSL9DNvZCUfWIFPakHhi4yuFL4u0izsRbgQSFRUpxeIsIPwjwrd582YWLlxI8J27ZMrMMXMtiX3trqReDzJ+CbN4+cv4aG4big5ZiZ2rh3FrbubMmYSEhLBp06a3PdT/LDfCE3M1HpCjQ6Ewy9F44E0JCQkhMDCQ3bt3c/nyZRo2bEjbtm1p06YNRYsWzbHN25ikL126RMeOHenXrx8zZ85844lp4MCBpKSksHXr1hzP71JTU/Hx8aFWrVqULl2agwcPGo0s3iZv+tDyT4jlt32aEPPsGXK5nPT0dD6s6IWVlw+xHvURBBna5FgSDq1E9eQWol6Lws4Fu5odsPFqZvzdmhcuRZH+iwHDdvqKzmVoXqM8RYsWJSwsjB49elCsWDHmz5+Pp6cnGRkZhIaGEhKvofuqczy7tI+0W0dx6zmXR3PbGFIaISCzsMKqfH0cGw9AkMl5uno42iSDdaYhyLUIoojczBxRocSt5/coChUlYvnnAvsMxwAAIABJREFUuPX6gYjlA/ItfLKUaB7+9DnBwcE57gpIvH+8davOdzWo8vtGbu4D6tRELhzcyZnNfm91u6x06dKMHTuWsWPHkpCQwIEDBwgMDGTSpEmULFnSuCVatWpVboQnvbUkuTVq1ODixYt06dKFdu3asWnTJuzt7V97/EuXLqVu3bosWbKE0aNHZyu3sbFh3759NG7cGKVSycWLF7l58yaVKlV6rfvkJfb7b0Xme4XzYkqp8w/jOXTn2WvnX3xVsuLIJBU+o+djl/KYJJkNN57puL93BcriV3FuPYbYPQswd/2AYsPWIijM0DwLQ5eWYHJvvUZFZkwY5i6eqLQ6psxbzgcffIBarSYgIIDLly+zZs0aY32tVsvixYsJ8/BBpf0fe+cdXkWdtv/PzJyek94TSgKhJvTeOwISLCiIgDQVBEEBWVzr6ioIq6LgIuoCKwgI0hSkJ/QivYTeSSG9n+T0+f0xyUkOCc3Ffd/fa+7r4rrInJnvlDNnnvk+z3Pfd8Vadejoeah9w7DlpJC27E3U/tXxbNrHTfc1ddmbNOrQi4yDa2k+7E3i9+ynMCEOXY1GqP2rIXn6Vxj3XnDolTpydnb2fdaswv8VPNLA90eJKlfh7riTPuBwOAj9YCj5GdPwN0beY8vfD19fX4YMGcKQIUOw2Wzs37+fDRs2MHjwYMzVWqFuMxhZUFUqdfV7THKDg4PZsWMHU6ZMcXX21a9f/6GOWa/Xs2bNGtq2bUvLli3p0KFDhXV8fHzYtm0bnTt3plmzZnzyyScuLcj74c4gc3XuSJxFuSBKCILI5IDqeMR0x6NpHzdxgdy9y8jbv4KQFz5DG1bPtbzw9A6yNs9FUGm4CEgGb7zaDMSzeb+7HsPDBktZhmM3c9FWa4dao0FllAl8wovUJW/g1fpJrLcv49fjJUSNUpfThFSkqXhEd8N0Jh5N99HKeHE/M/WlYSxdvJAJEybw448/uqXFp02bxqzZs/EfUwdZdfd0udo3DG21hljTr1f6eWKBA40sU2R1YIzpTuqy6djz0vCI6X7XMe8Ge4kw9p/RoePPikca+P4oUeUqPDgkSaJ///5s2LCBSZMm/eH7U6vVdO3ala5du9L0mYl89Os5LI77Z8/LP6SB+wY/jUbDV199xcKFC+ncuTMLFy4kNjb2oY41MjKSRYsWMXjwYI4dO0ZwcHCFdQIDA9m+fTsdO3YkMzOzghFqZbhb+jLwmffQRzTFaTZhTkwge8e3mFMuEfD46yXXQMZ0dieizpPChHhX4EuaPxpHYRYgI4gS2moNMDZ/nIzVfyc7/l8IgojssAECgqT8hD2iu+LRoDNpK95GUGu5KAhIRj+82z6DsXEvt+NNmj8a/37KvSEDgkpN7sntFJ7eRsiw2SAIpC6dhiYkiuxtX+PZoj/2vAyKrx0lZOgnACQvGAOAMbobqcum49N1BPbsFJyWYkzekWRnZzNq1Cg6derkmgVnm6zsyvZEWz2GrANr8C5X8rgTtqxELIln8Woz8K7rmKwODBoJlXcQKu9giq8exb9vxdn8/VB06SAGbz/q1at3/5Wr8H8CjzTw/VGiyg+f2PpzIzY2lvnz5//hga9UJzEhIQGt3kCx1h9DTHeMzfqR9esXmM7tdj2YAVQ+IYSN+QoA2WEj7+Bqks/t4oVPMpni50eLZk2YPHkyvXv3vus+x4wZQ3R0NM8++ywnT57k7bfffqi63+OPP86oUaN47rnn2L59e6UKNjqfQF6es4p5S9fSf/ZGenfrdNfa5IM0aIg6Dwx12iB5+LhmU5rACCyJZ3EUZuPXZyI5O77Fr8eLCJJCtvds+QTWlAsEP/cRWVvnU3hyK5qQ2ni1fAKP6K5kbpzjVi83ndtN1rb5gIyg1qLyDkYTEkXWprkUXf6N4qtHESQVgqRSnNLz03EW55Ox+kMQRKVuJju59dkzIDuRbWa01aPB6SDvwEpsmYkIai2W25fQhtZ1nZvkFYDaL7xETegMHjHdOXE5EbPZzPMT/8rLS4+6ZsFFVgcnEnORWg0m74e/YKzE5+/24tdK9m/B0KAzns0fr/Sa2pwyNruT6r4GzuaK+Pd7Dae5EFGjc5kw3w8OUw6mC/vI27+CYa+/V9XY8ifCIw18j0RUWRDBUXbj5pttGGy2KjPIh0CvXr144YUXyMvL+131sAfBhzNm8emn/6DTiOk8PWoWl3Ps3Lp0jrzDazE2VgKXV9uBbo1M5ZGxbiaOgiwC+k9BG1yLXg2DGRiSx6+//nrPwAfQtm1bDh8+zMCBAzl+/DhLliyptFvzbvjb3/5G3759efvtt5k1a5Zr+Z3pSm29ThQB60+muGqTKQvGYCvIQaWScMpgtjkwNuqB+dYZV/MFKN2H6aveB6eTmm9uwHzzNGkr3gZkbv/7dQRRheywoa0ejUeDTuTs+JbiK0cw1GvvdqyCSoNH/Q5kbfknTmsxmtA6Fc4n/7e15P22Fs9mfSk4tZVqE77HlnaNvMNrEfSeOM2Fru/CaTOTNHcoeb+tRdR74d9vEvqIpqSv/juWlPNUn7Scm7MGoI9qTeHxXwkf9y98u44k//B68g6tJmPNR4RP+N5t/x4x3Sk8E4cl+TwhQ2dx/uI+DN5+jFhyAptDRsa9mUgTGIG+divyDv6EOsCdKxo66ktUPqEUXdhH7q5/47SZkSqxNwIla9CpTgC/HnKg9g297/deisQ5g1FeEHRoQqIIG/hX5rw7+YG3r8L//3ikge9RiCqrvAKx56W5fhB5manknD//H2s4/plgNBrp2LEjW7duZdCgQY907FOJuczZdJIlf3ufkAFTOatrCDdNgFIDChww7b5jFN84ifnGScJe/haVVwAAO86n09SeyzvvvPNAxxEaGuoSKW7bti3r16+nTp2KQaEySJLE8uXLad68OW3btuWpp566b7dlaW2y2OYg7Jn3mPHqEPZczryrkk7iP0ciCALGRj3L9uvph+QZgCGqNZ6tniBp3nC8WsQiSCoM9TtQeCbOLfBZki9wa84gxRnB6cCzeX9Uvu4dtE6zidx9y/B/fAqS3pPC09sQBAF1cCQeDTpTdG4PoqasliaqdQhqHfbcNCSPiuIAltuXQHair9USBIG8w+vw7TwcQatH5RWANfUKTrO7tZWhXgeyty9AExKFyjuIIlFNkR2sDoDKFXB8Og3l9uLX8GpdkaYiCAIeDTpRdPkQeftX4Nfz5UrHiH1vMbM/ehcx5lmE4IaumrIgStR8cyMAAf3LAprKJ9i1vGxfiqJRlWrUnwuPdG5fXlTZfPk31LIV2WGn+OpRcnYuwlCvPcVXj1B8/Tiy04G9IKuCqLKhQSfyDqzEnp+JKNs5s2U569atY9GiRYwYMYIFCxZw+vRpHI6HVy/5MyE2NpYNGzY80jF/OHSD5747xOb4Pch2G+ra95aruhvMN06iCa3rCnpQEowOXSMqKooOHTrwySefcPbsWe7FttFqtXzzzTdMmjSJDh06sHnz5gc+hoCAAH766SfGjh3L578cKUlX3odEDSCDxeHko1/PEX8h/a7ry8UFiHovvDu666Y6CrIQdZ4UXTqIIEroaytdyx4Nu1J87RiOojwACo4pVArZakYyeBM0ZAbWzFvk7nafbVlSLiDbbRjqti0ZP5tbcwZz69OnyVj7Mb49XkTUl82GndZiZJsZnHYc+RlkrPmIW3MGU3ztKLLDTubPsxHUOlS+IYhaDwqO/Iy9MBvZZsVemI3KNxRJ7+V2DMWXDyF5+mNJuUjivOGYEuKRHXZy9y7j5uwnuPXZM9yaMxiHKRtbplL7V/uGgSCQ/9tat7FSvnkZ0/m9AHi3fZaCE5u5+enACulLwengwOafmDx5Miv/Ngad+vfJ25XaIVXhz4VHTmf4T0WVvTsMIW/vMlJ/+AuypZDo+nVZt24dUVFRHDx4kAMHDjBnzhxSU1Np06YN7du3p127drRt2/YPS+v9/4j+/fvz3nvvPTInhvK1LEdRPqLBy40Llbr0DayZieCwETToQ0BJwRUcK3vDNtRpQ0D/KTiL8pGMZbMNR3EBtxa8SKIoIDhtvPfee2zYsIF+/fohSZKLKtG5c2c0Gk2FYxs7diwxMTEMGjSIiRMnMn369AfS2pw+fToFhSa+3HkdQVfmx2a5fZm8fcuxJJ1DBlRGP/R12+HV5umSA7aTsvU7ii7sxWk2IRq8MdRpi1/Pl5TzPvoLssOGd/tBbh2cssOOsygfbbWG5MQvxGk1kzR/VMmHgNOO6dxuADxbDFBqfM/PpPjyb2Sum4FX66cxnduFb9eRZdfuju9C8vRD5RWINfMWstWM6cJe1L7hru9CUKlBlvHv9zq5e5cpnaeyALKMbLPg1flJ8kqCkajWgQDJ80chSGoESU3Qc+6SY/mH15N/eC3+j01AF9kcUVKRe/An8g+vA8CjQScCYt9AdjpI/HIIeft/xKvlEwDoa7Wk6MI+t/EknxDMiQl4NOiEJigClVcgssPmdq8BCKLIwR/mEOqnBPW/9I7ig1/OgFTx/rgbytshVeHPhT/EnWHo0KEMHTq0UlHlUmrD3SCqtfh2H41fj9E81jDYjccXExPDSy8pD5fMzEwOHjzIwYMHmTlzJkePHiUyMpL27du7gmGdOnX+lGLDADVq1KB69eocPHiQTp06/e5xIiIiSE1Nw+rE1WFoqN8JZ1E+stOBJeUSuXuWYs24CYKALMvYclMB8GrzNPqaTcjc+BnVytWFRL0ntpwU19+S3pMak1fSytfC6ukDeeyxx3jssceYN28eZ86cYcOGDbz99ttcunSJ3r17ExsbS9++ffH3L+NrdejQgcOHD/P0009z/PhxFi1ahNFovCuvrk2Anb1796LWGym6fgyPBkrWwZx0nvSV7+LdfhD+/SYhefhiz0un8PR2bGmKXU76mo9Adiqaj6KEZ5PHXNwxS/IFcncvQdR7I2qVYOq0FGFOvoCzKA9EFak/TEO2FiOodYQM+4cSYID8oz9jOhPndv0FUcJQrz2Zm+diOr8bdUBNt88lvafruyhFyPBPAUj6agT23DQESYNXm6dd9dak+aORPP2pNn6Ra5vSGp9ni/6uwOfXexyerQa4UpLmm6fdanIhI78kbdl0/B9/XUnRyk5EUcSn4xB8Og4hd28ZFUQQJUKGf8rtf43HUZSHZPBGX7sltsybrk5RXa0WeNTvRP6Rda7tVL6haMPdSeWhQz+ha71Afj6TzoXUK+QX20k4cRgfp4DZJxKLw1kljViFe+IPtSWa0DWKvZczf5eo8v1SEAEBAa6ZACiai6dOneLAgQNs3ryZ9957j6KiItq1a+cKhi1btvyvSG09KP5orcbSdOd/EvgAerz2KeekCJw2K1lb52M6vxdBpSb/0GryDv6ET+fhBA18B9npIPnr0eRsX4Ausjl3Sz7pIppQcGwj9vxMt3SnUet+OwqCQOPGjWncuDFvv/02qamp/Prrr6xevZoJEybQpEkT1z1Qr149wsPD2b17N+PHj6dN30E0GzqdI8lFQEXyduae5fjXisHqVwtTwk5X4MvdtRhjo554tyurjaq8g/DpNBQAR0Gm0lUhSQgqDfraLfFsGUv6Tx+QteUrcNhAUiEX5ZK+8l0EtQ5ZdoLDjqD1oPpry8krmRFpAmogGbwRtco96dkilvzD6xD1SubCknyBW589owQ1hw0prB5+vca6XSNteH0ElZqiS4eQ9Hc0+AhgqNeRorO70Fb7fYokat8wPBp0ouDoBtSB7kHXevsSss2CvlYLZLsVlUqFKAo4K6GzyA4bpoR4RL0Xok5xANFVjyFr4xwcxQWIOg+sqVcIfOotcvf+4FpmSb6Ad1t3myhBgH1XMjlwNavsezVEoFWJOGWZQKOWnCIrkiA8sB1SFf5c+EMDX5PqPrzdr/5/5Mj8oFCr1bRs2ZKWLVu62viTkpJc6dFp06aRkJBAw4YNXYGwffv2/yMOBPdT1HgYZZN7ITY2luHDhzN79uzfPYbdIXM8MRdtzbIOw+wd3+HdYQi5e5aiq9EYY5PeCGot9vQbCIKI5B+OLf1ahY69Uugjm6Or2YiMtR/h1/sVNMG10KkkhIzL9zyWkJAQxowZw5gxYyguLmbnzp1s2LCBnj17otfriY2NZcCAAXQe/TZ7Np1j7/V8hEpa1M12J3mn4/Bq/ST6sHrkLZmKw5SDoNZjSb6AT6dh9zwOXURTbNlJeDbtQ+HpHeTt/xFQ6BqaoAgCn5juvr+bp8lY/4mSZnQ6saZcRBNcm6Bn3kPU6Cg8vYP8I+uw56Qi6j2RrcUUHNuAoNIgO+wIag1+/SZhjO6GvSCT5G/HKdfR0x9RZ8TQoDOZv8wGBHDauTkrFkQJHA5sWbdwWospPLWNgiM/AyDbzKSvet9FnfCI7oqjKB9nUb4SaG0WMn+ehWfz/vh0Gop3hyEUJuyscB2yt/4TgMTPlcBU++kp2Oq6E8hN5/dRdOUIsrUYUetB4FN/daUtVd5BSF6BWBLPovIKRO0bhqjWoq3WwLVMtlvdiP0ATpmS4OoeYEt/RxmFFrSSSJe6gRg0qvsaIlfhz4c/lTtDcXExx44d48CBA65/Wq3WbVbYtGnTSutIjwr/zWvhdDoJDw9nz549D9zxWIrS4Lx44uP49VVa3p02M9lb54Ms49dnAomfPYvKLxxHfobCHfMJwdhEoSLk7PgW2elEEBWOmKDWIag0VH9tOQCy3UbewVWYzu3CUZCNqDfStW0Lpk2d8tCWQLIsc+LECTZs2MCqE7cpjOpdovlYOcyJZ0lb8RbVXl2CZPAm+dtxeDbtg6F+R5LnjyTspa9R+ytBO2fnIgpObgWnHa+2z5K3bzk+nYchagyYzu3GknIBRJWSrpRUhI/9FlGjd99fSeBDUqEJqAkCBD79DqJa66IiBPSfjK5mExwFWWRtm4+zKJ+Q4bPJO7AKe+5tAmLfwJ6XTtqKtzDUa49vt9EAmC7sI2vTlxjqd8SadlVJx6q0iGotXm0HYioJWPo6bVypzvIcQIUsn42+bjvMV36jxhtKmjP5u3HYs5Lwe2wCns36Yk46r6S0Uy+DIKCrFo0+qjXZ276mxrR1WBLPusjzAKLWgMo3DJVXAAGxb+AoyiNj3UwMUa3LaqVA5obPEA3eqLwCcZhyFOrEsQ3Yc9NQeQVSdOmgKxX6sKgSu6/C3fBfcWD/TxyZHyX0ej0dO3akY8eOgPLAvHbtmisILl68mKtXr9K8eXNXMGzXrh1BQUGPZP8Po0b/sMomlUEURZeKy5QpUx7yOMuCc8aaj0CUkK3FSB4+BA36EGdxISATNPBtV5AoRfG1Y8hOBzX/8jPmm6cr1PhAUQvx6TS0JIUo47x1AuftnTgcDpxO533JxBEREaSkpJCSkkJAQADNmzdHCqzFzFYtsPz8DeHjFpL56xw8Yrrh2aQskCbOG4bTbEIf2QzJ4K10jUoSOfELyd2zFICU78YT/PxMdDVi8O02Gt9uo0n8YjB5e38AQSR373IESYXscChflMOG02FTxp871K2hBcC/7yRkpx25OB+zKRckNUlzhyr7lp0E9J+CvlYLQGm5D3zyTZIXvOgKWgC2nNukrXgLY0x3fEoCmCzL5MQvxLvDc3iXKJyUqrLoI5oC4CzKw5Z56658ytJ9SgYfV/enNf0GpW9l9pzbWJKVumf5lHb+kfXk7Po3SCqKLh1E0nshefq5vmdbbiq3F02kdFYmGbzx7zOB299PwRDdFZVRkQfT1oih8MQWHN6BeDRSFGZ01aLJOhOPwzsQUe/J7e+nYMu8qXSbegdjbNQDY7N+OAqy7imifWHBGF74RMfLaomgwADGjRvHm2++ec/7qgp/DvxXAh/cXVT5fzIFIQgCtWvXpnbt2gwfrjwY8vPzOXz4MAcOHODrr79mxIgRBAYGuoJg+/btiY6Ovq87+NChQ9FqtSxapDQQnErM5e2vV5G06iOctmKqTfgeyaDUcmS7jZTFE/Fq+QSezfoqqiYHSmZDhdmMmuvN6sd68cWsj4iIiHioc4yNjWXOnDkPHPgqC86BA99BH9EU2emg+PJvpC1/k9AxX4Eg4ijMqRD4HIXZFVre7wW9WsWyj1/h/P5avP3220ybNo2pU6e6ruHdEBkZyYoVK5g4cSIAf1+6BYftPtquMuCwYb6VoARBSxHYrQAEPz+D1GXTEQSJ/MNr0dWIAZRAIDuV6yF5+OK0KLxFnDa04Q0IePptkr8aoQxut4JGD4KIV4v++HQejvnmaWS7DUQVAQOm4VFf0QktvnaM9J8+qEBaFzV69LVaUHzjJGq/cOy5qaQtm45n8/54ty+rPdqzk3DkZ2Cod4fuaGnQys+k+NoxdDXuzYH1iO7mFmRNCXHoa7ekIDsZTXAtcnYuxiOmO16tnnCt49t5uMLpK8oje9sCPFv0VzpDHfYSFZfTqDwDlOtbArV/dfSRzcg/tMbVAaurHkP2ln9iz0vDv69SolAHRWDPS1M4v5IK/74T0Uc2R9DoXcR8Y+PeDySiXWPKSvrEhDGito0ePXrQtGlT+vTpc8/rUYX/+/ivBb5S3Cmq/L8NXl5e9OzZk549FeKx0+nk3LlzD02lmDt3LtHR0Wzfvp1evXrx5bazpGz4Et/uYzAnnSV7x7cusnfegR+RPPwwNlV+kC5VkwHT0ATXBpuZzKyjxMXFMWbMmIc6n549ezJs2DBycnLu6WbetWtXjp84SeiEJVhkJahnbpyDIz8dW2Yi+oimCKKEOigCp7kQS/IFtOH1MV3Y5wrU1vRrCJIaWXaiCYx4oOPTldRzm0cE0DxiKM8//zzx8fF8+umnvPPOO7z66quMGzeuUgHh4cOHs2TJEiZOnEhmoYX4DT9hjOnumrlVBtmhBLmwF+djL8gibdlf8Gz1BIWntmM6vxdR54mzOB9r2lUcplwkDx8Kjm1E1BlxWIsBRanEknQWTVh9/B8bj+nsLpAdeHd5AUviWSS9FwGxU932Kxm88Os5lsyNnyNqdOhrtVBoHQbvCq36AJLRD2vqFSC8pGNWxNDAvUnJUawQyUtnT6XIWPuRIkNmLUZXs7GrMedu0IbXp+DkFpwlHEDZUkTpTE0VUOOudU+P+h3J3b0E3x5jyNu3AkdhNknzR6INicIQ3Z2CE5vd5M0AvNoMJHXpGxSe3k71SctQ+4UjefjgtFnLyPKCiDq4FpYbJ/HvM5HM9Z+47IoElQZdRFNku+WBRLRLxe4/frI70dHRJCQkVAW+KjxaAvv/RYii6KJRLF68mIsXL3L16lUmTpyI1Wpl5syZhIeH06hRI8aOHcv333/P5cuX8fPzY968ebz88svcTMtm/aIvUfmGYmzcE7/uL2JJTKDoyhGsGTcoOLYR/74TEQTBpWoSOPAdtKF1EUQJQetBRo1uPDn43k0XlcFgMNClS5d7krtv3LjB3r17sTpkcs4fvONTgcIzOwAltVZ84ySgvL37dBlB4entpK/5CEODjoSN/koJ3g47kse9OZWCAILTRo2sowxtU7PccoEePXqwefNmtm3bxpUrV4iKimLixIlcu3bNbYy2bduSn5/P+fPnWXX4JgVn9+AR3e2e+5VtVpDUqLyDsGVcR/IMQBMYiWT0xXRuF4Kkxrf7izjNhSQteImbnw+i8Mx29FGt3caxZdzEdG4XiV8+T8HxjagDaiIZvPGo3xFzyTW6E4Z67fHvO5GM9Z9gvnmaNg1qIpvzeaJRMP4e7nVlR2E2Ysms2VCnDcbGPUlb8ZabLFppF6e9sMxORyXI9H7tM2pM+Yng52diy0rCUZx/z2sCKC82Gh2BT/wFXUQTqpXUYnPiF4LsdONduvZv9MNRnI8xuhv+fV4FBGS7DXPiWbJ+mY0uoilBg/7mvo3BBxAQRJGiK4pVWbVXl1SgOHm3fgoEEY+GSrAPHT2PGlNXEz7uXzjNheTuW442rB7Z277GdG6323W5E1a7g+Ezl3D27FmaNWt232txJzILLSzYfZXXV55g9PdHeH3lCRbsvlrlHPP/Mf7rM77/C3gYKoXRaKRHn8fJu3iW0JGKYaeo88Cv93iyt/4TyeiLd8fnXVqDZaomgW77LHWq+D2z5djYWNb+uo388DaVUieWLFlCi1atuUyIIptVv2PZfjU6bGlXufXp0yBKLpkrTWBNZFlG1HogaHTk7vqe3N1L0FWPJuSFT+8645NwIkkS3esHMapNOBOHzuBvf7PzwQcfVFg3JiaGRYsW8dFHH/HVV1/RunVrunXrxhtvvOFap3TWd55wVA/gxSbqjThNucrMxm4Fp4PsbV+jCalN+MvfkDR/NOqA6ni1fRbZZkZXoxH5h9fh1/NlCo//CoC2WjSFJzYRNvILV5o3dZlSOyoNBneDR8MuyA47GWv+Tq2P56PTaumguoZQpw7rTyrcRqfVTPG1Y/h0eQFHfiYAfj1eQnbYSVvxFsFDP0HlGYDKrxqSVyBFFw/gXdIwolGrMGglcICuRiM8GvUkJ34RQQPvLQWnj2yOKSGewjM78Ijp7uIgWpPPP3BKu3yNz2k2kbVtPpkb5xD4xF9c65S6UGjC6mI6E4dHuXvNbex7iCTINjPO4gKCnvu7Qqk5sBJbVhLqwJr4953oNstM/PJ5BCDZ6ItPpxdYddubgMTcB+qW/m91X1fhv4+qwPcIcC8qxa/bd7Fk8UJ8uryAyrusScZQpw2mhHjseWl4tiyz13EW51f6dl3qVPGwOJWYyz6hIUfCAjmz41KlP97Ub7+jw1MjSLMHcWvxFBymHFeA82w5AMngTdGFfYQMm40tJ4WUbxTtRHt2Es6iXMJe+Bdqn5BK96+r2ZjWb62kXogn5rxscq6f4+S6bzjkayR84EA+//xzRo4cSbVq1VziBHciLCyMGTNm8NZbb7Fo0SKee+45UlNT2b9/P8OHD6dbt25IIfUqeLEJJS39bpBB9PCh+sQfKDhJdae/AAAgAElEQVSxSeEhdhxK4eltbqvdy+NNLKnh3RkMsrctUP7jdHDrs2dQ+4W73Mndxm7UA9lm5rv3xjNyxAgmTpzIoKkz0QiBFOVkkLVtPirPAIzR3ck7uMq1nV+vcWRvmUfaincIGToTycMX3+5jyNo8F0nviW90J9SSwJXf4shMzyWg3+t4tXqC5K9HY027hib47vZKkocPiKLL2sdZktZV+YUjavSYLuxDV9O9Vmi6sA9dRJNKxxO1ejwadiXz51nu2yTEK+4UYfVILaGRVKYZejdivsNcSNK84YrhrM6Ib9eR+HYdiaMoj5z4RRVEtKu/ttwteD6oD+SDarc+jK9kFf73oCrw/UHIko1sN0dyMNiI6LG6AvkXQB1QA0GldusCFPVe2LJTKqwLilPFw6D8j1dQaSrYRJntTsyJZ8nPvM05XUMEvTcqn1BMZ3fj1fpJ13qeTfuSf3gdxVePovIrE0m+W42pPDQiLBjWolynbh8cn03hwIEDrF69mueeew69Xs/kyZOxWCxMmDDhrmo7RqORSZMmMX78eMLCwli+fDnLli1Dq9Vy/dR+Qie4k7ulEsFzNzgdrlmhrmYTsrctwHbnOnBXj7eQYbNR+QS76pulwaC05T5t1ftIek8CYstmpbqajd26WgUBuvV7kiLpBhs2bKBr165sW/QPrly9hqAxYKjbFp8B0xTeXzkIgoBfn1fJ2jiHtB/fIXjIDDzqd0TU6Mk7sJLs7d8g28zYzDvwfkw5ZsngjUdMd/L2/0jg02/d7WtS4HCAIJI0b5iL4+fX4yUQJdJXvYfavxrGRj2RZSf5h9dhSb5A6IjPKx0qOkjL3l/3oA6o4VpmTjyLPT8dQ/2OSIbK77VSlCfmQ4ldUUndEgT0ddxTz4pR71OYEuIqiGiXR/lu6UKLHRAqZEEEZL6Iu/xf676uwn8fVYHvD0CFt8WHYErqIppScPSXCqomAF66B7dmelDqhCkhDn1kMyhRC/Fo2IXChDi3h5GgUuPdfjC5e38goJz7QvkaU2UzPo0ERft/YJvveRpNneoKaJIk0alTJzp16sScOXM4fPgw8+bN47XXXmP27NkMGzaMgQMH0rx5c9c2d6rcmGUVfV5+i/glcyh2qvAfNBZRo8OanQxAzp6lGGO6kbnxcwz12qMJrcutWcrM2hDdFQC1Xzjq4FrkH1qN2jesxNxVxnzzFNbbl+/p8ebTZcRDB4NSaCWR9wa2pvFrmzh+/DgzZswgNyebTtMXccvh43a73NmYIghihcYZfa0WyneYdJr5zzejX79+9P/kZxJynCCK+D82wW398o4FpdDVbEzNNxVR81Kaxa3ZT6DyDkblE0zQoA/J3bOU3N1LFB5f9WhChs1C7RfuGsNRkK34+QHJooATEf/uo9CqRAQgq+ReK+1mruxeK4WoM+LdYQjZ274GIHjYLDSBEVhvXyFt+Ztkrp9NpvAPkFSUOkDoazUHIGvj5/j1esU1VuaGT1H5hKLyCyN7i0K6R3byyt9tLt6hbDMjqDSKLVoJggb/nbQfpinSdCgvpZ7N+uLd7lnXdco/vJbCk1twFGQx6ktvPunQlxZPv4yvp+GRqjBV4dGiKvA9YjwMV68y6COaootoSsbaj/HrMwFNUCSyzYLpTBwHL1gpiv2qguzanZy2U4m5fLzpAle/mYAt/Tq6Wi2wJJ4FqODcLTtsSmrui8HKW77dhtNiIn3137Fm3MCjJEgYG/ci/7c1FF0qa36prMYE7uT7LmNn8+STT3L69Gm+/fZbdDqd27GLokjbtm1p27YtgwcPZvTo0WRnZ/Pcc89ht9vp/swo8qu35XSGEnhKZ61FVgdrjyeTleskuHlndOH1ATCdVdryi68cJqDfa/h2GUHWpi+x52eUHZ+q7EGki2yOs6gAe24qiXOeQ3bYsCSdx6/3K/f0eNNVj36gYHAnRKeNiNxzNK7WF4DmzZuzevVqzp8/z1uffsMN3873JN/fDYLTwaoPXqRV7WDMZjNnV89B89g0rPe5DcvrdbqNV87ap/R870UkdwucdiuWVdMQrCbmje5Ctz7dWX7wCm98dgCb3UbivJImrZJ7zZp2rdIxvds+g+TpT9aGz0hbMhVBrUflE4JP11Hk7PgGbbVoHIVZOApzEFQanGaFZmJJvogltaIKkDG6G8aS5qc7+aV38h8B7LlKJqD65JUIooQl+TxpK95BE1wLfa0W5Gz/huLrxwjoPwVNaF1sWUlc3vQF1y5fJOiZd6vqgP+LURX4HiHCqtcgNTUNBNEl6OxX8radf2gN5ltn8O08HHtuGskLxuDV/rlKxwl86q/kHVhF5vpZOExKd5++ZhNOHTmJ0fhvwsPD6d27N4MGDaJtW8WOpjyn7Z+7rpCfclVp3gD8e49H5RMMuKt2mM7tJnvb13i3f46CYxsIHjIDQaUh7cd3MN84gT6qrNNOECW8Oz5PzvZvy5YJgluNyVC3PajV2E9vRbh5AHONSeR7tmP37t2MGTOGLl26sG7dOsLC3D3lSjFgwAA+/vhjPv30U/bv38/ivZf59mgWjmQL3EFoL31gO+UV5FvslKpUFp3dhV/v8eTuW07Rld8wNuntUpO5+Ul/fLqOpPDUVuQuw5WOWUFAVyOm0llQedwZCMA9GAjcb2IvI8kOdBe3sPXnb4jc8SM1ujyLNrgWei8/woP8eOyFibTKzuJfv93GKTz4T1OFk7DMw7Sqrcyc5s6dS+Nwb56Njf5dL2H/kbC77ESXfZWYli25aPVlr702m9ac5vaxHYBMRM9hWCPaI5S4KGSs/4TChHhlW6fDdc+WHAjG6G5kbfiM0DH/VGblTgcFJzYBSv3ZoxwHsvR3JctOMtfPotqkZW71vZRFE7GlXyd83ELXsty9y8jbvwLxjjpj4ekdZG36wm2ZNrwBstOB6dIhVD4hFJzYRMjwf7gk1TSBNQl86i2Sv3mJ4hunoKT+WVUH/N+HqsD3CFFgthP0zHslPCNF0Dl7+zdUG7+IzI1zKqzv03FIpRwuQSqvalJmlrlgWEuOHTvGF198wfr161m+fDkOhwNZlmnatClz5syhTZee7L6UQeGZuPty2grPxOHRqCderZ/EfPMUBcd/xbvTUBzFeSCpEO4g6Xs07EL+wZ/caih31ph8PD2oFRlBq64d2LVrFzNnziQrK4s2bdrg4eFBkyZNWLlyJd27d6cyjB07lsTERHqMfR9bowE4kB6YdGNOTMBekImhYWdsmbcwJcRX6Bo01G1H0fm9FJ7Z4abo8nshO504bl+gS/tWHE0urqBKpBZkrHY7DbwczB7ZA1nuwuTGXbhmMZAsSditAmQ6OZWZyabTKQiiiK9kJR8Ju1N2S73dCQEZnVrFiy0C+efkH4EZpKenM3v2bA4cOEDduhEADySR98jgdKLz8uNswBBUksTPp5R6ddrG1WgbdsfZKBaVKFGanvRs0Z/sHd+gj2hK/qHV5B9a7RpKW60hIcMUnVlFBUYAQUDtVw3R4OMS974TotaAw1pM7r7l+PdWUp4OU657UEVJVZrO7kTUeSJbzRXGEbQeyBYTTksRos6IJfk8OO2ofUMx3zyF5OlfQUdU5RWINqy+8uJYEviq6oD/+1AV+B4RMgstmG0OSn+K5QWd/1OUd6po0aIFS5cuRZZljh49yuLFi1mwYAFJSUnk5OTwxCtvo277PKbzewkZNvuegS948Ieu//s9NoHbiyZiy05GG1a/0vZ3QRAJe3F+heWlNaZOkd4sHdu5wufp6ekcOnSIgwcPkp6eTs+ePQkLC6NPnz60a9eOdu3a0a9fP9LS0pAkCa3egDWkEb61TKT/9AGWlIuEj/3WRfEovnGSrE1zXbM+W3YKqUvfwHL7CiCT8dMHGBv3ouDkZhcJvdxJ4NN5GFlb52OMLgu+95+xVQ61BGk7vmPThhm8OvVNQjs8xeX0IvLNNk4dOUjLqDBGd2/IU317sdh3HlvSDJjtXiCC/c4dqjTIQLZTAqcDe3Yiom84giy7pz/tVjRaLd3rBzO+axTRoZ68PzSd3Nxc3n//fYYPH07dukpLf6lc4JfbLxB3PlXRT/0dqdQHgtOBIAjk65TsQvnzK3+vlYdHg054lBDzyzcElcedM21QUpOlUnqgUDf8epR2BQvoa7fEdCbOFfis6dcrvgg67DjMhfj1mUjWr5+TvvrvrhKAyicYtW8o1tQrJH31AqJKoyj2lPiLmpPOIRn9yN27zKWlWpo+1VZriLOE0lJ05TB5+1dgy7yFIGmYsK4FwYu+oler6Ae7plX4Q1BFYH9EWH0sye1vp82M6fzeCm+ED4u7OVUIgkCrVq2YP38+NWrUYPz48URFRVGQeRtL0jml3fs+nLbyUHkF4NNpKOabJ/F7bPxDH6dKgK1zpvDxxx9jsbgTe4OCghgwYAAzZ84kISGBo0ePIssyN2/eJD4+ntjYWG7dukV0dDRvvPEGLV/5FEvqFfIOrAQUQ9RSB4Q7ITsdFB7bgEeTPqBS4//463h3HIImtA4qr0CXsWt56Gu3QuUVSMHJLa5ljqxE1MLDhT5JdvC3AY2ICfNCr9dzZN9Ovnn9WZ6vZWPhiFb0D8gmMOsUrRs3ZNLcVay9zoO5vAsCSCoknzD8EvcRmHoY59WDmK8epTAhnuw9P+C96x/4nl3DxYPbuXHjBo0aNWLdunWsWbOGd9991zVUeno6P86fzb9f7MDNfzxFO0M6UQYzlEiwpSyayM1P+mPPTSNz4xxuzn5ScUwv+Zey8FUArKlXuTVnkJuPoiX1CrfmDFY6Z2WlBiuL0u96gXgYlCZiAwe+Q43JK6kxeWWFFzXPZo8jO2zkH9uoeERm3qogbiDbLeijWrsCr1ebp13jebUYULY/lYawcf8CFL9QUJR4HOWEA8rDUZiDqPfCdGEfmb/8A8+WA6g2aTlhL87HKap4ul8vcnJyKt22Cv8dVM34HhEupObfVdD59+Bh3RnatWvHCy+8QHTzNi4S8sNCHVADUWe8Jz2hMijBOZqOY1czceJEmjRpwtdff023bpWrqDRv3pxTp07x7LPPkpuby/Hjx4mJiWHAgAFkF9m4KHujr9USW8ZNADxbKj51Xm0HovZ1rw+Wpq9ESQXWYnJ2fOeqBzrNJoU3Vk5jshQ+nYaR8ctsPBp2AaBnqwbEr/wOVavBOATxvs4ZouwgZ88P7AsdRNNX5pC4NY7s0EDa9gkm9pkhPD9wAJs2beLatWsMGPEq/z5VgKDWkrlxDqaEOAIHvuumVpK941sKjv6Cf7/XMTbuieywkbNnKcnn9+IwZePv58fQoUOZMWMGDRo04GJuLjmpiezbt4+bN2+SlpbGhAkTaNOmDT9t2MJlux8Hzt3kZko6NcNq4uUfjLWoAO+0E2SG9UAGbOk3KqT/vNoOrFTQWhNSG8/mj5O1eR7BQ2aQ/PVohVwvSaR9PxltrZYlVkj2Cl2n1vTr3P5+MtVeXYqk98SWnUzu3h8w3ziF7LAhefigj2yBV9tnKnQyl4deLTKyXQTXs0wsFO7z1i5J6KNak7d/BeqAGkh6T7cXQdluRbZZ8WjYBUFSIai0mG+cgErk3UrTsOWhq9mE7K1fYy/IclsuO51YUi7g1X4w2Zvn4t1+sKuhBrUWv76TuL3wVQZPfIcVCz6v6vj8H0LVjO8RId9sB8q9hU5bh1+vcaQtfxNH4YO/3YkCaFUijzUMZuXLbR+qHlCzZk18gqtRfPWo0mjyH0BSyin3hCCAXi25rF8iIiL45Zdf+OSTTxg5ciTDhw8nLa0iRw4U9Ztt27YRGlmXFsPeJLfYzoFCfy6H9YKiXIqvHXURriVPf4xNepO3b3nFYyhpQc/euQhtRDNChs4mbNQ8wkbNI2T4P7CmXVPcBu6ArmZjNIERmM7Eg+zgzN6tzHopFu3+rwmypqJViehU7j8P2W5FLUKbSD9aRgbi1WkomxJFdlzJR1+7FemGCOLStHgNn8u2XH8uXryIw+Hgr18uxmwvo0Oo/MLdnNZlp4OiC/tQ+ZR1keYd/Alr6hVCXviUWsNnMGfOHFq0aIGHhwfjx49n6NChTJ8+nZSUFCIiIujWrRuq4NqYWw5n5lkDq84XkaKphjqiOSmaahRaHWiaDeDHX+O5WqxDEEVMCUod+EHh0+F5HIU5FJzYhGQvJiSiNu998DFh/cZjTb2CoyCToksHcd5RLzMlxGOo3VoJejkppC6ZimT0I3TUXGpMWUXI0NmofEOxJJ29y55l1302vW8DFgxrSai3jkbVvBHvcY/6dhut6MomnUcdFOn2mTnpHAD62i0BENQ6rLcv4yjKqzCOd8fnXQ01pVD7hWNs1peiSwdwlBDtbXlpOIsL0Ec0Re0VoAiI31FjFgQRQ70O7NkZR/tZ8Yz94SinEnPvfhJV+ENQFfgeEbx0d7iHi5Kiui+ImO/6g66IYI2NNSMasmBYy99lzzT2ndlUHzbTJdz7eyDbLHjcPk5NMRe1SIUAoFOJdw3OgiDw5JNPcvbsWUJDQ4mJiWHBggU4ne6dhacSc5nw4yn2+vaGmH4U25xs++INNv+lH0lLpqGtHoNXORd073aDKLpyWBFsLgdBlDA26Y2zMBtb+nVSFo4na8s8EEAbEoWuVnNMCXFUBp/Ow3GaCxAlFS90rMOHH36IlJtE4ebPqXN+Ca92jeSppuH0qB/EU03DebKWisIDP3LsehaHb2SX+PC5v7HbEbE6ZJIun0cb3gB9w64c2LzGbQZpiGqNOfkcDnMhoLg0qIMi3RR7rLcvY6jbTqlrhkXzy9Z4XnjhBQAef/xxtmzZwosvvsjFixcZM2YMBzNU+Az8GyliIEjqCscly6Cp1pCiomIsmclKd+L5vffVNnW71io1/v0mkbv7e6xFJnp1aseSH35AW68T+lotEUQVkqc/RRf3l+3X6cB0bjcejXoAkLdvOdrwBvj1eKlkdicgGrzxbTUAQ9227jt02JBw0ic6pMJ9JgoCYzvXQi3d/RGm9g1F5RumNKTcIbdmvn4ckEmaP0px6SjOg5JjrTCOf7VKXyT9eo9DE1wbS9I5Ej9/ltydixEkFYFPvYWjSKnxVZY9kYy+OIrzsdidbDuXxnPfHeKHQzfueh5VePSoSnU+ItQP8XKbIcmyTPHl33CaC1H7V6f4ypEK2yhWNeVmApKIlHySrm1fxN/fnx49etCjRw+6du2Kv/+D1eteGdCBH85bKqi0PAwEUaSJlIIhI4mMo6fI9KxNaIOW+AWHUzMsiDb1qt+XmGs0Gpk9ezbDhw/nlVdecTXhNGvWrBI5KOXhVWp/VBkkgzeezfuTt3cZxub9XMtla7HS2NBTkVGzZSWSueEzsnd8R+ATfyF4UJkG6J1NEtqwetSc/gsNPG0Me7YbE14cwdatW5k9ezY7N//C2WOH2Llzp8sK6odDPmxJlrA47l/Fuqc0l0qDIaoNRef24Nm8H6aEeIwx3Sko0QIF0ITVI//IegRJhWdEDLtvmcnNzcXHx4eYmBjsdjvnz58nJSWFD1fsxLvbKMUM9z7wiOmG6Ww8uhqNKq0D5/+2loJjZdfJUKcNAf3LLK00ATURRBWIEps2beL1b35l0e6LFF87iqFuO0XRJiEeY0mgM984ieywu/wGi2+cxLfLSPeDctooPrmZ9q1bcD3bQuOW7Th2cA/BOgcrPn6NAM+K53Xjxg0AtuYeZfu5NGSUhpSab24kaf5o13pBz7yH01yINrSOS4TAXpiFNe0aQYM/RBNYNhPMP/ozpjNxeLVU6nuCSuO6Z7w7DlFUYcrZLAmCiCUxAWTlpaC0oSXxy+eRZeX3l/jVCMJfXuBmQZazZymiRmmDyz+5jaTf1jJiVhYTPAx0bNeGH3/8EU9PT6rwx6Eq8P0OZBZaqBdVm9zMNAZ/sYmgwAA0KqUulP7ju4AMai0qoz+a4NqkLf8rTosJUWdE7ROKrkYjABI/f8ZtXMnoz/DpU9mdlsbp06eJj49n4cKFjBo1iqioKHr06EH37t3p1KkTRqPRtV3pQwAgwKilS91Atp9Pg0q4Z/fiq+lqNqb6hO9pEaxCSDWx8pdf6Nu3L8888zQWi4X4+G3EfR/HFrOZvd27uwJzzZoV5dhK0ahRI/bs2cO///1v+vTpQ5th07hkiHZr+X9QeLd5muQFL6IJUzoWrRk3sWUlKtZNJVD7V8ejUQ8KyzWu3AsiTpwJW4iIGEX79u0ZOHAgP/30Ezdu3GD48OFERkbSr18/Xvvgcz7edJ28a6dIW/EWPl1H4t227Psr5ZDV+MvPWJIvuKS5cuIXIWgMFaS5PGK6k7NzER4Nu2C+lYD/45PdAp93u2eRdEZMZ3eRHfcdaq2B1157je+//57IyEhSUlKIiYlBlFTo6nXEL1omddmbWFIuujoT1b5hGOp3xKtV2X7teemYzu6soEGauelLxci1zdP3NK3NiV+IrnoMRZcPUlBQwN9f6IlDpUdfuxVe7QbhLMojd99yl/JQYUK8q44GKFZM5Wa2+cc2kLvnB0TZTnJ+Au1atKBw9wlqZGayfv16VKp7P6I6+pnYare4iRKUR2UiBJbEs2iCItFHNndb7tlCqSVbM25UHMcnBEGjL5FMK4OhfkfUvmH4dBpK4txhIDup/tpyZFkmef4oRA9fNwuy3P0rwG7Fo2lfzLfOkLt7CcGDPkATUhuNvYh2YZlkFVpYdjy9UkH5qprgo0FV4HsIlFdrzzfbEL2D2fLzGrxaxiIKyttlxvqZ2LOTCR8zn8xNX6AJiiT4+ZluRpmlb6bpqz/EYcrBv99rqP2r01yfxbLvZ5Cdfpu5c+fSrFkzpk6ditVq5ciRI8TFxTFr1iyeffZZmjVrRveS4NOmTRs3w9YJXaPYezmTYpvjHmdTOWS7lRPLPmX4412Ii4vjwIEDfPDBBxQXF/PSSy/x8ccfYzKZiIuLY9u2bbz55pt4eXm5gmD37t0JCChrUCivKlO7dXdG/XAKp93pIhP79XmV/CPrKU8mcBTnk/LdKwT0n4LTYiJ78zylaUUQECS10uEpiKSvfBfPVk9SdGEfhgadUXkFYM/PoOjcngfqppVkO/YjPxEQInP58mV27drFmjVrlM7SEsHx6dOnEx8fzwnjCjSRLShMiEfUeWJKiHcLfOVhukOaSxNYo4I0l656NM6ifPIOrEQf1apCalIQJTxb9MezRX+cNgveV7ezZMkCoqKiSE5Oxt/fH71ej67zGK5vWejqgPXrPQ7PJo/htJqx3r5Edtx3StNGCfx6vYzp7C6KL/+Gf9/XFG4aStr3fi8LxTdOUnT5EGEvfU3xjZPo9Woe/3g1+5PKunhF7yB01aMxnd2JZ4v+FF8+RPDQMqFqUe/eDenVIhavFrH4nF2D6cZREhISKCoqYvXGrfxr/817PvzXrFnD1HHjeGnW96y7IbiI+g+iRlMqO1YeKk9/av7l55LvLAJj455un3s2fxxL4llUvmHIshPzzdMUXzmM9/B/VNyXIODbfTRZm+dhz72N6eIBRJ2R/N/WIhm88Gr9JIWnd6ANr+/yEbSpDPxSXIel85XsUJUbxB+HqsD3gLgzPSfLigSSKSEer5axOGVczQKlXKF7GWUW3zhJ8fUTbvy0KUP7o+nbkPbt2zNp0iSiohTunkajoUOHDnTo0MFlebRv3z7i4+OZOnUqFy5coH379q7A06xZM97uV/+hVTv0apG3BjSj/qDZLF26lL59+xIVFcW4ceOoXbs2q1aton79+vTo0YOXX36Z5cuVZpOEhATi4uJYsmQJL730EpGRka5AKMuyS1XmjE87ZFGFNa2sm1Af0YyiC/uw3L7kOo6cHd+hr9VSkYXa9W8ErQc1Jq9ElmWKLh0gc91MJKMf1V5dgr0gk5y4f5F/ZL0yq9Z6oI9qjW+30ZWeYylEZJpynTTLDVat+o01a9YwYMAA+vTpw/Tp07l+/Trr1q2jsLCQ8Ig6iDWa4LRbKbq4H/8+r5K58XNSFk7Anp+BIIiovBXuWsGJLRSe3oGg0pQ4vJtcru/WtGvYC7Iw3zpNwdFfwOkk//BavO8xwwKlhT7VoaTG3nvvPQRBwGg0kpiRS1hII7cOWNc2Gh26mo0JGvguKd+9glByD4pqHf59J5K97WucRXlkbp4H3FtoHBSrpOzN8/Dt+ZIiMK3RUqNGNY6v/AI6vOK2rkdMD/IPrUYy+qHyDkYbEuX6TBfRhKKLBzA27uW2jVYlcT01lXS7nj5T5tBrniJOfbeHv1/qUZbM+Ttbt26lefPmNLyPm8KDoDLZsvLSZt4dhpDy7ViS549EUOtQ+4UTEPsGmsAI0td8hLMoF6Ecqd6jQWcESUPOzoVkrpsBgog6KJKgge8g6b3QhtUlb+8P5O5dhi6yGdqQOqTfRV+7yg3i0aIq8N0FERERLkK13SljtTsJe/kbiq8dI/+3tTjyM8g/vA6cdiwpl9CE1Kbg+CZkh9LdmbxwPAKQ/tMH+HQaii6iqZstkfnGSbRh9VxBTyUKnLudz9jObahWrRpxcXGuwHcnDAYDvXv3pndvRYorJyeH3bt3ExcXx4gRI7h9+zZdu3alQ+sn2FsYiNUp37c93506EUGrVq347LPP2Lp1K0uXLuWvf/0r3bt3Z968eeTm5vLmm2+Sk5PDiy++yKhRo5g8eTKTJ0/GZrO5ZqezZ88mMTGR6tWrM2PmJxhHfYtcyQuCf5+J3F48CUnvRfH145hvniK0hCjv1+MlMjd+VnKcAh71OpCl9UDQ6Lk1Z5Di1u1fncCB72DLuEXWpi9Q+Ya6qXok/XMEAf2nutnqFJ2NZ+2GOaxcuZInn3yS999/n3nz5nH79m2Sk5PJzc2lTZs2eHl5EdGuL0mCQMGFA4hqHbpIpV4lGf0JHTUX2WGn6OI+sjbOwZqu6E6GvTgfQVKTveObEjf1q+TsWYol8Qy6yGYExk7D6bRjSojHlplY4VSNDAUAACAASURBVDvJP/IzmqBINGH1kJ0O7FeUQCBJEg6Hgxs3buDZ+mns+Rmu+po5sWITlco7CE1IFNb0627LBJWG5AVjXMowlozr2HNSMCXE8f/YO+/wKOr17X9mtpdsNr0DofcapAhIFUFQFLFiA0GwHcuxl3MOloMVsYN6FBGVomIFQUKVLjUQOul9k02yu9k68/4xyZAlRTznvO/1e68f93XlYtmdnZmd8n3m+zzPfd819bPHBqTcu4SanavQxqRi7TGKkmVPEHA5KfekUHbsV2Li+4dRM8xdLqVy/Qc4ty4jYsCVYeuyD7uZ4iUPU7nhQ2yXXKP4CvpqcJw9glMy0GbKM2w+42zVCuiXrGIIJfDo4h/o319JVzYQ9d/bdIqNx8ubKOiIcghJaKqS9Gcg6gxo7YkIOgOmDgOJHnMXoGQofEXHQBCIPE+G0Nx5MObOgyn/9p8Eq0tJvP0N1Y3FmNaTuGueonbfT9Ts/R6kENa+44kaNaNZRSe4qALz38LFwNcKfvjhB+K6ZHDjhzupC4TCcvJl37xI1Ji7cB/ZhDt7C5K3FsFgwdp7DLU7VpJ8x0KCtRU4fl6IY937IIXCjDLPr3UEJVn120tKSqKiouKC9zMqKoopU6YwZYqSSisuLiYzM5PMzEx8+08S6joWbZu+aESBoHyuC86oFZGBUV3iuGdkxyZdpDqdjkmTJjFp0iSqq6tZtWoVH330EYcPH2batGkMHDiQXbt20aNHDy677DJmzZrFFVdcwdChQxk6dCjPPvssbdu2Ze7cubzwygLEkjNoY9s2UZXR2hOIHD4dx88LFSWNy+eiMVo5H7Is4c7ehuxzYx00FdvgqcihIL6CI6qNjmiMoGbn10T0ndCipBVA9cFfMVgjWbJkCddffz3//Oc/mTp1KtOmTWPKlCk89NBD7Nu3j+3bt5PncCO00eE+vAFzt+EEncUgavGXnAJZRtQZMKb2BMB9aB3ICjEclA5Z2+CpWPtfieOHV9HFp6NP6IBotCBS7zTeDAStnqrMjwk4ixEQSGnXnoz7XuJYpUz1uneoq6mkdt+PuLO3qPU1b/7fml2XJiIaS0wKpnZ9kXweylbNU5wR9v9M1NjZ6KKT0ViisPYZD4KgyoQ1RvQ4xfIp6CzFV08FqNHascXEK84QjSDqjZg7D8V9ZCOW7iPDPtNFp5B022s4ty6j+F8PIIcCaK3R6ExW4qc+F3Z9tghBBK2eRbtKiY3JUQf/3ql2PpiegcPl46vdOSxfu5WcojKGDuzHqH5dkWSJ1385dmHbaAWW7iNxHVxL1Kg7EUQN7qObMXceguvALy1+p8GCrPD9u8JmlaYOGYTcTkJeF/bht1Cxej5SXS3+0tMEq0oQDCbMnYcQddntiPX3RIPe7ovcQe9UO71T7eTk5JCenk4gEPjDuuhFXAx8f4h3N51SOVi+4pNhOXnRYCZ6zF2ULHuckMuBtpE1j6DRYWrXl+SZ71K0+G6sGZMJOgpVo0zRbCNQGO671+C3V1xcHFYn+7NISkrilltu4ZZbbkGWZc6cOcMP6zfxzb5CTld60VsiSYyJpF9SPA9ePZjObZsXjW6MyMhIZs6cycyZM8nNzWXZsmW89tpr+P1+5syZQ0REBPPmzWPu3LnMmDGDGTNmYI5OwOULsdtlxz5gIrVHt7TYTRgxYBLuIxvRx6dj7jwk7LNQbWW9Y7oPQoq3YORQheogiBq1ScFfchpdbBqiwULNntXYh93c7G8JVpfhzcsiaeqT/LL6ZUpLS0lISCAjQ9FCvf3225l26wyufeQVZL0FfVJH6mrK8eYdxj7ydnTRKQgaHZLPTfVvXxLRKHhFj78fd9avavBo0Gg1JKSDLBN3zVMtmvY2DjgR/SYQ0W8CyLIi5CLASVlAY1WcKWKufhxT+4xWtTzPHT8H2pRuAAQqC6E+ZRyRcTU125eTPOt9RKMVf8npP1xXYwf1gKMQjcmGVHgYbdsBYYotsZMearGRSheTRtwUxbG+4L0ZRPafiP2Sq6irqaLi54V4T+9FCnjRWGOwdBuObdBURL2R3PmT0MW1JWnG2wiCSF1A4sFHn2RlosB3K89xPMsLzvLRIzfRrl07vv3oI2JiYjh58iQzZ87EEtcbb7eJf5gFaQ2aiGh0MW3wnt2vSKNlZRI9dnarge+PIAgCpnZ90UTE4j62jfhrn8bYtg+hWgeOde9R+tWzJN76ivqAB+ANhnhv0yk+mJ7xb2/3fysu8vhaQXWdn80nytUbxJDcGe/ZfTi3LlPsfELBMMPSxqnMBogGM8Z2fQmUnsU26BpCrkokby3Gdn3xFR0Ps8s5dmgfTzzxBPn5+WRk/HcuZkEQ6NChAw/OmcmWxc9RsPJFvv/rRG5o46Xg10+5pE93+vTpw0MPPcSPP/5ITU3NH66zbdu2PPXUUxw9epTly5fj8XhYuHAhoigyffp0jpS4GPLYJwx8fi013gC/nXZApxG4j25uUVVGEAR0MWnNGvZqIqLrpaRWYu03AVkKUfHjG9Sd3qty4RrDPuJWavZ8pxrlng9X1gb0SR2xdRtGQpsOLFu2TP0s3y2SNO05Kob+hfe25uLxh6jxBnFnbQRZomzVPAoXz0YQRZAkqnd/S8HCm6lY81arx+xCTHubg2LnKBCUz2Nqa/QXFPSCNeX4S05jSFO0IXXRKcghP6LOiCm9H/rkLlRlNt8M0hzcWZlYeozE0mMU3pz9GCc8ysBLR6LX/rtDiUxiUhI+j4uSz/6KHPSTeOtrtHl4JQk3Po/kdSkz7HqEaivxHN1y7vdJMsdKlGtWlmUWL17M8OHDmTt3Lt988w12u5033nhD7djdt2IhK+cMZXz3hGZFCi4Ulp6jcWVlEnAUIHndGOofLP4MPCd24j66GSngVehPuYcIlOdg7X05pvYDEDRatPYE4qY8QbCmTLkGGx85GTYeL8fh8rWwhYtoCRdnfK3gluunEZAFZBQR3Pipz6g5ecntpOybF4noP5HoK+5D9teF8Z8AqjZ+gqXnKERrFP7ik9TuX4M2KgmNyYapXV9M7fpQ/u1LxEx8EHNcKhHuAt7/8n3i4uIYOXIkdrudXr160bNnT/Xfbt26NfG0+zMQBIFevXrRq1cvHnzwQYLBIHv37iUzM5MFCxZw00030bNnT7U5ZciQIS1uTxAEMjIyyMjI4LXXXmPdunW8tnonZyKHorPrkBtJf7XkaP6n9l2rI3rsLDwndxGsqcCx9m1CripMHTKImXC/upw+oT2m9H7U7FxF1Kg7m6zHnZVJRP9JeIMS5vS+vPLKK1RWVnLEH8MhsQMhBMVaSqtXv+PKyiTy0puI6HeOQ+grPkH56n+SOP1lHGveaXXf/8i0t8Xf3Ix8jhz0U7l+ESGXQ61xRo2dRchdReWad5QOWABZQtAZ0Sd1wtQhA29BNpW/vAuhIMGacsq+eRFCQRA1GOt5dr7CY+QtuCFsv1PqdSqbc1D3HNvG/shYRBRvx8Yzkj+CHPChlQJUhQzU7l6NaDARO/kRtQamtcWpKdYG2AZPxbltGeZuwxHqdUFLanycyi/hsb/cw9mzZ9myZQvdunUjOzubGTNmYDQa2blzJx06KJmaxinRVfsKOFZcS403wOd/IgaauwyhKvNjak0RWHpeuAhAY4hGK9W/fY+v6ITi5vLD64BA9NhZ4cvpTZjaD6Au54BqsdUAAVi1r4Dxbf6z+uX/NlwMfK1g4iOvsy8Urvhg6pCBqUMGBe/NIKL/RMW9OzqViH4TOH9+IQd8lH/zIsHqMhAERJ2R+KnPqZ/HXfMUzq3LKFvxN6S6GqQ2qTz55JM89thjAOTm5nL48GGysrL4+eefeeWVVzh16hRt27ZtEhA7dOiARvPnL36tVqsawT711FPU1dWxY8cONmzYwJNPPsmRI0cYNGiQ2jE6YMCAZmsIOp2OqpgelCSJCC10krbmaA6KdYw39wC1v/+gDuiWHqOQAl5y508iYuDVRI+ZReSQ63Af+pXocXMo/+ZFfAXZVP76oaqikff6dQqBOOjHc2pX2Dby35qO5HFStfkzpcYoS8hBP/NffpnEm+ejTVaOoevIRhw/vI5oiVJ4edWliBY7JV88ScpspXGjescKkCRKvnwajckGQOW6d0GWyH9rOqYOGcghpYFFa4sLM+1t3C0oSyGKPr4XOeBD8rmVLtGYVCSvC2vvy9XlS798ishhNyN5qrH2GYd9+HSClUUUfTSXqg0fnfuRgoAc9CMaI7BlTMZ2yTX4i45TtvwZELVET3wQc6dB1OxZTe3e7xEMZhw/LSBq9EwMKV2brfFBU5pGYwf1ECCKGrQageAFNFMRCuDc9IlqquzNOYC581A16LWE5mylZFlm9MwnmdZL6R7WaDTMnz+f119/nXnz5nH33Xcjik3XG2M1cPeIDhQUFPDss88S8l/4zEnUGTG1H0Dt/jWk3K08aGisURgSO1Lw3gxCrkpS71uiHiv78Fso+tf9hGrKKFs1TxEJFwTl4UqWMaR0xdp3AlUbPybvlavrHTSUz43t+qKx2AlU5DXZD29Q4lhxLePbXKQ3/BlcDHytwOMPQQuxpIEr5C8+EdZKLgiiyhWKvnwOkr+OokWzsQ29HtuAyWHrELR6okbdSfToO1W/vcZIT08nPT2dq646pxTv9/s5ceKEGhA//fRTsrKyKC0tpWvXrmHBsFevXiQnJ/8pY1GTycTo0aMZPXo0L774ItXV1WzZsoXMzEyGDx9OIBBg/PjxTJgwgTFjxtCjRw/69evHwYMHaX//p5RuXIr76GYErfLkLwf9uA7+giGxE7qoJGQpRN7r1xHfyKamIcggajB1GEjcNU/iytqAc+sXqu2M1p6EJ3srUaNmYO09juptX1K9cxXa6BREg4VARa5KZG9wzK74cQGiwYznxHZ1W3LAqzyEGEwA6DUCvtoAmO24848Qmaw4ufvyjyhdjL3HETloKvZLb8Sx9h2MaT0IOPLxFWZj6jiQ+GufIeAsoXTZ4wBEZFyNvzCbmEkPU75qntK8YIuH80x7RbMdZGUW5Tq4jlCtAzkUJOmON9FEJlD16yJ8hcdVge0G/qDr8AYEg5moy25XryGAQEU+1n4T8OVnkTj9FSp+eA2tPYnIocrsTck+jCGmkfNG1Ihb8ZecQqqrQTZaCVaX4S87G9YtGzV2ltKMFfDhOroZAj7yXr9OoUfUO6jnvXZtfdpVRg740OiNSPWBL/mu99QSgF4jIAgCke4COPoLYtVRyiWZgCQj1YU3e7WIZmylJBmGTpzG6w9O5PDhw9x5551ER0ezd+/eVsUVqqurefnll1m0aBGzZ8/GZrWgI9wMt0GBpTnYL7sNa5/LVZPnxtDaE3Af3YItQ7nn/Y0EwWOuuB9vzgHVENp16Fdch9ahMduQ6qXOkma8jS4qGcnnoXz1fPxlZ9DHK9q1Qr0YeANqvAECgQCiKDYb4C+iKS4GvlZg1mug0cTEc2InctCHsf0ARIMFf/EJvHlZRJ2XmgBFmshfkYtz4yeIRivWXuOaLKMiFMC773veqtyuBrv09HQsFkuTRfV6PT179qRnz55h79fW1nL06FE1IK5Zs4asrCwCgYC6fENA7NmzJ1FRFzDIoDS1TJ48mcmTJ/Ptt9+i1WpJSkriyJEjvPXWWzidTgIBpSnHV0+Yb1D4l4N+/OU5VG38hJLPHyXxtjcQ9UYMKV3xFWarDwi+nSvRRMYTcjtVexl/0QnM7QcQ0Xc8gqjBdWgdgs5I7YF1EKgj/qaXKFv+DOaOg/Gc3BHWTq/u+7CbFAPT+umHosjvI2Lg1UQOmooU9OHe8x02vZbyvWvw5h4mctBUZZ/yjxA56DpFd7LRe7Yh1yPoTYRqHQSrS8l7fSqiwYIhtTueY9uQA158hdkULVKuiYBDoSpYeowMM+31FZ+EUBDnlqWYOg2BkzuJHHwdlWvfIWbCA3iO/0biLa8giBqkgPccf/CHNxD0Bip+fANLtxFo6muGtsFTcR36FY3Z1uQ4SAEvvsJj2IdPJ+DIp+7UHpXwb2zbB+fmJVi6X0bt3u/Q2OJIvuu9Jt2ydSd3Kn57Bgsai53EmxXn+fLV89EndSJ6zF2qek37W/7O2RXziegzDl1VLnUVuWgkP707JBJRfoSDu3/jgQceYMMGDT9v2Ao0ENsvTMy9OVspU2QM8+bN45133mH+/PnceeedLT7w+f1+Fi1axAsvvMDEiRM5cOAAaWlpfLZ0KYVfhXfGGlK7q68L3psR1imsjYjBe3Y/JZuXkDj9FeRggMr17xOqKUfQ6nBuXoIhpQtIIUqWPUHk4GlUbw+31yr61wPoYtso20ruiqDVIQcaCQIYzBjT++Pc9Cm2+iYqjS0ubPZnM+o4e/YsaWlpFwPfBeJi4GsFaVFmjjhFTr91B5KnnlskBdXaicYaTcSAyVSueQdP9la1lb527/dKCi0UVAZdjY7CRXcp3J+xd4cJSBs0cGUbSHbbOH78OGvXruXs2bMKTysiIiwQNv5r06YNev25GlRERASDBg1i0KDwAFBWVkZWVhaHDx9m3759LFmyhCNHjhAZGdls/dBkMrV6TO644w6+++479uxR1CVmzZpFcbmDn777tsmyglaPIamzQqJefDeuw+uxDZiMIa0Hvrys8IByyVSqNixWB3Rv7mEiLw3nRFl7jsZ1dAuiTo9z+3LkgBd39mY0liiiRt9F7f41Ycvr7IlYeozCVa+s7zmxAwQBY3o/NNYozFqR5x6ZyYt7fLDvF3z5WciyhFRXixTwYu42jKpNn6rvBRwFGNN6oI2Ixdx1mGpAKocCOLcuA0HA3GkQMePvUWpoK/52jl9XPyCZ2g/A1H6AmupMvGU+ks9DzfavCDqLCdY6KP78MWwZV6OPb6fs93GFP2juOgzTkU0IBgsgqDVOULhz1TtWEqwsJPflq6B+plJ3dh+2QdeCLFGz51uix9+Lr/iESvgXNLpz4sxSiGBlIXmvXA2iRg16CTe/RO3B9SBDzPh7qPhxAcHaCgxJnVQH9ca1VH9MJx544AHumXkbw4YN49bp09mwbTdZdV1w6+zo+9zM0z+eRO8x4vP7MAPGdn3xnNhB5LCb/jDdCU1tpbZlrqe8ajf79+8nJSWl2e/IssyqVat48skn6dSpE+vXr6d3795kncpl9sOvIw+6jc6dMvAJLcuCRY25q1k9WcnnQZZCRA69kapNS4i+fA6Vv7xLsNaBueMlAGHkdgDJ7STgyMPaexyemjJEo4XIS2/CuelTvHlZaG3xBCryqNmxHNEUoc5wzV2GUrLra+rO7sPSrg+Rcg0vvPACN954Y5P9uojmcTHwtYCcnBwqXD7WvpwJQNx1zzV7wdceXIeg1VN35ndS710S1sLdmDgdrHVQtvxZanZ9jX34LX/otydJEqWlpZw9e1b927VrF1999RVnz56lqKiIhIQE2nTugb7LcIhKRWeKIMZmoU/bWGaM6kZchIn4+Hg1ddl43bm5uWpAXLt2La+++iqnTp2iTZs2TQJix44d1frh4MGDWbp0KdnZ2XTu3Jm1a9cy57VlzQa+BjR0tvryj8KAyRjTelK757uwIGPtPQbn1s8BFD6fuwr34Q2Y0s8dc1PnIVRu+IiU2YsoXfEcUaNnUnfmd0I1FYgGM5auw3Bu+oT8hedoDJFDbwjTK63atISKb/+pDOyyxINaDbaRd5J2/+fkLbiBQFkOQWcJhtTuiDojWnuC+p4mMj6sc9edvQ3PqT3I/jpEgwXRHEl5/bpFgzmMX1e1fjGVa94hzOdd1FK7/2esfa8gcforVO9cRchdBaEA1duXU7P3O6UL0+9VmzksPUYqqiteF9Z+EzF3HkrZ8mdwbv4MrT2RQOlp4qY8iTt7K9roZAxJnfHmHASUup82IlalEgC4Dq3HseZtYq95ksqfFmLqOBBLtxHoU7qGcSmtvUYTrMhVg687KxNDUqcwB/UGyLJM21E3cuuttzJ11sNUdxqFUzOcYDCIqV6azQJokZD2rAVJwjZwCu6sjTh+XIB9xK1oI+MJ1lZQs/tbrL3Goj/PVqixrZSpwwBG9e/CogefRhAEKlw+Vv1eECZ3ZvQ6yPzoJQKuKj744APGjh3LhgOnGPLovygiCo2+E/rOXfl3+yMDlYXK7+p+GVWbliBo9Vj7TsBfdBxRq0dri8dznlC9vzwHU4eBiPpzD5uRg6/DuelTKte+TWV9p7BgsJB4y4tq+UAf15bYqx7FuWkJ5c5iXjRY6D5sPNfM/Peaxv434mLgawUNgs+nWymRuQ9vIGLAJDwnduA+urlZ01NQ0iLG9H4Ey89i0IotksYbIIoiSUlJJCUlMXRoU0uU33MqWPDLUXbl1SLLEsGQCC7AFeC3vBze25qLpvQYaa5suidYmswY27VrR3p6OpMnn6s7NtQPGwLiZ599xuHDhykpKaFr165UVFSwYsUKBg0axLvvvsuVV15J165dKQ21PksExVPPX3IKUFwRpICvSZDRRSdjGzgFc6fBONYvQvK5qPz1Q5WnJ+oMmDpkUL19OZKnBmNqd+rO/N5kW2l/+aJF5QtQXCCMKd1wffc8YrexmHqMVPYrqbPSuegswVjf/m9M7d7kvQZYug0jdvJfCXmqKf/2nwTKc1p0mIgaN5vq35ar5GXPyd04fl5A9c6v8RWdIPbKBzEkd8adtQFtTBqh2gpM7TOw9BxF+cp/EFP/QGXqNAjppwUIOiOe7C3YMpTrzV+eQ7CqWKmJihoEjUbxfus0CHOnQXhObCdYXd5kv9zHtiFodYg6oxp8z++W1ViiVPK+GnzXLyJq9ExVfDr8ZOv4/MdMjF1H8Ss98R0tRRY0iLrwcxJsYFOJAhpTBIm3vopzy1KKP3tYqRVaY7B0H4G2GaFpUGgrJZ89giiK3D2uN/tzK/lg61k2n1B+Z2O5MznoRzf8YUZ3S0ATF8OUv77OftIRtHEIgsi/72WiQBedgiCIVPz4BnLQh+Svw9pzNCXLHidYXUrEgElUZX4M1F9TOfsJVOQROfg6zJ2HNNEFTZ69CF1UMnIoSO2+nyhf+Q+SZ72v1nQbzmsDagS4Y+lBnp7ou6jmcgG4GPj+APeO7MgnLXwWcJbgKzhKzIT7EXSGFt2+QeFTec/so3PGcDY/Pvo/UllvydanAQ1K9XJKb4rF3nSKqKC09BA7d+5UZ4+SJDUJhu3bt1eDYeO0icvl4ujRo0ycOBGHw0FJSQk7d+5k8eLFpKenU7X3wB/uc6jWgWiMqN8//R8GGVO7PuiTOuE6sDZMRd/aczSlXz5N5LCb/u3jJ4SC+HMPEHvpNAIxHdVBz9CmJ778LILVpWrbuCG1h+pmYG1EZWgMjTmSqNEzKVnyMKG6P+ZBgqJuImj1xF39GCWf/ZWI/ldSlfkxhra9ib/uOQrfvRNfwVH0ce0AlE5AFH87QkE09iSkulrcx5QamdYWS9BRgDYqEefWz9W6UQOM7frizsqkZu/3WHuNRZYlanZ/i6/wGIJeqSXrYtPUjEVje6eoUXeq5H1Qgq+89h3qTu9pIjbQgKI6EWvKMLx/oBXbWFBaGxFD7JUPtrhsS7ZSlqrTTH3wBaS+UxA1ejWt3BiCVk9QhnVHSvjlUCGitvMFpVTP1+8s//oFpeElFFTcGnxu5WFDENUHB8lTQ8U3L2LqeIniT5i9lbqTu9V1VvzwKpLfiyyFMHUY2Or2BY0Wa5/xVG34EH95LoakTs0ud1HK7M/hYuD7A/RJs2M36Sj/+gW1w7CB0+c+vAF9Ygd0MalYtCNwblqCvyxHrc1A/YAlCIpvXLt+jLhhzn8h6F2Y+LQM+CX4zRPP09Pu5/VGN0NVVVVYGvX8+qLNZmsSGLVaLVdffTU33XQT48aN4/fff2fey2/w6h53q/sh+evw5hzANvScsez5QSbgyCdYU4Ev7xB+R71R6pFNiCYbgeoSJK+bgndvJ+WeT4m/8Xn0CR2oO/M77sMbCLmrqDu9J0w5p9nj0WCGq9Fi6zgQXzC8596Y1oOK/WsUMeGGhoO07jjWvIXkdTWZ8TWG6FIoK6Hszchdh19wJ60huQuixU7F968gB/3Yh96IVFeLxhpFoKoY1+H1YfxB9+ndVK15m6AjHwRRbZbwFp0ErQ6N2U7IW4v3zD6EjhoK3r2d1HuXoLXFYWzbG8/x7Qr1QdRgateH6PpO07KvlKYiRSZGR/TY2aq9U2Pyvnosg35cWZlhga/488fU19roVJynD7Rq4STU+wcKOqNSL8y4qon82R/BpNdx25TxfLqjS6v3hDf/CM5Nn+CvyFM7Vu0jb6dsxd9IvW9pE3m7on89gLWP0pAmh4JUbfqUUG0FiCKiwYqg05My52MK3roZyeehdu/3RA69nthJD+E5tRuNWXGhEOs9GJNmvo03/yiVP7+JuculVG38l+LPWE+naTj2DXVVX/FJHD++gb88D6QQICB53WE0GKBZK6qHfxtB18X/JKND027Ti1BwMfBdACwGLW1mvoDD3lV9T5ZlhQhdT1HQRsZjSO2OO2sD+tEz1eXir3sOY9ve1OUcxPHj6+zas4fXHLuw2+1ERkaG/dvwusFiqLHnnsfjQa834K+/t6OvuBfn5qWkzP04bJCVpRAF79xGzMS/YO54CZLPQ+Gvn3Pnwh3MDnpITkpk0qRJPPPMM/Tv318V+W2M8+uLZ86cYceOHTidTh599FFmzZpFTIfexI6dxZM7Q0iyvsk6oPXO1vODjOCqIMUY5GS9bJZojsTU8RJMHQeeRxdRpJ3cx7bh+HkhhrQeGPQ9iL3qETzZ25QAIsuEhZ2gH1kQ1eNUtmoeZY2e9o3t+hI/9RkMKd2QfG5FNaN+WY3JhsYciaDRootuvmmi8P0ZdL30CopFEeepfVg91WgsSgo74CxRzEpphoge8FP0r/uR3FVI9c8OpSv+hsYUocwWbHF4z+4jYsAklQ8WNRgE9QAAIABJREFUKDyOqdNgglVFGNP7K41UKC3usi9Awi3z8RzfTsV3LzfZnsZiJ3byXylZ9gSWnqOI6DMeb+4hEESiJ9yvBFxzJI6fF6KLSsa5ZSmG5C6tkvdDdTUqhzHstyH8oYVTA+0k5KrCnb2F8m9eJHrcnCZpv+ZQ8N4MJI8TnVbD0xoDxvYZRI+7W62XVfy4APeRjaTc8wmi3kTZqnnEjL8Hf0UeNTtW4is5RemKfyDIMtW7VhE14jZ13f7yHAKOPCzdL6Nm17eKDZYcQjTbSZ/6CBWnDlGz+1uqfl2sHFdrDDW7vyGi/0RVT1PQ6Jr4Qpo7D6Hy5zfRWKJBhpCrUqGC1MOQ2l3lUDq+fxU0OhA1igN8l6FoLJFIzagRNWdFdfVVkyjI2v2nqEz/m3Ax8F0gDNrw+oQv/wjB6lKqt39F9a5VgOIGHqwqwj7yjiY1JlO7Plh6jCJ/45cUm0aQnZ2N0+mkuro67F+n04lWqyUyMpLU1FQ1GG7bto3UK2bj6zRGJShXrvsAX97hMNcBpeYlYGo/ADkUoPTLpxGNFuJv+AeThg3g+SvasWjRInbv3s3Eic2n7lqqL2ZmZvLRRx9RaErnpbXH8QdlJGhCVm7c2aqNTMDUYSCRQ6aFd7OeH2TMdvIL8kEQ0FiiSL3vs3Mr7DwUY2oP1aVBlmWqMj8m8tIbVfoBgKX7CMzdhkN1CXVFx0FvRvZ7FLJxhwxkUdOiVxsoChkNfmyNkTzr/Sbv2Yffor6WZZmz23+i15w3qba0CUu1uesH/0D5WdCdq4VqbLHIcuhcC79GC6EghuQuxE/7G2Ur/4Gl56gwB3nPmd9xHVpP7JTHsXQdRsmyJxCNViKH3kDN7tWENFo8J3aoDSfe3EN4cw+2+HsbQ9Aa8Bf/rghQyxKlXz4N1NMksjaqwbfBRzFlzscIWgMV379GQiNOJkDeG9djTOuOr/BYvYXTAkXntoU0ncYahW3g1chSiKpNn2LpOarVGq0gKH+Pvf4xlVFdWbPrCKXLn6N6+3KiRt6B5PfiObEd0WDBfXQTxjbK/WHpfhmBrcuwdB9R340bpPTLp6jZ+Q324beqQcKdlYmpw0A0JptCySk5RcqcDyn5/HFcfgmdPRFtVDK1+35C0JvQ6I1oopMp//afxFz5EFGj7sB1cJ3qC9nw4KYxWrD0GkvV5iVoY1IJVhYSf91zmDqE83cTb19A6VfP0OahcJcMUGySWsL5VlRfrlrNzdOaF0H/b6C5JqL/XwxzLwa+C4DbFyTH4UbfyDDAlbUBY/sBxE48V5OQgj6KP75XFa89H3FDriHv/bu4885PmvDwGiDLMnV1dU2C4u/79lGjj8FQf3MKWj2WrsNwZWWGBT5FS/EyBFFD7cFfCdaUk3LzS4h6E+uOliD8voIEu4Vjx45RUlLS4qxTp2sqPZWTk8PnO3OY/3N2WJqwscFna+LEjREWZGSJJLmSlMm3s/PLhRjb9aXu9N4mnYUNCFYWEKopx9zl0mbXXbjkEWSfi/T0dEqDRqKvm4csasMGbUQNVb8uxpufhSwFFffxgddg7T22SSpONNmI6DehWfNSWVJSVUGNgNOUrGh4NoI7KxP7iFtxbvsCgud6Bv2lZ9BGJhByOwFIuv1NHGsWEijPUU1lz4cv/wggU/nLe1Su/0B5+peVbSAIWHuNoXLdBwiiBmN6P2RJIWNXbfwXgtaALMtKWk2WIRREDgbUdWvMNmKvfoy6U3so//oFNBY7gsFMsLqcto8qHbuNSdgA5k6D0djOiakLooaIQdfiPrgeb84BRKOtSRdoazB3GYpz478IOgrQx6Yp9cxGEmiN3UR+iDAQFarkq6xCNBGxYZ6EnuO/IRos2C65BtfBX4joO+Fc44kUUihJKPWzyEtvpmz5M/jLzmBI6KA4gBzdTPS4Ocr5DfpBDlH08X3IPg9lX78Isow+sQOaiBik+pqubfB1lK34G8VLHkTyukAGa++xRI2agevgOoo+uhdBo0WWZQh4MXUajOStJeStDZuBg9IogyyR99pU4q55En1KV3x5WTi3LVO6R4MBSr98qkXpP21kPMakjiz5du3/lcDX2JAb/v80zL0Y+JpBYy8+UaPF5akj2uVErC6j6KN7lIs36Kvn581CDvoxpPUk8eaX0EanUrby78Q2ahmXpRB5r1xN+n2fcMONN/H888+zfHnzg5sgCJjNZsxmM8nJ51wTZI0BzXmDqqXXGEXu7PK5iDoDktdN3andJN76GqDIQJna91fTPxpRwBXfk8RADvn5+Rw+fLjZGWd1dTUGg0ENhoFAgLKyMtweDxgi0CW0J3LI9XhzDqhctsbInT+J5LsXo4s6t/+uQ7/i+PlNYq9+vEn7uwYJw+nN5Jk6kDj91WY7CxujNcFnQRAQRJGQJHH27FnaTn+RkEbXZNCu+PF19PHppMz9F4JWR6AsR6ESNEJDKs5XmE3pl88oGqD1mpbqeQn5kbxuNJ0HN0mxevOzCNZWYO4+gkBFHrWH1qmf6aJSFBKyJKFL6IDWnkDUmNmUfvEEnpM71UYgf+kZqneuJO7qxxWuHQJSwIeoMyLojJg6DsJzRKHcuLIyQZYp/+4VlWsq+9yKT6QUglCAvKObAfAVHKFy/SIMqd2U+l1DjQ9A1CL53Nj6X6kaLUNTH8Xm4D27H2u/CdT+/gO6mJQL6wKtR8P5DPncuE7uJo4a2vcfRlDQYdRIJBhC9Iv04So5QkVZKfM//Y6oKx7A38iTsGE/Ld1HYOk+QrF2qipSG0/qTu1G9tdRtmoe0ePm4j27DzQ6vKd/x5DQAW/OQeRg4FzTiSzV39v/VPdTVVqxRiP5PESNnY2pXV9Fw9QShS42DXfWRmKuuE/9TvQV9xHRa4xSp8vPUrqW3U409ee5MUSDmeixd1O57v1zXE1BIPaqRxFNNhw/vIa135X12m/NQ7BGU1TatIv3P0XTxrpw/P9imHsx8LWAH374gbFjxzLj499Y+dbf8RzbhrXHSNo8sipsOX9ZDiWfP6ra5Jg7XkJtdRnOrZ8rg6qoUXUph7SPZulDF66E3xiBkIRWksNOmDG1OxqLnboTO7D0GIn72Fa0UcnoExRpI6muFn0j9+ugLBLXsS9/v+GOVrclyzJut5vq6moWLlzIhx9+yH333ccefS+Ou43UndlH3cld9XqCFwZX1ob6es+GsMCnE2SubgtXjr+Ddw6H+L3Y12xnYUTfK9Tv/JHgs4yiQSpqdYTiuyCIYpNB2198kugxs9T0a4PVVHMwpHRDF9sGf3luWOCTAl6qNnwMUhCtPRHxvOPhPpyJqX0GGqMVS4/LqN33I2Ur/6EM/oKANjqFYGURwapi8hfejKnDJWisMcihIP6i41SVnkEX15aI/lfi3Po5oepSBIOZ1Hs/Q9BoKf7kL0juKrRRSQSry5R6clpPApWFVG9bhjf3MIIlirT7lyIHA5R8/hii0aJwAPuMx9JjFNW7vsZfeoY2D69EDgao2vQpQWcxsiMXY3Jn3Ec2EqjIRxud3MRHsclxl0IEynKIGj2Tmh0r1QeJC+kCBQjWOpTza4zAkNyVUMVxCjI/R6jMIxQKcdTrZXlZGbW1tciyTPWRrVQf3xXGmQxWl+HNPUzU6LvQWKIwtuuD+/AGosfdTeykh3Bujad6+wrqTu+l8OxsDCndiBx6vVLHHHq9kjHpftm5AC2IzdbVQKnRNXbIsA+/heJP/qIqrDQH0WjB3GkQgYpcnJs/U6TfmoE2Mh7RZCX13iVU7/mO6s1L8BzfrtwHgoCla/PZDnXfah0I6e1aXebP4k811v0P7zK9qG/TCipcPn7LqcHc5dJmBWIln4fyb1/CNmhqGHfL2L4/gqjFfWRT2PL/yclvSfS3wR4FwJ21EWuvMepnoilCuTkb4XR+EadOncLv99MSBEHAarVitVp57733WLx4MQ89+Ry5wUgEjQ5zp0FEjZ5xwfserC7Dl5dF9BX3UXdmX/2AKKORQ7Sr2septZ8wb948Du0NF5TWxaRh6TWGQEVu2Pva6FRV8Lk5yJJEMBgkiAa/o0DpEM3eiqXHORV9Q3IXKte9j/voZkVEvAXIsoy34CiBijz1gUKWJKSAF+fWLxANZkSTDV1CeOCUAj7cx7dhaeAIpnRDa08kauQdtHl4JW0eWkHKXe8pkmOyhCBqqDu5A9FkJXnmu6pUVqCykMr1i5QGC40OUW9SqBAaLaIpAnO3YVi6j1QHakGjVQjOVz+OYDAj++sAcB3JJFRbQdy1zygpXFFE1BsxtemldjQKWh1Ro+7AX56Lv86NLKMo32RtwJtzoFkfxbBjFfCitSfgLzoByASrisl780YKP7hL7QJtDZ4TOxDNdrQxKQiiiDe2C5X9buMUSRw+fJiTJ09SW1uLwaCkbW1Dr6fNQ8tJvecTYsbfg6gz4D6yEV1smnquLN1H4j66WVFRqoel+3Cixs5CF51M4s0vYRt4DSGXA2/uIaVG2sg2S9DqCTgKwuzDkCUkfx2hmoowNwpdVDKWbsOp3ftDi78xVFeL68hGavZ8j6A3EyhvOq6cD3OnQcihIN6c/fhLz7Q8GNSjwYoqvcd/Zm3Wrl07TCYTVqsVW6SdObdeT62jVP3cV3Sc0hV/I2/BDeS/eSPFSx7CdWg9oNQic+dPouCnd3nx52McKlBS+sOGDePTTz/9j/brv4GLM75WsOr3AqSAF3f2VgzJXZp87vjpTbRR54SAGyAIAvYRt1L162Is3S9Dq1GeL7olNe1+u1C0lNWw9hxD9W9f4SvMxld0PEyVw9iuL84tS5H8XnVmc+roIca8PZeSkhLi4uJIS0tT/1JTU0lLSyMlJYX4+Hi2bNmC1+ulZ8+evL92v5Li/TfQ4H9n6Xop1b+lUXd0EyOunMqV7Qy0sQ5BlgcjSRJf7s7hp83fYOyq6EgGa8rVBoHwYxEu+GzucimC3oivIFu58aSg0v3ZZRie7C1I7qbmt7HXPEnNzlVUb19OwFGALq4tMRPux5DUWV0mf+HNCIBojcI+8nalISfox1eYDQhEjZiuzI6zt1K1fhGVPy1Q7IxEDZrIeGSfB8eat6lYPR/RYkfyunFnZRKoyMWdvZW0BxUqQtzUZ/Bkb8FXdAKtNYayFX8j5K4iatxsIvqMp+7M75St/Afx0/6G46cFLR/oUDAsnWtM6Yb72DZASXsb0/uHNRg1B0GjI2LAVTg3fQKiGEbCbs5HsTHkgBdDfd058tKblGAZ2wb78OlhXaBNdttdhfvYNqp/+5LoMbNUfp0gigiikeixd9GvX1/evO86fvnlFxYsWIAoigwe0I9j563LlZVJqKac/LenK29IElJdDY6172AfrrwnBbxh15WoN2LucikVP72pdGc3qkUKWj36hPaqfZghOomgs5RgZSHW/hOpO0+NJfLSm3Cd55sHULn2HarWva90B8enEz3mLmp+/wHJ23Q2GXDk487eqmaKBFGDLrYNkr8O57YvkP0eKn5cQPTlc8K+JwW8+ItPUrXhIwzJnbli4oRWztaF4fzMV+X6RcRPfUZJ/3/1LJGX3kjspIcRTTb8paep2bkKa2+le1vQGXFnZVI76Nr/cYa5FwNfC5gyZQoBWcBf50FjsRN/fXjnWs2ub/CVnCLpzoXNtgybOw2ievtyXAfXYU5RbqRLLrkEjUaDLMtIkqQ0GzR63dx7Da8DghZjsOksrYFGUf7dq5jS+4Yp3Ft7jMa1fy3l375E9NhZaCJiqTi+F1d5OQaDAa/Xy/Hjxzl69CiSJBEKhQiFQgSDQSRJQhRFJEli8ODBWMfdi65T0/RKg2xXa2jwvwOI6NCful0rqAqd5gtRoRiI9f+6QwJ1hbU4dys6kqLBgqnjJUSNmlGv+nLuODcWfK5cvwhBq0cX2wZbxlW4szZgbJ9B5OCplH75VLODtsZoJWrkHUSNvIOQp5qqzH9R/vULpNTzo+CcAkzQVYX37H5qfvsCURCxDr0BQaNXBuaGhWWZ2GuexNS2D3LQT+GHc9HY4ki85RUKP7ybmCsfxPHTQvylp/GXKpSNwvdmIAW8IEvU5RxQtBsbMguyTOW69xH1JmVmK4phhOvCRbMI1dXSWMa8bOXfw68Ne6Kq2Sl5atA3GtBDNeWKq329obLr0K/U7PmWYFWJkn6TgnhzDqqZDE/2VupO7aFy/SIAfPUqPEC9ZdLTgIz7oOJCXr1TKQkEqoqJHn9PfbpQoODt29QZZt4b1yMI9ROYoA9Bq6cy82Nch9bVWyQp5q6+wuNs/XI+GZ++jEYjqo1XsSYRIRREFrX1y2UTrCom6c63VPoHQMUv7ypi0mf3EfJUK3XHnqOJGnUua2HtORr34V+JGHlH2DFMvedfyEF/mH2YNTqeyGE3YRs0FeHyueHH3BanNgM1QGOLDyPBN6Bq06eIxoh6t4VzaviC3kTAkYfkqVFF0BvfB+XfvYIvP0ttgqpc94FqS6W1J2Hpeim2S65B/C9RGRpnvirrvR6rNn6CpdeYMJqKIbFj2IO3ktYdgnPbl2yMSfofZZh7MfC1gNWrV/NFYSQbjhZTd3IXpV88QfJd76OxRilk2G1fkHDzP9V6U3Owj7gVx89vMnre56wCvv/+e9q0aaMO9I0H/ebea/y6U+cuyPrma2rWnmNw/PwmllF3hL0vaHUk3PgCzm3LKP3qWSSvi7apSUyfM4enn36amJiW01Z1dXUsXbqUuXPn8vzzz/NFYSQlzSzXINvVGLnzJ6mvvQVHCTpLsXQbAcDY6+5g5a7VLFiwgL59lYHA5/PhcDioqKjg778Wsr88xHlMPCR/HeJ5x7pB8LkBBe/NoOK7l7HaIrFmTEIXlYQ2MgHPsW14srdiSFF4mP7SMzjWvaeolggC2qgkTB0vIZRViefULirXvhu2He/Z/Th+egNr3wnYxsxE1DWdNUl11ZSvPEc9QBDQRMSijYzDmNKVYHkegkaHLr49QWcJ5i5D8eYcQPa5KVv+N0BGG52CqfNQ/IXZhNxV2AZdi6XbCIK1DjzHtiGFgsgBH0Uf36fIkwE1u1ejT+yIYLQiB3wkz/kYXb1NTuW6D6jd9yOyFEI02aj9/Udch34lZc5HiHoj9uHTqdzwEbV7v6dq06fETnoIQ5veSC4HhR/dg+fEduzDb1Z5gwnX/wMp6Cf/tWupXP9BmKKOoNNjSOlOzJUPKTO4Ixup3fcjkl+Z9dad3kv81Gcwtu1DqNaBY917SJ4aEm99hertK84JfkshnFuXUb56vkrSBtBYo7n+5ZV8Pucy1qxZwzXXXMPKt/5B4txP1DKb6/AGzJ0GhwlIANiHTKNk2eOk3reU2r3fE3QWhzWegKL9eb4yjPrbzrMPm3tZR278cCd1gaaekhcKX/EJQrUODKnd8RWfIFitpBAb+IkN2RV9fDqWnqOx9r0CQRCp2vwZSCHMXYYSKM8l8Zb5lH39AtqIGKIvn6s0ka15i+odK5m7EJ5PSuDpJx5n7ty5re1Oqzg/89XY7eOPEDn0BgoXzybguJ5V+wr+7X34b+Ni4GsFNqMWQdRg7jIUx9p38BYcUYjX371M1OgZf9iebUrvh9aeRMkehcSamJgY1qn5Z5Cfl8vspXtZn13aJMVv7T22RdKvaLQQPXY2MeNmN+v51+K+m0zccMMNPPzwwyQnJ9Mvuh1rjpT+8RfPg/vwBgCKPlE6MwulILIsc8UVV2A2m3G4/YgdhmJN7YzeGolObwB7OxDO8bhkKYTn+G8YEls/3oIAbdqlU1xahlz/fdugqVRWlxJqVKOp+OE19EmdiL/uWfTJXfEXHsPx80K0UUlo9GYkTzUAIU8NosGMvzwHfWInfIXZ5L9+HSlzPsa57QvFd1DtUhTQ2hNImfMR/oo8ij+6R62vGdJ64s0/gixJBMpzFCpK98uQ6mrxSSEkdxUaa4xiS9OM3Ja1x2icmR/j3PY5ks+NpddYdPHp1J3cRdCRr6i41KN661IlgMgSdbnnpOSM7frgOf4bgkarqoyA4pqOLBE97m71IUK0Jyo2QW4n7qyNaIxW5PqHjgZ+neSuUtOqciiIHPATMWAS2ohotBHRGBI7QCiA6+gW3FmZxF71qLp+rT2BuClPUPjBXYoqTONzWN8FWrNjBSFP9bmZmwC78t2kduhKZXEeiYmJPPfcc+zUpbDheLnSTHFmH5LHSd7r52YhybMXoU9oT+TgaZR89rCipmKKpOKnN7FfepPqpec5tZvq374kUJGHoNFjbN+fqJF3om1E1zBqNaq+7tMTu15wo4f622QJ2e/Fk5+llEF6jEQf3w5Lt+FU/PgG5i4KZzb68nuo3rUKa5/x6KKScax9B1dWJnFTnkQbEYu/5BSuo1uw9Z+IO3sL/tLTxE5+RN1Og5mwIEB/cxWPPTaXwYMH06/fn1PFgeYzXwpdQ7og/0SNNYqIfhMo3biUY5e1Ls/2/xIXA18r6JpoQ68pxpm9A8nrQheTRvl3r2Js2ydMxaI12C+7jT2rX/yv7M+9Izuy9WTFv/Wk2XDT/hlERERwxz0PceuM2dguvwdDu74Iog5vzgG8eYdUTdCWIAf9uI9tI/qK+zB3GIgU9FGz6xtc+3+mtLyCtOufJbpNX0RRIISGEIr9oVaABpqg5HVT8N4d6BM7Ejvp4Ra3ZdKJ2E06brrlFua/9KLqgeDLO0RE3yvCOhHNXYYiGiyKC4SrStEOTe5C1KgZYZQGT/YWrP0m4D78K/ZLb6Tm95/CttngOwjKk3rI7VTShz4PAIJeCZrGtJ7U7v1BoTto9QgaHYaUrlT88Dqp9y8l/41paGxx4esedK3K69JYItFGJhAoOoHtkmuR/B5FPi0UJORxYkzrSc2e1WjticRMfJD8t29D8jjVNGfZqnlEj70bBBHRGEH1jhW4T+8lUHYGAkrw0sakhm+/30Sqd6zAsfYdBJ1BVSRBlrANvg7XwXXEXvVXBFGDN/cQmojoJp6Ips5Dqd33EwiiOqg3QNSbMLUfQF3OgTBFHDkUUEj/Jtu5bdYjEPATM/BKlt49idGjRyMIAn3OlLHhaBGISvqzOReVslXzCNU6iL3qUfQJHZD9XtxHNlKXe5AI++WqClD0+Hswdx6K7PNQtXkJJZ8/RtKMt9AYrZh0Ik9P7KqKyk8f3I5QKMSLPx/DH5LCujubQIDyVfPQ63QEJBltTBq2gVOw9lNqcKb2A4i67Hbleqwpp2rzZ9gyJmMbeLUioB2ow/H9axS+e7uyHb0JOeDF3G0EJUsfJXbSQ2EOD+qxlCHLF0OnLl3Jzs7+04FPlmVefvllvnemcKxGVDNfSTPfBUEk5KpCF5P2h+uxDb6Owg9mcfbEkT+1/f+buBj4WsDkyZMRNRo8bmUQQ6OldNnjSF4XPo0e9/HfFBfkBodmjY74a58ClGJ97vzJSru/IJxb5j9En7R/70nTpBN5akJX2tu15OTkUF5eTkVFxR/+eVMHYh81A8uIO3H+tpzA968h6E0YEjtiG3KDwoFqBZ4TOxC1eqw9RyNotJi1Igc3f81Ha/fw9O1X4g2EMItazg/jKjdelhENZto8vLLFbTS2d3rmMy2eyPboIhPQWmPUbs6GFnw5FARBxNp7XBjpvzEaAl/k8Om4j2zEntIejVZLwFmCtVfrHLYGZ4ZAVRFFi2YjeZzU7vuZ6DF3IQXqQJYR9CbFDUFvQmuLVUjXsqw+Pdfs+gakEP7iEzg3LSHtL18AIPm9ANTlHCBQdhbB9BsEA6oRreyvI1CeQ94b0yAUwNTxEmxDplG69FF8hcco+mguSBKhuhrkgJdAYbbS7GOEkMtB2bInSLxzITp7Iq7DG3AdycTSYyRBZwm6uHRq936nBPV6C6a4a55sVV0FQGtVgoRotDa7rMYaXV+7TWli8XT++kO1lRS8cxulGoGp6z5h8eLFTJw4kafuvoXY2J6Up41odh/qcg7gzTlA8uxFaOsfLgSjhYgBSjpeVQEaegPWhq5fnYGYiQ9Q/PF91O5eTdKY23l6Ylem9Ixl9erVrFixgu3bt1NQUIA2oQOxw29G17YvGo1IUG4khVdPuL/rnZ/UmWKLWZs+l2Ptc3kTUWwAa/eRODctIXLwNCL6Kw/cpcufpeSzRzB1yGjCLW0Mb9EJ8o8fJyOj+UxPMBgkJyeH48ePN/krLS3ljTfewD7hLwgRHdTMl68wG0NKVzzHf2vxPmoMjcmGLeMqDn+3mKTWe6v+n+Fi4GsGOTk56uuIuGQsY+/F2K4vwdoKypY/h6njJXiyt2LtPxFbxlWAIiqLLGMffgve3EMEHAWk3rtEUWI5tZOKb+fj8Xj+431roES88HM2voBEq32W9Sryrp0rmfXKN8zVaomNjW32r1+/fmH/31wk8/a2ArwBCWuv0Vh7Ne3oM6Z2a3azDbUSf/FJNLY48t+8AUFnJDYxlb96b2CncQBpf/lSbYduXGuL6DcRa+9x9Q0TT2HqPIT4a59W1+0vPUPxJw9gSOtJ0k0vkiQ7GBXjx14RJBAIsCf7DOb6Fnxjm/Buzj+TojGkdMWdlUnJug+56oEXWf3WMyROf7XVwNcAoSFNq9HjObaV6HF3o4ttS6DsDLLXpcxsPdUYUntQd3o3ctCHr/AYkrsKa/9JBMpzMKR2w196hrwFNwCyOouMyLiK6i2fkXzXexR+OIdgVRE1u75W9rlNL+xDb6T0q2eIyLhKSWMCtkum4DqcCfVpZkNqd3wFR0i6cyHO7ctx7f0eXXIXqrcuI3byI/iLT2BK74/kdSkzL71RlflqsGDyl5xqddCT/F6cmz6rP+61yMGA6ifXACXtqHQ6n2/xdP76NRHRpN67hDFd4/n49oFkZWXRsWNHKioqCIV+xdr3OCA3afX35hxAn9RZDXrnQ1UB6jrsvHMoYu5yKcGc30k6auCRRWu4vaICgNTUVIYOHcq0adMY93/YO+/wJu7s639mRl2yZLnuvFbYAAAgAElEQVQ3TO81QCgpEDpJSLJAQgrpfUnb1N1f2u5mN41sKqkkpEAKSQik0BJ67733YmxcZMlWsfrM+8fIg4VtSpJ3N39wnscPWBrNjKTx3O+999xzhgwhJSWFSn+YaRuPsfu4D28oit2kp11uCld3T5bv+rVVG8mWlsQANRZ0JHRoU9KITi3CxbvV60aOo0RDdB12LWlpaaxcubJecDt48CDZ2dm0bduWtm3b0rlzZ66++mratm1Lv379+OCDD9ivb85r8/YkVb5SL7mN8q+fQXJkYesyBMlsTxJbOBmZF4zm+MS7qJL+GNqh5wLfaZBi0iGJ6pelqyONFKsuI6XrMG2Ox5SYuzoZgiBgad0X0WRlzcYtdOhQf7toNIrb7cblcp1xNkZaIWkXXYdY0AUBUOrME+mQQRDokqnjhm7Z9HloPOnpk07rrl6rWCOIEhFBj6lFT8JF2zVZLSUWUb3eEitxR99rqF7zHbm3vJ5Urir76klQIOI6StrQezE3747FauOOdvDvl8aTOrwzkbL9p6VDixYH4eJdSULI/u0L0CWOJYkirS1xPAe28M+pH1FSUkJgz35snQc1SMEXTbYzL9HIcUSjlWDpPn6Z9wv69Cb1Zti8a6bj26AGeSVcg3f1NMzNuqEkliNKOIA+rw2hw5vVXqCiaA4fgZ1LMRZ0oHLOBICkeTA5XIN37fekXjyWjBGP4N0wi8C2ecS9FXhXf4shry1lU5+GeAzR6iSlxxVUr/iKSPEebXwBIFp+WP3XXYIpvx2hou3IvkocIx7BZ7RQvepblfkpCOhTswnuXQ2AIa8d7nnvgxwnpedVSWMsksVB+vD7OP7ZI1g6XtKgeo4Sj+FZOIma/Ws0klZ43beY+p4wCJYjIYIHN5Da/2biXtcZ7//H76Yi3Nor6bGUlBTyCwrYd3A9FdOfT3JRkSz2Uy504jXqeEVD70OyOfFXlVO6cy2jR4/muuuuo2/fvg3K+aXbjNzTr3ERhFr82qpNXVuvqLtYNehNWFmZbn0jSRGntscHagVj19fPkp+fT9euXWnbti1t2rTh+uuvp23btrRu3RqLxdLgMeFE5SsYldHZM0kf8TCGzKYAZF//PFXLv6R65dcIgojOmUdK98sb3I+sM/Hoo4/x3LNPNfj8fxvnAt9pYJBEOhY42IE6GForjRR1H8P106vYug7FmN9OtRhpAIoiE9y7mngowJTF21i64Jd6Qczv95OWltZgJta0aVN69OhR73GbzYYgCGe80jxT/PTTT3xzPJU5a3dQNvVZLO0uwpmgeJ+sKVj7/ipnv0n22JcRBAHfll+IeV3EfC4yRjyKtd2Fif5Ie5buc5F2xWMoypnRoQVJh7nl+dTsXEpKjxEqyWX3cmxdhxM6soUYAku86cR2efDv24cgCBTkZuJ3ZKFzZBM8sD5Jz1DUGc+4RBNxF9MqTc++Sj2Rkj3Y6ijH1MLeexTOfjep/b1wgNDhzQlGq7pQSrvsIXzrvqf823+eKHcnZrM88ydiLOyEEvaDzkBKt2FULZ1C3F9JtPwg+oxC7bMJbPk5sfgQiLmL0ac3IeatQJdeiKBTySr6tHx1bmrbfFW2rNY3DgjuXYlz8D0JwWq1rFpXZUSyZxHYuRQlEkSJxzAVdFAd0KtK8a6bAQro6/QA9elNMDc/D+/q70gbfFfSZyLHY/hWT8O/eQ4AVquV22+/nXfe/5C09BaYW/bUWJ26lAxsHQdSveqbpH00tn8lFiVcdhhQnUseeeQRLr/8ciavOsysEgMs/aGeEbBn8adE3SWNfs+SRV1QNaQCFPd7SMspYOfObY2+/tcINd/Ypxl7tqzj1X//nVDFEc0myVnnvdZWPFIvuRVT0y4aAzRaVUrJxHuwX3AtqRePpXTK41Svnkbqhdc1eCzJ6uT8oaOo2jSXtWvXNrhNYzh8+LDmECMJEHUV4Z4zQWM9pw2/D2NuGyRzSj1md/XKqdi6nvibUYDRt42jS4e2PPjgg9x8882IDRC5/ls4F/jOAPPefJwYYpI0kq3bpXhXf4tn4SRiVWUYCzqQftmDWuYT97k5+vq1CIKAZM8kY8Qj6PI70q9Z63pBzOFw/OqL4ExXmmeK6mCEJXsrkGzJwr+NwdF3DDV7VuHfOAtLuwupWvwpjr7XqIGtbR/MerX/NrxTLv+atQtFUQdtw8d2Ei7ZmxBYFjFkNEmibddCicdwz3sfQ25r5KA34ZOnED62k6i7GH1aPlKPazCVHaC6eh0Hln5PVtN+pF/2kFqqM5i0QWDgjEs04aKd7NyzE0mSiJXux9ImmZxxMrKu+zfmZt3UIfXdy3HPnUDo6FZybvoPx96+CUNOKyLH96FE1V4dgiopp89rS6ziCNaOA6haOoWYT81+pITreKhoB/GAG2NBJwRRIHRkK+Hje9XSu9cFkh65pgrbecPxrpkBsSigkHbZg/g3zEJyZBKvKsU95y3tXKOeUiytztdURvSZTdEVdiKwfRFFr49BMFiwtOlD9g0vIupNVPz4CsE9Kwke3KD1k+y91RnJWuHuuM+tsikVBeQYFpsdCrtjbNGdr0qs2DoPomrpZFw/jtf2n3rl4/XKn7U4ef/qh6IjsGUuOp0OWZYZP348r771Lo5rnkefno8c9FL+9bOalJ7Onok+symRkj3EvK4khmZtYHH0vwUpJYOa3cuTFmGKIlOzZwVtLx7a4Pn9WqFmn8/Hhg0beO2RW7lw6BUcavEsEfSEi3cmZf2qpZMN38ZZ+DfP1RigVSu+AtRqiyCIpF/2EKWT1QVmQ1UMfcRP5a5VdOnYuJfkqeD3+7X327NzW9IuTe4/Vi37osHXWTsPpnrFV6QmDKMVBd5dvJ/SaVO48cYb/6dBD84FvjPCwAdfYbfULOkxUW8kLTG8GvNWUDn3bVwzXyP3ZtU6p7YnURdNWmRx2y1/HEpvQ1i61wVkJmW3p4IgSmRc9hBlU5+iZt9qrB0vQbSkIlnsDO+UpzX1W3bqzuH9e1HiUbISVjtpw+8jpcsQTbjXPX8i4ZK9J1y4FVQvO0HAm7A5snYaiBKLINkztExT1Btoe8EwKvdtIr11d1UdIxE4ToapoP0ZlWia6P0c0uuJRqNYO/U/pSBwXYgm64mh7+0LcfQeRfb1LyCabFSvmEpgz3JEvVnNYKOqC7e/4ohWRo0eVwfDQ/vX4Zr5OqAgmlKQwwF1uF0Qkf1uahKC1bq0fLJvfAVTQXti7hJqdi0FwDPvA2ydBuG4eCxFr45GMNoABSUaomrZFCytzk9SGYkHqrQ+3snIGvl/HP/0L0TraJUa89pS+KjaW5SsqTT9208oskzo6DbkcABLy54oiqLpl7p/+QAlFib/gS+QjGrJ3bflZwLbF5Ez9iX161YUSt6/E0FnIO+u95L2nzXmOcq/fhY5HARRJBKJ0KtXL7aWhfEs/pis0c8AYGl/MZlXPq7aCVUcxrPoE5B0lH/3L9IvfQBDVnOUaBjPkskIOhM1OxbhHHg7lXMmqK2MNn01VqcSCTLmtnvqfR5nLNS8o4wFO47TNriT0LZf2LNnD263m4KCAqLRKN06deBgzIqImDQTWf7tPyEeBZ0BQn7svUaResktxLwVVK+ZDpwojRsyCrH3GknlnAlkj1U9GMPFu7WRDlFv5MrLhjJhwoRGrtgzQ77z1G2Sk2FpcwHuX94jdGwXpoL2KMD8TQc4Ons2zz//+7DcfwvOBb4zgMUgUY96WAc6eyYp3S/H9eMrp9yP3dTw6vaPhPeeurdedns6GHJaYusylMCuJWSOfprw0e3IQR9vX9cNnU69xK54ZhLfby7h2Du3aFlPrfhvrXCvZE2ldPJj2Hv9CVCp7XLIh7l1X2r2rEQ0Wki/7CECO5egs2chh2u0THP5l2+Sec2/0OW3rUctr2ubBOpNu67PXV2Ym3bBkOJk/86tfPvtt1x99dUEti+iZu9KlIS0rX/nIkDBu/o7vKungRzX3A0EvUkLYoLVyfFJ92Nu2ZOsa/6hHUMOB5BrvNTsW5W4EYc0xwn0RohFEIwWdbDZcxzkGHK4BiQJUTQihwMY8zsQrTqOHPRiyGoOgK7WDUOU1Lm5Zt20/pwSDpB7x9tUr5xKze4VeNf/iK3zYAoemIJ37Qx8G2aSe8tr6vvbOh/R4sDUpCOCwUTo4EZVq7QB2b4kyHGV8CTqklVttOdl/Bt+0mYIT0a4aDvxmmoUOU74+N4k+biKac9h634Zkcpj9Lzmz6QfX8eSVeuwDboX98L6wu+CzoAxtw1Zo5+h+IO7kawOXN+/TDzgRjSlqJJwA+/Es3ASutRcMkY8SvXKr6mcOwFB0mNq3p0mt/yHWwd0TtrvWQk1AzFE9pg70H9wFldcUY3L5WLHjh0cPHiQtz74BMfFUYyFnTT7rYJxH+PfvpCqRZ+Qf9+nask6HkUQJXT2TPJvf5vi9+9IOk7qRTfARWr/tO5MryBwVrO7p8K0DWc3fF4rAxfYvkAjwfl2LiG3RVs6/srs8/fEucB3BmjitLCjStTKGfGQH9+6H7B2GoAuNQc56MO/dV6Dep61MOlE2uU2rvLyR0FD2e2ZQJ9RiM6Rjag3Ycxvh6jT8/3333P11erK0xs6IRIs6Iwg6Qkf2wG96zhQ57VFsmcQLtqJPr0AJRbG3KoXqRffRHDvSvQZTZNUU5IyzQ4DMDVNvkn9GsixMPmtO3Fk0zJuukk1J1UUmYwRj2Is7Ey4aAfu+RMxFXam6RPf45r5OjV7V5E56sl682MlHz9INOAhXLyH0LGd6ntPEFx8m2YBAkFfJRgslHw0DgCd1YlkcxIPqPOFyOoIhqV1b0SLQw0eW+cRLt4JphQI+aic+3aCjbkn8WWYqZj2XCIbUQNf6sDbEESRSOkBrF2GULNnJVVLJoMgYGrSkZwbX9bK9KLRgnfVN1T+dBRFkdE5skgbOk6dHWwESjyKAog6Q6Pb2HuPwrvmuySn8rrwb1ugOjnEIgS2LdACX7ymWiOT+TbM4rBPYPPyNWT2upyqXcu1vztL2wuT/AFr34u5+Xko8Rj596pyW7WBJaX7ZYQObSSwfSFpQ+7B0qaP9jpBgIoP76Lgw3sQRRFRFMlu0ozoJQ8hOHJVh/eEgIEg6TDktFLZu4lyY9WyLzQ1mhgiC9yplJWtY9aU93j11VcZO3YsT7/5KfvnvZdkvyVZnQS2LcDS/uKzsnRqCL9mdrcx7C71nk4bux5snQYm5BLvQdDpqdqygAuG/el3OZ/finOB7wzQr00Gc+v0hQVRR6y6jLKvnkYOehEMJkyFXUi7vH5ZpBYKcHX3gkaf/6PgdNntmUA02bB0Gcq1N95Cxjs/kNG8PUJaEyLuKpTEPJpotBE6tInqNd8l9dqUSAg55EOOR1CiYawd+qNPz8fcqneSADPUzzR/K5RoGN/ST6netAxZlrXxE1EU8W2ag7l1nwYz08ZQOxNo7zNanSOMhFBiEfSZTTG37IW100CCB9cT2PILUY9KwNClF+DoO4ayL/8GsgwIGBLi2DVb52Fq0hFHvxupXjoFU05Lop7j1OxeztG9KyEWQbSlUXDfpwiCSKTiMFWLPyN4YB1VSz/Ht34m1vYXk9rvplPeRC1tL8DS9gItW2xIixbUof304fdjLOwECIh1+nXRqlJK3r8L23mXkj5MDeqG3NYYcttSNOEmsq/7t7ZtzFtByUf3gRIn809/Q45GcP/8Ds5BdyJIekSzHZ0zF9dPr6JEw5TPeAkUmeKFnyNZnfV0dE+GlJKemBdUcSaBRYjHCPuqkASw2+20bt2aXW6ZwPyPtLJqrYCBHA3j/vldKme/Rc5NDVd9BL2BgqG3w5T3uOSSS9Dr9bS+8s+ELvpzkv2Wc8BthI5uI/WSW4Azt3Q6GTqRpIH7xqAoCj6fD4/Hg9vtxu12N/j/tabup9xPQzAWdkYwWqnZvwZDVnMiZQfJ6HpqofP/Fs4FvtOgdqbv56oTg6eiwXRKFRFT0y5J/T1BUF2jfw3L8r+Nk7PbX4vMIXdjyG1N1fofqVj+LYLeiC41h9QBt2EsaI+g0+O48HaCB9Yl9dqURE8rXLQTEDQne3uvkZRNfRrf5rlUr/qWuLecorfGqoaskh5BZzztKrxWx1DQGVQ/PEc2qf1vxtKyJ0adxH39WjDmsYkEAgGOHDnCmDFjcLvd5ObmEq7D6qybmTaG8PG9yInAl9L9cnzrflAFknVGJItDPb+MJhgymiAaLXgWfYoS8hE6vFnta9Yh5ERL96nlW0Uhc9TTiAaTqkaz5DNCx3aBEkefmoeUmoNktGjkIENmM7Ku+btqDHzH20nGwGcCJR4hfGx3wqxWSfIblKNhQCFUvBNECVNhcrYdSJAzanYtJW3QCbaic+BtlH72CK5Zb+BILBwq576NMb+dOrvXvDvIMpVz3iK4fx2WthcgCALZ17+Id/W3BA9uAEUhJb8llvNGIOstmo4uQNR1lOOfPULUdQRBb0LnUCXJJHtW4vpYDHKccPFu1bGiRQ/kWEQLLP6t8/Fv+Zlhtz+Gx2xkxIgRSJLEzoNFCG37El30Sb3PSdQbsba/iIrvX2r8s1Rg7la1XNivXz+aNm2KeOHtkN5Os9/yb56rSrgpMqWfJd9fPAs+wtKmL7EadbTo2Nu3oMTCSLZ0rO0vxt57NKLBxJGXRiTIPQL3vWvmo65d6NevH1VVVQ0GNY/Hg9FoJC0tDafTSVpamvZT+3vLli1xVWVztrorgiBg6zhAdSTJao65ZU82lMe45/P1/3N39nOB7wzx35YL+1+hX5sM5qw5/XanQ1wBW8cBJ9QwGoA+vQB7jxOC1uHjeyn97FGMBR2oWTgJRIlj796mPqkAsjofln7ZQ5ibd0cwmKle/hW+jTNVFR1OvwqvnXFSFBnfpjm4fhhP/tgXMRav4rXP1/BYSQlWq1X7w6+srCSU3hpr695JmU/dgWIlUkPFd/9OzI8pGHJaEa8ux9y6D8F9qxF0BsxtL8C/cRa2869E9iY7Y5uadEIJqey59BEPY2vfj5r9a6iY9i/Qm8gc9RSVcycgGiyarZBkTiF9+P0o0TBKPEbmn/5K1Yqp9Vi4mg+dcGqVlZMhR0J4Fk7Cv3kOotmOtfNgDJnNEka2ASIVh4n7XPjW/0Rq3zH1NEYD2xeS2u8mqpZ/Sc3+ExeUIbMZ5jZ9CRftoGb/WnVMQ44h2bO0LAxRUoPQ9oWa1JnOnkHa0D9Ts38dqf1vxrd2BsEVX5N/z4eajm7UdYRoZRHplz+sXR/h4l2Uf/U0lg79iJYdwpjfgXDRNjCYiPndqneeHMO3dV5SRrX1cCnhcJhQKMTQoUNJ65vD7nfebLCdIUdCBHYuRZfaMKFKe+8GtQz83XffsX37diKFvfl0q4+Au0yzSfJvX4hgsJB26QOYm3QC0CydIu4SKqa/AED29S+gd+YQ87rwrvueqKcYY8ITMvf2CehTc7AUr2fd9P9gtVoZMmQIPXv2rBfgnE6ndl6nvB6WHGBmI/wuRVFOqsYIGlvX2nkQ1R9OI1K6n7Qh9yIrfwx39nOB7wzxW+TCzqTkcDr8mnmhs8UPyzbzzuL9xOSGxahr2XcN4VRC2aeDHK4hVEe4VzTbCB3ZQtaYf2DIbK5tUzJpHJLZjrWOyobOkYU+vaAeLf50q3BBELF1HoTnl/eIRCNUd72OYEorpOg0/OUHkWVZJeaIElVHd+N+/VpEgxl9dgscfccQdRVRo8iIJjsI4okxBSB8ZCsAsSrVz+Lo+Ku05/wbZmFp3YvqFV9h7TQAvTNPHcmwOYn73eoQeTRC5ew31FJBNIQxvz1KLErUd4zQka2YmnZRhYs3z9X2W/zBAXT2TOIn+bvFqstAEAmXHUSXkl7P3uhkKLKMEo9oQQ9ADnrxrZ3e4Pbm5uepGqR1HgsVbSfmc6nBxnVUnfsSVNWd8qnPgE4PsQjxxOhG+pVPUPnjK4SP7aBmzwr1PCIhlGgI15y3SB/+QPKiw5pKVqcLObb4SwK7lyOH/EgpGUTKDmJu0wdru4tQYlEiZQeoXvYFutRsUroOx/3Le0QqDuO48HpNa1eOBCmd/AihA+tPeAUKAmJ+Z0RJx4wZM5g+fTqyotQrq9YKGCjhGiRHFlmnKbdH4mrp+MMPP2TdunWUlZcTiSua7ZC1wyX4ty9CNDuQzCna4L2ldW/0zjw8895HNJiQgeOTxiXt+2QtVASReLM+DB46nCb5ufzlL3855bmdDlf3KOCBRp6r2bmEozuXaL9LKelaxUvvzMWY14aoqwhzK5XR/kdwZz8X+M4CtV/QqajMtairIflbvthfOy90tjgdRfv/B8q/+bs62J0gfBjz2uIcdCf+Lb8gWhyUf/0szsF3Y+95JZFy1Xk6Vl3OkZdG4LjwelIvHqvtK1pVSmD7AvTZLdWM7zSrcEWOE9g6H0QdhrR8NStr1QdT8+5UL/oY78bZ6s1WUV28HX2uRpB0BA9uwL9pDkqkBtGkBmhzq15kjvw/lHiM8LEdSFYnhqzmFE24ETlQhTG/PY4Lr6P8m3+gS81u0NC34P7JHHnpCsKl+1VqeyLzERCIeUpU+notQzMWVUuP1lQESY8sK2SOeoqqxZ8QLTuEd/1PpJx3KfFwDZ7Fn2Jq2hVryx4oiowoNPwnLydW7MED6/Cu+japJ1bry9gQJEd2UgkUILBtIeYWPZFMNqwd++PbOBMhQWapHfNxzX5Tde4QJWJVxxHNKRibdCR96DhiPhcVM15AFkUMmc2RwwGNTKYoygm6P1C9/EvSRzyMEg6AohDcu0bVK1VkdI5szC3Px9H3GkSDSWWMhgOk9BihuT5IOFWRhH1rCOxcgqg3J64PmRgSffr0wWw2c7jJMKqrPEll1VoBg1h1OeXf/J2ou1hj2CJKKPHk6lBt9t2hQweuvPJKnE4nnx00sqE0qkkPNn18BsfevZ2TkXfnuxyf/CjW9v2SrvtTIVJxlMVLl/La+MYXrGeKYk+Q8574gnJfWBVs8LspuP8zUi8eq51PyccPEC0/RM7Y8VRMfwHRnEL6pQ9oKjIn2ycdmfMWN79k4F6jnlYtW/Dvf/+bESNGnOo0fjecC3xniRv7NKNLQSrvLt7Poj0VCJyY24ETwrQD2mZqM2y/Fmc8L/QrSgdffvklr732Grt370ZnshBLLcTWZwymJh2JuI5StfhTQkXbQVFLd6n9bk7S5iz+4G5iVccRdEYEvQljbisEg1WzvkEQ0DvzcA66M6n/E/O68Cz+RLX+kePonHk4B96OIbM5lb+8S/k3/yDnpvEqs2/XUgLbFmDveaVqEWSxo7Olq+atQOmUx4i4iiAepXrFVJB0RMsOcOS1MRAJNrgKr9UxVKIhdQbxikeRrOp3VOv4nTrgdiRBwLNhNqI5BVNhJ3WlHa4BQSBcsht9ZjNttk+f2RQhIeVWdx6rLox57UBnQK7xEjrYiLi3IBD3HCdaVaKOBhR2Rg75qV4xFcmWRtxbrprNCoLWK3T0vxnP/A8xZDYlc/QzFE+8B+/qb6le9jmC3oipWTecwx9QXSEauRYURQFBILZ+Oq5FUzRJLkmSiMfj9YKeaHFg6zwI/9b5GHKSS/hyNExgz3LSL31Qfd/57UHSJwbr6+zDZFNFu0UdvnU/YMhpjag3IkdDVMx4QRU2N5gJbF+ArcsQjUymhHyIRis6JYrFqMc04FYMzXuqQcvqoMkDn2vHKJ3yGL7Nc/Ft+ImsMc8hWRzY+16TZFILaoZizGuDvccV+LfOV9+HqCMal1mxYgV6vZ60y7tjaddPK6vWhc6RhXPw3VTOeh1zy/MR9UZ09kyC+5OVUmLVqhzgs88+q435FBZVNejtd6J0rsI54DbkoPeMdGaPf/IQgiAimlPoPuBP3Hbbbad9zalQex+qe4661GwCO5di73kFAJHyw0nlzrShf6bko3FYO/TH1LRLo/ZJuTeNZ2i7TDpVr2HMmDEcO3aMtLT68nG/N84Fvl+BLgWpvH9jz99dLqwuzmpe6CxLB6+99hovvfQS77//Pnkde3Pr5E2496wluG8Nki2NsimPY+t+OemXP4wgSvi3zaf862fIvu5fGPPbE9i5VM1CDGbSL3sIU9OuBPevJXhwo9ZjUxSVdl8x/QUKHvwcQZSIB32Ufv4ExoIOIED6iEcQRAnXT6+SMeKReh5txtzWhEv3E6k4gmROQQ5UIxttmg9izk3/AeDYO7eoCjB1WIjmthcQqThM1F2MaErBM38iwYSbhM6eQUr3ywkd2YZn4cfEqss01Y6Yz0XxO7eqGp8CCHrjiQzDYFYHhs//E7GAh5i7GATwrvxGdVUQEgbCOoPmqlAL0WTF2e9GqpZ/hRJR2aJKPE7wwHpCR7fiHHA7UkoGosmKb+McRJMN54DbKf3y/8i69l+IeiNHX7sGXXohGSP+QmDXcmKeEmKVJ+arBFHC1uESgoc2kpMQUmiMkVkXgiAgSHp0512FzePSSpzxkzIWQ05r7H2v0YbTA7uW1zNiDu5dhRKuwf3zu6reJ6iaovYMjDmt8KFquPq3/EzeXe+ixGOUfv4EOmcu0bL9lH3xV1K6j9Bm/Wq/l1oymSLLRA6uxf3jeLzeIDXLviK7sIt6fdR4UeS4piVb9/o4lUNKXR3MurBYrMz48TsGDx7Me4v38+gtI1X1oPQmBPevAyB0dBsV019AjgbRpzfBv3ku9vOvUsvRs9/ANesNBFEisHOxmqkDZqsNQZGJRqPccMMNtMjswi5jO2TxxO34ZOk1AP/WecT9Hk6H3Nve1IhMndpl/SaVlMbuQ9YEaaU28AW2L8DW6YR7iWRz4hx4hzpYf/3zuOdNbNA+SVFg8b5Knrp/LA8++CAHDx48F/j+6Pi95cKmTp3K66+/ztZt24kKeiRHNrbOg7CddxmVs944LWOxtnRwt14iJzuLxx9/vJ7zcnV1Nc8++yyffPIJo0aN4u4p6xFH5JAAACAASURBVAkrApbWvbG07o3rp1cx5LfD2f9m7TX2nlcSrSzCs+hTcm58Gf/WeYgmG9bOgwhsm4+13UXYOg8ilOhtgdpDs3boj3vOBOKBKnQp6fjWfa8q/XfsT82upVg79FcDorcCz4KPyLv3o3oebbaOAwlsX6hKV4kihpz6n7da+pMxFnZGjgSRTDa17JTdEs/8ieicuRiyW+IccAf+HQtJH3Iv8YCHtGF/5tjbtxDcv1a7wYaLdqBLLyBSdgjRbKdg3CcEdi6hatkX5N8zUTtm1bIvECQdebdNoHr1NEJHNhP3ezAl5rFADUT23qMJF6sLEnuvkYjWVHzrfiBSup/SL57AlNcWe99rtf2amp2Hb+10pLR8DNktEpqV03AOuA3J4kDnyKL8238S97vVzDpBbKmFlJJGtOIwx964joIHPgedXnXAKFKzFNWxQdCo+9aOl2Bt3w/XzFcpuO8znIPuIFK6L6nUCWDrdinOQXcgSIbk4fR4LGml79/6C9YuQ3D2O3H9lH37D6JlB4hWlRL3VXJ80v0gShyf/Bjpw+8npeeVBLYvIh70qsbP7S+u9x1r33U8gnv5VCIR9ZiR0n14FkzCccF1CDo9NXtXY213YaOvPxlyJEjo8GbsDQzVK4rM5ZdfjiiKKArErekIRgtxv1t9Xo5TOWcCzoF3EDq2g5j7mDqneN5l+DfPRZ/Vgqi7mJjrKKLRiql9D5wD70BvMMEPTyOHfHTs2BGHw0bzWJifyyVicuMLFVOzbtTsXYXjoutP2aeti7MVzagVqlf72yJxez7mjgM0KUHXzNeRw37VvWTHIgL71uCeMwElHiXv9glULZ1C8Yf3qhUQgwlBEDn+yUOYW53fuH2SHOex51/HZrPRuvWpzaZ/L5wLfH8QvPrqq4wfP5533nmHme5MFh/yESk9SPXa6di6qHqBZ8JYzL1pPMM6ZHN3B5H+/fvXc15etWoVoVCIkSNH4vKHWbK3IqmMGjy8CWf/W+qdn7XdxZRtfho5GiLqOoocCSYU9jcS85ajs2clba/IcQLbF6JzZGulxODhzVjaXogc9CNa7NrKPLvrJXgWf0rMU5Lk0Qbqjbn0i7+qs2d6E8GDmzBkNEFKyURRZKLlhxOqJnoEUYc+syk1OxZj6zaceHUZki2NcMke0gbfQ6TsIIIgJAVPS5s+1OxZiaLICIJIqGgH9p5X4Vn8KUq4BkWOEyragSnBsKuFd/2PKJEanIPuImPEwwBEK4s4/slDHJtwE/n3TlJFtfeuIlZdxtHXx6CzZ2I/fyTZY1+m6NXROHpfjaPPaG2fcjhA6OB60i59iMC2eQCqmPRnj2A//08gCNh7jMDUtEvSgHRdRCuOosQiCDoDNfvXYG13UZJKjWvm60j2DM1AF0hesEgG7H2vwTXjRe2x2qBXVzygFuXf/iP5AUEk97a7k0pyosGMPrMpoUMbEYwWdPYscus4Clha98G/aQ6GjEKMBe0p++pJcsa+jM6RfE3VMk0jpfvR2ZzYOg9GX8s0Dbhx9L0W9y/vAgrmFj0Q9Eai5Ye12dG6UGJRIq4jVC36BNFkw9Z5SJ0nFeJBH2LLPkTW/aA9nHHZLRCPUTn3bfLueIfqlVPROXOxdRmMpU1fSiaNI234A0Q9xfg2zCTn1jcalM6r3jCT6qNHaVGQzZdffqkNyJtTCwi16A8oSeMstbCf/ycC2xdROfN1UvvdpAqJ+1yqU0PnwSf6i7VfhRxj0+KZ3DzrNe0Yp/vxeDxcccUVtGjRgsXhZhwsKsY9/8NkKcEETE274fphPLbOA4l5jmuKRemXPoit0wDifg8lHz+AHPKd0j5JECW8+U2ZMWMGDoej3nb/P3Au8P0BUJuFTZ48mf7DRvDUywsB9QadeeXj9bY/FWNRUWDRngqe/9NA2rdvz4YNGzAajRQXF1NSUsKsWbMwGAxcc8017JWaEmreX51rS0Cu8WrmpnUh2ZygyAQPbiReU0X6iEeo2bEYUCj+4G5Sul+OoignmG6JLCD9sge1AKfu24lksSeVpXyRhCJOjTfJow3U/okuNZeqJZMx5rTE2mUInnkTCRfvxr/lZyRHlpqBJG7KupQMJFsaNXtWYm13EdZOA3HNfI3Kn99V5cFO6jWl9ruZml3LqNm9HGv7foSLtmPvPQr91nlEKg5Ts3dV4rHRnAxBb0rqcyjxOILBrL13OeRHZ8vAkNOanBtfJlp+mHjAQ8mHahZetfgTvGu+w9yql/r5hQPo2/QhUrKHcPGuhOizjBKLcOxtNVCVffUkphY9kKxOIuWHOPLSCI0ApCgygT0rEAwW5JCfqiWTsba7iNCRrVpGVxe1bhv6OgQgQRQxtzw/YaCsoM9qkRT0agkM+fdOwlTYWatC1O3pGrKaAWjH1aXmktLzSvSpuYSLd5F3x9vJn6NOT0r3y4lVHSdt0F0o8RhlXz1J9tiX0KVkoCQ+g6pFHxMtO0DGyCfraYEC6DKbIqVk4F39HZUzX1Pn+OrMjvq3LcC7+jt8Cd3Xk8kvtQgX7+LYm9cnnaPT6cS4fxG6YU9Qs2c5rh/HEz62i9zb3gTUUnba0HG4f34HyebEcdENDQa98PF9eBZ/Su61/+CxIYWkWfTo9ck/186WcE1/HqVOVmdq1o2s0U+Tc5PqCXl88iMo0cQcX4d+6Bo4liRJXN+7OWaxEFmWz+hHkiQcDgdGezoVvnwsrZsgWZ31BBuiriK1r6ozIIf8SfZftZAjNcjhAJI987T2SYPaZTF48H9Px/hc4PsDYNWqVYTDYa666io+WnFqNwQ4/dxQJBymy7DrKFm3jh07dtCkSRPy8vLIz1ezqHA4zPXXX8+PFU6WH0tWQxEtdq2UUxdxvwcEkeD+NZibn4etQ39sHfrjWfYlgR0LCWxTffJqmW6KohB1HaH862eRTCmYW/ZM7NuDtX1/tSy1ZyXW9hdjiKozbILe2KBHm63TQCpnv0n65X/B1nEAoYMb0KXmknrxWAI7FuP66T8o8Sihw5sIHd6k7stgJvXisYgmG6bm3fGunkZw/1qilcco+fgB0i99AGNuG5Vu3aQTcb+HeNCHHA6gT83B1LQLks1J5c/voAR9GPLaoMRjhA5vJnRUzZAkq1P14GvZA11KBt71PyYtIojH0Gc2VUlAolSvTGtp34940E+4ZE+i/yggmVIwZDYjWnmUnBvHU/nzu/g3zVHHNQSRzFFPocQiVK9SXel1afn4t87H3Ow8qpZ/iVxTjWhxIJqsxDzHNfWYs4KiIOjNKJEaDDktEST1PZ1MYABO2dP9tUgbci/uuRMo++ppsm94gXiNF/fsNzDktCbrhhfql1sTEHUG1TS54yUoAoCQ1OPMGPGwlp03BluXwVg7D0IJeJBWTSI1Xo3dbiclJYVA7nkclkTShtxL8Qd3a1lXLSytexPYvlCVV0sshuoiHvRRMeNFUi8eiyG3LRN+WoK0bxHBYJBQKEQwGMTtdiPaM0kf9SQV3/xD7bUPPdGucP3wMrYuQ8m4/C+aIIN3zXS8a6YjWRykDR2X6O8pNDfWoIuHkPQmbDYbZrMZk8l0yn/feustrr32Wvbrm6Obv5d4TK4n2KDEYlQt+Yy0YePwb/mlnv0XqIQp18zXVMm4Vr2JlO47pX3Sf1vH+Fzg+wPA5XKRkZGBTqdjd6mXcExOYizWzg6dbm7oZOflu+++m/fffz/pj7+6uprZs2cjiiIGWypQnrQPc7NuBHYv18xgaxHYvQxDbhtq9q4CWaZowo3qE7EocjiAqWlXYr5KbXtBEDBkNsOY357ggXWYW/ZUexR7VuC46HocF16P68fxuH56VSMelE99Gsmaiq3jQFV9o+IwNfvWoCgKkj2TSMVh5FBAO4Z/63zcCz7E2mUIoUObcA68A1OTTtTsX4N77tuEju3C0up8JJMN5yW34rzkVuI11XgWfkzFd/8m/77PEAQBU5NOam/Pka0SbwBjQQdi7hJsHQbg2zSb0k//gmAwY8xphb3vtfg2/0wsITNW8sHd2jlZOvRPOCcAkp7Q4U0IBjOx6vJ6pbtaJ4UTH1pysJBDAa2faml/Mf5Ns1XmaOveREr3U71yqpqZyQpl3zyLIbulOuZgMGPMa0PNgQ0EdizBkN2Cs4GoN6orc72RaNlBbTj9ZAJD0qk30NM9aYszPr4gCKQNv5/Kma9TPvVpxEgAQ4tejZZb67+BRFD8lXM5giCAJRV5wINUbpiGa98ylFYXITnOQxAkJFsaotmOPmHIWhf6jEIEnb5eD05RFFw//Ue9fnqNRAEGX30Lr1/7etJ2l1xyCXLLi9gbMqgVhe0LcfQahS41u8FzrZs1hUv3U/bl/2HMa4s5uxnZlZtZebRMC6p1A2xj/8ZiMa644grSL38EXesTs4FJDvDxKILJgblFD4z57evZf1XOnUDlnLcgrgpwO/vdSMzvbtQ+6X+hY3wu8P0BkJ6ejsvlIhaLaWLODTHSTjk3RPIfwQW5Evu+H8+TTz7Jiy+e6Nc4HA6ee+457rvvPnrd9FdkmiKIOi2TcVx4Pcc/ewTPksnYe41MsDoXqAyuXqOIuY+ROuiOBN2+C4LRQvm3fydcvAtDTnJjOlpZRPjYThwXqmUj+/lXEdi+kMrZb+HsfwvVq6chCGJC79SMaE5Bsmdpw+j6jELy7nwnyWKm9PPH0WeoN5x4yI8SDmDveRWhw1vU19ucpHQbTvXqaXjmT8TSKrl8Ilkc2HuPJLB9AXLIh2S2YyzshG/zHCRHFqYCVYhZdUd/C0fH/ljbX1SvlyYaraSP/D/CxbtRoiFMhZ3xrp1BxohHtGHeggemaJlm8ft3os9sqhFfav37fFvn4579Brauw1R/wYwmmhhA8OAGiMcQzAbSh43TNC8BbXYqVnUcfXqh6vgQ8qFLzcLWZbDqppDZDP/2BaSdZeADQBAwtzyfSNlBoq4idGl5BHYtI+fG8Q0GvoZ6utpzkSCSOaWelF9dnDybJggi6Zc/zLG3byJa4yWyYxE1e1dhbtmTtCH3UP7tP+uZItfCt+UXvGumE/dXIuiMGHNbkXHlE4jGxp3G6719UQTRiNDjGkL6FAydh2o+f78G1SunEvMcJ/fWN7THvKFove2icZkDZT6wWxOuJX2pWvFVvf5aQzDmtEKfXkC0soi/33oZ9/S/8qzPs1mzZkyYMIGvS9NYfrBKe7wu81UwmNGnFVA29Rmyb3ihXkk3td/NqhffoDvxrvyaeNDboH1SLf4XOsbnAt8fAH379sVoNPLDDz9gN53+JtXQ3NDJyM7O4cLRo3nvvfeSAh/AI488QnZ2Nk8+9xLHDu1LymT0afnk3PgyVYs/o/i927U5vqwxz1G98musnQejT8unesWXVC37XLVM0ZtAENE5MtUeyrofAEWVuuoyGNt5qs6lZLaTM/ZlPIs/peSjP6OE/CiCSNrw+0npNozggfW456sK+obsFprSfl2LmZKJ92Bs0kGbuTIWdNB6SnWhxGLE/S6CR7YQOrhR7WWlN6Hk4weJuY4g2bPwLJiEZM/A0fca1UB22wIQQIlFsPcehRz04Vn7A0g6avauBsDWeZDmwwhqGbb0i78Sqy6r1+doLNNE1GlzWrXfXerAO6iYliy2HA96EUyW0yZL1o6XUPr5E8TDAYgEqV77PUokmNhJlKjnuGaMrETDIAhq5SASxNqpEUk5RUFyZGNNBE9TYWf06QUagaEWp+rpgtr3jFYWqdnoWUKJR5BDAewXXkfqhdcTD7gp//pZqld+3ehrQke3UbVkMtlj/okhpyWxQDXBA2sp/mgcGZf/JWlE4OTeZ+kXfyNcskc9f0FEEEWtD63fsQzn4LuIVhxVsxlFpvzbfyLZ0jAVdsbR9xqNiQwqeaZq+RcEdi5R2wRynJTzr0KoQ+dvqLxX4QtDHX6H44JrKZ54N9E+V6NPP3VwCB/fS9RdgjmvzRn7RzYEs9lMht0CVGn7rXWAD5fsIaXnFaReeD0VM15MjDk9j2i0IIgSkj0LQ1YzCh9Wv6O4rxLPwo/JGv10g/ZJ/ysd43OB7w+A1NRU/v73vzNu3DiuGvcMejmPiKBvlJEGqlSUZEvT5obqwqQTKbDEmDFjRqPeV2PHjmXYVVdz4csL6wlS14obnwzTtSduzKbCFzSzSyUSRImGqdmzUmtepw2/n9ChzYnZtjplH0WhZtdSCp/4geL370SJR6le8RWehR+jxCOIBtWHriGIRgumZt3UXkOP+j2UxAEAQe0BGa145n+EqUlHKqY/T9xXqalnpF/6AIEdi9X96k3qSrniMKkJogioDEdFDpJ76xvonXnJ/bsEdI4sdI7sBvscdVE305RSMrQ5rVhVGcXv30Hx2zejxCKEi7bjmfdBQpRaJXXIcZkj469S1VtECUNGE5wD70g6BwRRHdq3Z5F786u4f3kPyZFN5Phegoc2nlBMqcPqLP3ib8mfXC0pJxpOLGiMpwzswCl7ur7Nc5GD1TgH3VWvzHs6KFGVwYkSx5TXBkEUVaPYFj3r6ZHWRfj4Poz57bR+qs7qIKXTAKqXf3FGpc+0ofdibXcxx965FcmWji6zKemXPkikjkO6Mb8dMa+L9OH3oXPm4V07g+Of/iWJYV3x/YvEAx6yrvk77nkfEC7agW/dD/g2/KTt5005xjePZNG8eXPS09PJyMig3F2NlKdQGxIlm5OU8y6latkXSWMr2vs9qb2R0n0EQmouu4/76m17NmiXY0cXP4j30FZNSrDuAlOQdGSO/Bvl3/2b8m//QdaY55IIQrWwn38Vxe/dTqTsYIMl9/+VjvG5wPcHwRNPPEF+fj6vvv4GB7Zsq+dm4N+2oN5r7L1H4VnwkaY7WNd5+SVHCoMHD+LNN99s9JgZNiP922RqrhNniyYPf4PJtYdWKXF++fQ10i59MHlFfWjzKV+vKApyoErtbSkyojWV1Itu0G4MDeFki5laFIyrb0Zq7zWS4L41pA29FwDPwkmIJhtVS6ckORWES/YQ97tJu/SBpNKZaE4hffRTGNILkT3HwJ4FCWJFXaRf9hByyE/JR+M0MknxR38GOU76ZX+hcuarFDz0Fb5Nc9A5czUpq6plX6hSbECTh7+m7KuniLqOkHHVXzE364YcClA04UYUOY61/cVkXPEYSjxG1dLJVEx/AWudc5XDid6nHEOyORH0BtXFoccIKn9+G1F36t5Y3FfJ0f+MSn7MX3nGgb2hnm5Kt+GEj+3QFhJnAkWWIR7BvWAS8t4lKskmcXHGvBUED67H0qYvoaKGvQKMeW2oXvY5Vcu+wNT8PIw5rVEU1d7pTLOgqLsYBIGU7pfh2zgLyWDSFHkipQeA5Ostfdg44t4Kqpd/SebIJwke3kz5t/8k/56J6OyZ5NygVlzCJXsonfI4uXe8jdGRSe+ymQQqS6mqquLIkSNs376dYFjmZKdCe5+rKX7/LiJlB+u/3zrtjXjAQ8UPr1C15DO87Z84o/faEK644goknY5gVEaX3gRzq96ES3Zz9PUxKLGI6i4iSqpoA6qdV9FrVyPoTSjRMJWz36Jg3MeqK8g9E7F2Gkj1iqlkjnoy6Ti/l47xr8G5wPcHwtixYxk7dix3T1lfLxg1xEaztu+HtX0/IFkkWhTguSs7npF82W9xnZAkkRfGXcvoHk1InzrhrF+PHEfQmyh8dBqKHCe4bw2Vc97StBAbQmMqGw2hdsj2VD2qSMle/Btn4Rx8N7YGMhoARBFTVlNevao1z07+BY85P6n6WLfHkTn6aSq++Tv5d76Hd+0M7VglE+/BmNeWrNHPUvZN/Wy6wcOarNi6DMG/aTYxrws5GkIQdegcOcQDnjoZWgjkOPa+Y/CumU74+D5tH9b2FyNZHLhmqkouDV1HpqZdNId6RVEIHd1K+VdPoYQCyNGwFtjrEhiKP7xXnTUTJaJlB0gbdh9KNETwwDqUWCQpO4x6Sij54G7tGLVwzXydwI5F5I/7RHUgFwSCB9YT3TIL/8Et6mdgtuP6YbxaFjZaMLc8H3vfMYSKGv4MTU06kTnySXwbZ+Fd/yPIcWzdhp3Vwk6flo8gCFStmIrOnkU85Ncc0huDpU1fPEsmAxA6vBljXlt09sykbYx5bZFS0gkf2cwVN9zC+y9NrLefgg49CZ70mGS2Y+95JVXLPq+3fdJ2VifWthfg2zSb4sP7+eabQ+Tn55OXl0dubi4m0+mJQbU2bAB3T1nP3E2HOPbubaQPG4el3UVJerSpibKlf+t8/Ft/0QLwyUgfdl/S77+XjvFvwbnA9wdEbTDa9+YtyDVVahkrAVvnQRhyWjfsK9eqFwARTxk39R1Bh0MVdG+W0dhhAGhilRnVAr7eIxPj7KSNFAWe/mGHFjT1Z6uMJEogCLhmvoa1fT+MTbuAINbTQgQSwriViCYbjjqU6EjZAY68NIL8e1UbI8/8iYSKtiMHfVTOmYAhuwX+7QvQpxcQ97mo/PmdpP2Gjm5F0JsaVZWoazd05UtRiEcxO7PI6jkMQ0oqshzXpMpAVWupvcGnDb0Xe6+RFL9/BwUPTGmQ4i8azPUCQl1Y212Ef+s8VY3lrbGgNyHpTerIgt6IDNTsWYmYGN+Ilh9S5dt+A4z57REMZpWRKggNzqOlX/ogocObCexcQvDQJorfuwMpJR1dai4xXyVVSz9X1XYaaVDKkRA1e1cimazE13+DYM+kpVDBrs3r8LpcJ4SxBaFB+a5TwdyyJ+aWPVEUWe3jff8SyhmySj3zJuJZOAklXINgshHzlnPszRs0h/TGIKWka6zH2nnVBrezpSHXeLmxe8OlX4tBIibWP1f1OrrzlOXaeNBLzd5VGDIKEatL+OabVZSUlFBcXExpaSkpKSnaWFNeXl6D/8/KykKS1Ot0bK9CflqwHABrh/4Ap9SjPR1+Tx3j34pzge8PiFoLpNvegsyrn21As29+kq+cf/PPuH4YT8F9n6rivwm8v2Q/E+sEvsrKSjZs2MCGDRvYuHEjGzZswOVy0a1bNzr2upKdhnZElTNviiuc0AgNRuPo5LO7oARBJHXQXYSLdlA5ZwLxgFul458kIqzEomrPSdQBgqayEfO6TjgWxKNUznodQ2ZT8v/8McUf/hl7n9GIkoGq5V+ootKoGV5d6NPyURRFY6idvLKve9MVj6zjumYRjh49ypYaG157zq+aV6stk4VPKtfljH2pnjK/qWkXHH2upnqVauYroDoiZAy8HWNCILrsq6fqOYoX3D9Z67c2xqZsyGaqVmu08KEvqJz3ITUH1mNp3Ucr79YSGCSbU5uLCx5Yh3v+h+TfMxHXzNcxNe9GYOcSQsW7EM0NZ+c1e1YgGq2k9h6JrWgZGUIlI6+7jsU/z+SVV15h0qRJPPPMM9xy97gGX38mEAQRc7NumJp2IXhw0xm9xjnkblK6DiNSfpjyaf8k48onqJjxIsH9a6n8+V0srXpr29Yd5o8lKhFVy77Av/UX9Cf1s2pn7lBkImUH6N91Kka9RNeuXenZsycdOnSgY8eOOM0S3gaCtGi0YO89iqrFnyY9Xre9IeiNmJp2JXv4vUx5bhTpthOC0LIs43K5KCkp0YJhSUkJGzduZObMmdpjHo+HrKws8vLykDoNx+DsmJAqUxenhvx2p81+k84baJVppXN+6u+mY/x74Fzg+4NieKdTm1rWQhBErJ0G4P75HaKeEoy5bbTnFuwq55l/v8zOTWvZsGEDHo+H8847jx49ejBy5Ej+9a9/0aZNG03ENiuvCVL/ezE260bM76Zq6RRCB9YjR0Oa07OtyxBKPjpxM1KiIQS9ESUaJvjtP8m+7l+avJcgSppBrLa9HFMz2ESG5Jn3vva7zpGjBvJNcxAkfZLKhhKPYcxrixwNaU30cPFOrdxX8qHaxwsXbcc5+O5EppKHuVk3/Nvma0Pn9t4jqUqUpBKfIJa2fYmWH05iqDUEMeJjypRvqHBVEkVCn774JKafQvnUpwFBtVlq0pGMhEtBrLqMkg/u1hRmQFV+MTc/s0ymoZEKUPteoaPbSL1ElZkzt+6NMvdtLRjVVgwEvUkbBSj56D7SL0vux55crjryyihy73gb/7rvMbfojiA2XCaToyECu5YlGbQKehP23lfjXf1tUqCoi8D2BVg79MPc7mL2L5hE88ff4fn3JjFo0CAef/xxfD4fr7zyCka9vt41dOLg8eSBekEkeGA9SiyMqUUPRKOVyPG9hI5uVz0AzwKGrGY4LrgW9y/vIUg6RIuDcPEe7f2cPMwf3LsKY0EHAjsWIejNRMsPE/NWJJU79ZlNiZYfIu+2N+nXLg/9lulMmzaNfv36sXHjRj7//HM2rFtL6oDO2Ao711usOPpcrWnKQsMemIIAQzpk1wsuoiiSlZVFVlYW3bo1fs1FIhFKS0spKSlh/PJyjldK5Nw4nurV06icO4G436Nlv5L19E4RMlDgtPD6tWeesf83cC7w/UExbcOx029Esq/cyXqZ8ViULV4TN1xzDS+++CKtWrU6pVJ7MBrHiqowUTr5MYwF7cm56T/oUrOJeSvwrpmOHA5Q+Og07TVHXhpB7u2qykb6ZQ8maVpK9kyirqNJx4hVlyGlZCAIYoOEFO+Gn/BvnkveHe8k9aOOvXs7jotuwP3Le1rPLuo6qmZ3791O/r2TqJzzFkosQs3u5VovClTyScR1FNd3/8J23mVULZlM6NhO7XlBEE/LUJPDNRTNmcinH01kljePJXsqiJTsqsf0Sxt+P3pnLt61M9T+ojv5e2zy8Ndallirt/lbENi+SKXW1xmFUGIR/IlyZ23FIOZznXYUoB5EHZY2fehnc7HMn5k0x1ZbAlYiQdUYdkzy8auXf6EuVprUZxXHqssJHdmGc+Cd6jhAs66sWjCbtBF/Y8Bdz/DUtf256qqr8Hq97Hr/g0YdJtw/v4v753e1360dL8HWdTjVK37EPe8DlHgUyerE3nsUvo2z6wlqmu8apwAAIABJREFUK404NkQriwjuX4e5bV+ql3+JHIuq/c1oWNsmsH0B1o6XUL3sC6qWf0Ho6DacQ+5VtVaHP0Dl7DeomP486Zc/rDKGPceJuYuxdhqIPqMpG6tEVr77IW63mwMHDjBt2jR27NjBed17kNKuL8qvHEf4rSxJg8FAYWEhhYWFpO5ZB5Xl6DOaJOnRun56Fff8D8m86swINEv3VfD56sP/s35eQzgX+P6g2F3qRVEa9uUSRN0pfeVqoUh6Wnbvz3VnsNpy+cOEonEsgHfd94hGMxlXPKqNIujsmaQNuees3sP/Y+8846Mqt7b/39NLeu90CL1GOtLEQhVQQRBQFBQrIupRPDZsWMCKiqgooihViigEkRqaUkOHEBLS+2Qyfb8f9szOTGYC0fM8j573x/UFMnVP2+te97qKoVUv8veupObC7+gadcRZXU7FruUY20iEHM8JxtC6H6qQKBwVhZgzt/t0D3VhbDugXl1Z1K3/ojJjBRW7l+MylVC66QOiRj6JNr6l/Do8koTKfat9xP+CUk3M6Gcp/OFFCle8JMs5ila8JCWsu9mGS5Z+w8m296LU6v2YfiAJn9Xh8TLTr/LAj3/qPfuzMB3b6pMoDpLuqmjNayj0YfJWcEOkAHUhKBRoG3dh1Xv3M/qRl9hhipay9ajdAvaQkrwDWgWVhpTHf5Cz8LSJqT6PW338V9RRyTK93dimP2VbFxMxcCr6XhN5bsliLLNn43K5MBqNaJQCosvlw6YNtE3rgS7lVb/Lqn7f6Geo7XHp8XvdGj3WvNNU7l+D01wJLgfqxFbYS3Nxmkqx5p7EmpMpf5dcNgvxk+dTsW+VlKTeui+lmz9BGRxF4ffPS0xflxOFMZzIm6Q5odViJSkhHlt1BaGhoTz55JN8+dVSwgfcTe73L8lbqOU7l0l+qO6OVRUSjb75dYT2uA2FzkjF7u+p2PM9IC2CBZeD7m9qUSgUNG7cmOPHA7NfG4IQnX95UEcmY2w/CNOhTQ1+HJfI35q2HgjXCt8/FB4Hl8C5XLUzPpethpKN72G9dBxjgDiXQO4QgeDdYVqyDmFo2avB0Scy6gzeNdGNiBoxm/JtS7CX56HQGjGm9pWdXLxPMC5rtXR98+sIHeCfQO3BXxGMJ3ptGQkKJSmz15D76XQMrXqBWNsZCioNseNfkf/26UgtVeR+MImt+48RpjuANqV9w5h+7pmM6HC4/7VJCxn3/E0UxTr+lw2nH1pzT0q+kF6J4iB5RqrD4nFUl8muP95SANufKX6ApmVfvnnxfnoPvxNNp2HkUnvMgkKJoVUvn4BWR2WRZLlXlI1or6Hgu+eAWsG4oNbhrCzi4hvDEbQGBEGJq6aSmvMHcdVUYSu8QGiT9oglF6moqMD669fETmhT73arB5ZLxynf9gW24mwEQYE6MpnwwfdJWljR6UMiMp/dR8Wub3FZTFxaMB5d0y5EDX8Clds0IXpUrcYx56N7CEkbhTX3JC6bmZjbnqdy32pibn+R7HkjiRg4FYUxFPPJnUQNexxBqcLYug9OUxlJD34JQP7Xs7EVZ9dyfVSSJlOr1VJWVsaiRYtIuOMFyuxKxP3rfF6X7Idax8EobtI7hPa6Xc4uVGT+hGX/Klq3bk1mZiaXLl2iR48e8vywTZs2tGnThuTk5AZl9CVHGChY+iQoNUQOfUxanFYWYc7cjtIYzqX3J5L04BLs5fnYi7OlpAVBQBUeXyuxunyKy59MR1BrmfQ6TFMrUQiwefNmevbsedVj+N/CtcL3D0Wg1VYgKDR6Im58gNyP7yOoww1+RshaVcOKl6fDBBqc9OwNuUi407w98OT8BYIqOEo+wQgC3Ngmlj7No66YOv9XBOOyx6AbglJFWO/xlO9Yijoq5aqvTXS50FXl0L//9ew8lU/p5o99Zh31HkNwpKyvy1sszUUvvXObdAxqHdrEVCxZh2SLMwBlUCTqiCQ5Jgn87bw80Cam0mj26oDXJdy3kJyP7qFo9Wt+UgCTO+i3QVBp0Cc0wxkUxK51y2DdMgSFgqZCEYWmIhyGCCxn9+OymFBHJmM+tQfz6d1EDX0MQ2ofTMfSKdu8qPa9dDpwmvKIv/s9Cn94QfZXLd36GdVH09E3vw5BIaDvOooJjcxkZGSQkZGBafsSgvpNrter02U1U7jiJT/avaBUI+JrAlF9ciclG98l4sYZGFr2QrSaKfttCflLnyT+nvfqXdBcadFlPr1HYjw26wZIXWzBd3NwmitQGkIxth+MY/dybPnn5A5YqVIxuP8QNmzYQMah4wz95Heq0z+v3w+1joOR6ehmQryMHMyihsaNGpOeLml+S0tLOXHiBJmZmRw/fpyff/6ZzMxMKioqSE1N9SmGbdq0oXHjxigUCg5fKufDbWfZdqoQfet+lG/7grwlMxFtZhRaI/rm10lm8236Y8s7TeXelSiN4SRMmY9CH4Kt4ByVGbXjEI95guc3/vHEbvV+3f6vcK3w/UORGhfSYNchpT6E4I5DKN/1rZ9x9c/H85m+9AAzrm9Ox+T66cOeDhMk7VRDkp4DQaEQcP0FMbxnNtEhKYwOSWF8tO0smzMLcAZ4rEC6MoCyX7+QrclEu1UWjCv1ITisvuooY7sBVOxdgeX876i7JtR9Ch8ILjs5Py/mdM5J2s34gKqQxj6zDs+WZ92ZpYfpl/zIUtmhJeXJtfUzQUUXtvMHKFnzKtHjX0VQ68j56J5agopGh75JVyKG3I9Co/fL1hOddip2f0915jacplJEhx1d405E3vigj8lxvaSjeo5LoQ3CbDZ73dbFgdWf4RK+kEhJIdFEDpuJJroRLne6vIf+HtR+MFX71sizXtFuwdCih+QCIihkf9WQbiPI/+YpSdKCgLpRJy5cXsu2bduwWCxs376d6W8uxdVxlDt70XdBZy/N9Xleb9q9d96gKIqSI4ygoPSn96UZoaCQ7MBcDir3rZZdbep6gTrK83FWl8mLrux5kmOSx6wAl4ucD6e4I50Al4PqzN8I6TYCQaFEFRLls+1bU2Nm3Tqpu7v90Zdwtrzxin6otZ9HYAcjASiurt09iIiIoHfv3vTu7RvMW1FRwYkTJzh+/DiZmZn8+uuvZGZmUlxcTKPBd2FJvRmXQgkIBHW4gfLtXxE98il0KdL83mkxkfP+XcT3fZvSzR8T1HGIT4KENq65vKD1fe+lyLQSk/VvZ3ZeK3z/UIztmsTD1M6YPNA17oShRQ+/2wd3G0nuJ/diK7yAQlPLSnSK8EtmAdtPF19RMOrdYf6VpGcP2ieGcrqgihp7YOJAINR1cOiQFEaf5lFsO1WE0+H/OIF0ZSA5SBStegWnqUxaHbsF44EgKJSE9ZlA8do3Al7vgUpwcU9aNOt3hdNq8BR+LS2EkMY+s476dE01p/egSw48RwoEl8NGyY5lOArPU5a+mIhBki2Zh6DiNJVRsPw5Kvb8QPj1k/zuX7T6NZxVJUSNmI0mthk5C6eiikig5uJhgsOGyLdThkTjqPBN5XBUFPiRozywVpXjcrkQBIG+ffty3BqBoc/EgN1X9IjZ5C6c6kN/T7hXIqBYLh5BoQvyc/AASdzdaPYaTEe2AKBSqThQqua7775j3LhxDBkyhGO9ezNgzGQKGw2GcLdvpXt1KInOr067d5Tm4KwsQhEUSdSt/5IdciyXjlG8/h1Mf2zyCemtC4UuiJixz/uQn2LHzaXgm6dQxzZDE9eU8L7S/SsPrKX6aLqfc43ocqKsLkGNE0GjYeTIkRwqLMZ88WhAP9RACORgZHeKmK31MGC9EBoaSo8ePejRw/c88tlvp5i3+axPBq5CrcWY2ofqY1vlwmc+sQN1ZBKqiASsuScJ6zvxqs/pgQCs+D2H6f3+vHfr/ySuFb5/KKKCtNz9/oZ67cTq0phVIVE0mr1G/tt7niGKtXo7CDxg9u4w/2zSswcKAcKNGh4d1IJ308/Wu13pgbeDw5xx/bmvoAClUolWb8CZ2AmHCDgdRA2f5dNN2QovkLdkJkkPfS3JHRRKLn/+ECC5VwS1H0RIrztQeQXqqsJi/YTixtZ9A85FQfqB6tRKnr2lLQeXv4vJZOLMmTM4VBaUSR1xmisDEnFElxNHZRFV+9ZgyT4qp2xcDZ50cWfRBVQqFeYjP9OtR28uC8izU2VQOPqmXbAX+ltX1WQdwpJ1iIRpn8gUekFQYGjRw29GbGzdl8r9a9A1ao8qIglb/llMRzYTNdTf1cVlt6K1FKMNCsWlULF91x4UWgNV2ZkEtR9EUOdbKNmwQA6kFZQqVBFJuKxmmf6uCotHE9OI4C7DfB7bWVmIs6rY7zkBbE4RdXgS9913H82aNSMtLQ2j0ch9T83llZ9O+NmPKbSGemn3Ps9prpT+47Wgk1IQuhPc6SYq967EVpQV8JikuynRxvumkFgvHUcT05SgjjdgPp0hjwmCuw6nct9q+fFqNXei5D5ktTBu3DhmzJjBkBFjEGMKA/qhBkJ9DkbFpaV07NiRHj160L17d3r06EFqamrAmd53333H/PnzOXbsGFq9gRptJIZ2A2s/02PpxE16G2O7QRSueJHgtBHkLX4IbWJrgtoNomDZsyC6KFjxojRTDU/AkNqHkLRRMhlHOlbJIN2DR94RmFiYj9FobNBr/d/AtcL3D0ZdO7H8b57GXniBpIeXIqjUOCoKfTR1HogOG9rkdsTdKbHbbMXZlG/7EsulY0x+Q+Tdrl1596036NWrF6dOneLHH39k9U9bZE9EpT74TyU9e+ASYc+5EvacK6FzitS9/ZFdjgBYvDq3QA4Oc4B169YxePBgJry7kR/mPiDZO+WcwGWz+Kywq49txdDsOpRucbS3j6W9NJeKnd+Q/+VjxE1Z4FP8/N8o0U02qD2JqgQXTqcLy/mDGAoO8MKy05w7d4727dtTUVFBTd4pynavlmcd4QPuwXxqt+9JTR+CLqU98ZPno45Kru/ZpUNwuRCdNsq2LsaWmU54eDgpnfqg6zaKLDFcqnnuk7yjspia8wfRpXTwexxL1iE08S39bLICIajTjbgsJgpXvOTOzosirN+kAO41AoKgoKqkAIcoEN7/HvTN0hA0euwF56nYt4qgDlIn6SFguOxWSn/+CEfZZYn4UHKJgmXPYs07SyApu/dWtfR37ZZrUGQ0KSkp9OjRA4PBgNVmw6XSowyNlYtuwbJ/yVuSHtq95eIRitbOw2kqpXTLIoI73QQi5C6cWlswA0gZBJUGlCo5cNVeepn8r5/AZTVRvOZ1lEERiE4HlQfWYTr0EwAJ0z9FHZ4gbaFu+5LgrsPlbW1NbDMaPbkWkIzf9c3TyPlgMsrgCCbNX8O6J0dQUFDAyJEjcSqDsF5lbu2By1aDJesQIW5SizeiIiL47LNFZGRkkJ6ezquvvkpxcTFpaWlyl9e9e3eWLFnCvHnz+PDDD7nxxht5fPVJNmzbQ8Xe2s9UoQumfPtSYse9jFIfiiVL8t615p0hevQzVJ/aDQjEjn0eTXxLbHmnKU1fhCXrD2LGvSLLUDwzPg8Gpcb8rUUPrhW+fzQ8Di6vbDxBVVEe1pxMFFoD5rN7Mab2QRUa46OpA0lYm790tsz0spflUfD1bCnJeehMFEol9gtb6d+/P7GxsYiiyPDhw3lu9mOsLIwk/VQRogiq4MgGZYDV7aI8SQ97L5SiUyl5fHALEARO5lVRabETolNf0cGh2GTlQLEgUe9LLqEMjsR8ahdB7QcBbt1i5m9E1PH/A4m0ooluRNTIp8j74lGq9q32STHwv4PbZkx00SI2hESDiDnvDFm/LufEH/uIadKE0xcvYjAYsNlsKBQKbFYLHaa9TUVwI9kGK5CQuC4CdZwSREwH16PK2oNSr2fUE2+zozqaUrsLj4lO0cq5IAiIthp0jToEJLt4E5K854LFq19Dm9SaiBsfRBUSLc+uQnve5rYUq2VbBneUTngXX5c6s8uLpS4ah5WoUf/CmFo7K9LENSN6xGy/41CotRhb96FojSQ3UEcmo45tgjX3ZMD3xekVXgy+W656hcjprCxEUSQxMRH19dOoCG2OoyjLp+gGgqBU+tDuRacUmCw6HSgMYYh2X8KLKLokNxl9CC5LFaLLiengOiJveVQmy1QdXE/lvlUEdx2K+eQOAPK+eFTi4bqTMYK73AJuE3KX3YKtKAuN2zWoOvM3adbqtPPYDa3ZajTy1FNPMWDAAB6a/y3rjhX4za19jtFhx1Z8kfJfv0ChC5IdjDxQKwUMWhVpaWmkpaXx8MNSt1tUVMS+ffvIyMhgwYIF7Nu3j6qqKnr37k1eXh57D2Xy25lSNLG+n6mx/UDJgSf7KMZ2A+VoLn2TziiN4VJiRngc5lO70DXqgK5RB4l4s+gBas7tly0U6+L/Om09EK4Vvn84PNuSM59ehjahFZqEllQfTceY2sfvti6rmaLVrxLSfYy8vVWxcxmaxFSfmVB58xtp2+EggsvBwYMH5ZVZwqVydp0r/UuG1XXh2V5dkH6GZ29p3WDnhhUHc7BX1FLvtYmpVB/bKhc+S9YhRKfDrzvxIYGodSiDwrFkH/XNWFMo0EQ3IWLIA3LEikdELt78MKfTFzC8d0emPvskbdu2pV+/frRs2ZLs7GzCwsLQ6XQUFhZiP7wBek4j55Ppfg4oIH0O5Tu/wXxqD66aChT6ELTxLQjpPsZna1QURSm9Xammz8AR3Dr1MRZm5GOpMx/1SFos2Ucp/vFNnDWVPtZ0IBGS7KWXa+/jnguKDhslP39E6eZP/IhPV4IyJJrEBz7HcuF3Cn94EUNL/7lyIFjzz1G+fSnKYKnzdFQWYS+6iFIfEvD2pqPpGFv39dtyFVx2zu5Lx2azMWbMGNZv/o2YkCYolMqARddbEwrSAsl7K1q0W9G37IHosCHaLFLwctZhtImtZVany51hqNAFy+Qfb7KMJrYpglonheTe/AiXF91P1IjZVO1fgyauBcqgCAqWPkXM7S9K9207gOqjW9EMlOQ51ce2EtZhIJzc6uNTWVbjoHmHNDSlZwMSw7wdjFShseibpRHa8zY/kwURiDL6R2dFR0czdOhQhg4dCsDGjRsZMWIEkydPZv/+/XyQfgpr84F+QbuCWkdoz9sp3/41UcNmUbH7O+l1uX+LAPpWvTEdXI8yNIagDjdIrOuIJMq2fh6w8P0daeuBcK3w/RdgYo/GPJO1i9TBt3FBkUDuklk4q8v8LINKNixAFR5PaK/a/fSarD8Iv36yz+10Wi0DJj7Cu7MmU1NTg8EgkWG8O8y65JScj+7xO8l7B3le/myGTJjwaNU87MWZO++gw1cLrmhKK4oiI0aMwO4SELVGmXrvMldQvnMZjspiVCFRmI5txdjmetmH0hveLiV5X84Epx11dGMihtxPcMcbEV1OKnZ+S/H6t0m4p06ahEpL3xmv08t4kYULF7Jx40bCw8N5/vnnGTlyJAaDgY0bN7Jo0SK2bdtGpCaCQJo70WGn4NtnUeiMxNz2b4lh6rBTc/4ANecO+BS+qoPrcVQWgiiyc+MKMvbtJ2zQfbLtnOXiEZyVhVSf2CF5Tqa0x9B2AJcXPeDjlAISIaly7yoKvn/B53JBpcGY2lsO+K0PTlMZ2W+NRnTa3X+XY809SaE7SeLS/DtQ6EMI7nwzNWf3Yiu+BE67fByVu7+n0u0KI6i1CGod2W+PQaE1ojSGe22R+87mDK16BdxyVSkEXpwylAd3r2T37t3E9RrFlehSPqLzmipJdN6iB+ED7sHitrYLatsfl91G6c8fIuiCMZ/eTdXBHxGUanRNuhAx5H6KVsxFm9QGS04m9uKLPmQZqRuVCronFLZk/dsoDGHE3PYCostFWfoibG6GaVDbAeR/8xRh/SfjKL2My1aD3mCkxmGlpqaGtTsO8eG2szz4huSy4yl63kbnHj/Uq0EQYNTtd/LxxHeuetvS0lKioqK49957uffee3ls+R98POtOv88UILjTzVTuWy2HCdvyTvvY0KnD44kd/wrlO5dRsXu5mwwnoI5uJN/GWVUq+4kCzJqvJGrJEsaMGXPVY/3fwrXC91+AnTt3kpd7id/fms1zP2fx2dp4qo//Rsh1o+TbVO5dhTX/LPF3v+tj8SQ5xfvOuSwOFyUuIy6Xi7KyMrnwQW2HeSUtXSB4mHuAHxVcEOCjbWdl/Y7L5eLUqVPs3buXvXv3sm/fPi5dukTz5s0JG/E0hepa6r0iNAZdcluqj/9KcNdh1JzJIHbCVZiYwVGoQmOwl/jahQkKJYY2/ajIWBHwftvPlvJ7ZQmdk9sQG3uQQ4cOUVRUxCuvvMJXX31F8+bNmTp1Kt999x3Dhg2jVCmiEJ0+riKm41txVhUTe+dr8opc0CilDt2rS3dZzZRtXYwmIRWFIRSVMRR9i14+WYSmY1tBELBcqDVYDu0+mqr9q6k6sNaH3KBLaQ8KJY7SXESnHdHlxGU1Yzq62c9Lsz54Fg4XXx9Gwn0fIghKzxtH8szl2ArOU7DsaaJHz0HfpDM5H06WfFRtNUiEjSBC+92F6eB6QvtOkHclynd9h73oIi5bjWxa7QkEDuk6nIi629GiSM35A3y6cQ1hYWFkZWUx7t1NHCxRSML4ACdob02oZ0EWeZO0VWs5/wcIAromXcDlkpJNFCoihjwgsTqtZiyXjvkErga1G0DN+QM4ayrdBuoSU9g7GQTAZakmqPNQUCgxHf4ZQaWVi6MyJAp1RKLUXWYfJajdQFIS4zhoMtHkhrsw9rkLl6D6E5YF9UOjFBpsVRYZGUlxcTEOhwOVSkWlxSGTsDyfqQeCSk1orzso37GUqBGzufzpdB/iCkiM3Fh3lwuQv/RJ+fsmRV5Jko1rOr5r+FNYsmQJQ4YMISoqCqvjAsY212M6li4XPsul45TvXEbsna/JhA8PFIYQnKZSv8csKsxHoVAQHu4vVJ/Yo7Gspfv1VFGDkquvBFGELZn5zHrmeQ7v28X+/fuJjIyke/fudO/enbvuuovx48fz0Ucfsb4kkjWHLvvc39huEJUZK1AGRaAKjZVTCeqDvaIgYOKz6LRTfXxbvUVAEASqQ5uww55Aj4mxjBgxgrNnzzJp0iS2bdtGaqqkwVq5ciV//PEHpspK7OmfkTJhLja9REG3ZB1C16RLwDRqb9gKz4PLQViv291dyAdE3HC/XPhcdgvmU7sQdME4TSVSsnh8C5SGUPTNrqPm7D4MrfvVuqQUXACnHdFpw1VdQZFX5p/CEErkjQ9R8O0zOMrzAWmOJ21tSWkMiC7Jls0NeXYlvTGYT2dgTO2NOioFW+F59E06177f5fkogyMxpPbBcu4A4YOnUbJhPvpmaSjUUiEwn9mL+dQutHESI9JRUQCCIiB1XyWI/DD3fr5aUMyhQ4fo1asXUaPnAAq/E7SkSaxLkHGCQiX/v/rEdlQRie7tbiWGlj2pPrFdkgq5o7HUkcmEpI0iqPPNAOibdiViwD2Sq5DNjDIoUk5W8HyXpDdXSeWe76k8sBZNZArRo59Bqa0lbhjbDcR0NB1r7gniJrxBUJCZoLBIQgfcg9XxP1HyQOFyUPHr10xe/yxDhw5l2LBhpKWlyfFCddGzZ0+0Wi1r165lzJgxVzXLCOpwA5V7V2I+veeqx+KoLMKWf44QLzNtD/6utPVAuFb4/uGoqanh+++/x+l0EhcXR5XFgcViwWWtxlZwHmVQOMVr3yB84D1+NGsAfeNOVJ/cSVAH30F4zsGt9OzZ06fb80aHpDA+ntiNEpOVWSsOc/6veebKcDodXFDFMnPmTK677jqio33Zh54uNTUuBK0qXybJABha9aZ088eU7/iG4K5D632OwhUvSzM+UdKcRQ1/gpKN77oz1j5HtFsR1Bqib/XXkfkci1rLPkcyba4bw43DojlqU3H/skPYzdvJO3GAi78uR7RUoVKp6N6mCdXOSoqRTuAucyUar8/BVnCe/GX/AtGFMiiCxGmfSJcX5wAC1ZnbMbTqjcvplGZUrXoB7ow9tY7EB7+kaOVcqo9tlT/fmDFzyP1kGtrkdpRv+4LIG2dQfToDpSEEQ4vuFK9fgL5JZxzlecSMfxXL2X3kfzVLWjiEx8uFIv6e91GHJ1B1ZAulGxdguXAQQ1NJkyjtHCjJ/XgqYX0nUvrLQhylOdgKLxLSfSy2gvOSFRjgKMtDm9QaY9sB5H81i8hbHkEZFIHp0CZC0kaiTWyNfcN8RHsNMWOfx1lTRflvSzCk9vYT86sFEfv+7+ky9xZavPwyn3/+OQMGDGDd6RMQ197vs5I0iQU+l3m2JF2WanI+nIxot+Cy13Dp/Ym4zJW1HY3GgC65DRE3Pug2Thew5JygfPvX2PLPSF1iUluiRj2NJipFNlB3Wc0UfDdH8i11xzgJKg0RQ+5Hm9AKR3nt8Xi+u5q45lhzMtm9dzlVhbmUzZ+IOrYpoT1vR+c28jYd2ULJxgVEjXzKR2ZjuXiEgm+f9ZvBxY57mbDG7Xj2lraMe2UoGRkZbNiwgWnTppGfn89NN93EsGHDGDJkCGFhtWOGsLAwnn/+eWbMmIEoijQOaYlGCabLtZ+pz+9BoSS0z52UbfYPzvXAZbdgyztDWfpnaOJbyA42HvydaeuBcK3w/cOxZs0alEolR48eRaPRsGR3Fp/uOEfuitcwHU3HVngBXaOOPibF3gjtPZ68JY9T9ttXhFx3K4JCiTVzK3k7N7B1y+arPn9kkJYwvfo/bfoQFWoadejF0KFXJrmM7ZrE/C2+mXkKjQ5Dy15UH/8VY5v+fvepPrEDXC7J/9LlQHS5iL/nPVnoHn7DNKoOrsdeeIHIm2ZR+P0LGNsPIspL4+XtrFK44iWsl46TjWdlL8gzRUPrfiQ9+CWNtWYOf/QoaWlpHA6Np9htbCK53tR22JrYpqTMXE5N1iFKNr4nX15zaieG1n0lB5HNC8FWQ8kvC9EmtUZpDKf6aDrqmCbkfzVL8tb3Hi9TAAAgAElEQVR0OrCV5hLW6w4sWYcQ1Bqqj0ifn75ZGiUb30N0WAlJG4mgVKFrfh1lm94n593xkkzFYUUZFocqONKvUOBygCBQdXC9LCAv/flDIm+SIpUqMlYg2i2Sm4hCSenPH6IKiyNswN2S16jdgjoqGW1cc1Rh7m347qMpS/+M4M63oI5IIHbim5Rv+4L8Lx+TcuOadvVl3IouRIeN0h1fo7ywm2+//ZaJEyfy/PPP8/bbbzNyxnOkm2pwKLXYC7PkE7SxdV+K17+DoVUvNPEtcZRdpnL/GkK6jUChMxLa63ZMx7YSN/41AC5/+Rjhg+6lYtuXBHcdhq3ookz8seaeoHD5c4T1u4vwAXdLW53mSgq+nk30bc9jztyOJq4FeV89gaM0h+ixz6Fv0gVnjYm8zx+iYvf3xIx9zu+7Gzv+VcyndlOWvoiUPqMwZ2wkcfoias4fpObM3trCdywdhS5YSn6ooy/1lgTUF+jap08f+vTpw2uvvcbFixfZuHEjS5Ys4b6HH6fpoDuJbtGRsJgEEqLCSO0+BodzHuPHj0elUmFTaFCFxqFrfh3lO79xR4SJVB74EdOhTTgqCuTtaVthFpqYxthLciT3m5/c83JBQGEII+mBxbWm8P+AtPVAuFb4/uFYsmQJd999Nykpkqfk1CHhfP5HGcFdh1G8dh4gYlNpya6zDaEKjSHh3o9QRyQSN/ENyrctIXfhPSCK6OJbsGrtej8ro/rgbWf2nyCnzFzvdVlZWfL/r28Z7Sfcr2/IH9Z3AmF9J8jkm5KN7yGo1Fiyj8lCe2dliWyqrI1viUKrl7f8AsF7XlHXFsyDbKeaaqeSb7cfwxYnMfgAdI07UrHjGz/toTcclcVYLh5B0Ohkh3/UGlzVZZT8/BERg6dJ12sNRN3yKJqktlz+eCra2GbUnNmLoNaiCo2j5uw+BI2ewu//jcIQirOy1o2l+vAmqcvIO4M6NAZ70QX0TbugiUqheL1EgBBFUdI9ZvwAIgR1GkLkjQ9y8fVhPnKR5EeXAVC1fy3VJ7YTd9eb8pZsyU/voW/WlYhB9wHI2/AJ97yP0c2wBNAltZZms57tSc/l8kk8lqFN1HxwtIYdJhNTpkwhOzubmTNnkpiYyNvzF3Dh8FHptbuLrjapNYJSTfj1kynZ+C6OyiKUhjCCOg4hqNNNAJiObiW4y1BZ6iEolCj1wQR1vpnqzN8I6ztBJv5IlncDCUkbiaOqGHvRRaw5mbhsNRR+Nwdju4GoolKoPv4roX3uxNAsDQCVMZToEbMpWvO6lMRQB+rwBKoOriP6lkeo0QfjWUh5+9g6KgqxZh8jatTTFK99IyB5DSSTiOn9mjKpZ+Mr2n41atSIXsPG80dQGrGdizC5nJTZBMgxQ44ZhXiJSocSpdbAvQ8+wt7Q6ymsslJ1+Geqj/1K1LCZlG7+hKoT24m46WF0SW0QRSfm03uoObcfTUxj9E27Bvxt+H6uf3/aeiBcK3z/cGza5Bv/ERWklQqDs37XkbrQRDeWY3Y8A+ahQxo+YG6oYfbV8Ht2WYNyueoK9/8sjG0HUH1sKyHdJB9Da+4J2fjXmn8Wl6XaL+X9z0JEQATsyd1o1awpl2zVoFBLJ/4/fqJo1SuED5qKOjIZXE5seWfk+1Yf34oqIkHuQjy4/NkMrLmnMB36GQ9jtOQXiTQkOu3YS3OIGf0s5Tu+QaHRoU1uhya2KdWZ2+TCXrLpA0SXC8uFQ1IHLIrYS7KJuPkRWacXfv1kSn56j7xPpyOxLEUElRZ9PaGxIBWMkO6jMZ/JoOr3jYSkjcRlt1J9cie4XFx6321b5bDL2/B1Z6xapYDzzG5qnALhMQn065lGp8bRPprO4T//zPr16xk1ahRvvfUW77//Pm+++SYH9u3l/m9+D+hkFNRxCEEdA2v6Eqd9LL1/ogujWiHr10N7jCW46zBKf/5IDjj2tt/yJsuYjmym/LeviLzpIYrWvoGxTX/C6pBcdI06yAsE8NW3Wi+flFilSS1wGqIC5lCajqWjiW+OMbU3FbuSqT6+jZDrbvV/QS4nlWUlRAZdmay0NCOrDkHNd1bhEpSIIui6juKj9xaQeH9bH7KUvTSXqt83EHfXm/JMXEBNkHuBVxcKAW5qG4fV4bqqVvefgGuF778Q/0lh+CsDZtnOrIFBnvXB2YBcLlEUcRSeo5N4jj3OBFD665KuBm1iqhQCW3wJAEvWH1jdwbNlWxejiW0mb4NW7l/rM5MD35mK6LBJ24D71xI77mU08S3J//oJDC2kSJWiVa9Q5HXfkF53EDv+Vcp3fkPhDy/iqqmUdHxxLYge9RQgdSGGVtLWrSeL0F5RiKDRI9otmI5K240JUz+UuyNPxp6zplJ+rqD2gyjfsRRXjYnEGZ+T+8EkXNUV6JLboFDrsF4+iSahFfaC83LRA6lQlPz0HgnTP0UVFo/55E6Kf3xT/mw9J23vWZX8+nqMpXTTB5Ks4UwGgqAg/t4PfNioRWtex3RsKxFehU+a8bRmbKdBPProo3z/3cesXKlmzLJlRAb5+jYOGzaMJ554gr1793L48GFmzZrFvHnzeOzl+exQKf/S915AoNrq8Mm49A7RddWY3HNY/y5LGRQhv+8NneF6w1lTidIQQrhOQbEysHi7+thW2dLN2OZ6TEfTfQqft+3Xiy4HL9/pYMGCBUyaNImQEF+NpFT0/CVJgaBNaIktpT0Ve1f7aH0tFw+jDI5sEBsYQKNU0DE57G/34GwoBFH8T6c31/B34M98uT3wnHz+7F57sclKfFKKn7Exbgf3iMH3+fj7qWObEdzlFoI73oi97DKXP5lGo6fXS92I3Ury6CdZPq2HvP2xd+9e+vTpw/jx40lPTycoKIjhw4dj6HAj3591YHW4GuT52SjSwJbnbyPy5kew5p5EtFvQpbT3yU6Twz1PbEdQaRCtZok04HZGSXlyLdZLx2V9YqCtTltRFvlfzyZ+8juoI5Op2PMD1tO7iJrwJgpVw1wpHFXFlKV/Jm2lubMI9c2vc8fZPIugM5LyyDKf+1z+bAZBnW/GZa6kYs8PoNKAzQyCEkGjQ7RWE9p7HObTe4ib9A5V+9dSdegnnJVFqMLiibhhukw6uPj6MNluCyD7rTHomnYhZvSztccYIFFCFEXyFj9IUKebqTm3H3VUChGD7vU5zuoTOyjd8okURaNQgtNOK/MxNix4GpVKWmsvX76cadOmIQgC06dPZ+7cuajVte9ddnY2nTt3Zuuu/fTs3o0aUxWCQoGgVKFNkggpiOJVLfuKNyyg2r2QkKFQyTNb0WkHlxNBpUV0WFEYw93yDPdj2S1S5+x0IKh1blu4KKKGPe7zkJ4ZbqBuznnxdy5//yJ3fbqDbWf8GdaWnEwKvnmapAeXoAwKx1FRSO7CqcTf/S6a2KY+elmQtg/HRhexePFiNm3ahFarpaamhrCwMPrdcAuH4m/BptQDUudWvmMplqzD7kT6MPRNuhLSYyz5S58k8pZHENQ6CpY9jdIQhtNcDgiow+MRgUQvmVJdFK+fL/+OQHKOGTd2NEuWLKn3Pv8UXOv4/kvxZ/R2/+mA2WOYveLLhVRkrCJiyP3om3QJ6Nmo0AW7Y5Ju9HucoPaDKPjuOczmat7+6Si9XJmsW7eOX375hbCwMDp16sScOXNo2bKlfJ+xOeWyrOJqnp8VFZWku8MYrpSdBhDSfTTh/e6SZ4PqsHhyP76CvZkXNNGNCUkbRcnG94i8+REqMn4gdtyrKP4E89V7K02rErDmnoKY5iAoiBn7bwp/eFFK1Paah3m0kuU7vsHYug+hve7wSbC/+PowzGf3o01ohUKtJbTX7SiDIqg69BO6Rh0oWvM6iTO+8JO8AMRNepv8r2bhNJXJXU8gmzVBEOTj8Gwl14WP+bcootFoKM8tZ9SoUSxfvhyj0cgdd9xBly5dGD16NF999RXp6eksX76cZs2kjqFMCCFp/EuMXpKJXVATc/sLAZ1ormTZ57Kaqc78DW1Sa2LvfB3R6SB34T2E9btL8u/EzaTc9D6Rw2ZSdeBH1NGNibyxtphefH0YmoRWqEOiiRr+BFWHNl11hlv7Xkm/u5n3jOTxH9+g6OhO0PmndVQflfLzLn/ha6htOpbu0zV7EKbXMHToUE6ePMmOHTsYOXIkO3fuxG63k57xOybTTuLumidJXb6ahbH9IOLvfg9VSBTO6nKqM3/D6g4NFp0Oyrd9gkIXhDalA9rk1lQf/RVNVLJEGrsKPL8jkDw4F09Ou+p9/gm4Vvj+i1FXb9cQM+i/ikldovls6jdEDn38ip6N3v5+uhRf+rk2sTXK4EiqT+5im3IAx8xOug2eRPiBAyz69FNGjPCNbwFfWcWK33P8PD9Hd07gUMZOXn3ifjZt2oTKBWqh4YG1fxWhvW7HfHo3+d88RUi3kRjim2A+ewBt485SJ9ZA6FQKHPu/Z2D7xqQ77QgqLdqEVASVBvPpPVLAqVLt45vqqCik+uROHJXFOM0VcoI9SNtypsO/EHHjgwgKJWW/LkZpDCe05+1U7vkBR0VBwMKniWmMNqUdFRkrCO8/GY1Wiz1QGOKfhSBgc4pUNBtESFEwgwYNYv369URFRdGiRQv279/PzJkz+eGHH+jWrRsffvghrqa9pAVdcGNEfGWkV3KiqWvZZ3XPVVWhsQhuJyFBJZFjQOpebQXnwOVEHZlM2PWTKfz+36gjkwhqP1jeyrcVnCfqZonhGtRu4FVnuJ7wZ+/fnemll3hh7qsED34AZUonBIXKLWw/QvXJnUTc9JBMlgEwn9pF+a7vCB9wj89r9Fh+VVZW8vzzz/P5559z++23I4oim7bt4oF1uZR/Mp3qY79iyT6CNrG1TDwCUBrDCEmTcgTLti3BknUIZ1UxMXe8TMHSJ1GHxyEoFIR0H43pyGZZP9oQ/BM8OBuKa4XvvxxXKwz/UwNm06UTCC4HkW17YbnCiMXb3y9u4jy/64PaDZS9N0uCGrFx3x+UVNWwrjSGRpfK6w3LjQzS+swPsrOz+eKLL0ib9AXh4eFMnTqVjz76iC5dujCuRyPWFivrDaxtCDwzFdFulan+SQ8uqXVjUarRxrfCdOQXjG3740SJQrQzc0AjFmYUUGN1+IWl+rxPAmiVCoRDqxnRJpxVP3zB8JlvkF6ipwajxDb85WPCB9xN2a9fYD53AAHJgq7m7D40sc0kMX9yW3nFffH1YYR0vxXLuf2U7/4OQ7M0BLWO8AF3U3XgRxRaI+qIRMDfXBxRJP6OFxGs1TgLztChS0eOl7o4++6UeoNwgYC6t7ABd6PxSrZ3Wc1c3rKUc6f3QE0FCQkJTJw4kXnz5hEVFcXChQvp378/999/P7M/WYu2hxGXIvCpyWW31OtEU9eyT8roE7DmnKDm3AE07hBYOeNSEFBo9KjCE9C4LbZibn+J8u1fU/7bV7KJefTIJ+X3TVBp/Ga4Sn0Iya3a0ePBuZSZL5KbuZ+nJt6CKrkFn++6QKXFQUjiAIZPc7FyySfYSt5E0OjRxjVHm9gGhUpDULuBPjZ8QR2HUL5zGTXnD6JQ63xsv2bNV/Kow4Hdbmf06NHu75NApj0apa4CfdOuUkxV9hHCr59S73cQwFZwDl2TLmhjmmBs3ZeqA+tQRzdCHZFIcOdbKP5xHpE3PYw2qTWIIubTe3BUFMoG5x78Uzw4G4prhe//E9QtDP/TKC4uJjoqijnD2vH8j8dxitRrH+Xx96s5dwBVhG+6ubHtAB/vzdLDWzC0vp4tp0vYeT7jituxVquVtWvXsnjxYg4cOMC4ceNYtWoVXbr4BsEObhPHnandmL/ltOQ88xfg0U3VJ2ewXDqG+UwGxnYDKd3yKbG3v0har+u5o0sCbz79MLbm/QlJlQgwDrF2D1QpOt1deAyHvnmDnq0SSU9PZ9q0aTzz6B0yG4+0kSiMYVTtX4vLaqJoxUvoGndEYQhDoQuqN4y3FgIlGxbgrCymaM0baOKaE33bC3LB8oEoShZnggo0Rkhsy+95NQgKaQUfPeY59E06+wXheuveYsbMQXQ5qdy/hoKvZxN397uow+IQnbXepdG3Pc+wvmk0uZzOa6+9RufOnXn77bcpcOcwqjVaKkqKYNOHcg6jB0Ur50ppGPYaFMYwDC16cnHeSIlUo1Ci0BoRHXYS7vtINkNQaA0Y2w/G9MdPFP7wIiCCQokmvgXxbgcY05EtmI78Ij+PLrktcRNel/+++Powueh5oNAZiRg8jYjB0/xsuA5fKuellc1461gNwvFjiIraLkinbkvC3Qv8jKhDA8QLCSpNHZboOp/nWrp0KU888QQqlYrDl8r5cNtZtpwowCVKXb8t/6zbrrCWrFN5cB3l25eCy4mxjSQ1cVmr5duE9h6P6ehWrDmZZL9zG8qgCIK7DKN088c4ygtQ6Ixok9r62LZVZqykar8UvTRrvpJndTqKiwNnLP6TcK3wXUOD4PH3G9ctiTWHLnPgYlmD/f28oarHe/NKYblHjhxh8eLFLFu2jA4dOjB16lTWrFmDXu9/EvfoAfPy8og7tRrHxSBUKR38jH/ror7YoEC3FR02Sja+R/iAezC07kPeZw9iOvYrhiE30Lx5c2w2G0+NHMhjT93A5BcXsv9MLp2v603rZo0JE8x88tQUzjVKoFOzZpw8eZKePXvyr3/9S37d5eeP8OaGIxhb9SaiwwBsTiha/Sqi04Hl3AHi734XVWgMxevn+xxXo6fXy0zMsF53EN7nzoDm4nVejeQ+Usf0W1So/Twk6wbheuvePAjvdxe2/LNU7PiGqOGzMB3biqOyiMQ7X0Wh0bP5RD57n3mMFi1aMGPGDBQKRYNyGKPHzMFy/iD28nyC2g6g6Mc3MTTvTvToZ6i5eITC5c+h0AX5beMqDaEY215P1PAnsJdconjd2/Umzf8VeLOkvSUEKP3fP+8xxH/6XFFRURQXF7Nk51le/8U39NlpKkWhD/EzUwjpOpyQrsMp2/41zspikmZ8TtGaN+TbqEKiafSkFGbtIeuEpI30+Xy94dHW/pM8OBuKa4XvGhoEb3+/pPCmHLjoL9T1IP+bpyU7NUOo7O9XvH6+nNItupxYck7gslbL3pumI1sk82CVhkmvwzS1ApfTSatWrSgtLWXKlCns3buXpk39h/3eOHnyJG+99RarVq1iwoQJLHr0Lh7fkH1lCvyflGmU71iKKjRGzuCLuPlhitfOY0P+aVq0aMGFCxeYPXs2P//0I9sWzmH48OF8+4zkq2qz2XjnvgIUTZKwWq0YDAY++OADuUvJy8tj7uPTaN68Ob2aumh2wwT2nCshfcgD5H58H2H97kIV+p+fuEVRdD9nAxg5AYJw6+revGFM7SNtFSJ5l+qbdqntNF0u7nj6Hba8/zTR0dEMHDiQrVu30qlH36vkMLrkHEZDi+4gCDjNFTiryyhZ9xahPW+jYtd3OM0VKOvRaKojk30y+v5T6NUKihfdS/c3SxAFBTZ3YQtqPwhNXAtMR34JuN3vHZUlqDRok9sSMeSBK4cmO6wYzv9G8WkNYuIAevbsiVKt4Zn5i1G39DI/t1moOX+QsOsnSR6rp3b72RV6oyGGC1fDP8mDs6G4VviuoUHw9vcbOeM51K4EbILaxz4KQLSY5MBcXbNuVGaslK/zpHQ7rWZy3ptAZcZK6QfqhjYxVTpRiC5s5w/Qy3WcqVOnMmTIkHoNdz3YtWsX8+bNIyMjgwcffJDTp08TFRUFQIlouKL0o/CHF3z+1ia18YtSAYgcOhNVaAxVhzYRf3et/Zi+cSf0TbsSU3WGcXdP4fTp03z55ZfMmzePsWPH0rp1awAcDgcTJkwgJSWFwsJCzGYzW7dulSn+LpeLKVOm0KNHDy5cuMDc555Go9EwvV8zhlTUkKcP8Yl7kaQCvq46osshz6+8kf/N09gLL5D08NcISjWCIPilaIBbw/j9v4kY8oB8edGKlxEdVgA5CNejeytc8TIxt78g2245Koso3fwxokMycXbVVKHxMhUXlWqKbBruvvtuvvjiC+Li4li0aBFZ+hbYK5T15jDaCs4hOh3omnSRAlEdNgStgaK1b6JNbi8FzOpDfHIK7SWXsOaeQHCf0B2VRT4ZfX8dIjjsWA6sxmGp5uUFn7I4N9pnceWxfqsPnqgsZ00VRatfoyx9EdEjn/K7nYcZ+vSwjpz56XeGDh2K3W5Hq9Pj0gaTt+EDWDefuEnvoFDrKPnlI1TBUVQf34Y6IpHqcwckQ3KVRprTKlUgKFFHJQMNI+tcCf80D86G4lrhu4YG48knn5Tto84FsI8yHU3HVpQlB+baS3JRBoXjslT5PI5Sa8CQ2hvz8W3ovFz+ZQgKglp255Onn7kiMcflcvHjjz/y5ptvkp+fzxNPPMG3337rZ7ztI/2wO322oALprq6GlJnf+/wtulz0n/go654aQatWrUhLS2PhwoXs2rWLuXPnEh4ejsvl4t5776WiooLx48fz3HPPcfbsWZ9jfffddykuLiY7O5vNmzej0dSyQ422cr/jUIZEYy/O9rnMUVHgNlyuJdY4TWXyYsR2dg/aVn1pUKfnhja5jRyNZCvMkgTZxgjpc+p0IyU/vU/CPVK3XrLpA8mUuugiAAp9sF86SLdefclZ9jNTpkxBrVZTXl7O8pdnIOiDA+YwAlRs/xoEgZz37kQVEo2+ZU9qzu4Db9KSUs0lt8hbFRpDzB0v4awqwV5ySU6VR6HEWnCesH6TUBr/5MnaYUMEEijlwwdH4ihMZNCg1bz27WaCe9wmLTj+JJT6YIJSe1H1x08+l9dlZDcOUZAy9AM+++wzFAoFz2w4h9nmwnL5FKY/NpC3+CEEfQjGVj1RN+1K1e8bib39RULSRnJ50QOSEYToRNAFoQ6Nw1ZwlvKdywjrc2dAso4mvtZwIRD+qR6cDcW1wncNfwoTJkxgwoQJTPv6QEA/zdyP7yPkulFoElqR/9Uskh78EqUx3GceJbqc6JLaYMs5Iftp1oVCEFjxe05Awo7FYmHp0qW89dZbhISEMHv2bEaPHn3FrrCDoZLYY99y0dgSVXJHVEqlz8xFo5Ro938FOrWSVyf2ZcuWLRQWFnLhwgV27dpFREQEpaWlhIWF8cgjj3Du3DkeeughHnvsMa6//np27NhBkybS6z98+DCvvvoqbdq04eGHH6ZTp9qZnNPp5Mj2n6gbfGto1Yv8vSupufA7ukYdcVaXU7FruUxc8KDm/EE08S3Qxbeg7FA6sS371G0IrwjLpeOo41pgL8pC0Ogp2/o5MWPmoE1MRXRYUQaFU75zGerIZByluajC4tA17ii9N407Ub79a5+ttHCjjo9+/JGRI0dSXFzMqlWrWHopiB3naou7dw5jwr0fkvP+RGInvCFHUpXv+AaFWkvU8CdwmisoWv0ahubXEdJ9tM+xJ9y38IqvLajDYHnLOhAaPb2e6CANfZpH0yRCy5r5T3Nk3y4e3/81K1euJDwiAldiq79U9ACc5grMp3bTvkNH+nZKrJeRvWX7bmwOF/tVbSg22RBSQtCLoG/WlbDed5D35UyCOw7BkNqby589SPSY5xBUGqmDA+KnvCObFQBUn9xJ8bq3Ce46DKU+hIjB04i8YRo3tollRv/m/ycSqb8T1wrfNfwlBLJNs1w6jqOyEENqH5SG0FqnfnduYOXeVVQdXC/P0yJvecRHoG3NPSnbMgE89Wk4Y86dZcXBHE7mV1JSVUPexfOczNhCW30VH3/8Mddff71P8G5d5OTk8Nxzz7Fx40bmzJnD9OnTqbKJPtIPrUpBtdXOsTPZFLt0flE5V4JOrWDOLa1pHKJgyF13kZKSQnp6uky8KSsrY9WqVZw9e5bXX3+d8ePHs3HjRrKysvjkk0+YNGkSNTU13HnnnYwcOZI//vhDJrp4sHz5clzndvs9tya6EVEjZlO+bQn28jwUWiPG1L6E9h7vcztz5jYAbJdPSce0dTERg6c16PWJDhs4bIR2vxXTkXRJe2Yux1ZwXta9BafdSuWBtQgI6JtfR825/cRPloywg9oOxPTHJopWvyo5/MQkk2SQ7LZmzJjBzp07mTdvHu3ufRPw7WobmsOoNIQSedOD5C15HEPb/leelf1J6NVKFk9Ok0/wMwas5IEHHuDHH3+kS5cuVJptVP4w1+1iJCF8wN0I9cgxPPBEZSnUWnQp7Rh57+M8d4c/AcnD2Nx6NA+rCz6b+4ScCK90b+sKCiVRtzxKwXfPSkzjtv3RJbW+4vMbWvSQtjQvn5bdfDyzuv8ridTfiWuF7xr+Ejomh/HsLak+s7PqY+nom3SWyQV1A3M9Lg+iKGIvvkjh8n+j1AXLPzx5xudGdJCG3m9slYTGcjcWjqH7bWQJCr7NCSI8pyKg9q+iooLXX3+dTz/9lAceeIAzZ87InoaRGpjer5l8UtmcmY/dbgOlUV6415I/6oOIXq3i2VtSGZiioVevXpSVlXH06FEftunJkyfJyspi2bJljBo1ii+//JK0tDTat2/P9OnTuXTpEm+88QbNmzdnzZo1bNu2zce6y+Fw8MILL2CuqODWl5dyIN/u02V7O/wHQtTwWRR8+wzJD39FYlwsB96c8qdYjS5rNQgKDK16ozSGY7lwEE18Gyp2fUf06Gdk3Rs2CyLgslQRN/ENL92bmthxcynf+Q0F3z1HnsXEB0nx3DpqFP369SMmJoby8nIO/bYBbXS3v5TDCBJxRd+kM5UZK4kYfJ/f9SqF5Ndpr6sluAK851fFJqu8AHP2nkb7uH4c3/ULpr3riB4zx481e7UZX/gN03xmq5+s+IVE8zmmTJmCwq3/9DGaVuqImzCPiowVlGx6H6epDH2zbkTe/DBKYziauGYEdRhC9YnfiB4z56qvTVCqpJBq9xgi0Kzuf1si9XfiWuG7hr8M79mZucZ8Rad+bwiCgCa6MdrE1tSc2+8XWulBkckW8HKbE8DFLwoLiagAACAASURBVJkFbD9d7DNnsNlsfPzxx7zyyisMGzaMI0eOkJiY6PcYSzOymLvxBBabUxpY1DHDrq/ouexWNBoNg9vEMaN/czSmfHr3HkDbtm3p2LGjT8Duu+++S1FREWvXrmXChAnMnTuXoUOlE7hOp2Ps2LHMmTOH3377jcaNGzNr1izatWvn83zffvstAO3atWPOrddxx6I9WP6EP6tnMWIMiSAxTM8Jr8VIvenl7vmfy24FlxNd404ICiW6lPYIGj0ucyVxd0rJErrktugad3Ln6dnRJbdDE93Y5zE9urfIwdNwZB1k66t3yVu8giDw0ksv8c5Hi7CFdvTpnK6Ww1gXId3HUPDtM4T2vE2e33nPoiDwnLcuvO/TPjGMaV8f4LfTkh60tjBHYOxxB0UHf6n/gf4EevQbwCefPMvixYtZuHAhR8whfoQsdVSyLK/xSDNKtywieuST7utTUIXGolBfnZ0pOh2Szk8fjF793zur+6u4Vviu4T+Cxzbt8dc+JEdQEDXgLsr++AVH+WUEtQ5BG0T5nh9QqDQyg82SfRTRYUN02NG36C67qjiry8j99H6cphLJuiu+OVEjnkShDZwS7639E0XQXtrHv/71L1JTU9myZQvt2/sndoNU9F5adxybCz/2Y30QXU5s+WeZOKgz8fEJZJeaef6Hvezfs4ObHnqNPcsW8MGsWsH1559/zjvvvINOp+PZZ59l4sSJ3Huvr5nz0KFDGTt2LA8//DA7d+5k9mxfzaOn27PZbMyZM4eOyWEMS7Cx8rwLsQGpFd6xQXkf3kW2U8RisciLkfrSywW30bbp8C8gurBc+J2Lb7h9Od3dukc2YCvOpnLfKuInvY3odJC/9EkMrXr5ib4B1AoY3zWW4cOHs3v3bkJCQmTd5cCBA0l7fBGm0CY+87Ir5TB6QxRFtAmtSJklsYjrm0V5W/yJosu9iCLgfY7klDNuUUa9XrjexgQBIYo+MhmgNn+xDpJjo/h+zx4WLVpE525pxIx+Fm2TrvL1dY2qSzZ9iCoiQSYRgZvFmnfa77EDwXwmAxQKbu7fm8eHd/uvndX9VVwrfNfwH6NDUhiqczvo0bUzR/f9wMDJT5P5/9g77/Cmyv6Nf052mjbdpdBB2XuvsqcICMgGBVRQwIEDfV/Fjai4QBQRUERkKDJEQESUJZQlG2zZu3uvpNk5vz9OGxpaRhGFn+/5XJfXJUnOyZPR883zPPf3vpXVEZQqcncsofDQevQxTbHEb5F+0SuUKH380VVvgWgrQrRbyN74mZdCT7RbsJw7QNJnowjq/TTOnBTy96zwOHVoQqII7PaoNGt0uPnvp0vIWTONX3/ZQNeuZTPDvv/+e2bOnMmxP//ELmhQ+VfCt1F3fJv1wVWYTe7mL7EmxiO6naiMoRhbDfSIHkSng7yd32I+vp0Z3+Wj8gvB0PRejK0HoarRlh05YO8+mWVJfgQl5nFi10Zee+01fv31Vxo3bkzTpk2ZMmWK13jcbjdz5szBx8eHhQsXsnv3bk9bQwlLlixBp9NRqVIlunTpAsDxdV9w370PsyVbf8OZi+X0bgRBwYwVvzEitgaLdl/ki+1nSVktxQZdK71c6SNdBAsPrkPQ+hD+4Aeec7rMuWSseIOCfT8S0Pkhsjd8in+bwR4RhV/L/mRvnE2lB6Z5zZo1CjDvXMzjSz4i+8whHnzwQdauXesRJOn1ehb+ZwTDvtiNqKy4UEStFFBmnkWlVNAxtiXNqoWVuxdVdv+qgNMXkzh+9CD+GgezJo2kTZP6FUo/8VigFaOLaYpPrVhsySe4PN1bbBP94toyx5fYfSkUCiZMmMALr07BfZXq1lmQgdtu8TgeiU479pQz6KqW/+PuWrgshVjOHyBvywLuGTGeb564trDn34wcSyRzW8jPzyciIoKFCxfStXd/Wk/b7GXNlPXTdNxWE2FDp5R//B+rsSUdJ2zwa+W6jeTFfYszL5WQfv9BdLvIi/sWc/wWzy9g66VjmDZ+gimnbIbcjBkz+PDDD3n44Yf57qIWZbVWODIukr9vNSF9niN9xRtowqoR0OkhBJXUm+gy53qWYDNWTcVlziW4z7Oog6Owp54ha/0M9NVbEnTPBM/zCAKoBBFz3BI2zn6VDz/8kOXLl1NUVOS1bwfSMuiyZctITU0lOjqauDhvJ3yHw0Ht2rVRKBTMmjWL++67j8TERJo2bUpiYiJnc+y8snQ7Cbmg1Wi8XUGcdpQqFVnLJnN/z64s/nK29BmYbLR9bzN5CVdig8x/bqFg/xqv9HLL+YPoqzUjb8cSjLFDCOzyiNfYkr+cgNtqxj92CKY/N1P5kU+uxPw4HaQsfBpjqwH4Ne3ltWyYvH05a9asYfPmzfTt25eWLVvy0UcfeZ174c6zTF0Xj3iN3LryKInbGtEykrfeeosFCxbw9ddf06tXr5s+R0xMDPfeey+rV6/mvtFPstcQi9Xpxm01kbt9EUWn9yDaLKgCwzG2GuDVFG5NTCDv94XYsy4jCArUwVEE9hiHtnLt6zzjFbQqBbtf6kawr9YTARbU2/v7bz4RR/bPM1HofHHbzIhuF9oqdQgb8qZnRSR320IKDqyl6n/XeJ3/0vt9peit4uR3dVg1Apv3In7J2//vRSq3ijzjk7kt7NmzB6vVysCBA/lq1yVUCu/2AMvFIwR2fviax2ur1CY/bil5cd9KGWlXNWaXRlAoMTToQsGeFV5OHTani2yTzeuPOT8/n9dff50mTZqwZuMW9P2m4nB7p0rYU88Q1H2cR26vCb+yoW+5eATLhcNETPgSlVHav9NG1CWk339IW/Jf/Fr288jERREcooBvp4d4b+VOjh0+TGRkZJmid+zYMd555x2efPJJ1q1bx6lLKXy+9TRnMs2SobFORcHlE/iFVkbpsNCnTx8AFi5cyIgRI/Dx8aGxjw+BCauY2KYDvo17eJR3Bo2CpbM/YGTbGlSZMMpLIRriq6VVhA+7ne09sUHlpZcXndyJOiS6XAs3wCtstUS45PlsVGoixs1DcDlQ4Oae+pU9S43u1v9l9+7dvPrqq6xatYo2bdrQoEEDHnnkEc/xYzpIys2pP8UjCsrrtgmU10v29ttv0717d0aPHs2wYcOYNm0aWu3NXdyHDh3K22+/Td8P1mGxO0F0kf79ayh8/AkfPR2VXwjWS0fJWj8Tt9WEsfVA3LYiMlZNJfjeJ/Gp2wHR5cSWlOAVzHsjjDoVb/98nLrhRors5X/vlT7+KPR+nh96JeYDpbcB9NVbYC5W8JambLSUZDH2v1r0QC58MreJ7OxsQkJCUKlUnEwrKNMT57YUoryOzFwX1ZDQga9QeOhn3OY8Mla/i1/zPgR2HVumvUB0OTDHby3j1AF49f6JosjUqVOxWCx07tyZyHvG8Nnv58HtvXylrVKHnN/mYs9JRrRbvJ5PofcDt6vMXk3e9kUIah3ZP3/ileEmupycnTGc1AZd6fTwh5w+dZKnv93Hl491Yd3PG+nUthUPPvgg//3vf5n+9Up6PDuT3Iv5fLL5NI5Se0aiU4/Q5UUaBgscS8qnYRU/FixYwJo10q95p9PJL7/8wrRp04iKivIcd+TIEbbkJZB2SaRDK2/nGYAHm4aw+0IeKMrfa7JnXsKRnYim0q2p+RQCdKoVSk0/N5889wCv7Y0jsnj/SKFQ8M0339CiRQvatWvHTz/9ROfOnalZsyYdOlyx3RrToSYNqxgZO/17TH5Vy8xoFaITtVpzzV6yLl26cOTIER599FHatWvHsmXLvDIerzt+H3/yfSIQnG4Kj24u9hl93/OjSF+9BUH3jCd7wyx8m9yLIycZkBTMIP0o01drfs3zl0emyc6aIynoVGnYXdcPXS5NSUuEB7cLhc5ww+P+P1qM3W7kwidzWygxsXY6nRRYy/5qLc/B42r0NVqir9GSpDlj8Wveh4K9q1AHReLXrDcA5hM7KTq7H9FuQaE1EDrwZa8iJQInUyV59oULF5gwYQKnT58mODiY999/n+eWH8bmdJdJlQgZ+DIFe1dJwgDRjSo4kuDeT6OtXJvsDbOwpZwie8OnVBr5AYIgUHj0N5yFOaiDI1AYArElxnvGYE87g9IYii3pOAm5QFhdVv26A4fLzdOb8wn6ZRlVm3fiu32XMQ58gz2JZlCocFx1sSsRQSTkw4j5exkY4yYkJIRmzSSnmz179hAZGelV9AASEhJo0KAB586dK9fXtGEVP8RDP6BqNQyX4P2DInfbQswJ2wjo8sit+YG67AyqrmD6mNbSPxMe4ZlnnmH16tWehwQGBrJq1Sruvfdedu7cyeLFixk6dCh79uwhJibG87hW1cM4MHMC/Yc+iLlSI1p074/J5kKvgj0bVlHZeomZryws16gcpO/jjz/+yNy5c2nfvj0zZsxg9OjR11briiI/HU3h4+P7sLukImu9eBh99RZlPCx96rQna910bMkn0EbUQxAUZK3/uEx/XUWpqIn11S0RJQKY6/H/1WLsdnNrdgMyMlfRtm1bdDoda9aswagr+3tKH9OUolNlm7CvhSa8Jrqqjb1Ua4Z6HYietJzIp5egDq2KPe1smeMSUvKZOXMmrVq1okePHsyePZu8vDycTieJaZL9Vfjo6URPWi7N5kQ3Sp0vgV0eQekbTMiAyWjCqksxOKKIwkeaVbrtVkyHfsZlziXv928I7vMsLnMe2vCaOLIScRXlA9J+j6FeJ9wOG0mfP8Ll6YNI+/ZlRJeLlPWzOHsink0b1pNX4x6cKBBFSP/+NclWqhTp379G/p6ViCKc+fRh3ht3Pw36XUmI/+mnn0hLS0MQBI8yEq4UvvPnz5db+NRqNc6T24jVpqDE5SVqDew6hsiJizG2vCoQ+AZTEEGQGr1H1NHwy2ev4CpukZg8eTIJCQmsW7fO6/HNmzfn3XffZfDgwXTs2JGXXnqJfv36UVjobW2n1WpZt/I7/FP2k7xqGvMebMrska3Ys/Bt/HVKevToQU5O+T+mskw2vthxntPBbenyxve89dtFujzxLhfTvCNzjibmMX7JAVLzrfxwKInjqQWelyvF+pRdpRAUSqkHzlKAQutT3HsqkL3xM5I+fdCzJ3w3UfIZvdqn3v9U28K1kAufzG3B39+fqVOn8tRTT2E98wdq0Y7ocmI5d4DcbV/j32EktuQT5G79GpdJuig4clPI+mk6zoIsEmeNJPu3ubisJgDsaeckQYEgkLV+Jvm7luEqKgCk/Q7/tkPJ3fY1zqtmkbu/nsrzL7zAmjVrePHFF+nQoQNarZYXXniBP+J+v+HrUGgNGNsMxGXKwW0tRBfTFFvqaQI7P0Re3FKyfpqBoUEXBIUCV0EWPnXaofQPw5aYAIAtMQFtZAPJzsvlIHTIG+irNcOvRT/sqaexJR3HkZ2IyyolpotuF/aMC7gdNk/xFN0ubMkn0UZd6elTBVTi171/cixJcjdZuXJluXtXCQkJVK1aFbfbTVBQ2Yu2SqXC4XAQG+KgXdEf3Fu/ElqVAo3SeyakUynQqhTEVgvCmXIChehCKV6VcOFyoBJE7q1fieXjY3lvbB8CAwP57jspR06r1TJv3jyefvppTCaT16Hjxo2jefPmPPHEEzzzzDPExsYycuRIT9EsQavVsnr1aqxWKw888AAOhwONRsOSJUto27YtHTp04PLlK36lJYWs/Qdbmbn5NGuOpLA/xYorqgWJAY3o8vFOhs3axNHEPJbuvciI+Xs91ntXN7crfIzlrlKIbldxD5xkiFDSXxf51CKqPPY5LlMOyfMew3X5qOcY8/HtJM4cXtzK4yD3929ImjOGy9MHkfzFOPL/+AEvnWFxYkjmuulcer8fTnNZr9aboeRzLPmM5KInIS91ytw2nn/+eSpVqsRHMz7mXHyCJ2Xa2HY46sDKhI+eTt6OJaR89SSi6EJlDMO38T0ofQMxthlM3vZFmI9vR7SaPd6PwfdMIGv9TASVBnvGBc9zqYqDWEs7dYjFCdFaHyN79uyhQ4cO+Pn50bp1a2bPnk2/iVM45rTiUmq8UiWkXLmuiKJIxqq3pbYKQSB53jgCu45BH9OEvJ3foq8Zi+XiIXQ1W5P27WRQKElb/AIolJhP7sRlM2M5t1+6uLld4HZiSz6BLek4xjaDEAQBe9YlBK2BlPlPIDqsKPRG6X2KqIf1cjyGuu2lmawooq18ZR/G0KAreUe3MOf3s/wnNoCMjAxefvllXn/9da/PICEhgdGjR1OjRo1yl/XUajVOpxOj0Ygi74BH2r9i/2WmfPIlve8fTKBB52VNNXL7bKqoivjhUDIDH36iWICjxpp+jhM/f8W8aVfEE9OmTeORRx5h+PDhaDQaunbtSufOnZkyZQrTp0/3PE4QBObOnUubNm1YsGABn3/+OT179uSVV17hgw+utE+UOKZUe/Atft+1lzbPzeHRwb0Z0boq06dPJyIigvbt27NhwwaOmv2uOJ2UM0l1CypQwh/JVgbMiUOlVOK4jj+rLqYpedsXl4nsKTq1C0GlRlulbtn3tzj6KH/rAga3iESIiOCHZUvI+W0+oUOnoIus55kRhg1900sl7CrI8qiEr04Mydv+zTXHeTUKAdrXCCHEV/uvsRi73ciFT+a2cj0Ta3VwJKEDXy73OP82g3BkXkJ0ObBeOobotBE24p0rx4ZVw5FxHuvlP9FFX+ldMh3diH/boYDkK6nQGjC2HcTXC79hwoQJjBw5EqtPJdqPfY2NK5diz7xUJlWi6NRuMle/i7swC0GrR1e1MYFdx3pFt+TFfYvp6K+4rSbyNs/Hp14Hgvs+D243edsXYzl/EHVwFIJGT/TzK7FlnCdt4XPk714OIih9g7GcP4DockouKNWaEdL3eXI2z6fo+O+4TDnYEqXCZ01MQFOljpcyUBtRF3PCNjbuOkhEqgVBEBg9erRX4SsqKiI5ORmHw3HN3MKSGZ+fnx8FBdIMOthXyxNdazHryfX8p/XDZdxjevXqxZo1a3DG72dco+eoX1/aZ7Tb61P1vYmcOHHCE73UqVMnateuzYIFC3jiCWn5dsaMGTRs2JDRo0fTpEkTz3kNBgM//PADHTp0oEWLFh6lZ/369Wna7X4+//2st2OKMQaA6b+eYNa2c3SpE8qTQ8ZQuXJlej71Nn4dH5ZMCa7DtVoPQEqxyFo/E8uFg4h2K0q/YBAUZKx+h5BeT5M871GCej9D3vbF+Hd4EIXOgCM7EcvZ/fjU64TKGIKzIBPLiR2oNRr6Nq7CseO7SP7tK8KGT0VbudZNqYRLEkNMf26RWkpaD8R09FeqPDbH8zpKp8SXoKvamKiJi+j5/ywU9k4gFz6Zv4XyTKxvRGCPcaTOfwJEN0E9xnuZDetimmKo35m8HUu8/DxLnDqUhgC0laqjCa+Jvm5HTm1eQJMmTajXfzy5/k2xOd2EP9y63OcN6vk4wDXTygWVhsCuY1AHR1FwYC3O/Iwr2WlK8GtxH4UHf8KecQGFRpKXa0KrSan0LjcgkP79q6jDqmG9cJiATg9hTtiGoFDiKsjEv8OD5G6Z71lWsyUmoIv2Lj4gzfoKj21h0UmRmjVrlrFiO3nyJDVr1uTSpUvXLHxqtRqHw4HRaCyzp1arVi3OnDlTpvD17NmTZ555hpEjR7J27Vrq168vvUaNhscee4y5c+cya9aVfMJ3332X/v378/DDD+Pj40NoaCjTpk1jwoQJ7Nq1yytFo06dOsyePZuhQ4dy4MAB1q1bR4/H38LvTAgOd/nbi6JChc3pZvXK5Sx+cS3u3CRcSh15yefxbzvMkw1oOraZ7A2fEHL/SxjqdfS0Hvg174sjP4OICfOxJSUAAi5zHtlXCUN01ZqDy4HLUkjqYsmVp2DvSgI6j/aISgSNHlvqaQr2r8FtM6PQGvCt1QZfTMydO5dN27YTNWoaBMcAUjCvtkodT9ErQVulDkq/YKwXj3raY8zxWzDU74Shfidyty7Alnb2mkbdnjHLis2bQt7jk/lbKDGx1qtv/ium1PmiDolGdNjwqd2uzP1+TXtLv6jPHShznzM/A+ulPzHU74LgE4g2ujFFYfU559cEq+PmJeI3QlBpPCo+y7kDuKwm1IFVUBoCsF48jFDSVyW6Pb6Tvi37EfnkQjQh0Wir1MGnTlscmRdxWU3YUk5Jy71+IbgKs6Tbko6jiypb+HwbdiM//neSz8QzceLEMvffSNgC3kudJTO+EmrXrs3p02UtrypVqkT16tU9RtqlGT9+PEuXLvXawytpV/j88889t40ZMwa1Ws0XX3zB1QwfPpz77ruPRx55hEMFBnw7PYzddX1NTcG+H8nZPB+/2KFUfmoJEU8uxK9ZHyxn/vA8xhS/BYXOD3P8FgBP64E+pgmCIEjJCFGNyN/5HUpDAOrgaKJfWkfVyeupOnk9wfdMILjXRMIGvkzUM0sBCBv2lpeSUuUXQuiAyUROXEz0Cz8Q9fRiRjw/FZVSwaZNmwit3hAxKNrzeEkwE1jua1L6BuG2SJ9J6e+z0hCILqYJ5j+3XPsNQVZsVgS58Mn8bYyKjeHVPvXQq5U3tMQUBLCf2I5YmIkupgm5vy8s+xiVGv92w8mLW1rmqpjy9dMApC19kcSZw3EV5ZJ1bAdWu4Os9TPJ3bHE6/HOvHQuvd/X4xOatX4mroIMMlZM4fKMIZ7/kuc9xqX3+3rc9gWFslwVn6ZybUS7BWdOMpdnDpesqorP7VNd8lwsueipA8JR+gZhOrIRlTEUhUaP0jcIpV8IpiMbcTssaMpJCVf5h6Hyr4Q94yIPPPBAmftvpvAplUpcLpfXUmcJ1yp8IC13pqenc/bsWZKTkz23R0VF0blzZ4+gpYSpU6fy0UcfkZ8vCXYUCgXz5s3jzTffJDU1tcz5p0+fzrHzKYwbfC/nPhpM4qyRpC56nsJDPyOKotdn6Laayd2xFF10I3K3L+LyrJEkzx1L4eEN6KpJs3Vnfga2y/EE9ZqI5fwhXOZc1EERCIJCUss67TgLs8hYNRXR7URp8MenbnuvAN9bofSMa968eWSnXCJ7wyyPcEUSzJSv+HSZclAUC2bMCdtQh0ShqSR9job6XaT973KMHWTFZsWRC5/M38qo2BiWj4/1qAd1Ku+vXInqrFOEGmvc19z31JsE9ZpI0cmdWC/Hlzmfb+N7cNvMFJ3e43W76LCCUomg0YFSjSM7GbfVhOX8wZseqyooAp+arYl+YRXRL6wiatJyRKcdVUDl4ufuQfioD8tV8QkqDcF9nkMbUZfoScuJeu57BJUWfa1Y9MWFr/RFTxvVgIJ9a9BGScuGLlMOmpBo6bbwWijU5YsRgvs8S+yjb2AwlG1UvpnCJwgCKpUKHx+fMoWvZKmzPHr16sWmTZvo0XcgryzZxnPLDzN20X6eW36YGn0n8Nn8b7xUifXq1eO+++7j448/9tzWoEEDxo0bx6RJZU2nP/vsM9IuncOv9UAiJy4h8umlBN/7FNak42VcfGwpJ8Fpw5GbSkjf54l67nsinliAsWV/LGf3A9JsT1O5Joa67VGHRGFO+P1K64Eg4LaYSP78EewZFwju9Qxuq+maM7Gb5eoZV1hYGENe/wJbUgI5v0n7c7qYpthSTuEsyLzqNZ3CVZCFrmrj4vFvxZmXRuJno0j8bBS5WxfgthR4fZ9lxeatI+/xyfzt3Eyw5RNjRzN40EBadO9O/ObTBHQdQ/bGzxCddlyF2SAoKDy4Hk1IFNrIBuTvWeU5vy35hGd2FdLnOTSVamC5dIScX+eQv3MZzsJMfJve2LfRp2ZrTAnbcFlNKHW+WM8fRBNWDbfdcs1jSlR8piMbvRw7FBo9gs4P68Uj2NPOoQmvgS6mKQX71+IsyEQX1ZCi49vRRTYovuhl4tN1LEWndqG9TiK4yi+I+zuW7wySkJBA7dq1SU5OJjo6utzHgCRw0el0FZrx+UTVI6VGX3IjWuLOdSLmp3ju06kUWLu+yNBZm3h9UGtPPuKbb75Jy5YtmThxoieu6bXXXqNRo0Zs3LiRXr16kWWysWT7CSa/+hqBfSbhU6e957ylbeVKY7n8JwBhg19HZQzx3K6v3sLzI8McvxW/5n2B4lzIP7dgbD0QdUgU/rFDsF7+E9xuFBodub8vRKG/9kzsRpRnnVZCy/o12DrqfS4vfpGczfMJ6jEOfUwTMn+cRnCf51AHR3pUnb7N+6AOisCWfAJnbiqVx8xC6eOPViUwOrYqP3/1EbmJu+jUr9+/KhT2TiAXPpl/jGsFW65Zs4adO3dy/PhxnCo9Mzefxq/JvRQd344t7Sy6qk3QVKmNf+tBWBPjydn8BZTKJSgsWYbU6Ck6tx9tdEOsFw6jjaiP9eLhMrZm10SlwadmG4qO78CveR9M8Vvxa9iN/EM/ex5Snoqv6PgOtOUsTUZN/IbcrQvI27WMsOKw0tIXvegX10oXvZ+mY2jYDUO9jh4PzdKUqPwABEHBo90k8Uae1cXc38/yyR+55G5Nxdx4CD+eNFE5phYazbVjizTGYL47nIm+2+OM+WYf/no1dcONDGkeQWFhIQUFBZ7QXrgSiKqp1gKXKIDC24fS6nSDUs2BVBsj5u/1FICYmBgeeOAB3nvvPc/Mz8fHhzlz5vD4q+/RLS2QnedyMJ87gNNuR18r9qY+JldeGsA1Z2jWpOM489Ix1OsESMuEeduXYE8/71k6VPoYCeoxgcy1HyKKbgwNulJ0eg/+HR646eXOa0UflWZIi0hmbg6l0gPvkv7tZASVmtCBr5AX9y0ZK97EbSlA6RuMb5OeGGMHA5Ka06dWLJqwGGmsKgUT72tF72qv0rFjRz7qV6PcHk2Zm0cufDJ3nAEDBjBgwBWz4861Q9l0Ip1KD0wjac5YjLGDPUpLn1ptUBoCSFv8Hyo/KqUO+Dboivnor4guJ6ZDP2M6tAGlbyBhw6ZiT+tI7u8LKfhjNYUHS5n1iuXr3g0Nu5G77WsM9Ttj9Rc/zQAAIABJREFUvRxP8H2ToLjwiaJYropPX7M1gV3HlutM49fyfpK/eAx7xgU0YdW8Lnoucy64Xfg170tgt0fLHFsGUSRaVUhSroWXf/yzTDiqvl5nFh/ORhjwLhOWHuDJzjW90ulLEucDHvqMeTsvY2jQlW2npHPoVGk8fX87nFYby3/bzbgh0gx56d6LPDagO7b080Q8vgBVQCVsqWfI3/kdtqTjiIDKNwh97bYY2wzCIvjy7oYTAERaLzJ79mz0ej2TJk3y2Ktl+tdB6D6JLacyAQFrYT4KH6OX/dzVtnKlEZRqEBQUnd6DoW4HXJZCkuc9BoiITge+DbsBkLLwaa/j8vevQRsag7JYUampXAuVfxjO/HS04bUwx28je/1MAjqNlm4vzKJg34/4NuqBJkwKzhVdTnDZqVvJj76NqzCsdQxh/mXzIku76XSuHcoml5vIp77x3BbYdQyBXceU+zEH97oiXBIEqbAG+2oJbt0am81W7jEyFUMufDJ3HTdqhdBWqYPSGIIt8Tia0BhM8VsQVFpCBr1C9rrpBPV6CkFQkP7dZPzbSyIQY5tBBHYa7TmHMy+d5Hlli40uqgHuogLydy9HX7OV116bIAio/EKoPOhlnO6ykkPfxj08GX4lqIwhXjExJa0RJRe9rPUf48hOhBuIfwBwOWhWJ/K64agON6BQlUmnL5m1WZ0uBJUG21WN21anpHxVBYTzypc/oo+U0sdfX/gLLseVi6016QQZy1/Hv90wgvs8g9IQiDM/A9OxTTjSz6Os2hiLw827G05yZpoUXmuxWIiOjkan0yEKCuxON0G9nsJ64QhKYwi6iHq4iwoQ3S5cBVkkz3uU6BfXIiiUXPqgf5lwVaVvECr/MHJ+m+fpiYx65ltM8VvI+eUzzCd3EtRrIj41WnmOKTq1i9y478Bhw7p3FW5LAWmLX0BfszXqsOpkrZ9BcN/nsZz5g9TFzyM6bCh9gzHU7+QxSwBI/UoyI78E/Aro5s8vEzB8NbfS2lOC3J7w9yAXPpm7jpJWiJKZQ3kofYNwWwtxO6wUndwppb0rlPjUbY85fhthQ14ne+Nsj4S9NGnfTsaefs7z7/w9K7CcP4hvU0mmbmjQhfxd3xM66FUufTgAdWg01qQETMd+8/QQtqseTEahlQKrk8xC23UDYa9HcO9nKNi/BnvaObQRZZ1AStAqBYrOHeZXfVus1wlHNSVsI2fjlTaCh96HsQoBh82Cf4eRWC8dxZZyCkGhRFBp0EY1IKjnE56eSaVvEDlxy3h3wwCqBhvIObJJauDfsQRnfjp5cUvxbdQD/7bDPM+h8g8rk4huLjIjKtV0HjeFuPlTQKlm0tsf82NBjKcAWC8ckV5bRF0ElZqi03tv2KcGoItpQuHB9fh3eZj83cvJXPuhNIMv/iUgOqy48jNI/qLY0cftkvaARTdFZ/ehNASiVKlxFWZjTtgGCb+DQknW2g+o9MB7hNz3XLnPW3Xyek+kT0UaxEt/n28m2NbzOlVye8LfhVz4ZO5KSkQCY2aVPxlyFWaj0PlRdHqPtERWnGZgqN+F9O9fw/TnlmKlnvdeiDMvHVvScQT1FQsqQ4NukjVVsU+oX8v+aKMaYM+6jCa0anGIZ6lzuEX2XshGrVR4lhlvFUGpwj+2bHwQQPry19FWrkNAp1GECYUkV2+B1eGm6PResn+djT6mKeYTOxGUKgSlCk14TYLumUD0C6twW03kbPkKy/kDOKxmEBRSziFSw75fk3txW01krvmA3K0LPCISpV8I9rSzFKRe4oStCuYTcYSP+pC8HUtwO23Ykk8S0HHUDV9X0andCGodF4yN0MY0w5oYz4IDmeirRZV5rELni3/7B8j5bS7+7UcAIIpuHOmXym3m01drjq5qI4ritxLQZQyZP75L0D2PI4oiOT/PJGzomygNgQR0ksZpOrbZ60dLCZfe70vlsZ+hDqyCIzeF9G8n48i6hC6y3jVf163OwEq+z9ezVCtBEEDhduHcv4r2Y9+o8HPJ3Bi58MnctYyKjeElPy3NqgaQwBU5iy31NK7CbLSR9SWZt90KtiIyvn/Nc2zu798Q3HcSXGV6bIrfKjlnBEdiPrYJkJYjFYYgHJkXAVDq/dDHNCVv+yIMjbpTdHJnmbG5RW6q6CXNGYu7KA8EBYJGh75aC4J6Po5CI8XpWJNOkLdjCfa0MyAI6CIbENB1DJqQaHwb9SB3+2L8O47kfEYBKV8+gG+z3riL8jDU74LbUogxdjCBnUbjdljJ/uUzsn7+hMoPzSBny1eIDish979E5qqpBPWaiKDWYks67hmbQueLT+1YCkuJdwBU/pUwxW9BF90IdXCkZN0FuG1FUppFKVFJ7ravKTzyK7idGGOHElBcuMx/bsGnXkdPaLDl/AHpTbsG/rFDUPoFU7BXcuJJ+uwh1IGVUeh80YREe6V0AIQOfJX8PSvI/vljRFsRedsXoQ6NIWzYWxXOwwNQB1ZBG1nfyw/2av5qg/io2BgaRwYw5/ezbDuViYB3FNHVYpkday7Tvn171q1bR8uWsgXZ7UQufDJ3NWqlgjqO8xyKP4KmYU+KLseTu/lLDA26oND7Yr10lLBhUySLsGIKDqzFeuEwvg26Yjq2GXVgFQLaDUd02iVZe8t+aKMaYI7fKqnqDIEEdhtD/s4rTdiO7CTs6RcIGzoFY8v+0qyhnGXTmyF0yBsE1mxOUX42ad+/Tv6elQR2fghbsrRfFtBpNGGDX0N0uyjYv4b0Jf8lfMyn6GvFkv3r59gSE7BeOoZC5ys1MTvtVH5oBgX713qeQ6HWYajfhay1ksGzPfU0xtih5Gz4FP92w/Ft1B3AS+DjshRQdGq3p0+xBFVAOObj23Hmp2MoFooAUtq3oMAUvw3rhUM4spNQaPTSEq3bTf6uZRTsXSX18zltWJNOUHjoZ5S+wSBC4eENZKx8E79W9xPUfZznvEWn95C5+l0MDbsTNvh1kuc9StQzSxEUSpLmjAWlipC+3r1/gkpNQMeRGFsPJHnuo+iqNpHy8MpR194MjuxEbIkJGNsMLnPf9doVKsrNtPaUtCc0njiRyMhIevfuzcKFC+nbt2+55ywx8j6ZVlBsIK6ibriRoS3kVodrIRc+mbsWp9NJTk4OM2fORK/XY93+HargKIytBuDbrDcFf6xGE1atzC98vxb9KNj3I/biGZwt+YTkpFJM7pb5RL+4FlVAZcwJ2zG2HoBP7bbk/DoHa9IJdJH1MMVvRV+9BanfTCK4zzOeY83Ht5Pz6xxCB79G+ncve0QYWetnYo7fQvhDMzytDY7cFFwFGfjpVFQN9uGMy42+enMcGeelcWxbiKFhN4yt7vecP7DTaOxpZ8mP+5aQfi9gqNsBc/xWrJePEdBpNLnbFqI0BHpk+SW47RbMx3/33K6pXIec3+agCqhcpk1ASu5egGgrQh1WjbA+z3rdbzl3QNoPOxGH5fxBcjZJNmMKlRalXwgF+9cQ2u8/6Ko1R1CqsJw/SN7v3+DfdhgBHUeSv3sFeTsWo9DocVsKipeQRRxZl1EFVKboRByBXcdKS9QuJ6b4raiCJN9R0S01q1+eMQRBoUR0WMlY+RYRj3+Fyi8Yt62IpM9Go4tpQtiQNzxN6ekr3qTo1C5EpwN9jZYE934ae+YlstZ+6Fk+LY/Uhc+C6EZ02DDU64Rf8/s8991Mu8Ktcq3WnqsZMGAA4eHhDBw4kClTpjBhwgTPfSUq3avVvdLY05i5+bRk5H2VuldGLnwydyk5OTkMHz6cdu3asWzZMgIDA8skPvi3HepJZiiNyi+Yqi9KsyFNaIxHaZn9yyxcphzChk4Bihub47dgbD0AhVqHT90OmOO3FCch/E5Q98fI2fKV57wucx45v80jdOgULwPtEhQ6P/J2LKXSiLe9bi+0OjmVbsJZkIXl/EF00Y1xO6zX3C8z1O1A3vbF0v837E7GijcQXU586ncib9cyr4ickjYNQaVGW7m21H6BJDgRFEoQ3aQueAqVMcwTeVOS3G3PuEjGqrdwFmZ7Ja4b6nXAv8NI3FYT2sq1EN0uLn94P267FZc5DxBx5CSjjayPQhOAplINr15JU/xWjO1GYL1wCFVMU4K6P0bK1xNx5qejCa+JQlcZy/lDKI2h2NPPYUs5iW+DbriK8nHmp4OgIGzom+hjmnqMw1XFy63mkzsRVBos5w/iMudJHpshUVR+ZCYpXz1JUM8nKDy4npzf5mFPP09g93Eec4PyqDzmU6kYn9yJKW4xfeoGYlf53FUN4rGxscTFxdG7d28uXbrEO++8w3f7Ll93v7BkCfVqda+MhFz4ZO46Tpw4Qf/+/enfvz8ffPABKpX0Nf0rsnC3w4b55E5wu0n8rLjYOB24bWZPY7Nvw+5krn4HnzrtEO0W9DVbQXHhs17+E2d+OuGjp6OtXAtnXnqZ5zA06ob5+PYy0UmZP7wDgoBot6Cr2piAjiNxW0xl9stKUPoG4So2K9ZFNQBBgTqsGm6rSZpBFeUXF6CybRoA1kvHKNi3mvAH30cTXgO3rYj8vSvJXPM+6rArS8KasBj82w0n57e5VB7zqdc51IHey58AjuzL4HZSaeT75O9eTv5eyT1H5ReMvlYsfi37YUs+iTM/HVdRHqLLSch9z0rG3iotCq0bt6UAY8v+mOO34t9+BPl7lqOr2hRRqcTtsJG/a7mX8AjwhLICmI5twre5ZEZtPr7dM1tW+vgT1GM8eTuW4tu8DwV7VqKtUgffhl09PqvXQhAEDPU6Epx1DO2fPzL3k0+u+/g7Qc2aNdm9ezf9+/enx+NvkRIee111bwmiCBaHy6OQloufhOzVKXNXsWHDBjp37swrr7zCjBkzPEUPbi3xAUCrUhCUeQRBUFDt8XlUGfOZ9N+4eWgjG2CK3yo9LqoBCq2B7F9m41O/kycPz3RoA0Wn96AOiUYTWhXRafcoJEsjqHX4tx1G3lWG2KGDXyP6+ZVUevA9HNlJuCwF0gxJUJRrk+Uy5XjSvd0Om9Q0Lboxx29FX605Kv8wzMe3l/tanaYcMtd9SGD3cWjCpaU0hdYH/7bDEB1W7MknPEUTwLdRd5x5qaR/9zLhoz+kKGEbbpu3RVtJY3nRuf0ofIykL30RW2K8NJNyu3AWZhPY+SGUeqMnW85yIo7QQa8gqK44yBga34OyuNndevlPVH4hqPwr4cxLpXDfGqznD6CtUgdB6+1DmrFyCpenD+Ly9EHYk0/gLirA0KAL5vitOLITKfhjNc6CLAz1O6MMCKdg93LcdgtBvZ4q9z0qD51KwbBHJ/Lll1+SlpZ208f9U3Tp0oXatWvz4VffcyGwmafo2VJOkb7iTS7PHE7iJyNIXTQJU7FoCyRBUs7mLznz6cM81Kke0THVee6558jKyrpTL+WuQJ7xydwViKLI9OnT+eSTT1izZg3t2pWNJYIKysIBnVoSJSyd8intHnuUJkM6cDQxj40JabhF8GvRl5zNXxDYdYykQGzYjfxdyzzuHwCWi4dRBVTGkXHea68Q4PLHw1AoVQgaHT612+LXbgQFe1eRtuS/kvMI0hJrQPsH8W3cA32ttqR8Mb54ViOSvnIKvo16ENRjPIJS+nM0n9yJLkYKbLWc3gMuB4708+RnXEDQ6BGdDszxW1GHxpR5zaYjv+I255Hz6xxyN82DYvst0eUEhQrc3obPglJaIrWnn0PlF4IyIBxnvveF32WRcvv0VZuSnyTNHEraAK7GkZNM9i+zCLlvEuqAcM/tkU9+jenYZuwpJ1GotehrtJRCet1uIh6fT+6OJbgKsgjsNhbzyZ3SLLm44OprxRI2+DXy4r7Fcm4/wb2ewpmfQd7vi3AWZHs56QgaH9z2IgI7P4LKL6TM+K6FCDw7tDv7V3Tmo48+YsaMGTc85p/i4sWLxMXF4e/vz1vzloFfIxClvev071/Hv/0IQvo+j0JvxJ5+joK9q/BtfA+iy0H6sldR6AyEDXsLTUgknSO1BOf8wb59++jTp8+dfml3DLnwydxxrFYr48ePJyEhgb1793qsra7FjWThotOGRqOle71KHlHCqI0bvc5Rsl94tT9mQMeRZZqxg+99irzd32No1IPgPs8iCAKJsx/Gbcom+vkV4HaR8tVTWM4fJugeNYJGjyM3hUoPvkfawqfxbzMEpUESF/g2vgfT4Z+p9OB7iE47GcvfoOjMH6iMoZJgZ9+P2JJPUvnhj7k8Y4i0xKdQFjdgi1KCuyBgTz+H0i8EQa0hc+0HWC8eRXQ5UBoCJHNmlQbr+QM489IQXU60kfUJ6Pww6Uv/i6FeR6/QXW1kfc+Sa2DHUVLsUymKTuxAU6kGxpb9KfjjBykJoxzcDiuZP76HX7Pe+NSWBDWlE89xu0BQYEs9jW/DbqQvexVDw25cer8v2qqNUfldCWcNuvcpstfPQFDrsF48QtKcsYi2Io9QReUfhjayPtYLBwkdMNlrHEmfP4ymVCN8eY46IDWkg7ct2C+//FLua7uTLF68mNjYWBo3a8mSjasJGSIto+duW4ihUXevPlBteE3P+2GK34qzIJOIB6d52mf2prn4+KUX7/i+5Z1GLnwyt5WKSqtTUlIYOHAgMTExxMXF4eNT1vewPMqThWcWmIjb8ht9OzRn6iM9rvvHXZH9QoUhgEoj3iX9u8nk/DaH4Hu9l9AElQaVfxi2YjcYZ0EWSr0R6wUpQkYVVMXjNarU+wGSW0zYoFcJGz6VrHUfkRe3lPw9K9BFNSB81AeogyKoMn4eyXPGUvmRT8lYNdUrHT59xZsofYwUnYjD0Kg7lcfMQmUMwWXOw3x8O0pDAEHdxl5p3h75/k29r/rabcn+bQ7WxIQrSebxWzE07IZCZyCg40hyty7AeuEwSt8gBIUK68UjWC8fw2XOQ6HzJaB4z7Ek8Tz43ifxqdsB09FNFB5ch6BUo4muRdiItzEd3YRC54cj46JX4SshatJyBIWSgoM/k7tprvQ+/SHtLYp2C87cFAK6POLl81lR7nZbsMWLF/P888+TqIrAPPdzAs25kmfsDcwErBePoK/e3FP0QFoFWXUo6aYUpf9m5MInc1u4FWn1/v37GTRoEI8//jivvPIKwo3SasuhRBbucDjo0aMHozp04N2JA254XEVtpFR+wVR6YBpp304mZ/N8r/vcDivO/HRUvpLyUBdRF2dBJvm7vgfwFKvLM4Z4nEgsp/cWL5sKiE57cQp7MM68VDTFS5gqvxCqvrQOAFdhFva0s55zVRr2FqmLXwDw6olTGgK82iMqikKtxVBHaqHQRTUg8bOHcFvyMdTrTNrSFwkf9SG5WxeQs2keOb/NLX5SNZTseSrVJM4cDoDosAEiWT9/QtX6nRGUKqkhvVhgo42oS+bqdwnuNZGsn2Z4BD3lYU8/i6D1wdiiv6flwO20kbrgKawXDqOvcWsN3nd7avnOnTu5dOkSw4YN450tiZ4WHJ96Ha4pjirBbSn0mvmCtDJyMrXw7x72XY9c+GT+MqUNkG9WWq04v5tnn32Wr776ivvvv/ULdQmTJk3Cz8+Pt99++8YPLqYi+4UAKuOVeBmx2N7s8icPgMOKoFRhaNAVgJCBL5O/ZyWFB6SilfL10wT3fproF1Z5mWOLggIcVrQRdQns/hgF+36s0Gt2ZF1GaahgeKqgKONmI7pd0v5fMYZG3chY9TZB90xAdFjRhNeSmtdLUWX8F549vrRvJ+My56Kv0Yqg7pJhs8tSQPL8JxCLCtBFNcRy7gD62rFeS45Fp3Z72kj0Cb+jKrUnWBqX3SKJeUQ32uiGnou9EsmizhS/pcKF73Y2pf+dLFq0iJ49exISEkKB9YKnBce3WS+POEodXP7WgELvh8uUU+b2AmtZYdb/GnLhk/lLSEXv5mZNJdLqN9cew3XgF7Zu3UqjRo1ueNyNWLBgAZs3b+aPP/5AoaiY4vNG+4U1n/kGu8vtcdtSB4QT+dQ3XntkotuF5cwfkoil4yiUvoEEdR1DUNcxuIryyd36NZk/vEPEU4s851UaQwnu8wzaiHrkx31Lxoo30MU0q9DYRbsVwSj9CSfNGYvLlO3pWVP6hRA++iPPY0us0RBFUr55DgERZ34GAM78dCkJ4f2++Da/j+CeT6DU+1F0Zi+ivQiFj/8Nx2Ko3wXT0Y0ekZD5+HYMddpJUU2CQPbGz3CZcj3N5UpDYBlbs5xNXxDY7VEin/za0y6S+OmDCEh7en7N+nhmvCUE9366zFgii99nhQAapeK6tmB360wPpFSLFStW4HK5CA8Pp9DqxGq14raZceakoI2oS9GpXZ7U9qvRxTSVPFbtVq/eT6NOXe7j/5eQC59MhYiJiSE9PR2lUolCqcIdVpuAnk+SvXE2tsQEgGKpv+BRKRrqd8J0bHPxLKEyLpToYh9EDIxi4MCB1KhRg+nTp9/SePbs2cPLL7/sUb3dCjeykaoX7seEpYeuuR8oKJT41GlH9sbZWJMSMNTt4LlP6eOPsc1AzPFbcFvLLjEp1FoMjbpTsG81moj6FRq3oNF5tVWEDXsLfUxTcn//hqKTu8jZ9AU+ddrjthR6rNE0lapjSzqOPesyOZu+kJxXzu4jqPs4ik7tlvrrWg8qziX8BuCaM7HSKP2CUAdHe5YdzfFbCeoxHsvZffjHDkFXtTGO7ESyfppBzub5BHYdg/XynwR0eRgAfa02iBtnYzm3H5/abT3njXr2u1vav9OrlXw5ugXHUwuuawt2N7NmzRqUSiV//vknGo2GRbsv8mXcOZJXvYep2KA7Y/nrKP3DpKVyvRF7+nny964k9P6X8G3QDdPhjWT+OI2gHuNQBUWgcRRxYfMSNvilyKpOGZmK8NNPP9GjRw/GLtjFyllTyNn0BZWGveW5P2v9TJTGEO/8u4JMzPFbPYpJm8vNx+sPsmHDBg4cOHBL40hOTmbIkCEsXLiQOnVuzaOxNNezkbrefqAoiljO/IHbakIdHFVsRdYVdXAUosNG4eFfUAVWRqk34ryqR050OjAnbENpCCyTAnE1+Tu/I3/PyivHOmy4LeXs1yiUqPzDJIuwVgNw5KZiaHwPxlb343bYyNu+CHvqaRAU5G7+kpB+/0Gh0aPQGfCp1Za8Xcuk5vKdyyRz7ZssPIaG3ST7sYBw3FYz2gjvlAN1cBSGRt0xHdmIOX4biG4yVl0JmRWddkzxW70K361Qsm/XsVYoHWuVFcz8f2HRokWMGTOG6OhoAB7tGcjXh3O9WnAqPfAueTu/I3/3cgRBgSqwimcPVFCpqTTiHfJ2fkv696/jtppQGQLoMXIYbdq0uZMv7Y4jFz6ZWyLLZGPXxQJ86rQvI/YoD9+G3cmLW+opfKIIv6xdTZ169W9pudNqtTJo0CCeeuop7rvvvhsf8Be5ej8QIHPVVGnPTBBQGUMJ7jsJTWhVTA4bmavfxWXKlTLvqtQhbLB3vIyrIIOMlW8hqDRSMvuQ17Gc3X/dMfh3eNBLup6/ZyV5O5aQs2W+tE8HuIrycWRelFLFI+qhDq0KbieC2yW1RogiiCKaKnXwbXIv+TuW4FOrDdZLx6TnaDec5C/H4x87hKqTf+LSRwPLjKOkDeBqfOq0JXfrAgr1fhgadsWRnYjbbsFVlA9IP36Kju9AW6UOpvit+Ld/AL9mV2YdttTTZK5577oil+vx/2Xf7mbZeFULToivtjjN/UoLjrZKHa8fnVej0BkI6jFe6hMtzhKcW4EswX8rcuGTuSVWHUzC7bBiPhHnMWW+HuXJ5Av+3ErngWXd8G/UEiGKIk888QRVq1bl5Zdfvu2v7Vp47Qc+802Z/cASgno+fs1zqAIqUXXyeq89whJuVPiuRmkIRBNWDVdhNm5zjhTLJAggiih8/DG2GVysrJTSB5I+fwQEBbqo+oQOmIwj63KZIqP0DcSvWW/y4r4ldMBLFRqPQq1DX70FhYd/IWLCfFBKJtQ5v80le8MnKLQG9DVbFwtStuHXoi/KUvuHPrXaoA6sgvn4dnxqtPY6t1op0LFmCLvOZd8wzudu3rf7q8hp7rcHufDJVJgBAwbgEAXsliKUhgDChk294TFXy+QdOclYU88S2OiKQ8rNtkQEpx3k0KFD7N69+5ZaIP4K5e0HJuUWcehyLq5bjWEvhSiKHl9KCQFBpUbpF1JGmg4gqLWEDphcrtgm/bvJVH50NggKAjqNLiOCsF484rFGK40xdgjJ88ZhTz9/9eCuGhtelmQAAZ0fwrdJT1QBlQBJWRja7wUi6rck22T3ZCpW/W/5CtYqj83x/H/pBvPudcNuOs7n38ytprnf7W0b/zRy4ZOpMGvWrOG7ZH+2HE/1XGCrPDb3uj1F4C2TN8dvQ1+9OU6t1NB90y0RCem4naFMmvY1BoOh7AP/Ia7eD6yIuvV6FB3fzuVSPpxKv2CPSvFmKS22sSWflNImTu4sU/hKW6OVRqk3YmzZv4yDy9XxTgDRL671+rfKL9iTpOC5TaHg46FNrisQuh6lZyo3G+fzb6aitn1up42+1VT/iuXf24Vc+GRuCaNOdV01Y3noohp6ZPLmhG0EdB2DUaeuWEsEIKi0fPFHBiHBF++aP+YKXYwEqPXsImJCfDiZVuh5bHl2aSVEPvl1mduuZcV1tdgmoPPDZKx4A3VwJL6NeiCKbi9rtPIwth5I8rzHUKh1aEOjMTQq/7mA67rCRE1cxL31K9Gpdpg8U7mNVCTNvUuYnadH3s8DLX+lefOKp9P/G5ELn8wtUTfciEaZSt6JPZ4L7M1gaNiNrHXTQXSTtX4m8zZ9jrJyXQJ6PonKKCnwbKlnyN/5Hbak44iAqtjR39hmEEqdL6Zjm7n0yyweel/D41o1NapX4913371mQvU/RUUuRk92qYkowoj5e29pFlQe1xLbAIQNm0rejiVSzp8geFmjlYdK50OTPqM5/MPntKsRzCmVotz9zBtRerZW0R8H/yahyt9BRdLc1fPmcf9C8NvQAAAKbUlEQVT997N3714iIsr/zP+XEETxRn4VMjJXKOnjUyiVWBxuVMZQjG2H4lvsWgLltzOU4MhLI2XeY+hrtiZqxBRaR/my5vOpuCwmwga/hjXpBBnLX8e/3TCpN8kQiDM/A9OxTeiiG6Gr2tjjP1l59If0rBtKc8thXnjhBZKSkggIuDtmBje7F3UrS6R6tYJH2sVwIct8zQJbuum+opSo/+aVUv/d6jhf7VOvTOE6lpR30z8O5Jne7eP9999nxYoVxMXF3dFtgrsBufDJ3DJXJ6LfLElzxhLS5xl633sPu89lk3fqD3I2zydiwpekLX0RTVj16yojPcbLoz5Eq1Kw+elYoisFsW/fPlq1avUXX9U/z432N0sobxZ07aZ7IxOWHryl2aRerWT5+NgyReevjLM8/teFKv80oijy6KOPkpubyw8//FBhl6N/E/JSp8wt81ek1RqlguggH3aeTPa0RLjt1hs6zpfB7eLF9z5FrVZTtWrVCo/jbqCiS6SlC9KtNt1fi+vtqf2VcZaHLFT5ZxEEgXnz5tGzZ08mT57Mhx9+eKeHdMeQZ3wyf4lbWQJLnjsWpd2EKCi8WiIUOl+S5zxClXFzPXuGudu+pvDIr+B2YowdSkD7EZiObSb7l1lSKKvDilKp4rulixk2bNjf9TL/MW73LOh2z9L+rnHK/HNkZ2fTtm1bXnzxRR577LE7PZw7gjzjk/lL3IpgIUCvZtmqtWVaIkp6zko7zgd2HUtg17Fk/TTdY8AMUqRN+KgPcdstqHZ+QVxc3L+i8N3uWdDtnqX9XeOU+ecIDg7m559/pmPHjlSrVo3u3bvf6SH948iFT+YvU9GLa//F0tfu6pYIW/JJtFVqU3Rq9zUd569GodHTc9yrLPnPAMaOHUuzZhVLOPhfoCLqP5n/DWrVqsX333/P8OHD2b59O3Xr1r3TQ/pHkQufzG3hVi6u5bVEBHQZQ8aKN1D6BRerOgNwFmThzEtHFVC5zPPqVAqa1Y7C97HHmDp1Kj/+WLFMu/8l5FmaTGm6dOnC+++/T9++fdm7dy8hISF3ekj/GPIen8w/zo1aImwpp8jb+R225JOA5AairxWLsfUAlHpjGVXn7pe6YcnLpEaNGuzfv5/GjW9utigjIwMvv/wyO3fuZPPmzWi1/xszf7nwydxRbrUlAsrvN5ORkakYbrebYcOG4ePjw6JFi/5x/9s7wf9uI4fMXcFTXWqiU1U8aBRkt3kZmduBQqFg8eLFnDhxgmnTpt3p4fwjyIVP5o5S4javV1fsqyh7OMrI3D58fHxYt24dX3zxBStWrLjTw/nbkZc6Ze4K/q5+MxkZmZvn6NGj9OjRg/Xr1/+rU9rlwidz1yB7OMrI3HnWr1/P+PHj2bNnz/9bN6QbIRc+mbsOud9MRubO8sknn7BgwQJ27dqF0Vg2rPj/O3Lhk5GRkZHxQhRFnnzySS5dusS6detQqf5dLd+yuEVGRkZGxgtBEJg1axZOp5NJkybd6eHcduTCJyMjIyNTBrVazYoVK9i6dSuzZ8++08O5rfy75q8yMjIyMreNgIAA1q9fT7t27ahRowa9e/e+00O6Lch7fDIyMjIy12X37t0MGDCALVu20KhRozs9nL+MvNQpIyMjI3Nd2rVrxyeffEK/fv1IS0u708P5y8gzPhkZGRmZm+Ktt97il19+Ydu2bej1+js9nFtGLnwyMjIyMjeFKIqMGjUKp9P5f+3df0zUdRzH8df3vhyechCSJk5UStIb+KMhGkxRNF1pOi8ntZbOtdkv/ScqW4s1tc0/+sO59Uf+aOSS8EfpZN1mujIVdauBylgDFObMQXmJgHDEHXhcfzjpD0gFvufl7vn473bf73ev/177vD/3vY/2798vm+3RHBo+mqkBAA+dYRgqKipSQ0ODNm3aFOk4g0bxAQAemMPh0JEjR1RSUqK9e/dGOs6gMOoEAAxYdXW18vLydPjwYeXm5kY6zoCw4gMADFh6erpKSkqUn5+v+vr6SMcZEIoPADAoixcv1ubNm7Vs2TK1tLREOs4DY9QJABiSgoICVVVV6dixY7Lb7ZGOc18UHwBgSILBoNxut5KTk7V7924ZhhHpSPfEqBMAMCSmaWrfvn0qLy/Xtm3bIh3nvviTagDAkMXHx8vj8SgnJ0dpaWlyu92RjvSfGHUCACxTUVGhJUuW6Pjx48rMzIx0nH4x6gQAWCYrK0u7du3SihUr1NjYGOk4/WLUCQCw1MqVK1VXV6fly5errKxMTqdTktTkC+jQ+QbVXm9Tm/+2EhwxciUnKH9mih53Dnto+Rh1AgAsFwqFtG7dOjU1NWnz53u0o+yKTl++IUkK3O7pvc4RY1NIUt6U0Vo/P00zxieGPRvFBwAIi66uLuWs2ajWJ59Tj83UvdrGMCRHjKnCpS6tzk4Nay72+AAAYfHthT/UMfkFBY17l54khUJSZ3dQW4/W6JtfroY1Fys+AMCQpaamyuv1yjRNOZ1Ozc5dqEuT8hUwYiVJ/oYatZYVq+t6nWQYcqRkKHHB64odNeHO979Xybu/UIb9zl7fqKSReuetN7RlyxbLs7LiAwBYwuPxyOfzqbKyUud+rZD3zAFJUqCxRn8d/EQjnn5WKRu+1ri3i2Qf85S8xRvV3Xq9934zPkkT3j+kiR8c0qIPd6ioqEilpaWW56T4AACWinGOVChlurq8VyRJLSf3KG7qQiXMWiHbsBEyh8dr5Lw1ih3n0q0zJX3uD4Wk8y2xypqdrerqasvzUXwAAEt9+UO5OuorFJM4Vj3dfgUaaxXnmtvnujjXXPmvVvb7jO7mRp06c1bZ2dmW5+M9PgCAJdxutwzDkM/nk2PidCXmvqaeTp8U6pHpHNnnetOZpGBnW+/nYHuzrm1/RQr1KNTVqUmzFmru3L6FOVSs+AAAligtLVV7e7uWfLRT3TcbFOxsk83hlAybgr6+5/UFfc0yhyf0fjbjkzSh4KAmvPedxr97UCHTrrVr11qek+IDAFhq8jOzFTdtkVp+/kq2WIeGjXOpo/Zsn+s6as/KkTqj32fYHHGaNu9FeTwey/NRfAAAS7mSEzQq+yX5r15Ul/eKEuevVcdvJ9RW8b16An8r6PeppaxYgcZaPTbn1X6fEdsT0PWLJ5SRkWF5Pvb4AACWWjUzRdt/uqy4qQt169wBjV75sZ54+VO1lhWr9fTeO+/xjc9Q8urPZE8a13tfsL1Z17atkiQZMXZNzJ2jHSV9f/U5VLzADgCw3JvFFfqxxnvff2zpj2FIz6eP0c7VWdYHE6NOAEAYbMhLkyPGHNS9jhhT6/PSLE70L4oPAGC5GeMTVbjUpeH2gdXMcLtNhUtdmp4SvlMa2OMDAITF3VMWth6tlf928H9zOgN7fACAsKpqaNUXp+p18tINGZL8/ZzHt2DKaK3PSwvrSu8uig8A8FDc9AV06EKDav9sV5u/WwkOu1xj47UqkxPYAQAIG37cAgCIKhQfACCqUHwAgKhC8QEAogrFBwCIKhQfACCqUHwAgKhC8QEAogrFBwCIKhQfACCqUHwAgKhC8QEAogrFBwCIKv8A088S4MNSw8AAAAAASUVORK5CYII=\n",
      "text/plain": [
       "<Figure size 432x288 with 1 Axes>"
      ]
     },
     "metadata": {},
     "output_type": "display_data"
    }
   ],
   "source": [
    "nx.draw(delta,with_labels=True)"
   ]
  },
  {
   "cell_type": "code",
   "execution_count": null,
   "metadata": {},
   "outputs": [],
   "source": [
    "#ad atrributes dixgraph for weights"
   ]
  }
 ],
 "metadata": {
  "anaconda-cloud": {},
  "kernelspec": {
   "display_name": "Python 3",
   "language": "python",
   "name": "python3"
  },
  "language_info": {
   "codemirror_mode": {
    "name": "ipython",
    "version": 3
   },
   "file_extension": ".py",
   "mimetype": "text/x-python",
   "name": "python",
   "nbconvert_exporter": "python",
   "pygments_lexer": "ipython3",
<<<<<<< HEAD
   "version": "3.7.4"
=======
   "version": "3.5.6"
>>>>>>> upstream/master
  }
 },
 "nbformat": 4,
 "nbformat_minor": 1
}
