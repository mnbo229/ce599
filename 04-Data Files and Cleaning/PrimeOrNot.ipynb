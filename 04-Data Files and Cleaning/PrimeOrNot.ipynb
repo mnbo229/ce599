{
 "cells": [
  {
   "cell_type": "code",
   "execution_count": null,
   "metadata": {},
   "outputs": [],
   "source": [
    "# check if a number is prime\n",
    "def is_prime(n):\n",
    "    for i in range (n,1,-1):\n",
    "        if n%i==0 and i!=1:\n",
    "            return False\n",
    "        elif i==1:\n",
    "            return True\n",
    "        \n",
    "# now call the function\n",
    "is_prime(7)\n",
    "\n",
    "#now repeat from 2 to 1000:\n",
    "#for r in range (0,1001,1):\n",
    " #   print(r, is_prime(r))\n",
    "#    if is_prime(r):\n",
    "#        print(r)"
   ]
  },
  {
   "cell_type": "code",
   "execution_count": null,
   "metadata": {},
   "outputs": [],
   "source": [
    "# check if a number is prime\n",
    "def isz_prime(n):\n",
    "    for i in range (2,n,1):\n",
    "        if n%i==0:\n",
    "            print(n, 'is prime')\n",
    "        else:\n",
    "            print (n, 'is not prime')\n",
    "        \n",
    "# now call the function\n",
    "isz_prime(7)"
   ]
  },
  {
   "cell_type": "code",
   "execution_count": null,
   "metadata": {},
   "outputs": [],
   "source": []
  }
 ],
 "metadata": {
  "kernelspec": {
   "display_name": "Python 3",
   "language": "python",
   "name": "python3"
  },
  "language_info": {
   "codemirror_mode": {
    "name": "ipython",
    "version": 3
   },
   "file_extension": ".py",
   "mimetype": "text/x-python",
   "name": "python",
   "nbconvert_exporter": "python",
   "pygments_lexer": "ipython3",
   "version": "3.7.4"
  }
 },
 "nbformat": 4,
 "nbformat_minor": 2
}
