{
 "cells": [
  {
   "cell_type": "markdown",
   "metadata": {},
   "source": [
    "# Making stuff run faster.  A few strategies. \n",
    "\n",
    "This lesson presents a few options for how to make things run faster or more efficieintly in python.  \n",
    "\n",
    "gde 4.2.2020"
   ]
  },
  {
   "cell_type": "markdown",
   "metadata": {},
   "source": [
    "### Don't worry about it, unless it's actually a problem!\n",
    "\n",
    "\"The real problem is that programmers have spent far too much time worrying about efficiency in the wrong places and at the wrong times; premature optimization is the root of all evil (or at least most of it) in programming.\"\n",
    "\n",
    "-- Donald Knuth\n",
    "\n",
    "\"Programmers waste enormous amounts of time thinking about, or worrying about, the speed of noncritical parts of their programs, and these attempts at efficiency actually have a strong negative impact when debugging and maintenance are considered. We should forget about small efficiencies, say about 97% of the time: premature optimization is the root of all evil. Yet we should not pass up our opportunities in that critical 3%.\"\n",
    "\n",
    "    Variant in Knuth, \"Structured Programming with Goto Statements\". Computing Surveys 6:4 (December 1974), pp. 261–301, §1. doi:10.1145/356635.356640"
   ]
  },
  {
   "cell_type": "markdown",
   "metadata": {},
   "source": [
    "## Understanding the basics\n",
    "\n",
    "There are different types of resource issues you may run into when working with computers.  The solution will depend on which of these is a constraint.\n",
    "\n",
    "First, understand that there are capacity problems and there are speed problems.  Capacity problems include: \n",
    "\n",
    "1. Running out of memory\n",
    "2. Running out of storage space\n",
    "\n",
    "In a capacity problem, the time for an operation is basically unaffected until you hit some limit, then you are out of luck.  In terms of a speed problem, there are several things that will affect how long your program takes to run.  It is worth understanding what is fast and slow on computers.  From fast to slow, you can expect:\n",
    "\n",
    "1. CPU operations \n",
    "2. Accessing RAM \n",
    "3. Sending output to the console\n",
    "4. Reading from a solid-state drive\n",
    "5. Writing to a solid-state drive\n",
    "6. Reading/writing from a traditional hard drive\n",
    "7. Access over a local network \n",
    "8. Access over the internet\n",
    "...\n",
    "100. Anything that involves a human\n",
    "\n",
    "That last one includes both any manual data processing, and the act of writing the code itself.  In scientific computing, most of the programs we write will be used by just a couple of people.  What we really care about is minimizing the total time to getting results.  \n"
   ]
  },
  {
   "cell_type": "markdown",
   "metadata": {},
   "source": [
    "## Step 1: Diagnose the problem"
   ]
  },
  {
   "cell_type": "markdown",
   "metadata": {},
   "source": [
    "### 1. Use the resource monitor"
   ]
  },
  {
   "cell_type": "code",
   "execution_count": null,
   "metadata": {},
   "outputs": [],
   "source": [
    "# a computationally intensive function\n",
    "import math \n",
    "\n",
    "for i in range(0,10000):\n",
    "    x = math.factorial(i)\n"
   ]
  },
  {
   "cell_type": "code",
   "execution_count": 2,
   "metadata": {},
   "outputs": [
    {
     "name": "stderr",
     "output_type": "stream",
     "text": [
      "ERROR:root:Internal Python error in the inspect module.\n",
      "Below is the traceback from this internal error.\n",
      "\n"
     ]
    },
    {
     "name": "stdout",
     "output_type": "stream",
     "text": [
      "Traceback (most recent call last):\n",
      "  File \"C:\\ProgramData\\Anaconda3\\lib\\site-packages\\IPython\\core\\interactiveshell.py\", line 3326, in run_code\n",
      "    exec(code_obj, self.user_global_ns, self.user_ns)\n",
      "  File \"<ipython-input-2-323651f24251>\", line 4, in <module>\n",
      "    new_list = [4.564234] * i * i\n",
      "KeyboardInterrupt\n",
      "\n",
      "During handling of the above exception, another exception occurred:\n",
      "\n",
      "Traceback (most recent call last):\n",
      "  File \"C:\\ProgramData\\Anaconda3\\lib\\site-packages\\IPython\\core\\interactiveshell.py\", line 2040, in showtraceback\n",
      "    stb = value._render_traceback_()\n",
      "AttributeError: 'KeyboardInterrupt' object has no attribute '_render_traceback_'\n",
      "\n",
      "During handling of the above exception, another exception occurred:\n",
      "\n",
      "Traceback (most recent call last):\n",
      "  File \"C:\\ProgramData\\Anaconda3\\lib\\sre_parse.py\", line 236, in __next\n",
      "    char = self.decoded_string[index]\n",
      "IndexError: string index out of range\n",
      "\n",
      "During handling of the above exception, another exception occurred:\n",
      "\n",
      "Traceback (most recent call last):\n",
      "  File \"C:\\ProgramData\\Anaconda3\\lib\\site-packages\\IPython\\core\\ultratb.py\", line 1101, in get_records\n",
      "    return _fixed_getinnerframes(etb, number_of_lines_of_context, tb_offset)\n",
      "  File \"C:\\ProgramData\\Anaconda3\\lib\\site-packages\\IPython\\core\\ultratb.py\", line 319, in wrapped\n",
      "    return f(*args, **kwargs)\n",
      "  File \"C:\\ProgramData\\Anaconda3\\lib\\site-packages\\IPython\\core\\ultratb.py\", line 353, in _fixed_getinnerframes\n",
      "    records = fix_frame_records_filenames(inspect.getinnerframes(etb, context))\n",
      "  File \"C:\\ProgramData\\Anaconda3\\lib\\inspect.py\", line 1502, in getinnerframes\n",
      "    frameinfo = (tb.tb_frame,) + getframeinfo(tb, context)\n",
      "  File \"C:\\ProgramData\\Anaconda3\\lib\\inspect.py\", line 1464, in getframeinfo\n",
      "    lines, lnum = findsource(frame)\n",
      "  File \"C:\\ProgramData\\Anaconda3\\lib\\site-packages\\IPython\\core\\ultratb.py\", line 226, in findsource\n",
      "    pat = re.compile(r'^(\\s*def\\s)|(.*(?<!\\w)lambda(:|\\s))|^(\\s*@)')\n",
      "  File \"C:\\ProgramData\\Anaconda3\\lib\\re.py\", line 234, in compile\n",
      "    return _compile(pattern, flags)\n",
      "  File \"C:\\ProgramData\\Anaconda3\\lib\\re.py\", line 286, in _compile\n",
      "    p = sre_compile.compile(pattern, flags)\n",
      "  File \"C:\\ProgramData\\Anaconda3\\lib\\sre_compile.py\", line 764, in compile\n",
      "    p = sre_parse.parse(p, flags)\n",
      "  File \"C:\\ProgramData\\Anaconda3\\lib\\sre_parse.py\", line 930, in parse\n",
      "    p = _parse_sub(source, pattern, flags & SRE_FLAG_VERBOSE, 0)\n",
      "  File \"C:\\ProgramData\\Anaconda3\\lib\\sre_parse.py\", line 426, in _parse_sub\n",
      "    not nested and not items))\n",
      "  File \"C:\\ProgramData\\Anaconda3\\lib\\sre_parse.py\", line 817, in _parse\n",
      "    if not source.match(\")\"):\n",
      "  File \"C:\\ProgramData\\Anaconda3\\lib\\sre_parse.py\", line 251, in match\n",
      "    self.__next()\n",
      "  File \"C:\\ProgramData\\Anaconda3\\lib\\sre_parse.py\", line 237, in __next\n",
      "    except IndexError:\n",
      "KeyboardInterrupt\n"
     ]
    },
    {
     "ename": "KeyboardInterrupt",
     "evalue": "",
     "output_type": "error",
     "traceback": [
      "\u001b[1;31m---------------------------------------------------------------------------\u001b[0m"
     ]
    }
   ],
   "source": [
    "# a memory intensive function\n",
    "l = []\n",
    "for i in range(0,10000):\n",
    "    new_list = [4.564234] * i * i\n",
    "    l.append(new_list)"
   ]
  },
  {
   "cell_type": "markdown",
   "metadata": {},
   "source": [
    "### 2. Use a timer"
   ]
  },
  {
   "cell_type": "code",
   "execution_count": 4,
   "metadata": {},
   "outputs": [
    {
     "data": {
      "text/plain": [
       "datetime.datetime(2020, 4, 2, 12, 59, 7, 750712)"
      ]
     },
     "execution_count": 4,
     "metadata": {},
     "output_type": "execute_result"
    }
   ],
   "source": [
    "start_time"
   ]
  },
  {
   "cell_type": "code",
   "execution_count": 5,
   "metadata": {},
   "outputs": [
    {
     "name": "stdout",
     "output_type": "stream",
     "text": [
      "Finished in  0:00:08.954511\n"
     ]
    }
   ],
   "source": [
    "# overall time  #calculate times for a process\n",
    "import math \n",
    "import datetime\n",
    "\n",
    "start_time = datetime.datetime.now()\n",
    "for i in range(0,10000):\n",
    "    x = math.factorial(i)\n",
    "\n",
    "time_elapsed = datetime.datetime.now() - start_time\n",
    "print('Finished in ', time_elapsed)\n"
   ]
  },
  {
   "cell_type": "code",
   "execution_count": 6,
   "metadata": {},
   "outputs": [
    {
     "name": "stdout",
     "output_type": "stream",
     "text": [
      "Finished step 1 in  0:00:08.830575\n",
      "Finished step 2 in  0:00:01.278810\n"
     ]
    }
   ],
   "source": [
    "# time for multiple steps\n",
    "\n",
    "import math \n",
    "import datetime\n",
    "\n",
    "start_time = datetime.datetime.now()  #cretae start time\n",
    "\n",
    "# step 1\n",
    "for i in range(0,10000):\n",
    "    x = math.factorial(i)\n",
    "step1_time = datetime.datetime.now() - start_time    \n",
    "print('Finished step 1 in ', step1_time)\n",
    "\n",
    "# step 2\n",
    "l = []\n",
    "for i in range(0,1000):\n",
    "    new_list = [4.564234] * i * i\n",
    "    l.append(new_list)\n",
    "step2_time = datetime.datetime.now() - (start_time + step1_time)\n",
    "print('Finished step 2 in ', step2_time)\n"
   ]
  },
  {
   "cell_type": "markdown",
   "metadata": {},
   "source": [
    "### 3. Use a profiling tool\n",
    "\n",
    "https://docs.python.org/3/library/profile.html\n",
    "\n",
    "https://www.pluralsight.com/guides/quick-profiling-in-python\n",
    "\n",
    "https://jiffyclub.github.io/snakeviz/\n",
    "\n",
    "https://mortada.net/easily-profile-python-code-in-jupyter.html\n",
    "\n",
    "https://jakevdp.github.io/PythonDataScienceHandbook/01.07-timing-and-profiling.html"
   ]
  },
  {
   "cell_type": "markdown",
   "metadata": {},
   "source": [
    "1. Built-in profile does method by method profiling"
   ]
  },
  {
   "cell_type": "code",
   "execution_count": 7,
   "metadata": {},
   "outputs": [],
   "source": [
    "import cProfile"
   ]
  },
  {
   "cell_type": "code",
   "execution_count": 8,
   "metadata": {},
   "outputs": [],
   "source": [
    "def factorial_range(n):\n",
    "    for i in range(0,n):\n",
    "        x = math.factorial(i)"
   ]
  },
  {
   "cell_type": "code",
   "execution_count": 9,
   "metadata": {},
   "outputs": [
    {
     "data": {
      "text/plain": [
       "[2.3, 2.3]"
      ]
     },
     "execution_count": 9,
     "metadata": {},
     "output_type": "execute_result"
    }
   ],
   "source": [
    "[2.3]*2"
   ]
  },
  {
   "cell_type": "code",
   "execution_count": 16,
   "metadata": {},
   "outputs": [
    {
     "name": "stdout",
     "output_type": "stream",
     "text": [
      "         10048 function calls in 8.919 seconds\n",
      "\n",
      "   Ordered by: standard name\n",
      "\n",
      "   ncalls  tottime  percall  cumtime  percall filename:lineno(function)\n",
      "        1    0.000    0.000    8.919    8.919 <ipython-input-16-fd82889e917d>:3(<module>)\n",
      "        1    0.000    0.000    0.000    0.000 <ipython-input-16-fd82889e917d>:4(<module>)\n",
      "        1    0.006    0.006    8.919    8.919 <ipython-input-8-4ca30aafeeab>:1(factorial_range)\n",
      "        2    0.000    0.000    0.000    0.000 codeop.py:132(__call__)\n",
      "        4    0.000    0.000    0.000    0.000 compilerop.py:138(extra_flags)\n",
      "        2    0.000    0.000    0.000    0.000 contextlib.py:107(__enter__)\n",
      "        2    0.000    0.000    0.000    0.000 contextlib.py:116(__exit__)\n",
      "        2    0.000    0.000    0.000    0.000 contextlib.py:237(helper)\n",
      "        2    0.000    0.000    0.000    0.000 contextlib.py:81(__init__)\n",
      "        2    0.000    0.000    0.000    0.000 hooks.py:142(__call__)\n",
      "        2    0.000    0.000    0.000    0.000 hooks.py:207(pre_run_code_hook)\n",
      "        2    0.000    0.000    0.000    0.000 interactiveshell.py:117(<lambda>)\n",
      "        2    0.000    0.000    0.000    0.000 interactiveshell.py:1272(user_global_ns)\n",
      "        2    0.000    0.000    0.000    0.000 interactiveshell.py:3230(compare)\n",
      "        2    0.000    0.000    8.919    4.460 interactiveshell.py:3288(run_code)\n",
      "        2    0.000    0.000    0.000    0.000 ipstruct.py:125(__getattr__)\n",
      "        2    0.000    0.000    0.000    0.000 traitlets.py:526(get)\n",
      "        2    0.000    0.000    0.000    0.000 traitlets.py:545(__get__)\n",
      "        2    0.000    0.000    0.000    0.000 {built-in method builtins.compile}\n",
      "        2    0.000    0.000    8.919    4.460 {built-in method builtins.exec}\n",
      "        4    0.000    0.000    0.000    0.000 {built-in method builtins.getattr}\n",
      "        4    0.000    0.000    0.000    0.000 {built-in method builtins.next}\n",
      "    10000    8.914    0.001    8.914    0.001 {built-in method math.factorial}\n",
      "        1    0.000    0.000    0.000    0.000 {method 'disable' of '_lsprof.Profiler' objects}\n",
      "\n",
      "\n"
     ]
    }
   ],
   "source": [
    "pr = cProfile.Profile()\n",
    "pr.enable()\n",
    "factorial_range(10000)\n",
    "pr.disable()\n",
    "pr.print_stats()\n",
    "#buuilt in factorial was called 10,000 times --> can i call it less time or speed it up?"
   ]
  },
  {
   "cell_type": "code",
   "execution_count": 11,
   "metadata": {},
   "outputs": [],
   "source": [
    "pr.dump_stats(\"factorial_range_profile.txt\")"
   ]
  },
  {
   "cell_type": "markdown",
   "metadata": {},
   "source": [
    "2. To do line-by-line profile, using line_profiler, potentially with kernprof.  \n",
    "\n",
    "First, install: \n",
    "\n",
    "    conda install line_profiler"
   ]
  },
  {
   "cell_type": "code",
   "execution_count": 19,
   "metadata": {},
   "outputs": [],
   "source": [
    "%load_ext line_profiler"
   ]
  },
  {
   "cell_type": "code",
   "execution_count": null,
   "metadata": {},
   "outputs": [],
   "source": []
  },
  {
   "cell_type": "code",
   "execution_count": 20,
   "metadata": {},
   "outputs": [],
   "source": [
    "%lprun -f factorial_range factorial_range(10000)  #tell us details, better than the one before"
   ]
  },
  {
   "cell_type": "code",
   "execution_count": null,
   "metadata": {},
   "outputs": [],
   "source": []
  },
  {
   "cell_type": "markdown",
   "metadata": {},
   "source": [
    "3. To do memory profiling, use memory_profiler\n",
    "\n"
   ]
  },
  {
   "cell_type": "code",
   "execution_count": 25,
   "metadata": {},
   "outputs": [],
   "source": [
    "import pandas as pd\n",
    "import csv\n",
    "reader=csv.reader('psam_p21.csv')"
   ]
  },
  {
   "cell_type": "code",
   "execution_count": 40,
   "metadata": {},
   "outputs": [
    {
     "name": "stdout",
     "output_type": "stream",
     "text": [
      "10000\n",
      "20000\n",
      "30000\n",
      "40000\n",
      "50000\n",
      "60000\n",
      "70000\n",
      "80000\n",
      "90000\n",
      "100000\n",
      "110000\n",
      "120000\n",
      "130000\n",
      "140000\n",
      "150000\n",
      "160000\n",
      "170000\n",
      "180000\n",
      "190000\n",
      "200000\n",
      "210000\n",
      "220000\n",
      "225040\n",
      "0      NaN\n",
      "1      NaN\n",
      "2      NaN\n",
      "3      NaN\n",
      "4      NaN\n",
      "        ..\n",
      "9995   NaN\n",
      "9996   NaN\n",
      "9997   NaN\n",
      "9998   NaN\n",
      "9999   NaN\n",
      "Name: WKHP, Length: 10000, dtype: float64\n"
     ]
    }
   ],
   "source": [
    "pop=0\n",
    "hours=0\n",
    "for chunk in pd.read_csv('psam_p21.csv', chunksize=10000):\n",
    "    #print(type(chunk))\n",
    "    pop+=len(chunk)\n",
    "    hours+=chunk['WKHP']\n",
    "    print (pop)\n",
    "print(hours/pop)\n",
    "    "
   ]
  },
  {
   "cell_type": "code",
   "execution_count": null,
   "metadata": {},
   "outputs": [],
   "source": []
  }
 ],
 "metadata": {
  "kernelspec": {
   "display_name": "Python 3",
   "language": "python",
   "name": "python3"
  },
  "language_info": {
   "codemirror_mode": {
    "name": "ipython",
    "version": 3
   },
   "file_extension": ".py",
   "mimetype": "text/x-python",
   "name": "python",
   "nbconvert_exporter": "python",
   "pygments_lexer": "ipython3",
   "version": "3.7.4"
  }
 },
 "nbformat": 4,
 "nbformat_minor": 2
}
